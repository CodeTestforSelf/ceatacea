{
 "cells": [
  {
   "attachments": {},
   "cell_type": "markdown",
   "metadata": {},
   "source": [
    "# Coding Test Study - 로켓단 스터디\n",
    "since 2022-11-09 ~ "
   ]
  },
  {
   "attachments": {},
   "cell_type": "markdown",
   "metadata": {},
   "source": [
    "## Personal Rules\n",
    "1. 개인적으로 푼 문제나 이슈 추가되거나 하는 경우 언급하기."
   ]
  },
  {
   "attachments": {},
   "cell_type": "markdown",
   "metadata": {},
   "source": [
    "## Basic Settings & libraries"
   ]
  },
  {
   "cell_type": "code",
   "execution_count": 1,
   "metadata": {},
   "outputs": [],
   "source": [
    "import sys\n",
    "import re\n",
    "import datetime"
   ]
  },
  {
   "attachments": {},
   "cell_type": "markdown",
   "metadata": {},
   "source": [
    "### 시간 측정 template"
   ]
  },
  {
   "cell_type": "code",
   "execution_count": null,
   "metadata": {},
   "outputs": [],
   "source": [
    "# My Code\n",
    "import time\n",
    "from datetime import datetime, timedelta\n",
    "print(f'Today is {datetime.now()}')\n",
    "print('-'*30)\n",
    "d1 = time.time() # 측정 시작\n",
    "# 소스 코드 시작\n",
    "\n",
    "# ...\n",
    "\n",
    "# 소스 코드 끝\n",
    "d2 = time.time() # 측정 종료\n",
    "print('-'*30)\n",
    "print(f'Time : {d1 - d2}') # Time : -0.543022632598877"
   ]
  },
  {
   "attachments": {},
   "cell_type": "markdown",
   "metadata": {},
   "source": [
    "## Ch 03. 그리디 Greedy"
   ]
  },
  {
   "attachments": {},
   "cell_type": "markdown",
   "metadata": {},
   "source": [
    "#### 예제 3-1.py - fin"
   ]
  },
  {
   "cell_type": "code",
   "execution_count": 2,
   "metadata": {},
   "outputs": [
    {
     "name": "stdout",
     "output_type": "stream",
     "text": [
      "Today is 2022-11-09 21:25:58.205586\n",
      "------------------------------\n",
      "start -> coin : 500 / count : 0 / N : 1260\n",
      "after count += N // coin -> coin : 500 / count : 2 / N : 1260\n",
      "after N %= coin -> coin : 500 / count : 2 / N : 260\n",
      "start -> coin : 100 / count : 2 / N : 260\n",
      "after count += N // coin -> coin : 100 / count : 4 / N : 260\n",
      "after N %= coin -> coin : 100 / count : 4 / N : 60\n",
      "start -> coin : 50 / count : 4 / N : 60\n",
      "after count += N // coin -> coin : 50 / count : 5 / N : 60\n",
      "after N %= coin -> coin : 50 / count : 5 / N : 10\n",
      "start -> coin : 10 / count : 5 / N : 10\n",
      "after count += N // coin -> coin : 10 / count : 6 / N : 10\n",
      "after N %= coin -> coin : 10 / count : 6 / N : 0\n",
      "6\n",
      "------------------------------\n",
      "Time : -0.00012731552124023438\n"
     ]
    }
   ],
   "source": [
    "# 그리디 알고리즘\n",
    "# 3-1.py 거스름돈 - 2022-08-01\n",
    "# 거스름 돈으로 사용할 동전의 종류 : 500, 100, 50, 10 -> 무한하게 존재\n",
    "# 손님에게 거슬러 줘야 할 돈이 N 일 때,\n",
    "# 거슬러 줘야 할 동전의 최소 갯수 구하기\n",
    "# 단, 거슬러 줘야 할 돈 N은 항상 10의 배수이다.\n",
    "\n",
    "# N = 1260일 때 혹은 input 으로 해봐도 될 듯.\n",
    "\n",
    "# My Code\n",
    "import time\n",
    "from datetime import datetime, timedelta\n",
    "# print(f'Today is {datetime.now()}')\n",
    "print('-'*30)\n",
    "d1 = time.time() # 측정 시작\n",
    "# 소스 코드 시작\n",
    "\n",
    "N = 1260\n",
    "count = 0\n",
    "coin_type = [500, 100, 50, 10]\n",
    "for coin in coin_type:\n",
    "\tprint(f'start -> coin : {coin} / count : {count} / N : {N}')\n",
    "\tcount += N // coin\n",
    "\t# N인 값에서 coin의 종류로 가장 큰 것부터 나눠서 나온 값을 count\n",
    "\tprint(f'after count += N // coin -> coin : {coin} / count : {count} / N : {N}')\n",
    "\tN %= coin # 실질적으로 N 을 coin으로 나눈 몫\n",
    "\tprint(f'after N %= coin -> coin : {coin} / count : {count} / N : {N}')\n",
    "\n",
    "print(count)\n",
    "\n",
    "# 소스 코드 끝\n",
    "d2 = time.time() # 측정 종료\n",
    "print('-'*30)\n",
    "print(f'Time : {d1 - d2}') # Time : -0.543022632598877"
   ]
  },
  {
   "cell_type": "code",
   "execution_count": null,
   "metadata": {},
   "outputs": [],
   "source": [
    "# 함수화\n",
    "def ch03_01(N):\n",
    "    count = 0\n",
    "    coin_type = [500, 100, 50, 10]\n",
    "    for coin in coin_type:\n",
    "        count += N // coin\n",
    "        N %= coin\n",
    "    return count\n",
    "\n",
    "N = int(input())\n",
    "print(ch03_01(N))\n",
    "# 딱히 추가할 사항 없음."
   ]
  },
  {
   "attachments": {},
   "cell_type": "markdown",
   "metadata": {},
   "source": [
    "#### 큰 수의 법칙 p.092 : 실전 3-2.py"
   ]
  },
  {
   "attachments": {},
   "cell_type": "markdown",
   "metadata": {},
   "source": [
    "<b>문제</b><br /><br />\n",
    "동빈이의 큰 수의 법칙은 다양한 수로 이루어진 배열이 있을 때 주어진 수들을 M번 더하여 가장 큰 수를 만드는 법칙이다.<br />\n",
    "단, 배열의 특정한 인덱스(번호)에 해당하는 수가 연속해서 K번을 초과하여 더해질 수 없다.<br />\n",
    "예를 들어 순서대로 2, 4, 5, 4, 6으로 이루어진 배열이 있을 때 M이 8이고, K가 3이라고 가정한다.<br />\n",
    "예를 들어 순선대로 2, 4, 5, 6으로 이루어진 배열이 있을 때 M이 8이고, K가 3이라고 가정하자.<br />\n",
    "이 경우 특정한 인덱스의 수가 연속해서 세번까지만 더해질 수 있으므로 큰 수의 법칙에 따른 결과는 6 + 6 + 6 + 5 + 6 + 6 +6 +5인 46이 된다.<br />\n",
    "단, 서로 다른 인덱스에 해당하는 수가 같은 경우에도 서로 다른 것으로 간주한다.<br />\n",
    "예를 들어 순서대로 3, 4, 3, 4, 3으로 이루어진 배열이 있을 때 M이 7이고, K가 2라고 가정하자.<br />\n",
    "이 경우 두 번째 원소에 해당하는 4와 네 번째 원소에 해당하는 4를 번갈아 두 번씩 더하는 것이 가능하다.<br />\n",
    "결과적으로 4 + 4 + 4 + 4 + 4 + 4 + 4 + 4인 28이 도출된다.<br />\n",
    "배열의 크기 N, 숫자가 더해지는 횟수 M, 그리고 K가 주어질 때 동빈이의 큰 수의 법칙에 따른 결과를 출력하시오.<br />\n",
    "<br /><br /><br />\n",
    "<p><b>입력 조건</b></p>\n",
    "첫째 줄에 N(2 <= N <= 1,000), M(1 <= M <= 10,000), K(1 <= K <= 10,000)의 자연수가 주어지며, 각 자연수는 공백으로 구분한다.<br />\n",
    "둘째 줄에 N개의 자연수가 주어진다. 각 자연수는 공백으로 구분한다.<br />\n",
    "단, 각각의 자연수는 1 이상 10,000 이하의 수로 주어진다.<br />\n",
    "입력으로 주어지는 K는 항상 M보다 작거나 같다.<br />\n",
    "<br /><br /><br />\n",
    "<p><b>출력 조건</b></p>\n",
    "첫째 줄에 동빈이의 큰 수의 법칙에 따라 더해진 답을 출력한다.\n",
    "<br /><br /><br />\n",
    "<p><b>입력 예시</b></p>\n",
    "\n",
    "```\n",
    "5 8 3\n",
    "2 4 5 4 6\n",
    "```\n",
    "<br /><br />\n",
    "<p><b>출력 예시</b></p>\n",
    "\n",
    "```\n",
    "46\n",
    "```\n"
   ]
  },
  {
   "cell_type": "code",
   "execution_count": 3,
   "metadata": {},
   "outputs": [
    {
     "name": "stdout",
     "output_type": "stream",
     "text": [
      "Today is 2022-11-10 11:57:45.767743\n",
      "------------------------------\n",
      "46\n",
      "------------------------------\n",
      "Time : -20.70743179321289\n"
     ]
    }
   ],
   "source": [
    "# My Code\n",
    "import time\n",
    "from datetime import datetime, timedelta\n",
    "print(f'Today is {datetime.now()}')\n",
    "print('-'*30)\n",
    "d1 = time.time() # 측정 시작\n",
    "# 소스 코드 시작\n",
    "\n",
    "def ch03_02():\n",
    "    # ipynb 파일에서 sys.stdin.readline() 이슈 있음.\n",
    "    N, M, K = map(int, input().split())# map(int, sys.stdin.readline().split())\n",
    "    nums = sorted(map(int, input().split()))# sorted(map(int, sys.stdin.readline().split()))\n",
    "    first = nums[-1] # biggest num\n",
    "    second = nums[-2]\n",
    "    result = 0\n",
    "    while M != 0:\n",
    "        if M < 1:\n",
    "            break\n",
    "        else:\n",
    "            for i in range(K):\n",
    "                result += first\n",
    "                M -= 1\n",
    "            result += second\n",
    "            M -= 1\n",
    "    return result\n",
    "\n",
    "\n",
    "print(ch03_02())\n",
    "\n",
    "# 소스 코드 끝\n",
    "d2 = time.time() # 측정 종료\n",
    "print('-'*30)\n",
    "print(f'Time : {d1 - d2}') # Time : -0.543022632598877"
   ]
  },
  {
   "cell_type": "code",
   "execution_count": null,
   "metadata": {},
   "outputs": [],
   "source": [
    "# 해설\n",
    "# 해설에서 일단 입력값 중에서 가장 큰 수와 두 번째로 큰 수만 저장하면 된다\n",
    "# 연속으로 더할 수 있는 횟수는 최대 K번이므로 가장 큰 수를 K번 더하고\n",
    "# 두 번째로 큰 수를 한 번 더하는 연산을 반복하면 된다\n",
    "'''\n",
    "해당에 대해 이해한 바를 말하자면 K번은 초과할 수 없으니 K번까지는 가장 큰 수를 더하고, \n",
    "그 다음에 두 번째로 큰 수를 더하고, 다시 연속 K 번까지를 반복해서 총 M 번까지 더하는 셈.\n",
    "위의 예를 보자면 가장 큰 수가 6이니까\n",
    "6+6+6 을 3번하고 5를 더하고 다시 6을 3(=K)번 더하고 다시 5를 더해서 총 M번을 더한 셈\n",
    "고로 -> 6+6+6+5+6+6+6+5 이렇게 함으로써 가장 큰 수가 되어가는 거.\n",
    "여기까진 이해 함. \n",
    "first 인 가장 큰 수에 K번을 더할 수 있으니\n",
    "first*K인 건 이해함.\n",
    "그리고 나서 그 다음이 second인 것도 이해. K+1 번째임 이해.\n",
    "K번째+(K+1)번째+(K+K+1)번째+(K+K+1+1) 의 총합이 M인 것도 이해함.\n",
    "결국 K와 K+1의 합이 M을 넘을 수 없으니, \n",
    "'''"
   ]
  },
  {
   "attachments": {},
   "cell_type": "markdown",
   "metadata": {},
   "source": [
    "#### 숫자 카드 게임 p.096 : 실전 3-3.py & 3-4.py"
   ]
  },
  {
   "attachments": {},
   "cell_type": "markdown",
   "metadata": {},
   "source": [
    "시간제한 1초 / 메모리 제한 128MB\n",
    "\n",
    "<p><b>문제</b></p>\n",
    "숫자 카드 게이은 여러 개의 숫자 카드 중에서 가장 높은 숫자가 쓰인 카드 한 장을 뽑는 게임이다.<br />\n",
    "단 게임의 룰을 지키며 카드를 뽑아야 하고 룰은 다음과 같다.<br />\n",
    "<br />\n",
    "1. 숫자가 쓰인 카드들이 N X M 의 형태로 놓여있다. 이 때, N은 행이 개수를 의미하며, M은 열의 갯수를 의미한다.<br />\n",
    "2. 먼저 뽑고자 하는 카드가 포함되어 있는 행을 선택한다.<br />\n",
    "3. 그 다음 선택된 행에 포함된 카드들 중 가장 숫자가 낮은 카드를 뽑아야 한다.<br />\n",
    "4. 따라서 처음에 카드를 골라낼 행을 선택할 때,<br />\n",
    "이후에 해당의 행에서 가장 숫자가 낮은 카드를 뽑을 것을 고려하여 최종적으로 가장 높은 숫자의 카드를 뽑을 수 있도록 전략을 세워야 한다.<br />\n",
    "<br />\n",
    "예를 들어서 3 X 3이 있다 할 때<br />\n",
    "3 1 2<br />\n",
    "4 1 4<br />\n",
    "2 2 2<br />\n",
    "<br />\n",
    "여기서 카드를 골라낼 행을 1번째 혹은 2번째 선택 시,<br />\n",
    "최종적으로 뽑는 카드는 1이다. 하지만 3번째 선택 시 2가 가장 낮은 수가 된다.<br />\n",
    "따라서 이 예제는 3번째 행을 선택해서 숫자 2를 뽑는 것이 정답이다.<br />\n",
    "<br />\n",
    "카드들이 N X M 의 형태로 놓여있을 때 게임의 룰에 맞게 카드를 뽑는 프로그램을 만드시오.<br />\n",
    "<br /><br /><br />\n",
    "<p><b>입력 조건</b></p>\n",
    "1번째 줄에 숫자 카드들이 놓인 행의 개수 N과 열의 개수 M이 공백을 기준으로 하여 각각 자연수로 주어진다.<br />\n",
    "1 <= N, M <=100<br />\n",
    "둘째 줄부터 N개의 줄에 걸쳐 각 카드에 적힌 숫자가 주어진다. 각 숫자는 1 이상 10000이하의 자연수이다.<br />\n",
    "<br />\n",
    "2. 둘째 줄부터 N개의 줄에 걸쳐 각 카드에 적힌 숫자가 주어진다. 각 숫자는 1 이상 10,000 이하의 자연수이다.<br />\n",
    "<br /><br /><br />\n",
    "<p><b>출력 조건</b></p>\n",
    "첫째 줄에 게임의 룰에 맞게 선택한 카드에 적힌 숫자를 출력한다. <br />\n",
    "<br /><br /><br />\n",
    "<p><b>입력 예시 1</b></p>\n",
    "\n",
    "```\n",
    "3 3\n",
    "3 1 2\n",
    "4 1 4\n",
    "2 2 2\n",
    "```\n",
    "<br /><br />\n",
    "<p><b>출력 예시 1</b></p>\n",
    "\n",
    "```\n",
    "2\n",
    "```\n",
    "\n",
    "<br /><br /><br />\n",
    "<p><b>입력 예시 2</b></p>\n",
    "\n",
    "```\n",
    "2 4\n",
    "7 3 1 8\n",
    "3 3 3 4\n",
    "```\n",
    "<br /><br />\n",
    "<p><b>출력 예시 2</b></p>\n",
    "\n",
    "```\n",
    "3\n",
    "```"
   ]
  },
  {
   "cell_type": "code",
   "execution_count": 10,
   "metadata": {},
   "outputs": [
    {
     "name": "stdout",
     "output_type": "stream",
     "text": [
      "Today is 2022-11-10 13:43:16.648990\n",
      "------------------------------\n",
      "2\n",
      "------------------------------\n",
      "Time : -11.77488374710083\n"
     ]
    }
   ],
   "source": [
    "# My Code\n",
    "import time\n",
    "from datetime import datetime, timedelta\n",
    "print(f'Today is {datetime.now()}')\n",
    "print('-'*30)\n",
    "d1 = time.time() # 측정 시작\n",
    "# 소스 코드 시작\n",
    "\n",
    "\n",
    "# input = sys.stdin.readline().split()\n",
    "def ch03_03():\n",
    "    N, M = map(int, input().split())\n",
    "    result = 0\n",
    "    for _ in range(N):\n",
    "        nums = sorted(map(int, input().split())) # 가장 작은\n",
    "        min_num = nums[0]\n",
    "        result = max(result, min_num)\n",
    "    return result\n",
    "\n",
    "\n",
    "print(ch03_03())\n",
    "# 소스 코드 끝\n",
    "d2 = time.time() # 측정 종료\n",
    "print('-'*30)\n",
    "print(f'Time : {d1 - d2}') # Time : -11.77488374710083"
   ]
  },
  {
   "cell_type": "code",
   "execution_count": null,
   "metadata": {},
   "outputs": [],
   "source": [
    "# 풀이\n",
    "'''\n",
    "N 번 만큼 for loop 은 해도 충분 10000이므로 O(N) 정도라고 생각함.\n",
    "Python 1 sec ≒ 20,000,000 연산 가능 / N = 100,000 까지 가능 -> 정렬 까지 가능\n",
    "\n",
    "nums 에서 list로 받을 때 sorted 를 미리 적용하고 그 중 가장 작은 것을 메서드를 쓰기보다 slicing 처리\n",
    "그리고 그 안에서 가장 작은 부분만 min으로 하면 간단하다고 생각함.\n",
    "'''"
   ]
  },
  {
   "attachments": {},
   "cell_type": "markdown",
   "metadata": {},
   "source": [
    "#### 1이 될 때 까지 p.099 : 실전 3-5.py"
   ]
  },
  {
   "attachments": {},
   "cell_type": "markdown",
   "metadata": {},
   "source": [
    "시간제한 1초 / 메모리 제한 128MB / 기출 : 2018 E 기업 알고리즘 대회\n",
    "\n",
    "<p><b>문제</b></p>\n",
    "어떠한 수 N 이 1이 될 때까지 다음의 두 과정 중 하나를 반복적으로 선택하여 수행하려고 한다.<br />\n",
    "단, 두 번째 연산은 N 이 K 로 나누어 떨어질 때만 선택할 수 있다.<br />\n",
    "<br />\n",
    "\n",
    "1. N 에서 1을 뺀다.<br />\n",
    "2. N 을 K 로 나눈다.<br />\n",
    "<br />\n",
    "예를 들어. N이 17, K이 4라고 가정할 때, 이 때 1번의 과정을 한 번 수행하면 N은 16이 된다.<br />\n",
    "이후에 2번의 과정을 2번 수행하면 16 / 4 -> 4 / 4 -> 1이 되어 N 은 1이 된다.<br />\n",
    "결과적으로 전체 과정을 실행한 횟수는 3이 된다.<br />\n",
    "이는 N 을 1로 만드는 최소 횟수인 셈이다.<br />\n",
    "<br />\n",
    "N 과 K가 주어질 때, N 이 1이 될 때까지 1번 혹은 2번의 과정을 수행해야 하는 최소 횟수를 구하는 프로그램을 작성하시오.<br />\n",
    "<br /><br /><br />\n",
    "<p><b>입력 조건</b></p>\n",
    "1. 첫째 줄에 N(2 <= N <= 100,000) K (2 <= K <= 100,000) 가 공백으로 구분되며 각각 자연수로 주어진다. 이때 입력으로 주어지는 N은 항상 K 보다 크거나 같다<br />\n",
    "<br />\n",
    "2. 둘째 줄부터 N개의 줄에 걸쳐 각 카드에 적힌 숫자가 주어진다. 각 숫자는 1 이상 10,000 이하의 자연수이다.<br />\n",
    "<br /><br /><br />\n",
    "<p><b>출력 조건</b></p>\n",
    "첫째 줄에 N이 1이 될 때까지 1번 혹은 2번의 과정을 수행해야 하는 횟수의 최솟값을 출력한다.<br />\n",
    "<br /><br /><br />\n",
    "<p><b>입력 예시 1</b></p>\n",
    "\n",
    "```\n",
    "25 5\n",
    "```\n",
    "<br /><br />\n",
    "<p><b>출력 예시 1</b></p>\n",
    "\n",
    "```\n",
    "2\n",
    "```\n",
    "\n",
    "<br /><br /><br />"
   ]
  },
  {
   "cell_type": "code",
   "execution_count": 11,
   "metadata": {},
   "outputs": [
    {
     "name": "stdout",
     "output_type": "stream",
     "text": [
      "Today is 2022-11-10 14:56:31.896346\n",
      "------------------------------\n",
      "3\n",
      "------------------------------\n",
      "Time : -1.4725568294525146\n"
     ]
    }
   ],
   "source": [
    "# My Code\n",
    "import time\n",
    "from datetime import datetime, timedelta\n",
    "print(f'Today is {datetime.now()}')\n",
    "print('-'*30)\n",
    "d1 = time.time() # 측정 시작\n",
    "# 소스 코드 시작\n",
    "\n",
    "# input = sys.stdin.readline()\n",
    "def ch03_05():\n",
    "    N, K = map(int, input().split())\n",
    "    count = 0\n",
    "    # 계속해서 반복하므로 while\n",
    "    while N >= K:\n",
    "        while N % K != 0:\n",
    "            N -= 1\n",
    "            count += 1\n",
    "        N //= K\n",
    "        count += 1\n",
    "    return count\n",
    "\n",
    "\n",
    "print(ch03_05())\n",
    "\n",
    "# 소스 코드 끝\n",
    "d2 = time.time() # 측정 종료\n",
    "print('-'*30)\n",
    "print(f'Time : {d1 - d2}') # Time : -0.543022632598877"
   ]
  },
  {
   "cell_type": "code",
   "execution_count": null,
   "metadata": {},
   "outputs": [],
   "source": [
    "# 풀이\n",
    "'''\n",
    "해설 : 최대한 많이 나누기를 수행하면 된다?\n",
    "왜냐 나누는 게 1 빼는 것보다 더 많이 줄이니까 기본적으로 나누는 것이 수를 줄이는 것이 더 크니까.\n",
    "고로\n",
    "N이 K의 배수가 될 때 까지 1 빼다가 -> N 을 K로 나눠버리면 확 줄어버림.\n",
    "for 할 필요 없이 while로 줄창 돌리자.\n",
    "'''"
   ]
  },
  {
   "attachments": {},
   "cell_type": "markdown",
   "metadata": {},
   "source": [
    "#### Q01. 모험가 길드 p.311 : 실전 11-1.py"
   ]
  },
  {
   "attachments": {},
   "cell_type": "markdown",
   "metadata": {},
   "source": [
    "시간제한 1초 / 메모리 제한 128MB / 기출 : 핵심유형 / 풀이시간 30분\n",
    "\n",
    "<p><b>문제</b></p>\n",
    "한 마을에 모험가가 N명 있습니다. <br />\n",
    "모험가 길드에서는 N명의 모험가를 대상으로 ‘공포도’를 측정했는데, ‘공포도’가 높은 모험가는 쉽게 공포를 느껴 위험 상황에서 제대로 대처할 능력이 떨어집니다.<br />\n",
    "모험가 길드장인 동빈이는 모험가 그룹을 안전하게 구성하고자 공포도가 X인 모험가는 반드시 X명 이상으로 구성한 모험가 그룹에 참여해야 여행을 떠날 수 있도록 규정했습니다. 동빈이는 최대 몇 개의 모험가 그룹을 만들 수 있는지 궁금합니다.<br />\n",
    "<br />\n",
    "동빈이를 위해 N명의 모험가에 대한 정보가 주어졌을 때, 여행을 떠날 수 있는 그룹 수의 최댓값을 구하는 프로그램을 작성하세요.<br />\n",
    "<br /><br /><br />\n",
    "<p><b>입력 조건</b></p>\n",
    "첫째 줄에 모험가의 수 N이 주어집니다. (1 ≤ N ≤ 100,000)<br />\n",
    "<br />\n",
    "둘째 줄에 각 모험가의 공포도의 값을 N 이하의 자연수로 주어지며, 각 자연수는 공백으로 구분합니다.<br />\n",
    "<br />\n",
    "2. 둘째 줄부터 N개의 줄에 걸쳐 각 카드에 적힌 숫자가 주어진다. 각 숫자는 1 이상 10,000 이하의 자연수이다.<br />\n",
    "<br /><br /><br />\n",
    "<p><b>출력 조건</b></p>\n",
    "여행을 떠날 수 있는 그룹 수의 최댓값을 출력합니다.<br />\n",
    "<br /><br /><br />\n",
    "<p><b>입력 예시 1</b></p>\n",
    "\n",
    "```\n",
    "5\n",
    "2 3 1 2 2\n",
    "```\n",
    "<br /><br />\n",
    "<p><b>출력 예시 1</b></p>\n",
    "\n",
    "```\n",
    "2\n",
    "```\n",
    "\n",
    "<br /><br /><br />"
   ]
  },
  {
   "cell_type": "code",
   "execution_count": 14,
   "metadata": {},
   "outputs": [
    {
     "name": "stdout",
     "output_type": "stream",
     "text": [
      "Today is 2022-11-10 15:18:28.966068\n",
      "------------------------------\n",
      "2\n",
      "------------------------------\n",
      "Time : -5.279678106307983\n"
     ]
    }
   ],
   "source": [
    "# My Code\n",
    "import time\n",
    "from datetime import datetime, timedelta\n",
    "print(f'Today is {datetime.now()}')\n",
    "print('-'*30)\n",
    "d1 = time.time() # 측정 시작\n",
    "# 소스 코드 시작\n",
    "\n",
    "def ch11_01():\n",
    "    N = int(input()) # (1 <= N <= 100,000) -> O(N) 가능\n",
    "    X = sorted(map(int, input().split()))\n",
    "    count, group = 0, 0\n",
    "    for n in X:\n",
    "        count += 1 # 모험가 수\n",
    "        if n <= count:\n",
    "            group += 1 # 그룹 수\n",
    "            count = 0 # 그룹 결성 되었으므로 초기화\n",
    "    return group\n",
    "\n",
    "\n",
    "print(ch11_01())\n",
    "\n",
    "# 소스 코드 끝\n",
    "d2 = time.time() # 측정 종료\n",
    "print('-'*30)\n",
    "print(f'Time : {d1 - d2}') # Time : -0.543022632598877"
   ]
  },
  {
   "cell_type": "code",
   "execution_count": null,
   "metadata": {},
   "outputs": [],
   "source": [
    "# 풀이\n",
    "'''\n",
    "공포도 기준으로 현재 그룹의 모험가 수가 더 많거나 같다면 그룹 결성 ->\n",
    "\n",
    "'''"
   ]
  },
  {
   "attachments": {},
   "cell_type": "markdown",
   "metadata": {},
   "source": [
    "#### LeetCode 561. Array Partition - Accepted"
   ]
  },
  {
   "attachments": {},
   "cell_type": "markdown",
   "metadata": {},
   "source": [
    "ref : https://leetcode.com/problems/array-partition/\n",
    "\n",
    "<p><b>Constraints:</b></p>\n",
    "\n",
    "- 1 <= n <= $10^4$\n",
    "- nums.length == 2 * n\n",
    "- $-10^4$ <= nums[i] <= $10^4$\n",
    "<br /><br />\n",
    "\n",
    "<p><b>Problems</b></p>\n",
    "Given an integer array nums of 2n integers, group these integers into n pairs (a1, b1), (a2, b2), ..., (an, bn) such that the sum of min(ai, bi) for all i is maximized.<br />\n",
    "Return the maximized sum.<br />\n",
    "<br /><br />\n",
    "\n",
    "<p><b>Example 1:</b></p>\n",
    "\n",
    "```\n",
    "Input: nums = [1,4,3,2]\n",
    "Output: 4\n",
    "Explanation: All possible pairings (ignoring the ordering of elements) are:\n",
    "1. (1, 4), (2, 3) -> min(1, 4) + min(2, 3) = 1 + 2 = 3\n",
    "2. (1, 3), (2, 4) -> min(1, 3) + min(2, 4) = 1 + 2 = 3\n",
    "3. (1, 2), (3, 4) -> min(1, 2) + min(3, 4) = 1 + 3 = 4\n",
    "So the maximum possible sum is 4.\n",
    "```\n",
    "<br /><br />\n",
    "\n",
    "<p><b>Example 2:</b></p>\n",
    "\n",
    "```\n",
    "Input: nums = [6,2,6,5,1,2]\n",
    "Output: 9\n",
    "Explanation: The optimal pairing is (2, 1), (2, 5), (6, 6). min(2, 1) + min(2, 5) + min(6, 6) = 1 + 2 + 6 = 9.\n",
    "```"
   ]
  },
  {
   "cell_type": "code",
   "execution_count": 94,
   "metadata": {},
   "outputs": [
    {
     "data": {
      "text/plain": [
       "9"
      ]
     },
     "execution_count": 94,
     "metadata": {},
     "output_type": "execute_result"
    }
   ],
   "source": [
    "# 제출코드\n",
    "# class Solution:\n",
    "#     def arrayPairSum(self, nums: List[int]) -> int:\n",
    "#         return sum(sorted(nums)[::2])\n",
    "\n",
    "# 실행용\n",
    "def arrayPairSum(nums):\n",
    "    return sum(sorted(nums)[::2])\n",
    "\n",
    "\n",
    "nums = [6,2,6,5,1,2]\n",
    "arrayPairSum(nums)"
   ]
  },
  {
   "cell_type": "code",
   "execution_count": null,
   "metadata": {},
   "outputs": [],
   "source": [
    "# 풀이\n",
    "# Runtime 275 ms / Beats 97.14% / Memory 16.8 MB / Beats 56.31%\n",
    "'''\n",
    "Given an integer array nums of 2n integers, \n",
    "group these integers into n pairs (a1, b1), (a2, b2), ..., (an, bn) \n",
    "such that the sum of min(ai, bi) for all i is maximized. Return the maximized sum.\n",
    "-> 정수(int)가 2n개의 갯수의 배열이 주어짐. 그리고 그 n 개의 페어링이 됨\n",
    "=> 결국 2개씩 짝을 지어서 그 중에서 min의 것들 끼리의 합인 것. \n",
    "경우의 수인 itertools.combinations로 할 경우 원소의 순서가 바뀐 케이스들이 있어서 중복인 셈이므로 비효율적.\n",
    "\n",
    "=> 예제를 보니 결국 4개면 2개의 쌍, 6개면 3개의 쌍인 set에 min 값들의 합이므로\n",
    "결국 2개씩 짝 지은 것들 중에서 작은 것들의 합이라는 이야기.\n",
    "고로 그냥 처음부터 sorted로 받고 0번째부터 2개씩 가져오면 결국 쌍 중에서 더 작은 값을 가져오는 셈.\n",
    "그들의 합을 반환.\n",
    "'''"
   ]
  },
  {
   "attachments": {},
   "cell_type": "markdown",
   "metadata": {},
   "source": [
    "#### LeetCode 409. Longest Palindrome - ing[2022-11-10~]\n",
    "ref : https://leetcode.com/problems/longest-palindrome/\n",
    "\n",
    "<p><b>Constraints:</b></p>\n",
    "\n",
    "- 1 <= s.length <= 2000\n",
    "- s consists of lowercase **and/or** uppercase English letters only.\n",
    "<br /><br />\n",
    "\n",
    "<p><b>Problems</b></p>\n",
    "Given a string s which consists of lowercase or uppercase letters, return the length of the longest palindrome that can be built with those letters.<br />\n",
    "<br />\n",
    "Letters are case sensitive, for example, \"Aa\" is not considered a palindrome here.<br />\n",
    "<br /><br />\n",
    "\n",
    "<p><b>Example 1:</b></p>\n",
    "\n",
    "```\n",
    "Input: s = \"abccccdd\"\n",
    "Output: 7\n",
    "Explanation: One longest palindrome that can be built is \"dccaccd\", whose length is 7.\n",
    "```\n",
    "<br /><br />\n",
    "\n",
    "<p><b>Example 2:</b></p>\n",
    "\n",
    "```\n",
    "Input: s = \"a\"\n",
    "Output: 1\n",
    "Explanation: The longest palindrome that can be built is \"a\", whose length is 1.\n",
    "```"
   ]
  },
  {
   "cell_type": "code",
   "execution_count": null,
   "metadata": {},
   "outputs": [],
   "source": [
    "# 제출코드\n",
    "def longestPalindrome(str):\n",
    "    pass\n",
    "\n",
    "longestPalindrome(str)"
   ]
  },
  {
   "cell_type": "code",
   "execution_count": 3,
   "metadata": {},
   "outputs": [
    {
     "data": {
      "text/plain": [
       "'babab'"
      ]
     },
     "execution_count": 3,
     "metadata": {},
     "output_type": "execute_result"
    }
   ],
   "source": []
  },
  {
   "cell_type": "code",
   "execution_count": null,
   "metadata": {},
   "outputs": [],
   "source": [
    "# 풀이\n",
    "'''\n",
    "palindrome : a paragraph that makes as much sense forwards as backwards\n",
    "=> 회문(回文) 처럼 앞으로 읽으나 뒤로 읽으나 같은 단어나 구 혹은 숫자\n",
    "ex) 13531, 2020-02-02(대칭절), 부익부, 전초전, 일요일, 일주일, deed, mom, noon, radar\n",
    "'''"
   ]
  },
  {
   "attachments": {},
   "cell_type": "markdown",
   "metadata": {},
   "source": [
    "##### 팰린드롬 풀이 관련 - ing\n",
    "\n",
    "1. Using Manacher’s Algorithm\n",
    "- ref : https://redquark.org/leetcode/0005-longest-palindromic-substring/\n",
    "\n",
    "2. Using Stacks and Queues\n",
    "- ref : https://www.hackerrank.com/challenges/30-queues-stacks/problem\n",
    "\n",
    "3. Using map\n",
    "- ref : https://leetcode.com/problems/palindrome-pairs/solutions/414117/Python-Map-O(N-*-K2)-Clean-and-Easy-to-Understand/\n",
    "- map에 때려박아서 하는 방법. Map O(N * K^2) 의 시간 복잡도를 가짐.\n",
    "\n",
    "\\+ 다만 현재 409 문제에서는 \"abccccdd\" 같은 경우도 \"dccaccd\" 이렇게 만들 수 있어야 하므로 중복되는 글자수를 count를 하고 짝수 개라면 앞뒤로 넣고, 홀수 개(1개만 있을 경우 예시 처럼 1개만 있는 문자열 중에서 가장 왼쪽 선택)의 경우 중간에 넣기."
   ]
  },
  {
   "attachments": {},
   "cell_type": "markdown",
   "metadata": {},
   "source": [
    "###  백준 - 11399 - ATM - ing[2022-11-11~]"
   ]
  },
  {
   "attachments": {},
   "cell_type": "markdown",
   "metadata": {},
   "source": [
    "시간제한 1초 / 메모리 제한 256MB\n",
    "\n",
    "<p><b>문제</b></p>\n",
    "\n",
    "인하은행에는 ATM이 1대밖에 없다. 지금 이 ATM앞에 N명의 사람들이 줄을 서있다. 사람은 1번부터 N번까지 번호가 매겨져 있으며, i번 사람이 돈을 인출하는데 걸리는 시간은 $P_i$분이다.<br />\n",
    "<br />\n",
    "사람들이 줄을 서는 순서에 따라서, 돈을 인출하는데 필요한 시간의 합이 달라지게 된다. 예를 들어, 총 5명이 있고, P1 = 3, P2 = 1, P3 = 4, P4 = 3, P5 = 2 인 경우를 생각해보자. [1, 2, 3, 4, 5] 순서로 줄을 선다면, 1번 사람은 3분만에 돈을 뽑을 수 있다. 2번 사람은 1번 사람이 돈을 뽑을 때 까지 기다려야 하기 때문에, 3+1 = 4분이 걸리게 된다. 3번 사람은 1번, 2번 사람이 돈을 뽑을 때까지 기다려야 하기 때문에, 총 3+1+4 = 8분이 필요하게 된다. 4번 사람은 3+1+4+3 = 11분, 5번 사람은 3+1+4+3+2 = 13분이 걸리게 된다. 이 경우에 각 사람이 돈을 인출하는데 필요한 시간의 합은 3+4+8+11+13 = 39분이 된다.<br />\n",
    "<br />\n",
    "줄을 [2, 5, 1, 4, 3] 순서로 줄을 서면, 2번 사람은 1분만에, 5번 사람은 1+2 = 3분, 1번 사람은 1+2+3 = 6분, 4번 사람은 1+2+3+3 = 9분, 3번 사람은 1+2+3+3+4 = 13분이 걸리게 된다. 각 사람이 돈을 인출하는데 필요한 시간의 합은 1+3+6+9+13 = 32분이다. 이 방법보다 더 필요한 시간의 합을 최소로 만들 수는 없다.<br />\n",
    "\\\n",
    "줄을 서 있는 사람의 수 N과 각 사람이 돈을 인출하는데 걸리는 시간 $P_i$가 주어졌을 때, 각 사람이 돈을 인출하는데 필요한 시간의 합의 최솟값을 구하는 프로그램을 작성하시오.<br />\n",
    "<br /><br /><br />\n",
    "<p><b>입력 조건</b></p>\n",
    "\n",
    "첫째 줄에 사람의 수 N(1 ≤ N ≤ 1,000)이 주어진다. 둘째 줄에는 각 사람이 돈을 인출하는데 걸리는 시간 $P_i$가 주어진다. (1 ≤ $P_i$ ≤ 1,000)<br />\n",
    "<br />\n",
    "2. 둘째 줄부터 N개의 줄에 걸쳐 각 카드에 적힌 숫자가 주어진다. 각 숫자는 1 이상 10,000 이하의 자연수이다.<br />\n",
    "<br /><br /><br />\n",
    "<p><b>출력 조건</b></p>\n",
    "첫째 줄에 각 사람이 돈을 인출하는데 필요한 시간의 합의 최솟값을 출력한다. <br />\n",
    "<br /><br /><br />\n",
    "<p><b>입력 예시 1</b></p>\n",
    "\n",
    "```\n",
    "5\n",
    "3 1 4 3 2\n",
    "```\n",
    "<br /><br />\n",
    "<p><b>출력 예시 1</b></p>\n",
    "\n",
    "```\n",
    "32\n",
    "```\n",
    "\n",
    "<br /><br /><br />"
   ]
  },
  {
   "cell_type": "code",
   "execution_count": null,
   "metadata": {},
   "outputs": [],
   "source": [
    "def bj_11399():\n",
    "    pass\n",
    "\n",
    "\n",
    "bj_11399()"
   ]
  }
 ],
 "metadata": {
  "kernelspec": {
   "display_name": "Python 3.9.6 64-bit",
   "language": "python",
   "name": "python3"
  },
  "language_info": {
   "codemirror_mode": {
    "name": "ipython",
    "version": 3
   },
   "file_extension": ".py",
   "mimetype": "text/x-python",
   "name": "python",
   "nbconvert_exporter": "python",
   "pygments_lexer": "ipython3",
   "version": "3.9.6"
  },
  "orig_nbformat": 4,
  "vscode": {
   "interpreter": {
    "hash": "31f2aee4e71d21fbe5cf8b01ff0e069b9275f58929596ceb00d14d90e3e16cd6"
   }
  }
 },
 "nbformat": 4,
 "nbformat_minor": 2
}
