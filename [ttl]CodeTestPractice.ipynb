{
 "cells": [
  {
   "attachments": {},
   "cell_type": "markdown",
   "metadata": {},
   "source": [
    "# Coding Test Study - 로켓단 스터디\n",
    "\n",
    "# Coding Test Study - Personal Records\n",
    "# Rules\n",
    "1. 주제에 따라서 개인적으로 공부하고 이해한 내용을 추가할 것.\n",
    "2. 공통적으로 선택한 주제에 따라서 하루에 최소 한 문제를 풀고 푼 내용 풀이. 시행착오도 OK!\n",
    "    - 현재로서는 쉽게 받아들이고 유형에 대한 익숙함이 필요하므로 유형에 대한 이해를 올리고 정리하는 습관을 잡기 위해서\n",
    "3. 토론할 이슈 혹은 길어지는에 대해서는 외부 페이지(노션 등)에 정리하고 링크 추가할 것.\n",
    "4. 꾸준히! 길게! 부담없이!!\n",
    "5. 일주일에 한 번 체크 및 토론 : 한국 기준 매주 토요일 19시(KST, UTC+9) - Discord + 이슈 있을 시 미리 말하기!\n",
    "6. 교재 - 이것이 취업을 위한 코딩 테스트다 with. 파이썬\n",
    "    - 저자 git repo : https://github.com/ndb796/python-for-coding-test\n"
   ]
  },
  {
   "attachments": {},
   "cell_type": "markdown",
   "metadata": {},
   "source": [
    "## Personal Rules\n",
    "1. 개인적으로 푼 문제나 이슈 추가되거나 하는 경우 언급하기."
   ]
  },
  {
   "attachments": {},
   "cell_type": "markdown",
   "metadata": {},
   "source": [
    "## Basic Settings & libraries"
   ]
  },
  {
   "cell_type": "code",
   "execution_count": 1,
   "metadata": {},
   "outputs": [],
   "source": [
    "import sys\n",
    "import re\n",
    "import datetime"
   ]
  },
  {
   "attachments": {},
   "cell_type": "markdown",
   "metadata": {},
   "source": [
    "### 시간 측정 template"
   ]
  },
  {
   "cell_type": "code",
   "execution_count": null,
   "metadata": {},
   "outputs": [],
   "source": [
    "# My Code\n",
    "import time\n",
    "from datetime import datetime, timedelta\n",
    "print(f'Today is {datetime.now()}')\n",
    "print('-'*30)\n",
    "d1 = time.time() # 측정 시작\n",
    "# 소스 코드 시작\n",
    "\n",
    "# ...\n",
    "\n",
    "# 소스 코드 끝\n",
    "d2 = time.time() # 측정 종료\n",
    "print('-'*30)\n",
    "print(f'Time : {d1 - d2}') # Time : -0.543022632598877"
   ]
  },
  {
   "attachments": {},
   "cell_type": "markdown",
   "metadata": {},
   "source": [
    "## Chapter 03. 그리디 Greedy"
   ]
  },
  {
   "attachments": {},
   "cell_type": "markdown",
   "metadata": {},
   "source": [
    "### 3-1.py - fin"
   ]
  },
  {
   "cell_type": "code",
   "execution_count": 2,
   "metadata": {},
   "outputs": [
    {
     "name": "stdout",
     "output_type": "stream",
     "text": [
      "Today is 2022-11-09 21:25:58.205586\n",
      "------------------------------\n",
      "start -> coin : 500 / count : 0 / N : 1260\n",
      "after count += N // coin -> coin : 500 / count : 2 / N : 1260\n",
      "after N %= coin -> coin : 500 / count : 2 / N : 260\n",
      "start -> coin : 100 / count : 2 / N : 260\n",
      "after count += N // coin -> coin : 100 / count : 4 / N : 260\n",
      "after N %= coin -> coin : 100 / count : 4 / N : 60\n",
      "start -> coin : 50 / count : 4 / N : 60\n",
      "after count += N // coin -> coin : 50 / count : 5 / N : 60\n",
      "after N %= coin -> coin : 50 / count : 5 / N : 10\n",
      "start -> coin : 10 / count : 5 / N : 10\n",
      "after count += N // coin -> coin : 10 / count : 6 / N : 10\n",
      "after N %= coin -> coin : 10 / count : 6 / N : 0\n",
      "6\n",
      "------------------------------\n",
      "Time : -0.00012731552124023438\n"
     ]
    }
   ],
   "source": [
    "# 그리디 알고리즘\n",
    "# 3-1.py 거스름돈 - 2022-08-01\n",
    "# 거스름 돈으로 사용할 동전의 종류 : 500, 100, 50, 10 -> 무한하게 존재\n",
    "# 손님에게 거슬러 줘야 할 돈이 N 일 때,\n",
    "# 거슬러 줘야 할 동전의 최소 갯수 구하기\n",
    "# 단, 거슬러 줘야 할 돈 N은 항상 10의 배수이다.\n",
    "\n",
    "# N = 1260일 때 혹은 input 으로 해봐도 될 듯.\n",
    "\n",
    "# My Code\n",
    "import time\n",
    "from datetime import datetime, timedelta\n",
    "# print(f'Today is {datetime.now()}')\n",
    "print('-'*30)\n",
    "d1 = time.time() # 측정 시작\n",
    "# 소스 코드 시작\n",
    "\n",
    "N = 1260\n",
    "count = 0\n",
    "coin_type = [500, 100, 50, 10]\n",
    "for coin in coin_type:\n",
    "\tprint(f'start -> coin : {coin} / count : {count} / N : {N}')\n",
    "\tcount += N // coin\n",
    "\t# N인 값에서 coin의 종류로 가장 큰 것부터 나눠서 나온 값을 count\n",
    "\tprint(f'after count += N // coin -> coin : {coin} / count : {count} / N : {N}')\n",
    "\tN %= coin # 실질적으로 N 을 coin으로 나눈 몫\n",
    "\tprint(f'after N %= coin -> coin : {coin} / count : {count} / N : {N}')\n",
    "\n",
    "print(count)\n",
    "\n",
    "# 소스 코드 끝\n",
    "d2 = time.time() # 측정 종료\n",
    "print('-'*30)\n",
    "print(f'Time : {d1 - d2}') # Time : -0.543022632598877"
   ]
  },
  {
   "cell_type": "code",
   "execution_count": null,
   "metadata": {},
   "outputs": [],
   "source": [
    "# 함수화 - 시도 중"
   ]
  }
 ],
 "metadata": {
  "kernelspec": {
   "display_name": "Python 3.9.6 64-bit",
   "language": "python",
   "name": "python3"
  },
  "language_info": {
   "codemirror_mode": {
    "name": "ipython",
    "version": 3
   },
   "file_extension": ".py",
   "mimetype": "text/x-python",
   "name": "python",
   "nbconvert_exporter": "python",
   "pygments_lexer": "ipython3",
   "version": "3.9.6"
  },
  "orig_nbformat": 4,
  "vscode": {
   "interpreter": {
    "hash": "31f2aee4e71d21fbe5cf8b01ff0e069b9275f58929596ceb00d14d90e3e16cd6"
   }
  }
 },
 "nbformat": 4,
 "nbformat_minor": 2
}
