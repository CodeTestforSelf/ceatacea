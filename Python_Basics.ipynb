{
 "cells": [
  {
   "attachments": {},
   "cell_type": "markdown",
   "metadata": {},
   "source": [
    "# Python Basics\n",
    "- 공부하면서 헷갈렸거나 이해한 것을 잊어먹지 않기 위해서 추가하는 목록들\n",
    "- 출처는 ref 에 기재"
   ]
  },
  {
   "attachments": {},
   "cell_type": "markdown",
   "metadata": {},
   "source": [
    "### 비교 연산자\n",
    "- ref : https://wikidocs.net/91522\n",
    "\n",
    "1. == 연산자와 is 에 대해서<br />\n",
    "\\+ 파이썬은 정수 256까지에 대해서는 이미 해당 값이 존재하면 기존의 객체를 바인딩하게 한다.<br />\n",
    "이는 동일 값을 메모리에 여러번 할당함으로써 발생하는 메모리 낭비를 줄이기 위함\n",
    "\n",
    "\\* Identity operators\n",
    "- is : Evaluates to true, if the operands on either side of the operator point to the same object, and false otherwise.\n",
    "같은 객제를 pointing 하는 지를 체크\n",
    "\n",
    "\\* Relational operators\n",
    "- == : Check if the values of the two operands are equal.\n",
    "값이 동일한 지를 체크"
   ]
  },
  {
   "cell_type": "code",
   "execution_count": 1,
   "metadata": {},
   "outputs": [
    {
     "name": "stdout",
     "output_type": "stream",
     "text": [
      "id : (4416073040, 4416073040)\n",
      "True\n",
      "True\n",
      "id : (4340967792, 4340967792)\n",
      "True\n",
      "True\n"
     ]
    }
   ],
   "source": [
    "a, b = 100000, 100000\n",
    "c, d = 255, 255\n",
    "\n",
    "print(f'id : {id(a), id(b)}')\n",
    "print(a == b)\n",
    "print(a is b)\n",
    "\n",
    "print(f'id : {id(c), id(d)}')\n",
    "print(c == d)\n",
    "print(c is d)\n"
   ]
  },
  {
   "cell_type": "code",
   "execution_count": null,
   "metadata": {},
   "outputs": [],
   "source": [
    "# Googld Colab  input:\n",
    "'''\n",
    "a, b = 1000, 1000\n",
    "c, d = 255, 255\n",
    "\n",
    "print(f'id : {id(a), id(b)}')\n",
    "print(a == b)\n",
    "print(a is b)\n",
    "\n",
    "print(f'id : {id(c), id(d)}')\n",
    "print(c == d)\n",
    "print(c is d)\n",
    "\n",
    "'''\n",
    "\n",
    "# Googld Colab output:\n",
    "'''\n",
    "id : (139979082506896, 139979082508144) <- 다르게 나옴.\n",
    "True\n",
    "False\n",
    "id : (11134816, 11134816)\n",
    "True\n",
    "True\n",
    "'''"
   ]
  },
  {
   "attachments": {},
   "cell_type": "markdown",
   "metadata": {},
   "source": [
    "#### 산술 연산자 Arithmetic Operator\n",
    "\n",
    "연산자 : 의미\n",
    "\n",
    "\\+   : 덧셈 Addition\n",
    "\n",
    "\\-   : 뺄셈 Subtraction\n",
    "\n",
    "\\*   : 곱하기 Multiplication\n",
    "\n",
    "**   : 제곱 Exponentiation\n",
    "\n",
    "/    : 나누기 Division\n",
    "\n",
    "//   : 나누기 연산 후 소수점 이하의 수를 버리고, 정수 부분의 몫을 구함 Floor\n",
    "\n",
    "%    : 나누기 연산 후 몫이 아닌 나머지를 구함 Modulus"
   ]
  },
  {
   "attachments": {},
   "cell_type": "markdown",
   "metadata": {},
   "source": [
    "### Tuple 심화 - Packing & Unpacking\n",
    "- ref : https://wikidocs.net/92538\n",
    "- ref : https://wikidocs.net/22801\n",
    "\n",
    "1. 튜플 패킹 Tuple packing\n",
    "\n",
    "2. 튜플 언패킹 Tuple unpacking\n"
   ]
  },
  {
   "cell_type": "code",
   "execution_count": 40,
   "metadata": {},
   "outputs": [
    {
     "name": "stdout",
     "output_type": "stream",
     "text": [
      "(1, 2) <class 'tuple'>\n",
      "(4, 5, 6) <class 'tuple'>\n",
      "7 8 9 10 11 12 13 [9, 10, 11, 12, 13] <class 'list'>\n",
      "(165, 63, 1.0, 0.7, 30, 28, 34, 245) <class 'tuple'>\n",
      "e1 : 1, e2 : 1\n",
      "f1 : 4, f2 : [5, 6] <- <class 'list'>\n",
      "height : 165 / weight : 63 / lefteyes & righteye : (1.0, 0.7, <class 'float'>) / *body : [30, 28, 34] / footsize : 245\n"
     ]
    }
   ],
   "source": [
    "# 1. Tuple packing\n",
    "# 튜플로 값을 묶는 것\n",
    "e = 1, 2\n",
    "f = (4, 5, 6)\n",
    "g1, g2, *g = (7, 8, 9, 10, 11, 12, 13)\n",
    "info = (165, 63, 1.0, 0.7, 30, 28, 34, 245)\n",
    "\n",
    "print(e, type(e))\n",
    "print(f, type(f))\n",
    "print(g1, g2, *g, g, type(g)) # type(*g) -> unpacking -> argument 가 많다고 에러남.\n",
    "print(info, type(info))\n",
    "\n",
    "# 2. Tuple unpacking\n",
    "# 튜플로 묶인 값을 푸는 것 -> How? 튜플의 왼쪽에 각 튜플의 원소를 바인딩할 변수를 적어서 각 변수가 튜플의 원소를 바인딩하기.\n",
    "e1, e2 = e\n",
    "print(f'e1 : {e1}, e2 : {e1}')\n",
    "f1, *f2 = f\n",
    "print(f'f1 : {f1}, f2 : {f2} <- {type(f2)}') # [5,6] <- list type\n",
    "height, weight, lefteyes, righteye, *body, footsize = info\n",
    "print(f'height : {height} / weight : {weight} /\\\n",
    " lefteyes & righteye : {lefteyes, righteye, type(lefteyes)} /\\\n",
    " *body : {body} / footsize : {footsize}')\n"
   ]
  },
  {
   "cell_type": "code",
   "execution_count": 1,
   "metadata": {},
   "outputs": [
    {
     "name": "stdout",
     "output_type": "stream",
     "text": [
      "nums : ((1, 2, 3, 4, 5), <class 'tuple'>)\n",
      "1 2 3 4 5\n",
      "180\n",
      "75\n",
      "97\n",
      "(98, 99, 100, 101, 102, 103)\n",
      "98 99 100 101 102 103\n"
     ]
    }
   ],
   "source": [
    "# 예시\n",
    "def packing(*nums):\n",
    "    print(f'nums : {nums, type(nums)}') # (1,2,3,4,5) -> 튜플 패킹\n",
    "    print(*nums)\n",
    "    # print(f'*nums : {*nums}') # SyntaxError: f-string: can't use starred expression here\n",
    "\n",
    "packing(1, 2, 3, 4, 5)\n",
    "\n",
    "def show(height, weight):\n",
    "    print(height)\n",
    "    print(weight)\n",
    "\n",
    "male = 180, 75\n",
    "show(*male) # male에 담긴 값을 언패킹하여 각각 매개변수에 전달한다.\n",
    "\n",
    "\n",
    "def show(first, *others):\n",
    "    # first, *others, last -> others 에 packing을 전부 하므로 last\n",
    "    # TypeError: show() missing 1 required keyword-only argument: 'last'\n",
    "    print(first)\n",
    "    print(others)\n",
    "    print(*others)\n",
    "\n",
    "testing = ord('a'), ord('b'), ord('c'), ord('d'), ord('e'), ord('f'), ord('g')\n",
    "show(*testing) # male에 담긴 값을 언패킹하여 각각 매개변수에 전달한다."
   ]
  },
  {
   "cell_type": "code",
   "execution_count": 8,
   "metadata": {},
   "outputs": [
    {
     "name": "stdout",
     "output_type": "stream",
     "text": [
      "overlap : ((20, 21, 22), 23, 24, 25, (26, 27), ((28, 29, 30), (31, 32), 33))\n",
      "-------------------- unpacking overlapped tuples --------------------\n",
      "(20, 21, 22)\n",
      "23 24 25\n",
      "(26, 27)\n",
      "((28, 29, 30), (31, 32), 33)\n"
     ]
    }
   ],
   "source": [
    "# 중첩 tuple packing & unpacking\n",
    "overlap = ((20, 21, 22), 23, 24, 25, (26, 27), ((28, 29, 30), (31, 32), 33))\n",
    "print(f'overlap : {overlap}')\n",
    "lap1, lap2, lap3, lap4, lap5, lap6 = overlap\n",
    "print('-'*20,'unpacking overlapped tuples','-'*20)\n",
    "print(lap1)\n",
    "print(lap2, lap3, lap4)\n",
    "print(lap5)\n",
    "print(lap6)"
   ]
  },
  {
   "cell_type": "code",
   "execution_count": 11,
   "metadata": {},
   "outputs": [
    {
     "name": "stdout",
     "output_type": "stream",
     "text": [
      "f 31 174 (1.1, 1.2)\n",
      "David m 34\n",
      "Kim f 29\n",
      "Ebby f 20\n",
      "Luck m 41\n"
     ]
    }
   ],
   "source": [
    "# 사용하지 않는 값 의 unpacking의 경우\n",
    "# 관례적으로 사용하지 않는 값들에 대해서는 _ 변수에 담는다.\n",
    "test1 = ('Emily', 'f', 'married', 31, 174, 68, (1.1, 1.2), 250)\n",
    "# name, gender, married/unmarried, age, height, weight, (eye sight-left, right), foot size\n",
    "_, gender, _, age, height, _, eyesight, _ = test1\n",
    "print(gender, age, height, eyesight)\n",
    "\n",
    "# for loop 사용 시\n",
    "info_list = [('David', 'm', 181, 34), ('Kim', 'f', 169, 29), ('Ebby', 'f', 157, 20), ('Luck', 'm', 196, 41)]\n",
    "for name, gender, _, age in info_list:\n",
    "    print(name, gender, age)"
   ]
  },
  {
   "cell_type": "code",
   "execution_count": 15,
   "metadata": {},
   "outputs": [
    {
     "name": "stdout",
     "output_type": "stream",
     "text": [
      "아버지 : 홍길동\n",
      "어머니 : 심사임당\n",
      "호적 메이트..\n",
      "누나 : 김태희\n",
      "여동생 : 윤아\n",
      "남동생 : 강동원\n"
     ]
    }
   ],
   "source": [
    "# unpacking 확인 1\n",
    "def print_family_name(father, mother, **sibling):\n",
    "      print('아버지 :', father)\n",
    "      print('어머니 :', mother)\n",
    "      if sibling:\n",
    "           print('호적 메이트..')\n",
    "           for title, name in sibling.items():\n",
    "                 print('{} : {}'.format(title, name))\n",
    "\n",
    "print_family_name('홍길동', '심사임당', 누나='김태희', 여동생='윤아', 남동생='강동원')"
   ]
  },
  {
   "cell_type": "code",
   "execution_count": 18,
   "metadata": {},
   "outputs": [
    {
     "name": "stdout",
     "output_type": "stream",
     "text": [
      "할머니 : 박승태\n",
      "아버지 : 성동일\n",
      "어머니 : 이일화\n",
      "호적 메이트..2\n",
      "오빠 : 안재홍\n",
      "여동생 : 혜리\n",
      "언니 : 류혜영\n",
      "남동생 : 박보검\n"
     ]
    }
   ],
   "source": [
    "# unpacking 확인 2\n",
    "def print_family_name_II(*parents, **sibling):\n",
    "      print('할머니 :', parents[0])\n",
    "      print('아버지 :', parents[1])\n",
    "      print('어머니 :', parents[2])\n",
    "      if sibling:\n",
    "           print('호적 메이트..2')\n",
    "           for title, name in sibling.items():\n",
    "                 print('{} : {}'.format(title, name))\n",
    "\n",
    "print_family_name_II('박승태','성동일', '이일화', 오빠='안재홍', 여동생='혜리', 언니='류혜영', 남동생='박보검')"
   ]
  },
  {
   "cell_type": "code",
   "execution_count": 29,
   "metadata": {},
   "outputs": [
    {
     "name": "stdout",
     "output_type": "stream",
     "text": [
      "1st : 1 / 2nd : 2 / 3rd : 3\n",
      "sum : 6\n",
      "1st : A / 2nd : B / 3rd : C\n",
      "ABC\n",
      "1st : 4 / 2nd : 5 / 3rd : 6\n",
      "15\n",
      "1st : 다 / 2nd : 가 / 3rd : 나\n",
      "다가나\n",
      "1st : 치킨 / 2nd : 피자 / 3rd : 음료수\n",
      "치킨피자음료수\n"
     ]
    }
   ],
   "source": [
    "# 함수에서 unpacking을 할때는, 매개변수에서 *을 붙이는게 아니라 인자 앞에 *을 붙여서 사용.\n",
    "# 동일하게 위치인자를 unpacking 하는 경우는 *를, 키워드인자를 unpacking하는 경우 **를 사용\n",
    "def sum(a, b, c):\n",
    "    print(f'1st : {a} / 2nd : {b} / 3rd : {c}')\n",
    "    return a + b + c\n",
    "\n",
    "numbers = [1, 2, 3]\n",
    "# sum(numbers) # error\n",
    "\n",
    "print(f'sum : {sum(*numbers)}') # 출력 : 6\n",
    "\n",
    "# 위치인 자를 unpacking할때는 위에 예에서는 list타입이였지만, Container객체라면 다 가능\n",
    "print(sum(*'ABC')) # 'ABC'\n",
    "print(sum(*(4, 5, 6))) # 15\n",
    "print(sum(*{'가', '나', '다'})) # '나다가'\n",
    "# set 타입과 dict타입은 순서정보를 가지고 있지 않기 때문에 결과가 다를 수 있다.\n",
    "print(sum(*{'치킨': 3, '피자': 15, '음료수': 10})) # '치킨피자음료수'"
   ]
  },
  {
   "cell_type": "code",
   "execution_count": 28,
   "metadata": {},
   "outputs": [
    {
     "name": "stdout",
     "output_type": "stream",
     "text": [
      "44032\n",
      "45208\n",
      "45796\n"
     ]
    }
   ],
   "source": [
    "# 가, 나, 다 순 확인\n",
    "print(ord('가'))\n",
    "print(ord('나'))\n",
    "print(ord('다'))"
   ]
  },
  {
   "cell_type": "code",
   "execution_count": 30,
   "metadata": {},
   "outputs": [
    {
     "data": {
      "text/plain": [
       "408"
      ]
     },
     "execution_count": 30,
     "metadata": {},
     "output_type": "execute_result"
    }
   ],
   "source": [
    "# unpacking하기 위해선 인자가 key와 인자로 구성되어 있는 mapping타입, 즉 dict가 필요\n",
    "def cal(first, op, second):\n",
    "    if op == '+':\n",
    "        return first + second\n",
    "    if op == '/':\n",
    "        return first / second\n",
    "    if op == '-':\n",
    "        return first - second\n",
    "    if op == '*':\n",
    "        return first * second\n",
    "\n",
    "prob = {\n",
    "  'first': 12,\n",
    "  'second': 34,\n",
    "  'op': '*'\n",
    "}\n",
    "\n",
    "cal(**prob) # 결과 : 408"
   ]
  },
  {
   "cell_type": "code",
   "execution_count": null,
   "metadata": {},
   "outputs": [],
   "source": [
    "# 작동방식.\n",
    "'''\n",
    "1. cal(**prob) -> argument 인 prob를 calling\n",
    "2. cal(prob = {\n",
    "  'first': 12,\n",
    "  'second': 34,\n",
    "  'op': '*'\n",
    "}) -> dict 형식으로 key & value 불러옴.\n",
    "3. cal(first=12, second=34, op='*') -> cal 함수로 인자(argument) 전달.\n",
    "'''\n",
    "# + 만약 비어있는 인자를 unpacking를 하면 무시한다고 함.\n",
    "# # 이러한 특성이 있기 때문에 함수의 packing과 unpacking을 이용하여, 다음과 같이 어떠한 함수에도 반응하는 함수를 작성할 수 있음.\n"
   ]
  },
  {
   "cell_type": "code",
   "execution_count": 31,
   "metadata": {},
   "outputs": [
    {
     "name": "stdout",
     "output_type": "stream",
     "text": [
      "함수를 시작합니다.\n",
      "안녕하세요~~ 파이썬 꿀잼!\n",
      "함수를 시작합니다.\n",
      "3\n"
     ]
    }
   ],
   "source": [
    "def start(func, *args, **kwargs):\n",
    "    print(\"함수를 시작합니다.\")\n",
    "    return func(*args, **kwargs)\n",
    "\n",
    "\n",
    "start(print, '안녕하세요', '파이썬 꿀잼!', sep='~~ ')\n",
    "\n",
    "def sum_a_b(a, b):\n",
    "     return a + b\n",
    "\n",
    "result = start(sum_a_b, 1, 2) # 함수를 시작합니다.\n",
    "print(result)"
   ]
  },
  {
   "cell_type": "code",
   "execution_count": null,
   "metadata": {},
   "outputs": [],
   "source": []
  },
  {
   "attachments": {},
   "cell_type": "markdown",
   "metadata": {},
   "source": [
    "### 파이썬 기초 통계 - from scipy import stats\n",
    "- ref : https://wikidocs.net/book/4607\n",
    "- ref : https://wikidocs.net/book/7982\n",
    "- ref : https://datascienceschool.net/01%20python/03.04%20%EA%B8%B0%EC%88%A0%20%ED%86%B5%EA%B3%84.html\n"
   ]
  },
  {
   "attachments": {},
   "cell_type": "markdown",
   "metadata": {},
   "source": [
    "##### 최빈치\n",
    "최빈치(最頻値, mode)란 말 그대로 제일 빈번한 수치다. 관찰된 수치들 중에서 가장 많이 나타난 수치다. 어떨때는 최빈치가 평균보다 더 대표성이 좋을 수 있다. 빈번에 대해서는 빈도(頻度, frequency)'를 통해 알 수 있고 이 빈도는 '빈도분포(頻度分布, frequency distribution)'를 통해 알 수 있다. 다만 빈도분포에서도 '상대빈도(相對頻度, relative frequency)'를 통해서 전체에서 해당 빈도가 차지하는 비중을 알 수 있기 때문에 이를 유의해야 한다.\n",
    "\n",
    "\\+ ref : https://wikidocs.net/83926"
   ]
  },
  {
   "cell_type": "code",
   "execution_count": 3,
   "metadata": {},
   "outputs": [
    {
     "name": "stdout",
     "output_type": "stream",
     "text": [
      "Starting - brr : [0, 0, 0, 0]\n",
      "item : 2 / brr[item]: 0 / brr : [0, 0, 0, 0]\n",
      "item : 0 / brr[item]: 0 / brr : [0, 0, 1, 0]\n",
      "item : 1 / brr[item]: 0 / brr : [1, 0, 1, 0]\n",
      "item : 3 / brr[item]: 0 / brr : [1, 1, 1, 0]\n",
      "item : 2 / brr[item]: 1 / brr : [1, 1, 1, 1]\n",
      "item : 0 / brr[item]: 1 / brr : [1, 1, 2, 1]\n",
      "item : 2 / brr[item]: 2 / brr : [2, 1, 2, 1]\n",
      "item : 3 / brr[item]: 1 / brr : [2, 1, 3, 1]\n",
      "item : 0 / brr[item]: 2 / brr : [2, 1, 3, 2]\n",
      "item : 1 / brr[item]: 1 / brr : [3, 1, 3, 2]\n",
      "item : 1 / brr[item]: 2 / brr : [3, 2, 3, 2]\n",
      "item : 2 / brr[item]: 3 / brr : [3, 3, 3, 2]\n",
      "item : 2 / brr[item]: 4 / brr : [3, 3, 4, 2]\n",
      "item : 0 / brr[item]: 3 / brr : [3, 3, 5, 2]\n",
      "item : 3 / brr[item]: 2 / brr : [4, 3, 5, 2]\n",
      "[4, 3, 5, 3]\n"
     ]
    }
   ],
   "source": [
    "arr = [2, 0, 1, 3, 2, 0, 2, 3, 0, 1, 1, 2, 2, 0, 3]\n",
    "brr = [0]*4 # 리스트에 0이 담긴 공간을 네 개 만들어주기!\n",
    "\n",
    "print(f'Starting - brr : {brr}')\n",
    "for item in arr:\n",
    "    print(f'item : {item} / brr[item]: {brr[item]} / brr : {brr}')\n",
    "    brr[item] += 1 # arr의 항목 값을 brr 항목 번호로 하는 공간에 1을 더해주기!\n",
    "\n",
    "print(brr)"
   ]
  },
  {
   "cell_type": "code",
   "execution_count": null,
   "metadata": {},
   "outputs": [],
   "source": []
  }
 ],
 "metadata": {
  "kernelspec": {
   "display_name": "Python 3.9.6 64-bit",
   "language": "python",
   "name": "python3"
  },
  "language_info": {
   "codemirror_mode": {
    "name": "ipython",
    "version": 3
   },
   "file_extension": ".py",
   "mimetype": "text/x-python",
   "name": "python",
   "nbconvert_exporter": "python",
   "pygments_lexer": "ipython3",
   "version": "3.9.6"
  },
  "orig_nbformat": 4,
  "vscode": {
   "interpreter": {
    "hash": "31f2aee4e71d21fbe5cf8b01ff0e069b9275f58929596ceb00d14d90e3e16cd6"
   }
  }
 },
 "nbformat": 4,
 "nbformat_minor": 2
}
