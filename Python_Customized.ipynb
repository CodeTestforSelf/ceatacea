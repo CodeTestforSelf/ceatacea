{
 "cells": [
  {
   "attachments": {},
   "cell_type": "markdown",
   "metadata": {},
   "source": [
    "# Personal customized Functions\n",
    "개인적으로 잊지 않고 쓰려고 만든&커스텀한 함수들.\n",
    "## Rules\n",
    "1. 개인적으로 추가하거나 정리하거나 커스텀해서 쓰려고 만듬.\n",
    "2. 이해한 내용이나 적용하는 경우 이력 추가.\n",
    "3. 레퍼런스 있을 경우 언급."
   ]
  },
  {
   "attachments": {},
   "cell_type": "markdown",
   "metadata": {},
   "source": [
    "## Basic Settings & Libraries"
   ]
  },
  {
   "cell_type": "code",
   "execution_count": 6,
   "metadata": {},
   "outputs": [],
   "source": [
    "# import libraries\n",
    "import sys\n",
    "import re\n",
    "import datetime"
   ]
  },
  {
   "attachments": {},
   "cell_type": "markdown",
   "metadata": {},
   "source": [
    "### Regex Issues"
   ]
  },
  {
   "cell_type": "code",
   "execution_count": 112,
   "metadata": {},
   "outputs": [],
   "source": [
    "# 입력받은 string 안의 float(단 퍼센트% 기호가 없는 경우)를 받고 % 추가하기.\n",
    "def float_to_percent(floatNum):\n",
    "    # floatNum = str(floatNum.group())\n",
    "    floatNum = re.sub('g','%', floatNum.group())\n",
    "    # 계산이나 단위 변환 필요 시 아래 이용.\n",
    "    # floatNum = round(float(floatNum) * 100, 3)\n",
    "    # return str(floatNum) + '% '\n",
    "    return floatNum"
   ]
  },
  {
   "cell_type": "code",
   "execution_count": 113,
   "metadata": {},
   "outputs": [
    {
     "name": "stdout",
     "output_type": "stream",
     "text": [
      "original sentence : There are 0.3g of protein, 0.2g of fat, 14g of carbohydrate, 2.4g of dietary fiber, 10.4g of sugar in Apples, raw, with skin per 100g.\n",
      "after change gram to percentages : There are 0.3% of protein, 0.2% of fat, 14% of carbohydrate, 2.4% of dietary fiber, 10.4% of sugar in Apples, raw, with skin per 100g.\n"
     ]
    }
   ],
   "source": [
    "# Example\n",
    "sent = 'There are 0.3g of protein, 0.2g of fat, 14g of carbohydrate, 2.4g of dietary fiber, 10.4g of sugar in Apples, raw, with skin per 100g.'\n",
    "# ref : https://fdc.nal.usda.gov/fdc-app.html#/food-details/171688/nutrients\n",
    "\n",
    "print(f'original sentence : {sent}')\n",
    "\n",
    "patt=r'((\\d+\\.\\d+g)|(\\d+g))[^(100g)]\\b'\n",
    "# r'(\\d+\\.\\d+\\w)|(\\d+\\w)[^(100g)]\\b' # ignore 100g and include number(float) with g(grams)\n",
    "# ref : https://regex101.com/r/VCzYLQ/1\n",
    "\n",
    "print(f'after change gram to percentages : {re.sub(pattern=patt, repl=float_to_percent, string=sent)}')"
   ]
  },
  {
   "attachments": {},
   "cell_type": "markdown",
   "metadata": {},
   "source": [
    "### Mathematic Issues"
   ]
  },
  {
   "attachments": {},
   "cell_type": "markdown",
   "metadata": {},
   "source": [
    "#### 10진수 -> n진수 / decimal to any base convert in python\n",
    "ref : https://stackoverflow.com/questions/34559663/convert-decimal-to-ternarybase3-in-python"
   ]
  },
  {
   "cell_type": "code",
   "execution_count": 4,
   "metadata": {},
   "outputs": [],
   "source": [
    "def decimal_to_Nbase(d, n):\n",
    "# 10진수(d) -> n진수(n) : 나누기와 몫으로.\n",
    "    result = ''\n",
    "    print(f'before while - d(Num to change) : {d} / n(N base) : {n}')\n",
    "    while d > 0:\n",
    "        # divmod(a, b) : divmod 함수는 매개변수로 받은 a를 b로 나누고 그 몫과 나머지를 튜플(tuple) 데이터 타입으로 반환\n",
    "        d, mod = divmod(d, n) # divmod로 d가 0이 될 때까지 나눔(진수 구하는 방식.)\n",
    "        print(f'in While - mod : {mod} / d : {d}')\n",
    "        result += str(mod)\n",
    "\n",
    "    print(f'result : {result}')\n",
    "    return result[::-1]\n",
    "    # 역순인 진수를 뒤집어 줘야 원래 변환 하고자하는 base가 출력"
   ]
  },
  {
   "cell_type": "code",
   "execution_count": 5,
   "metadata": {},
   "outputs": [
    {
     "name": "stdout",
     "output_type": "stream",
     "text": [
      "before while - d(Num to change) : 58 / n(N base) : 7\n",
      "in While - mod : 2 / d : 8\n",
      "in While - mod : 1 / d : 1\n",
      "in While - mod : 1 / d : 0\n",
      "result : 211\n",
      "112\n"
     ]
    }
   ],
   "source": [
    "print(decimal_to_Nbase(58, 7)) # 7 진법으로 만들 경우"
   ]
  },
  {
   "cell_type": "code",
   "execution_count": null,
   "metadata": {},
   "outputs": [],
   "source": []
  }
 ],
 "metadata": {
  "kernelspec": {
   "display_name": "Python 3.11.0 64-bit",
   "language": "python",
   "name": "python3"
  },
  "language_info": {
   "codemirror_mode": {
    "name": "ipython",
    "version": 3
   },
   "file_extension": ".py",
   "mimetype": "text/x-python",
   "name": "python",
   "nbconvert_exporter": "python",
   "pygments_lexer": "ipython3",
   "version": "3.11.0"
  },
  "orig_nbformat": 4,
  "vscode": {
   "interpreter": {
    "hash": "5c7b89af1651d0b8571dde13640ecdccf7d5a6204171d6ab33e7c296e100e08a"
   }
  }
 },
 "nbformat": 4,
 "nbformat_minor": 2
}
