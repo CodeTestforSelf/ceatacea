{
 "cells": [
  {
   "attachments": {},
   "cell_type": "markdown",
   "metadata": {},
   "source": [
    "# 파이썬 기본, 기초 다듬기 및 내장 함수와 메서드 다시 체크하기\n",
    "ref : https://docs.python.org/3/\n",
    "since : 2022-09-01 ~"
   ]
  },
  {
   "attachments": {},
   "cell_type": "markdown",
   "metadata": {},
   "source": [
    "## Operators"
   ]
  },
  {
   "attachments": {},
   "cell_type": "markdown",
   "metadata": {},
   "source": [
    "### Basic Operator 기본 연산자"
   ]
  },
  {
   "attachments": {},
   "cell_type": "markdown",
   "metadata": {},
   "source": [
    "#### Arithmetic Opertor 산술 연산자\n",
    "**연산자 : 의미**\n",
    "\n",
    "- \\+   : 덧셈 Addition\n",
    "- \\-   : 뺄셈 Subtraction\n",
    "- \\*   : 곱하기 Multiplication\n",
    "- **   : 제곱 Exponentiation\n",
    "- /    : 나누기 Division\n",
    "- //   : 나누기 연산 후 소수점 이하의 수를 버리고, 정수 부분의 몫을 구함 Floor Division\n",
    "- %    : 나누기 연산 후 몫이 아닌 나머지를 구함 Modulus"
   ]
  },
  {
   "cell_type": "code",
   "execution_count": null,
   "metadata": {},
   "outputs": [],
   "source": [
    "print(11 / 2) # 나누기\n",
    "print(11 % 2) # 나머지 나누고 난 나머지\n",
    "print(11 // 2) # 나누기의 몫이 소수점이면 내림"
   ]
  },
  {
   "attachments": {},
   "cell_type": "markdown",
   "metadata": {},
   "source": [
    "#### Relational Opertor 비교 연산자 \n",
    "\n",
    "- > , < 크거나 작거나\n",
    "- lt, gt, elt, egt\n"
   ]
  },
  {
   "cell_type": "code",
   "execution_count": null,
   "metadata": {},
   "outputs": [],
   "source": []
  },
  {
   "attachments": {},
   "cell_type": "markdown",
   "metadata": {},
   "source": [
    "#### Assignment Operator 대입연산자 :  = 우항을 좌항에 대입하거나"
   ]
  },
  {
   "cell_type": "code",
   "execution_count": null,
   "metadata": {},
   "outputs": [],
   "source": []
  },
  {
   "attachments": {},
   "cell_type": "markdown",
   "metadata": {},
   "source": [
    "#### Logical Operators 논리연산자 \n",
    ": TRUE, FALSE 참이거나 거짓인 연산자 Boolean 값들"
   ]
  },
  {
   "cell_type": "code",
   "execution_count": null,
   "metadata": {},
   "outputs": [],
   "source": []
  },
  {
   "cell_type": "code",
   "execution_count": null,
   "metadata": {},
   "outputs": [],
   "source": []
  },
  {
   "attachments": {},
   "cell_type": "markdown",
   "metadata": {},
   "source": [
    "### 측정하기 - 시간, 복잡도 혹은 메모리"
   ]
  },
  {
   "cell_type": "code",
   "execution_count": null,
   "metadata": {},
   "outputs": [],
   "source": [
    "import time\n",
    "# from datetime import datetime, timedelta\n",
    "# print(f'Today is {datetime.now()}')\n",
    "# d1 = time.time() # 측정 시작\n",
    "\n",
    "# 소스 코드 시작 \n",
    "from collections import Counter\n",
    "def solution(s):\n",
    "    result = 0\n",
    "    num = Counter(s)\n",
    "    one = num[1]\n",
    "    two = num[2]\n",
    "    three = num[3]\n",
    "    four = num[4]\n",
    "    # max = num[4] # 4명 \n",
    "    even = (num[2]//2) if num[2]%2 == 0 else (num[2]//2)+1 # 2명의 경우 4가 되도록 2배수면 그대로 남으면 +1\n",
    "    if num[1] > 0 and num[3] > 0:\n",
    "    # 둘 다 0 이상 \n",
    "        odd = min(num[1],num[3])+(max(num))\n",
    "    result = odd + even + four # num[4] # 전부 더하기\n",
    "    \n",
    "    return result\n",
    "\n",
    "# 소스 코드 끝 \n",
    "\n",
    "# d2 = time.time() # 측정 종료\n",
    "# print(f'Time : {d1 - d2}') # Time : -0.543022632598877\n",
    "\n",
    "# s = [1,2,4,3,3]\n",
    "s = [2,3,4,4,2,1,3,1,3]\n",
    "solution(s)"
   ]
  },
  {
   "cell_type": "code",
   "execution_count": 1,
   "metadata": {},
   "outputs": [
    {
     "data": {
      "text/plain": [
       "9"
      ]
     },
     "execution_count": 1,
     "metadata": {},
     "output_type": "execute_result"
    }
   ],
   "source": [
    "# %time\n",
    "# %time은 colab 용\n",
    "from collections import Counter\n",
    "def solution(s):\n",
    "    result = 0\n",
    "    num = Counter(s)\n",
    "    one = num[1]\n",
    "    two = num[2]\n",
    "    three = num[3]\n",
    "    four = num[4]\n",
    "    # max = num[4] # 4명 \n",
    "    even = (num[2]//2) if num[2]%2 == 0 else (num[2]//2)+1 # 2명의 경우 4가 되도록 2배수면 그대로 남으면 +1\n",
    "    if num[1] > 0 and num[3] > 0:\n",
    "    # 둘 다 0 이상 \n",
    "        odd = min(num[1],num[3])+(max(num))\n",
    "    result = odd + even + four # num[4] # 전부 더하기\n",
    "    \n",
    "    return result\n",
    "\n",
    "s = [2,3,4,4,2,1,3,1,3]\n",
    "solution(s)"
   ]
  },
  {
   "attachments": {},
   "cell_type": "markdown",
   "metadata": {},
   "source": [
    "# Built-in Method 내장 메서드"
   ]
  },
  {
   "cell_type": "code",
   "execution_count": null,
   "metadata": {},
   "outputs": [],
   "source": []
  },
  {
   "attachments": {},
   "cell_type": "markdown",
   "metadata": {},
   "source": [
    "## Sequence 연속된 것들 관련"
   ]
  },
  {
   "attachments": {},
   "cell_type": "markdown",
   "metadata": {},
   "source": [
    "### 내장 메서드 - sort, sorted\n",
    "ref : https://docs.python.org/3/howto/sorting.html"
   ]
  },
  {
   "cell_type": "code",
   "execution_count": 3,
   "metadata": {},
   "outputs": [
    {
     "name": "stdout",
     "output_type": "stream",
     "text": [
      "['F', 'G', 'Z', 'e', 'f', 'h', 'i']\n",
      "['i', 'h', 'f', 'e', 'Z', 'G', 'F']\n"
     ]
    }
   ],
   "source": [
    "### 문자열 정렬\n",
    "txt = ['i','e','F','Z','G','h','f']\n",
    "print(sorted(txt))\n",
    "print(sorted(txt, reverse=True))"
   ]
  },
  {
   "cell_type": "code",
   "execution_count": null,
   "metadata": {},
   "outputs": [],
   "source": [
    "### 튜플 정렬\n",
    "data = (1,3,2)\n",
    "print( data, type(data) )\n",
    "data = sorted(data)\n",
    "print( data, type(data), \"\\n\" )\n",
    "\n",
    "### 집합 정렬\n",
    "data = {1,3,2}\n",
    "print( data, type(data) )\n",
    "data = sorted(data)\n",
    "print( data, type(data) )"
   ]
  },
  {
   "cell_type": "code",
   "execution_count": 4,
   "metadata": {},
   "outputs": [
    {
     "name": "stdout",
     "output_type": "stream",
     "text": [
      "------------------------------ list.sort() ------------------------------\n",
      "type : <class 'list'> / testL : [7, 4, 32, 12, 69, 90, 11]\n",
      "after testL.sort() : [4, 7, 11, 12, 32, 69, 90]\n",
      "\n",
      "\n",
      "------------------------------ sorted() ------------------------------\n",
      "type : <class 'tuple'> / testT : (2, 6, 4, 1, 9, 8, 5)\n",
      "after testT.sort() 불가. sorted(testT) 가능 : [1, 2, 4, 5, 6, 8, 9]\n",
      "type : <class 'set'> / testS : {1, 3, 4, 6, 9, 11, 23, 87}\n",
      "sorted(testS) : [1, 3, 4, 6, 9, 11, 23, 87]\n",
      "type : <class 'dict'> / testD : {9: 'nueve', 15: 'quince', 4: 'cuatro', 10: 'diez', 16: 'dieciséis', 17: 'diecisiete', 6: 'seis', 18: 'dieciocho', 19: 'diecinueve', 20: 'veinte', 1: 'uno', 2: 'dos', 3: 'tres', 13: 'trece', 14: 'catorce', 5: 'cinco', 11: 'once', 12: 'doce', 7: 'siete', 8: 'ocho'}\n",
      "sorted(testD) : [1, 2, 3, 4, 5, 6, 7, 8, 9, 10, 11, 12, 13, 14, 15, 16, 17, 18, 19, 20] <- key 기준 정렬되어 list 반환\n"
     ]
    }
   ],
   "source": [
    "testL = [7,4,32,12,69,90,11]\n",
    "testT = (2,6,4,1,9,8,5)\n",
    "testS = {9,4,1,3,23,6,87,11}\n",
    "testD = {\n",
    "    9 : 'nueve', 15 : 'quince', 4 : 'cuatro', 10 : 'diez', \n",
    "    16 : 'dieciséis', 17 : 'diecisiete', \n",
    "    6 : 'seis', 18 : 'dieciocho', 19 : 'diecinueve', 20 : 'veinte',\n",
    "    1 : 'uno', 2 : 'dos', 3 : 'tres', 13 : 'trece', 14 : 'catorce', 5 : 'cinco', \n",
    "    11 : 'once', 12 : 'doce', 7 : 'siete', 8 : 'ocho', \n",
    "    }\n",
    "\n",
    "\n",
    "print('-'*30,'list.sort()','-'*30)\n",
    "print(f'type : {type(testL)} / testL : {testL}')\n",
    "testL.sort()\n",
    "print(f'after testL.sort() : {testL}')\n",
    "print('\\n')\n",
    "print('-'*30,'sorted()','-'*30)\n",
    "print(f'type : {type(testT)} / testT : {testT}')\n",
    "# testT.sort() # error -> AttributeError: 'tuple' object has no attribute 'sort' 라고 나옴.\n",
    "print(f'after testT.sort() 불가. sorted(testT) 가능 : {sorted(testT)}')\n",
    "print(f'type : {type(testS)} / testS : {testS}')\n",
    "print(f'sorted(testS) : {sorted(testS)}')\n",
    "print(f'type : {type(testD)} / testD : {testD}')\n",
    "print(f'sorted(testD) : {sorted(testD)} <- key 기준 정렬되어 list 반환')"
   ]
  },
  {
   "attachments": {},
   "cell_type": "markdown",
   "metadata": {},
   "source": [
    "### sorted(iterable, key=)\n",
    "\n",
    "\\+ ref : https://docs.python.org/3/howto/sorting.html#sortinghowto"
   ]
  },
  {
   "cell_type": "code",
   "execution_count": 18,
   "metadata": {},
   "outputs": [],
   "source": [
    "# ref : https://stackoverflow.com/questions/13669252/what-is-lambda-in-python-code-how-does-it-work-with-key-arguments-to-sorte"
   ]
  },
  {
   "cell_type": "code",
   "execution_count": 14,
   "metadata": {},
   "outputs": [
    {
     "data": {
      "text/plain": [
       "['a', 'Andrew', 'from', 'is', 'string', 'test', 'This']"
      ]
     },
     "execution_count": 14,
     "metadata": {},
     "output_type": "execute_result"
    }
   ],
   "source": [
    "sorted(\"This is a test string from Andrew\".split(), key=str.lower)"
   ]
  },
  {
   "cell_type": "code",
   "execution_count": 17,
   "metadata": {},
   "outputs": [
    {
     "data": {
      "text/plain": [
       "[('dave', 'B', 10),\n",
       " ('jul', 'A', 10),\n",
       " ('mike', 'B', 10),\n",
       " ('jane', 'B', 12),\n",
       " ('viki', 'B', 12),\n",
       " ('john', 'A', 15),\n",
       " ('lala', 'A', 15),\n",
       " ('pin', 'A', 20)]"
      ]
     },
     "execution_count": 17,
     "metadata": {},
     "output_type": "execute_result"
    }
   ],
   "source": [
    "student_tuples = [\n",
    "    ('john', 'A', 15),\n",
    "    ('jane', 'B', 12),\n",
    "    ('dave', 'B', 10),\n",
    "    ('jul', 'A', 10),\n",
    "    ('pin', 'A', 20),\n",
    "    ('mike', 'B', 10),\n",
    "    ('viki', 'B', 12),\n",
    "    ('lala', 'A', 15),\n",
    "]\n",
    "sorted(student_tuples, key=lambda student: (student[2], student[0]))   # sort by age, name"
   ]
  },
  {
   "cell_type": "code",
   "execution_count": null,
   "metadata": {},
   "outputs": [],
   "source": [
    "sorted(student_tuples, key=lambda student: (student[2]))"
   ]
  },
  {
   "cell_type": "code",
   "execution_count": 13,
   "metadata": {},
   "outputs": [
    {
     "data": {
      "text/plain": [
       "['abcd', 'abce', 'abcg', 'cds', 'cdx']"
      ]
     },
     "execution_count": 13,
     "metadata": {},
     "output_type": "execute_result"
    }
   ],
   "source": [
    "def solution(strings, n):\n",
    "    answer = []\n",
    "    return sorted(strings,key=lambda x : (x[n], x))\n",
    "\n",
    "n=2\n",
    "strings = [\"abcg\",\"abce\", \"abcd\", \"cdx\",\"cds\"]\n",
    "solution(strings, n)\n"
   ]
  },
  {
   "attachments": {},
   "cell_type": "markdown",
   "metadata": {},
   "source": [
    "#### sum(list, [])\n",
    "- ref : https://docs.python.org/ko/3/library/functions.html#sum\n",
    "- ref : https://stackoverflow.com/questions/33541947/what-does-the-built-in-function-sum-do-with-sumlist\n",
    "\n",
    "**sum(iterable, /, start=0)**<br>\n",
    "start is a number, by default; 0<br>\n",
    "start 및 iterable 의 항목들을 왼쪽에서 오른쪽으로 합하고 합계를 돌려줍니다. <br>\n",
    "iterable 의 항목은 일반적으로 숫자며 시작 값은 문자열이 될 수 없습니다.<br>\n",
    "\\+ 버전 3.8에서 변경: start 매개 변수는 키워드 인자로만 지정될 수 있습니다."
   ]
  },
  {
   "cell_type": "code",
   "execution_count": 4,
   "metadata": {},
   "outputs": [
    {
     "name": "stdout",
     "output_type": "stream",
     "text": [
      "[[1, 2], [3, 4], [5, 6]]\n",
      "sum([],a) : [[1, 2], [3, 4], [5, 6]]\n",
      "sum(a,[]) : [1, 2, 3, 4, 5, 6]\n"
     ]
    }
   ],
   "source": [
    "a = [[1, 2], [3, 4], [5, 6]]\n",
    "print(a)\n",
    "print(f'sum([],a) : {sum([],a)}')\n",
    "print(f'sum(a,[]) : {sum(a,[])}')"
   ]
  },
  {
   "cell_type": "code",
   "execution_count": 6,
   "metadata": {},
   "outputs": [
    {
     "data": {
      "text/plain": [
       "133"
      ]
     },
     "execution_count": 6,
     "metadata": {},
     "output_type": "execute_result"
    }
   ],
   "source": [
    "solution = lambda sizes: max(sum(sizes, [])) * max(min(size) for size in sizes)\n",
    "\n",
    "sizes=[[14, 4], [19, 6], [6, 16], [18, 7], [7, 11]]\n",
    "solution(sizes)"
   ]
  },
  {
   "cell_type": "code",
   "execution_count": 11,
   "metadata": {},
   "outputs": [
    {
     "name": "stdout",
     "output_type": "stream",
     "text": [
      "sum(sizes, []) : [14, 4, 19, 6, 6, 16, 18, 7, 7, 11]\n"
     ]
    }
   ],
   "source": [
    "sizes=[[14, 4], [19, 6], [6, 16], [18, 7], [7, 11]]\n",
    "print(f'sum(sizes, []) : {sum(sizes, [])}')"
   ]
  },
  {
   "attachments": {},
   "cell_type": "markdown",
   "metadata": {},
   "source": [
    "#### Slicing"
   ]
  },
  {
   "attachments": {},
   "cell_type": "markdown",
   "metadata": {},
   "source": [
    "##### 이전 요소와 비교하여 동일하지 않은 것만 넣기\n",
    "참조는 프로그래머스 : https://school.programmers.co.kr/learn/courses/30/lessons/12906"
   ]
  },
  {
   "cell_type": "code",
   "execution_count": 29,
   "metadata": {},
   "outputs": [
    {
     "data": {
      "text/plain": [
       "[1, 3, 0, 1, 4, 3]"
      ]
     },
     "execution_count": 29,
     "metadata": {},
     "output_type": "execute_result"
    }
   ],
   "source": [
    "def solution(arr):\n",
    "    tmp = []\n",
    "    for i in arr:\n",
    "        if tmp[-1:] == [i]: continue\n",
    "        tmp.append(i)\n",
    "    return tmp\n",
    "\n",
    "arr = [1,1,3,3,0,1,1,4,4,4,3,3]\n",
    "solution(arr)"
   ]
  },
  {
   "attachments": {},
   "cell_type": "markdown",
   "metadata": {},
   "source": [
    "## 수학 관련"
   ]
  },
  {
   "attachments": {},
   "cell_type": "markdown",
   "metadata": {},
   "source": [
    "#### divmod"
   ]
  },
  {
   "cell_type": "code",
   "execution_count": 28,
   "metadata": {},
   "outputs": [
    {
     "name": "stdout",
     "output_type": "stream",
     "text": [
      "(10, 4729)\n",
      "3 4729\n"
     ]
    }
   ],
   "source": [
    "print(divmod(54729,5000))\n",
    "portion, remind = divmod(154729,50000)\n",
    "print(portion, remind)"
   ]
  },
  {
   "attachments": {},
   "cell_type": "markdown",
   "metadata": {},
   "source": [
    "##### N진수 구하기"
   ]
  },
  {
   "cell_type": "code",
   "execution_count": null,
   "metadata": {},
   "outputs": [],
   "source": [
    "# N진수 구하기 로 쓸 수도 있고,\n",
    "def decimal_to_Nbase(d, n):\n",
    "# 10진수(d) -> n진수(n) : 나누기와 몫으로.\n",
    "    result = ''\n",
    "    print(f'before while - d(Num to change) : {d} / n(N base) : {n}')\n",
    "    while d > 0:\n",
    "        # divmod(a, b) : divmod 함수는 매개변수로 받은 a를 b로 나누고 그 몫과 나머지를 튜플(tuple) 데이터 타입으로 반환\n",
    "        d, mod = divmod(d, n) # divmod로 d가 0이 될 때까지 나눔(진수 구하는 방식.)\n",
    "        print(f'in While - mod : {mod} / d : {d}')\n",
    "        result += str(mod)\n",
    "\n",
    "    print(f'result : {result}')\n",
    "    return result[::-1]\n",
    "    # 역순인 진수를 뒤집어 줘야 원래 변환 하고자하는 base가 출력"
   ]
  },
  {
   "attachments": {},
   "cell_type": "markdown",
   "metadata": {},
   "source": [
    "##### 화폐 단위로 나누기"
   ]
  },
  {
   "cell_type": "code",
   "execution_count": 27,
   "metadata": {},
   "outputs": [
    {
     "name": "stdout",
     "output_type": "stream",
     "text": [
      "오만원권 1매\n",
      "만원권 4매\n",
      "오천원권 1매\n",
      "천원권 3매\n",
      "오십원 1개\n",
      "십원 2개\n",
      "오원 1개\n"
     ]
    }
   ],
   "source": [
    "# 화폐로 나누기로 쓸 수 있다.\n",
    "\n",
    "def currency_divmod():\n",
    "    money = int(input('금액을 입력해 주세요: '))\n",
    "    currency = [50000,10000,5000,1000,500,100,50,10,5,1]\n",
    "    curr_name = ['오만원권', '만원권', '오천원권', '천원권', '오백원', '백원', '오십원','십원', '오원', '일원']\n",
    "    for i in range(len(currency)):\n",
    "        tmp = currency[i]\n",
    "        currency[i], money = divmod(money,currency[i])\n",
    "        if currency[i] > 0:\n",
    "            print(f'{curr_name[i]} {currency[i]}{\"매\" if tmp >= 1000 else \"개\"}')\n",
    "\n",
    "currency_divmod()"
   ]
  },
  {
   "attachments": {},
   "cell_type": "markdown",
   "metadata": {},
   "source": [
    "# Class 클래스"
   ]
  },
  {
   "attachments": {},
   "cell_type": "markdown",
   "metadata": {},
   "source": [
    "## 다중상속\n"
   ]
  },
  {
   "cell_type": "code",
   "execution_count": 19,
   "metadata": {},
   "outputs": [
    {
     "name": "stdout",
     "output_type": "stream",
     "text": [
      "안녕하세요. B입니다.\n"
     ]
    }
   ],
   "source": [
    "# ref : https://dojang.io/mod/page/view.php?id=2388\n",
    "class A:\n",
    "    def greeting(self):\n",
    "        print('안녕하세요. A입니다.')\n",
    "\n",
    "class B(A):\n",
    "    def greeting(self):\n",
    "        print('안녕하세요. B입니다.')\n",
    "\n",
    "class C(A):\n",
    "    def greeting(self):\n",
    "        print('안녕하세요. C입니다.')\n",
    "\n",
    "class D(B, C):\n",
    "    pass\n",
    "\n",
    "x = D()\n",
    "x.greeting()"
   ]
  }
 ],
 "metadata": {
  "kernelspec": {
   "display_name": "Python 3",
   "language": "python",
   "name": "python3"
  },
  "language_info": {
   "codemirror_mode": {
    "name": "ipython",
    "version": 3
   },
   "file_extension": ".py",
   "mimetype": "text/x-python",
   "name": "python",
   "nbconvert_exporter": "python",
   "pygments_lexer": "ipython3",
   "version": "3.11.1 (tags/v3.11.1:a7a450f, Dec  6 2022, 19:58:39) [MSC v.1934 64 bit (AMD64)]"
  },
  "orig_nbformat": 4,
  "vscode": {
   "interpreter": {
    "hash": "ebfc0a8d552866b0d59eba665220a57de3bc06f3ac643b8bef38dd8f66781fdd"
   }
  }
 },
 "nbformat": 4,
 "nbformat_minor": 2
}
