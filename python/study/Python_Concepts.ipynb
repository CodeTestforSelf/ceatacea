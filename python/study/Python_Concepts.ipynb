{
 "cells": [
  {
   "attachments": {},
   "cell_type": "markdown",
   "metadata": {},
   "source": [
    "# 파이썬 기본, 기초 다듬기 및 내장 함수와 메서드 다시 체크하기\n",
    "ref : https://docs.python.org/3/\n",
    "since : 2022-09-01 ~"
   ]
  },
  {
   "attachments": {},
   "cell_type": "markdown",
   "metadata": {},
   "source": [
    "## Operators"
   ]
  },
  {
   "attachments": {},
   "cell_type": "markdown",
   "metadata": {},
   "source": [
    "### Basic Operator 기본 연산자"
   ]
  },
  {
   "attachments": {},
   "cell_type": "markdown",
   "metadata": {},
   "source": [
    "#### Arithmetic Opertor 산술 연산자\n",
    "**연산자 : 의미**\n",
    "\n",
    "- \\+   : 덧셈 Addition\n",
    "- \\-   : 뺄셈 Subtraction\n",
    "- \\*   : 곱하기 Multiplication\n",
    "- **   : 제곱 Exponentiation\n",
    "- /    : 나누기 Division\n",
    "- //   : 나누기 연산 후 소수점 이하의 수를 버리고, 정수 부분의 몫을 구함 Floor Division\n",
    "- %    : 나누기 연산 후 몫이 아닌 나머지를 구함 Modulus"
   ]
  },
  {
   "cell_type": "code",
   "execution_count": null,
   "metadata": {},
   "outputs": [],
   "source": [
    "print(11 / 2) # 나누기\n",
    "print(11 % 2) # 나머지 나누고 난 나머지\n",
    "print(11 // 2) # 나누기의 몫이 소수점이면 내림"
   ]
  },
  {
   "attachments": {},
   "cell_type": "markdown",
   "metadata": {},
   "source": [
    "#### Relational Opertor 비교 연산자 \n",
    "\n",
    "- > , < 크거나 작거나\n",
    "- lt, gt, elt, egt\n"
   ]
  },
  {
   "cell_type": "code",
   "execution_count": null,
   "metadata": {},
   "outputs": [],
   "source": []
  },
  {
   "attachments": {},
   "cell_type": "markdown",
   "metadata": {},
   "source": [
    "#### Assignment Operator 대입연산자 :  = 우항을 좌항에 대입하거나"
   ]
  },
  {
   "cell_type": "code",
   "execution_count": null,
   "metadata": {},
   "outputs": [],
   "source": []
  },
  {
   "attachments": {},
   "cell_type": "markdown",
   "metadata": {},
   "source": [
    "#### Logical Operators 논리연산자 \n",
    ": TRUE, FALSE 참이거나 거짓인 연산자 Boolean 값들"
   ]
  },
  {
   "cell_type": "code",
   "execution_count": null,
   "metadata": {},
   "outputs": [],
   "source": []
  },
  {
   "cell_type": "code",
   "execution_count": null,
   "metadata": {},
   "outputs": [],
   "source": []
  },
  {
   "attachments": {},
   "cell_type": "markdown",
   "metadata": {},
   "source": [
    "### 측정하기 - 시간, 복잡도 혹은 메모리"
   ]
  },
  {
   "cell_type": "code",
   "execution_count": null,
   "metadata": {},
   "outputs": [],
   "source": [
    "import time\n",
    "# from datetime import datetime, timedelta\n",
    "# print(f'Today is {datetime.now()}')\n",
    "# d1 = time.time() # 측정 시작\n",
    "\n",
    "# 소스 코드 시작 \n",
    "from collections import Counter\n",
    "def solution(s):\n",
    "    result = 0\n",
    "    num = Counter(s)\n",
    "    one = num[1]\n",
    "    two = num[2]\n",
    "    three = num[3]\n",
    "    four = num[4]\n",
    "    # max = num[4] # 4명 \n",
    "    even = (num[2]//2) if num[2]%2 == 0 else (num[2]//2)+1 # 2명의 경우 4가 되도록 2배수면 그대로 남으면 +1\n",
    "    if num[1] > 0 and num[3] > 0:\n",
    "    # 둘 다 0 이상 \n",
    "        odd = min(num[1],num[3])+(max(num))\n",
    "    result = odd + even + four # num[4] # 전부 더하기\n",
    "    \n",
    "    return result\n",
    "\n",
    "# 소스 코드 끝 \n",
    "\n",
    "# d2 = time.time() # 측정 종료\n",
    "# print(f'Time : {d1 - d2}') # Time : -0.543022632598877\n",
    "\n",
    "# s = [1,2,4,3,3]\n",
    "s = [2,3,4,4,2,1,3,1,3]\n",
    "solution(s)"
   ]
  },
  {
   "cell_type": "code",
   "execution_count": 1,
   "metadata": {},
   "outputs": [
    {
     "data": {
      "text/plain": [
       "9"
      ]
     },
     "execution_count": 1,
     "metadata": {},
     "output_type": "execute_result"
    }
   ],
   "source": [
    "# %time\n",
    "# %time은 colab 용\n",
    "from collections import Counter\n",
    "def solution(s):\n",
    "    result = 0\n",
    "    num = Counter(s)\n",
    "    one = num[1]\n",
    "    two = num[2]\n",
    "    three = num[3]\n",
    "    four = num[4]\n",
    "    # max = num[4] # 4명 \n",
    "    even = (num[2]//2) if num[2]%2 == 0 else (num[2]//2)+1 # 2명의 경우 4가 되도록 2배수면 그대로 남으면 +1\n",
    "    if num[1] > 0 and num[3] > 0:\n",
    "    # 둘 다 0 이상 \n",
    "        odd = min(num[1],num[3])+(max(num))\n",
    "    result = odd + even + four # num[4] # 전부 더하기\n",
    "    \n",
    "    return result\n",
    "\n",
    "s = [2,3,4,4,2,1,3,1,3]\n",
    "solution(s)"
   ]
  },
  {
   "attachments": {},
   "cell_type": "markdown",
   "metadata": {},
   "source": [
    "# Built-in Method 내장 메서드"
   ]
  },
  {
   "cell_type": "code",
   "execution_count": null,
   "metadata": {},
   "outputs": [],
   "source": []
  },
  {
   "attachments": {},
   "cell_type": "markdown",
   "metadata": {},
   "source": [
    "## Sequence 연속된 것들 관련"
   ]
  },
  {
   "attachments": {},
   "cell_type": "markdown",
   "metadata": {},
   "source": [
    "### 내장 메서드 - sort, sorted\n",
    "ref : https://docs.python.org/3/howto/sorting.html"
   ]
  },
  {
   "cell_type": "code",
   "execution_count": 3,
   "metadata": {},
   "outputs": [
    {
     "name": "stdout",
     "output_type": "stream",
     "text": [
      "['F', 'G', 'Z', 'e', 'f', 'h', 'i']\n",
      "['i', 'h', 'f', 'e', 'Z', 'G', 'F']\n"
     ]
    }
   ],
   "source": [
    "### 문자열 정렬\n",
    "txt = ['i','e','F','Z','G','h','f']\n",
    "print(sorted(txt))\n",
    "print(sorted(txt, reverse=True))"
   ]
  },
  {
   "cell_type": "code",
   "execution_count": null,
   "metadata": {},
   "outputs": [],
   "source": [
    "### 튜플 정렬\n",
    "data = (1,3,2)\n",
    "print( data, type(data) )\n",
    "data = sorted(data)\n",
    "print( data, type(data), \"\\n\" )\n",
    "\n",
    "### 집합 정렬\n",
    "data = {1,3,2}\n",
    "print( data, type(data) )\n",
    "data = sorted(data)\n",
    "print( data, type(data) )"
   ]
  },
  {
   "cell_type": "code",
   "execution_count": 4,
   "metadata": {},
   "outputs": [
    {
     "name": "stdout",
     "output_type": "stream",
     "text": [
      "------------------------------ list.sort() ------------------------------\n",
      "type : <class 'list'> / testL : [7, 4, 32, 12, 69, 90, 11]\n",
      "after testL.sort() : [4, 7, 11, 12, 32, 69, 90]\n",
      "\n",
      "\n",
      "------------------------------ sorted() ------------------------------\n",
      "type : <class 'tuple'> / testT : (2, 6, 4, 1, 9, 8, 5)\n",
      "after testT.sort() 불가. sorted(testT) 가능 : [1, 2, 4, 5, 6, 8, 9]\n",
      "type : <class 'set'> / testS : {1, 3, 4, 6, 9, 11, 23, 87}\n",
      "sorted(testS) : [1, 3, 4, 6, 9, 11, 23, 87]\n",
      "type : <class 'dict'> / testD : {9: 'nueve', 15: 'quince', 4: 'cuatro', 10: 'diez', 16: 'dieciséis', 17: 'diecisiete', 6: 'seis', 18: 'dieciocho', 19: 'diecinueve', 20: 'veinte', 1: 'uno', 2: 'dos', 3: 'tres', 13: 'trece', 14: 'catorce', 5: 'cinco', 11: 'once', 12: 'doce', 7: 'siete', 8: 'ocho'}\n",
      "sorted(testD) : [1, 2, 3, 4, 5, 6, 7, 8, 9, 10, 11, 12, 13, 14, 15, 16, 17, 18, 19, 20] <- key 기준 정렬되어 list 반환\n"
     ]
    }
   ],
   "source": [
    "testL = [7,4,32,12,69,90,11]\n",
    "testT = (2,6,4,1,9,8,5)\n",
    "testS = {9,4,1,3,23,6,87,11}\n",
    "testD = {\n",
    "    9 : 'nueve', 15 : 'quince', 4 : 'cuatro', 10 : 'diez', \n",
    "    16 : 'dieciséis', 17 : 'diecisiete', \n",
    "    6 : 'seis', 18 : 'dieciocho', 19 : 'diecinueve', 20 : 'veinte',\n",
    "    1 : 'uno', 2 : 'dos', 3 : 'tres', 13 : 'trece', 14 : 'catorce', 5 : 'cinco', \n",
    "    11 : 'once', 12 : 'doce', 7 : 'siete', 8 : 'ocho', \n",
    "    }\n",
    "\n",
    "\n",
    "print('-'*30,'list.sort()','-'*30)\n",
    "print(f'type : {type(testL)} / testL : {testL}')\n",
    "testL.sort()\n",
    "print(f'after testL.sort() : {testL}')\n",
    "print('\\n')\n",
    "print('-'*30,'sorted()','-'*30)\n",
    "print(f'type : {type(testT)} / testT : {testT}')\n",
    "# testT.sort() # error -> AttributeError: 'tuple' object has no attribute 'sort' 라고 나옴.\n",
    "print(f'after testT.sort() 불가. sorted(testT) 가능 : {sorted(testT)}')\n",
    "print(f'type : {type(testS)} / testS : {testS}')\n",
    "print(f'sorted(testS) : {sorted(testS)}')\n",
    "print(f'type : {type(testD)} / testD : {testD}')\n",
    "print(f'sorted(testD) : {sorted(testD)} <- key 기준 정렬되어 list 반환')"
   ]
  },
  {
   "cell_type": "code",
   "execution_count": 8,
   "metadata": {},
   "outputs": [
    {
     "name": "stdout",
     "output_type": "stream",
     "text": [
      "['False', 'None', 'True', 'and', 'as', 'assert', 'async', 'await', 'break', 'class', 'continue', 'def', 'del', 'elif', 'else', 'except', 'finally', 'for', 'from', 'global', 'if', 'import', 'in', 'is', 'lambda', 'nonlocal', 'not', 'or', 'pass', 'raise', 'return', 'try', 'while', 'with', 'yield']\n"
     ]
    }
   ],
   "source": [
    "import keyword\n",
    "print(keyword.kwlist)"
   ]
  },
  {
   "cell_type": "markdown",
   "metadata": {},
   "source": []
  }
 ],
 "metadata": {
  "kernelspec": {
   "display_name": "Python 3",
   "language": "python",
   "name": "python3"
  },
  "language_info": {
   "codemirror_mode": {
    "name": "ipython",
    "version": 3
   },
   "file_extension": ".py",
   "mimetype": "text/x-python",
   "name": "python",
   "nbconvert_exporter": "python",
   "pygments_lexer": "ipython3",
   "version": "3.11.1"
  },
  "orig_nbformat": 4,
  "vscode": {
   "interpreter": {
    "hash": "ebfc0a8d552866b0d59eba665220a57de3bc06f3ac643b8bef38dd8f66781fdd"
   }
  }
 },
 "nbformat": 4,
 "nbformat_minor": 2
}
