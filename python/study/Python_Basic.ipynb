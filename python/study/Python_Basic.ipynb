{
 "cells": [
  {
   "attachments": {},
   "cell_type": "markdown",
   "metadata": {},
   "source": [
    "# Python Basics\n",
    "- 공부하면서 헷갈렸거나 이해한 것을 잊어먹지 않기 위해서 추가하는 목록들\n",
    "- 출처는 ref 에 기재"
   ]
  },
  {
   "attachments": {},
   "cell_type": "markdown",
   "metadata": {},
   "source": [
    "### if else\n",
    "ref : https://docs.python.org/3/reference/compound_stmts.html#if\n"
   ]
  },
  {
   "cell_type": "code",
   "execution_count": 1,
   "metadata": {},
   "outputs": [
    {
     "name": "stdout",
     "output_type": "stream",
     "text": [
      "False\n",
      "False!\n",
      "True!\n"
     ]
    }
   ],
   "source": [
    "print(True if 0 else False)\n",
    "print('True!' if 0 else 'False!')\n",
    "print('True!' if 13334 else 'False!')"
   ]
  },
  {
   "attachments": {},
   "cell_type": "markdown",
   "metadata": {},
   "source": [
    "### 비교 연산자\n",
    "- ref : https://wikidocs.net/91522\n",
    "\n",
    "1. == 연산자와 is 에 대해서<br />\n",
    "\\+ 파이썬은 정수 256까지에 대해서는 이미 해당 값이 존재하면 기존의 객체를 바인딩하게 한다.<br />\n",
    "이는 동일 값을 메모리에 여러번 할당함으로써 발생하는 메모리 낭비를 줄이기 위함\n",
    "\n",
    "\\* Identity operators\n",
    "- is : Evaluates to true, if the operands on either side of the operator point to the same object, and false otherwise.\n",
    "같은 객제를 pointing 하는 지를 체크\n",
    "\n",
    "\\* Relational operators\n",
    "- == : Check if the values of the two operands are equal.\n",
    "값이 동일한 지를 체크"
   ]
  },
  {
   "cell_type": "code",
   "execution_count": 2,
   "metadata": {},
   "outputs": [
    {
     "name": "stdout",
     "output_type": "stream",
     "text": [
      "id : (3136236724560, 3136236724560)\n",
      "True\n",
      "True\n",
      "id : (140705887355624, 140705887355624)\n",
      "True\n",
      "True\n"
     ]
    }
   ],
   "source": [
    "a, b = 100000, 100000\n",
    "c, d = 255, 255\n",
    "\n",
    "print(f'id : {id(a), id(b)}')\n",
    "print(a == b)\n",
    "print(a is b)\n",
    "\n",
    "print(f'id : {id(c), id(d)}')\n",
    "print(c == d)\n",
    "print(c is d)\n"
   ]
  },
  {
   "cell_type": "code",
   "execution_count": 3,
   "metadata": {},
   "outputs": [
    {
     "data": {
      "text/plain": [
       "'\\nid : (139979082506896, 139979082508144) <- 다르게 나옴.\\nTrue\\nFalse\\nid : (11134816, 11134816)\\nTrue\\nTrue\\n'"
      ]
     },
     "execution_count": 3,
     "metadata": {},
     "output_type": "execute_result"
    }
   ],
   "source": [
    "# Googld Colab  input:\n",
    "'''\n",
    "a, b = 1000, 1000\n",
    "c, d = 255, 255\n",
    "\n",
    "print(f'id : {id(a), id(b)}')\n",
    "print(a == b)\n",
    "print(a is b)\n",
    "\n",
    "print(f'id : {id(c), id(d)}')\n",
    "print(c == d)\n",
    "print(c is d)\n",
    "\n",
    "'''\n",
    "\n",
    "# Googld Colab output:\n",
    "'''\n",
    "id : (139979082506896, 139979082508144) <- 다르게 나옴.\n",
    "True\n",
    "False\n",
    "id : (11134816, 11134816)\n",
    "True\n",
    "True\n",
    "'''"
   ]
  },
  {
   "attachments": {},
   "cell_type": "markdown",
   "metadata": {},
   "source": [
    "### 산술 연산자 Arithmetic Operator\n",
    "\n",
    "연산자 : 의미\n",
    "\n",
    "\\+   : 덧셈 Addition\n",
    "\n",
    "\\-   : 뺄셈 Subtraction\n",
    "\n",
    "\\*   : 곱하기 Multiplication\n",
    "\n",
    "**   : 제곱 Exponentiation\n",
    "\n",
    "/    : 나누기 Division\n",
    "\n",
    "//   : 나누기 연산 후 소수점 이하의 수를 버리고, 정수 부분의 몫을 구함 Floor\n",
    "\n",
    "%    : 나누기 연산 후 몫이 아닌 나머지를 구함 Modulus"
   ]
  },
  {
   "cell_type": "code",
   "execution_count": null,
   "metadata": {},
   "outputs": [],
   "source": []
  },
  {
   "attachments": {},
   "cell_type": "markdown",
   "metadata": {},
   "source": [
    "### 비트 연산자 Bitwise Operator"
   ]
  },
  {
   "attachments": {},
   "cell_type": "markdown",
   "metadata": {},
   "source": [
    "- 피 연산자가 boolean 일 경우는 일반 논리연산자를 사용.\n",
    "- 피연산자가 정수 int 타입일 때는 비트논리연산자 사용.\n",
    "\n",
    "| 구분 | bit | 연산식 | bit | 결과 | 설명 |\n",
    "| --- | --- | ---- | --- | --- | --- |\n",
    "| AND | 1 | & | 1 | 1 | 두 bit 의 값이 1일 때만 1이다. 아닐 경우 모두 0이다. |\n",
    "| (논리곱) | 1 | & | 0 | 0 |   |\n",
    "|  | 0 | & | 1 | 0 |   |\n",
    "|  | 0 | & | 0 | 0 |   |\n",
    "| OR | 1 | & | 1 | 1 | 두 bit 의 값 중 하나만 1이어도 1이다. 둘 다 0일 경우만 0이다. |\n",
    "| (논리합) | 1 | & | 0 | 1 |   |\n",
    "|  | 0 | & | 1 | 1 |   |\n",
    "|  | 0 | & | 0 | 0 |   |\n",
    "| XOR | 1 | & | 1 | 0 | 두 bit 의 값 중 하나가 1이면 1이다. 두 값이 같을 경우 0이다. |\n",
    "| (배타적 논리합) | 1 | & | 0 | 1 |   |\n",
    "|  | 0 | & | 1 | 1 |   |\n",
    "|  | 0 | & | 0 | 0 |   |\n",
    "| NOT |  | ~ | 1 | 0 | 부정이기 때문에 반대 값을 출력. 단항Unary이다. |\n",
    "| (논리 부정) |  | ~ | 0 | 1 |   |"
   ]
  },
  {
   "cell_type": "code",
   "execution_count": 4,
   "metadata": {},
   "outputs": [
    {
     "name": "stdout",
     "output_type": "stream",
     "text": [
      "num1 : 8 / num2 : 4 / num3 : 4 / type - <class 'int'>\n",
      "bin(8) : 1000 / bin(4) : 100 / bin(4) : 100 / type - <class 'str'> 바이너리 이진수 문자열.\n",
      "bi1 : 1000 / bi2 : 100 / bi3 : 100 / type - bi1 : <class 'int'> 이진수화 한 걸 십진수 int처리 했으므로 별개의 수.\n",
      "-------------------- bitwise OR --------------------\n",
      "num1 | num2 : 12\n",
      "| bitwise OR 는 논리합이다. 두 비트의 값 중 하나만 1이어도 1이다.\n",
      "    8 : 1000\n",
      "OR  4 : 0100\n",
      "--------------\n",
      "       1100 이므로 이를 십진수로 바꾸면 12다.\n",
      "\n",
      "num2 | num3 : 4\n",
      "    4 : 0100\n",
      "OR  4 : 0100\n",
      "--------------\n",
      "       100 이므로 이를 십진수로 바꾸면 4다.\n",
      "\n",
      "\n",
      "-------------------- bitwise AND & --------------------\n",
      "num1 & num2 : 0\n",
      "& bitwise AND 는 논리곱이다. 두 비트의 값이 1이어야만 1이고 나머지는 0이다.\n",
      "     8 : 1000\n",
      "AND  4 : 0100\n",
      "--------------\n",
      "         0000 이므로 이를 십진수로 바꾸면 0다.\n",
      "\n",
      "num2 & num3 : 4\n",
      "     4 : 0100\n",
      "AND  4 : 0100\n",
      "--------------\n",
      "         100 이므로 이를 십진수로 바꾸면 4다.\n",
      "\n",
      "\n",
      "-------------------- bitwise XOR ^ --------------------\n",
      "num1 ^ num2 : 12\n",
      "^ bitwise XOR 는 배타적 논리합이다. 두 비트 중 하나가 1이면 1이고 나머진 0이다. 예를 들어 1^1 과 0^0은 0이지만 1^0이나 0^1은 1을 반환한다.\n",
      "     8 : 1000\n",
      "XOR  4 : 0100\n",
      "--------------\n",
      "         1100 이므로 이를 십진수로 바꾸면 12다.\n",
      "\n",
      "num2 & num3 : 0\n",
      "     4 : 0100\n",
      "XOR  4 : 0100\n",
      "--------------\n",
      "         0000 이므로 이를 십진수로 바꾸면 0다.\n",
      "\n",
      "\n"
     ]
    }
   ],
   "source": [
    "num1 = 8\n",
    "bin1 = bin(num1)\n",
    "bi1 = int(bin(num1)[2:])\n",
    "num2 = 4\n",
    "bin2 = bin(num2)\n",
    "bi2 = int(bin(num2)[2:])\n",
    "num3 = 4\n",
    "bin3 = bin(num3)\n",
    "bi3 = int(bin(num3)[2:])\n",
    "print(f'num1 : {num1} / num2 : {num2} / num3 : {num3} / type - {type(num1)}\\nbin(8) : {bin1[2:]} / bin(4) : {bin2[2:]} / bin(4) : {bin3[2:]} / type - {type(bin2[2:])} 바이너리 이진수 문자열.\\nbi1 : {bi1} / bi2 : {bi2} / bi3 : {bi3} / type - bi1 : {type(bi1)} 이진수화 한 걸 십진수 int처리 했으므로 별개의 수.')\n",
    "# print(f'bin1 | bin2 : {bin1 | bin2}') # error. str 끼리므로.\n",
    "\n",
    "print('-'*20,'bitwise OR','-'*20)\n",
    "print(f'num1 | num2 : {num1 | num2}')\n",
    "print('| bitwise OR 는 논리합이다. 두 비트의 값 중 하나만 1이어도 1이다.')\n",
    "print(f'    8 : 1000\\nOR  4 : 0100\\n--------------\\n       {bin(num1 | num2)[2:]} 이므로 이를 십진수로 바꾸면 {num1 | num2}다.\\n')\n",
    "print(f'num2 | num3 : {num2 | num3}')\n",
    "print(f'    4 : 0100\\nOR  4 : 0100\\n--------------\\n       {bin(num2 | num3)[2:]} 이므로 이를 십진수로 바꾸면 {num2 | num3}다.\\n\\n')\n",
    "print('-'*20,'bitwise AND &','-'*20)\n",
    "print(f'num1 & num2 : {num1 & num2}')\n",
    "print('& bitwise AND 는 논리곱이다. 두 비트의 값이 1이어야만 1이고 나머지는 0이다.')\n",
    "print(f'     8 : 1000\\nAND  4 : 0100\\n--------------\\n         {bin(num1 & num2)[2:]}000 이므로 이를 십진수로 바꾸면 {num1 & num2}다.\\n')\n",
    "print(f'num2 & num3 : {num2 & num3}')\n",
    "print(f'     4 : 0100\\nAND  4 : 0100\\n--------------\\n         {bin(num2 & num3)[2:]} 이므로 이를 십진수로 바꾸면 {num2 & num3}다.\\n\\n')\n",
    "print('-'*20,'bitwise XOR ^','-'*20)\n",
    "print(f'num1 ^ num2 : {num1 ^ num2}')\n",
    "print('^ bitwise XOR 는 배타적 논리합이다. 두 비트 중 하나가 1이면 1이고 나머진 0이다. 예를 들어 1^1 과 0^0은 0이지만 1^0이나 0^1은 1을 반환한다.')\n",
    "print(f'     8 : 1000\\nXOR  4 : 0100\\n--------------\\n         {bin(num1 ^ num2)[2:]} 이므로 이를 십진수로 바꾸면 {num1 ^ num2}다.\\n')\n",
    "print(f'num2 & num3 : {num2 ^ num3}')\n",
    "print(f'     4 : 0100\\nXOR  4 : 0100\\n--------------\\n         {bin(num2 ^ num3)[2:]}000 이므로 이를 십진수로 바꾸면 {num2 ^ num3}다.\\n\\n')"
   ]
  },
  {
   "cell_type": "code",
   "execution_count": 5,
   "metadata": {},
   "outputs": [
    {
     "name": "stdout",
     "output_type": "stream",
     "text": [
      "bi1 : 1000 / bi2 : 100 / bi3 : 100 / type : <class 'int'>\n",
      "bin(bi1) : 1111101000 / bin(bi2) : 1100100 / bin(bi3) : 1100100\n",
      "\n",
      " ==================== OR ====================\n",
      "bi1 | bi2 : 1004\n",
      "   1111101000\n",
      "   0001100100\n",
      "OR\n",
      "------------------\n",
      "   1111101100 -> 1004 == int(\"1111101100\",2) : 1004\n",
      "\n",
      " ==================== AND ====================\n",
      "bi1 & bi2 : 96\n",
      "    1111101000\n",
      "    0001100100\n",
      "AND\n",
      "------------------\n",
      "    0001100000 -> 96 == int(\"1100000\",2) : 96\n",
      "\n",
      " ==================== XOR ====================\n",
      "bi1 ^ bi2 : 908\n",
      "    1111101000\n",
      "    0001100100\n",
      "XOR\n",
      "------------------\n",
      "    1110001100 -> 908 == int(\"1110001100\",2) : 908\n"
     ]
    }
   ],
   "source": [
    "num1 = 8\n",
    "bin1 = bin(num1)\n",
    "bi1 = int(bin(num1)[2:])\n",
    "num2 = 4\n",
    "bin2 = bin(num2)\n",
    "bi2 = int(bin(num2)[2:])\n",
    "num3 = 4\n",
    "bin3 = bin(num3)\n",
    "bi3 = int(bin(num3)[2:])\n",
    "print(f'bi1 : {bi1} / bi2 : {bi2} / bi3 : {bi3} / type : {type(bi3)}')\n",
    "print(f'bin(bi1) : {bin(bi1)[2:]} / bin(bi2) : {bin(bi2)[2:]} / bin(bi3) : {bin(bi3)[2:]}')\n",
    "print('\\n','='*20,'OR','='*20)\n",
    "print(f'bi1 | bi2 : {bi1 | bi2}')\n",
    "print(f'   {bin(bi1)[2:]}\\n   000{bin(bi2)[2:]}\\nOR\\n------------------\\n   {bin(bi1 | bi2)[2:]} -> {bi1 | bi2} == int(\"1111101100\",2) : {int(\"1111101100\",2)}')\n",
    "print('\\n','='*20,'AND','='*20)\n",
    "print(f'bi1 & bi2 : {bi1 & bi2}')\n",
    "print(f'    {bin(bi1)[2:]}\\n    000{bin(bi2)[2:]}\\nAND\\n------------------\\n    000{bin(bi1 & bi2)[2:]} -> {bi1 & bi2} == int(\"1100000\",2) : {int(\"1100000\",2)}')\n",
    "print('\\n','='*20,'XOR','='*20)\n",
    "print(f'bi1 ^ bi2 : {bi1 ^ bi2}')\n",
    "print(f'    {bin(bi1)[2:]}\\n    000{bin(bi2)[2:]}\\nXOR\\n------------------\\n    {bin(bi1 ^ bi2)[2:]} -> {bi1 ^ bi2} == int(\"1110001100\",2) : {int(\"1110001100\",2)}')"
   ]
  },
  {
   "attachments": {},
   "cell_type": "markdown",
   "metadata": {},
   "source": [
    "**비트연산자(&,|) vs 논리연산자(and,or) 차이점**\n",
    "\n",
    "|  | numeric | string | list | tuple | set | dictionary |\n",
    "| --- | --- | --- | --- | --- | --- | --- |\n",
    "| False | 0 | ‘’ | [ ] | tuple( ) | set( ) | { } |\n",
    "| True | 0 아닌 모든 수 | 길이 0 초과<br />모든 str | 길이 0 초과<br />모든 list | 길이 0 초과<br />모든 tuple | 길이 0 초과<br />모든 set | 길이 0 초과<br />모든 dictionary |\n",
    "\n",
    "\n",
    "ref : https://catdevel.wordpress.com/2022/12/24/논리연산자-비트연산자/\n",
    "\n",
    "ref : https://docs.python.org/ko/3/reference/expressions.html#is"
   ]
  },
  {
   "cell_type": "code",
   "execution_count": 6,
   "metadata": {},
   "outputs": [
    {
     "name": "stdout",
     "output_type": "stream",
     "text": [
      "5\n",
      "5\n",
      "(-2,)\n",
      "(-2,)\n",
      "set()\n",
      "set()\n",
      "12\n",
      "12\n"
     ]
    }
   ],
   "source": [
    "### A or B == A if A else B (A가 빈 껍데기 일때는 대신 B)\n",
    "\n",
    "A, B = [], 5\n",
    "print( A or B ) #--------- 5\n",
    "print( A if A else B ) #-- 5\n",
    "\n",
    "A, B = (-2,), {3:2}\n",
    "print( A or B ) #--------- (-2,)\n",
    "print( A if A else B ) #-- (-2,): 단원소 튜플은 소괄호와 구분하기 위해 콤마 사용.\n",
    "\n",
    "### A and B == A if not A else B (A가 내용물이 있을때는 대신 B)\n",
    "\n",
    "A, B = set(), -2\n",
    "print( A and B ) #------------ set()\n",
    "print( A if not A else B ) #-- set()\n",
    "\n",
    "A, B = (2,1), \"12\"\n",
    "print( A and B ) #------------ \"12\"\n",
    "print( A if not A else B ) #-- \"12\"\n"
   ]
  },
  {
   "attachments": {},
   "cell_type": "markdown",
   "metadata": {},
   "source": [
    "### Python Math"
   ]
  },
  {
   "cell_type": "code",
   "execution_count": null,
   "metadata": {},
   "outputs": [],
   "source": [
    "# 내림 올림 구현 math 필요 없이\n",
    "f = 3.14\n",
    "print(f'(f//1) : {(f//1)}')\n",
    "# print(f'(f//-1) : {(f//-1)}') # 의미 없다는 거죠? 아 그냥 비교하려고.\n",
    "print(f'-(f//-1) : {(-(f//-1))}')\n",
    "\n",
    "f2 = .25\n",
    "print(f'(f2//1) : {(f2//1)}')\n",
    "print(f'(f2//-1) : {(f2//-1)}') # 의미 없음.\n",
    "print(f'(f2//-1) : {(-(f2//-1))}')\n"
   ]
  },
  {
   "attachments": {},
   "cell_type": "markdown",
   "metadata": {},
   "source": [
    "### 배열의 곱들\n",
    "\n",
    "idea ref : https://shoark7.github.io/programming/algorithm/3ways-to-get-multiplication-in-a-list-in-python"
   ]
  },
  {
   "cell_type": "code",
   "execution_count": 1,
   "metadata": {},
   "outputs": [
    {
     "data": {
      "text/plain": [
       "120"
      ]
     },
     "execution_count": 1,
     "metadata": {},
     "output_type": "execute_result"
    }
   ],
   "source": [
    "# 배열의 곱 1\n",
    "from functools import reduce\n",
    "def factorial_multi(nums:list) -> int:\n",
    "    return reduce(lambda x, y: x * y, nums)\n",
    "\n",
    "nums = range(1,5+1)\n",
    "factorial_multi(nums)"
   ]
  },
  {
   "cell_type": "code",
   "execution_count": 2,
   "metadata": {},
   "outputs": [
    {
     "data": {
      "text/plain": [
       "120"
      ]
     },
     "execution_count": 2,
     "metadata": {},
     "output_type": "execute_result"
    }
   ],
   "source": [
    "# 배열의 곱 2\n",
    "from math import prod\n",
    "\n",
    "nums = range(1,5+1)\n",
    "prod(nums)"
   ]
  },
  {
   "attachments": {},
   "cell_type": "markdown",
   "metadata": {},
   "source": [
    "### Mathematics 수학 관련"
   ]
  },
  {
   "attachments": {},
   "cell_type": "markdown",
   "metadata": {},
   "source": [
    "#### 약수, 소수, 합성수 등"
   ]
  },
  {
   "attachments": {},
   "cell_type": "markdown",
   "metadata": {},
   "source": [
    "### 약수의 갯수 짝/홀로서 제곱수 여부 확인\n",
    "\n",
    "자연수의 약수의 갯수는 짝수이다. <br>\n",
    "예) `5 -> [1,5]`\n",
    "\n",
    "그러나 제곱수라면 약수의 갯수는 홀수이다. <br>\n",
    "예) `9 -> [1,3,9]`\n",
    "\n",
    "동시에 자기 자신과 1만 약수로 나온다면 소수이다!"
   ]
  },
  {
   "cell_type": "code",
   "execution_count": 11,
   "metadata": {},
   "outputs": [
    {
     "name": "stdout",
     "output_type": "stream",
     "text": [
      "len : 31\n"
     ]
    },
    {
     "data": {
      "text/plain": [
       "[[1, 2],\n",
       " [1, 3],\n",
       " [1, 2, 4],\n",
       " [1, 5],\n",
       " [1, 2, 3, 6],\n",
       " [1, 7],\n",
       " [1, 2, 4, 8],\n",
       " [1, 3, 9],\n",
       " [1, 2, 5, 10],\n",
       " [1, 11],\n",
       " [1, 2, 3, 4, 6, 12],\n",
       " [1, 13],\n",
       " [1, 2, 7, 14],\n",
       " [1, 3, 5, 15],\n",
       " [1, 2, 4, 8, 16],\n",
       " [1, 17],\n",
       " [1, 2, 3, 6, 9, 18],\n",
       " [1, 19],\n",
       " [1, 2, 4, 5, 10, 20],\n",
       " [1, 3, 7, 21],\n",
       " [1, 2, 11, 22],\n",
       " [1, 23],\n",
       " [1, 2, 3, 4, 6, 8, 12, 24],\n",
       " [1, 5, 25],\n",
       " [1, 2, 13, 26],\n",
       " [1, 3, 9, 27],\n",
       " [1, 2, 4, 7, 14, 28],\n",
       " [1, 29],\n",
       " [1, 2, 3, 5, 6, 10, 15, 30],\n",
       " [1, 31],\n",
       " [1, 2, 4, 8, 16, 32]]"
      ]
     },
     "execution_count": 11,
     "metadata": {},
     "output_type": "execute_result"
    }
   ],
   "source": [
    "# 약수 list&갯수 구하기\n",
    "# 1 제외\n",
    "def check_aliquot(n):\n",
    "    temp = [[n for n in range(1,i+1) if i%n == 0] for i in range(1,n+1) if i > 1]\n",
    "    return temp\n",
    "\n",
    "n = 32\n",
    "print(f'len : {len(check_aliquot(n))}')\n",
    "check_aliquot(n)"
   ]
  },
  {
   "cell_type": "code",
   "execution_count": 14,
   "metadata": {},
   "outputs": [
    {
     "data": {
      "text/plain": [
       "[2, 3, 5, 7, 11, 13, 17, 19, 23, 29, 31]"
      ]
     },
     "execution_count": 14,
     "metadata": {},
     "output_type": "execute_result"
    }
   ],
   "source": [
    "# 에라토스테네스의 체\n",
    "def prime_list(x):\n",
    "    tmp = [True for i in range(x+1)]\n",
    "    for i in range(2, int(x**0.5)+1):\n",
    "        if tmp[i] == True:\n",
    "            j = 2\n",
    "            while i*j <= x:\n",
    "                tmp[i*j] = False\n",
    "                j += 1\n",
    "    return [i for i in range(2, x+1) if tmp[i]]\n",
    "\n",
    "n=32\n",
    "prime_list(n)"
   ]
  },
  {
   "cell_type": "code",
   "execution_count": null,
   "metadata": {},
   "outputs": [],
   "source": [
    "# 에라토스테네스의 체 ver.2\n",
    "def prime_list(x):\n",
    "    tmp = [True for i in range(x+1)] # 0,1 처리\n",
    "    for i in range(2, int(x**0.5)+1):\n",
    "        if tmp[i] == True:\n",
    "            tmp[2*i::i] = [False]*len(tmp[2*i::i])\n",
    "    return [i for i in range(2, x+1) if tmp[i]]\n",
    "\n",
    "n=10**7\n",
    "len(prime_list(n))\n",
    "\n",
    "n=32\n",
    "prime_list(n)\n"
   ]
  },
  {
   "cell_type": "code",
   "execution_count": null,
   "metadata": {},
   "outputs": [],
   "source": [
    "# # 에라토스테네스의 체 ver.2 를 이용한 합성수 갯수 구하기.\n",
    "def solution(n):\n",
    "    # DB = [-1,-1]+[1]*(n-1) # 0, 1 자체는 소수도 합성수도 아니므로 index도 그렇게 처리.\n",
    "    # [-1,-1]+[1]*(n-1) 이런 식으로 list끼리 + 연산을 하면 for문이 각각 2번 도는 셈이므로.\n",
    "    # 쓰지 말 것.\n",
    "    # 나머지는 1로서 True\n",
    "    DB = [1]*(n+1)\n",
    "    DB[:1] = [-1,-1]\n",
    "    print(f'DB : {DB}')\n",
    "    for i in range(2,int(n**.5)+1):\n",
    "        if DB[i]==1:\n",
    "            DB[2*i::i] = [0]*len(DB[2*i::i]) ### 리스트 수정: 슬라이싱 이용\n",
    "            # 0 은 False\n",
    "    return DB.count(0)\n",
    "\n",
    "n=10**5\n",
    "solution(n)"
   ]
  },
  {
   "cell_type": "code",
   "execution_count": 4,
   "metadata": {},
   "outputs": [
    {
     "name": "stdout",
     "output_type": "stream",
     "text": [
      "90407\n"
     ]
    }
   ],
   "source": [
    "# 개별 소수 가져오기의 방식으로 합성수 갯수 판별\n",
    "def prime(x): #---- 소수판별 함수\n",
    "    for d in range(2,int(x**.5)+1):\n",
    "        if x%d==0:\n",
    "            return False\n",
    "    return True\n",
    "\n",
    "solution = lambda n: len([i for i in range(2,n+1) if not prime(i)])\n",
    "\n",
    "### 효율성 테스트: 1백만 ----- 로이 로컬 기준 4.4s (오히려 느리다)\n",
    "print( solution(10**5) )"
   ]
  },
  {
   "cell_type": "markdown",
   "metadata": {},
   "source": []
  },
  {
   "cell_type": "code",
   "execution_count": 10,
   "metadata": {},
   "outputs": [
    {
     "name": "stdout",
     "output_type": "stream",
     "text": [
      "n: 120 / d : 2 / n//d : 60 / answer : []\n",
      "n: 60 / d : 2 / n//d : 30 / answer : [2]\n",
      "n: 30 / d : 2 / n//d : 15 / answer : [2]\n",
      "n: 15 / d : 3 / n//d : 5 / answer : [2]\n",
      "n: 5 / d : 5 / n//d : 1 / answer : [2, 3]\n"
     ]
    },
    {
     "data": {
      "text/plain": [
       "[2, 3, 5]"
      ]
     },
     "execution_count": 10,
     "metadata": {},
     "output_type": "execute_result"
    }
   ],
   "source": [
    "# 소인수분해 리스트\n",
    "def factorization(n):\n",
    "    answer = []\n",
    "    d = 2\n",
    "    while d <= n:\n",
    "        if n % d == 0:\n",
    "            print(f'n: {n} / d : {d} / n//d : {n//d} / answer : {answer}')\n",
    "            n //= d\n",
    "            if d not in answer:\n",
    "                answer.append(d)\n",
    "        else:\n",
    "            d += 1\n",
    "    return answer\n",
    "\n",
    "n = 120\n",
    "factorization(n)"
   ]
  },
  {
   "cell_type": "code",
   "execution_count": 11,
   "metadata": {},
   "outputs": [
    {
     "data": {
      "text/plain": [
       "True"
      ]
     },
     "execution_count": 11,
     "metadata": {},
     "output_type": "execute_result"
    }
   ],
   "source": [
    "# 합성수인지 판별\n",
    "def is_composite(n):\n",
    "    if n < 2:\n",
    "        return False\n",
    "    for i in range(2, int(n ** (1/2)) + 1):\n",
    "        if n % i == 0:\n",
    "            return True\n",
    "    return False\n",
    "\n",
    "n = 120\n",
    "print(is_composite(n))"
   ]
  },
  {
   "cell_type": "code",
   "execution_count": 13,
   "metadata": {},
   "outputs": [
    {
     "data": {
      "text/plain": [
       "[4, 6, 8, 9, 10, 12, 14, 15, 16, 18, 20]"
      ]
     },
     "execution_count": 13,
     "metadata": {},
     "output_type": "execute_result"
    }
   ],
   "source": [
    "# 합성수 목록\n",
    "def get_composite_list(n):\n",
    "    composite_list = []\n",
    "    for i in range(2, n+1):\n",
    "        if is_composite(i):\n",
    "            composite_list.append(i)\n",
    "    return composite_list\n",
    "\n",
    "get_composite_list(20)"
   ]
  },
  {
   "cell_type": "code",
   "execution_count": 23,
   "metadata": {},
   "outputs": [
    {
     "data": {
      "text/plain": [
       "[2,\n",
       " 4,\n",
       " 2,\n",
       " 4,\n",
       " 2,\n",
       " 4,\n",
       " 2,\n",
       " 4,\n",
       " 2,\n",
       " 4,\n",
       " 2,\n",
       " 4,\n",
       " 2,\n",
       " 4,\n",
       " 2,\n",
       " 4,\n",
       " 2,\n",
       " 4,\n",
       " 2,\n",
       " 4,\n",
       " 2,\n",
       " 4,\n",
       " 2,\n",
       " 4,\n",
       " 2,\n",
       " 4,\n",
       " 2,\n",
       " 4,\n",
       " 2,\n",
       " 4,\n",
       " 2,\n",
       " 4,\n",
       " 2,\n",
       " 4,\n",
       " 2,\n",
       " 4,\n",
       " 2,\n",
       " 4,\n",
       " 2,\n",
       " 4,\n",
       " 2,\n",
       " 4,\n",
       " 2,\n",
       " 4,\n",
       " 2,\n",
       " 4,\n",
       " 2,\n",
       " 4,\n",
       " 2,\n",
       " 4,\n",
       " 2,\n",
       " 4,\n",
       " 2,\n",
       " 4,\n",
       " 2,\n",
       " 4,\n",
       " 2,\n",
       " 4]"
      ]
     },
     "execution_count": 23,
     "metadata": {},
     "output_type": "execute_result"
    }
   ],
   "source": [
    "def composite_list(num):\n",
    "    compsoites = []\n",
    "    if num < 2:\n",
    "        return 0\n",
    "    for i in range(2,num+1):\n",
    "        for j in range(2, int(num**(1/2)) + 1):\n",
    "            if n % j == 0:\n",
    "                compsoites.append(j)\n",
    "    return compsoites\n",
    "    \n",
    "num=30\n",
    "composite_list(num)"
   ]
  },
  {
   "cell_type": "code",
   "execution_count": 15,
   "metadata": {},
   "outputs": [],
   "source": [
    "def is_composite(n):\n",
    "    if n < 2:\n",
    "        return False\n",
    "    primes = []\n",
    "    for i in range(2, n):\n",
    "        if all(i % j != 0 for j in primes):\n",
    "            primes.append(i)\n",
    "        if any(n % j == 0 for j in primes):\n",
    "            return True\n",
    "    return False"
   ]
  },
  {
   "cell_type": "code",
   "execution_count": 22,
   "metadata": {},
   "outputs": [
    {
     "name": "stdout",
     "output_type": "stream",
     "text": [
      "CPU times: total: 0 ns\n",
      "Wall time: 0 ns\n"
     ]
    },
    {
     "data": {
      "text/plain": [
       "[4,\n",
       " 6,\n",
       " 8,\n",
       " 9,\n",
       " 10,\n",
       " 12,\n",
       " 14,\n",
       " 15,\n",
       " 16,\n",
       " 18,\n",
       " 20,\n",
       " 21,\n",
       " 22,\n",
       " 24,\n",
       " 25,\n",
       " 26,\n",
       " 27,\n",
       " 28,\n",
       " 30,\n",
       " 32,\n",
       " 33,\n",
       " 34,\n",
       " 35,\n",
       " 36,\n",
       " 38,\n",
       " 39,\n",
       " 40,\n",
       " 42,\n",
       " 44,\n",
       " 45,\n",
       " 46,\n",
       " 48,\n",
       " 49,\n",
       " 50,\n",
       " 51,\n",
       " 52,\n",
       " 54,\n",
       " 55,\n",
       " 56,\n",
       " 57,\n",
       " 58,\n",
       " 60,\n",
       " 62,\n",
       " 63,\n",
       " 64,\n",
       " 65,\n",
       " 66,\n",
       " 68,\n",
       " 69,\n",
       " 70,\n",
       " 72,\n",
       " 74,\n",
       " 75,\n",
       " 76,\n",
       " 77,\n",
       " 78,\n",
       " 80,\n",
       " 81,\n",
       " 82,\n",
       " 84,\n",
       " 85,\n",
       " 86,\n",
       " 87,\n",
       " 88,\n",
       " 90,\n",
       " 91,\n",
       " 92,\n",
       " 93,\n",
       " 94,\n",
       " 95,\n",
       " 96,\n",
       " 98,\n",
       " 99,\n",
       " 100,\n",
       " 102,\n",
       " 104,\n",
       " 105,\n",
       " 106,\n",
       " 108,\n",
       " 110,\n",
       " 111,\n",
       " 112,\n",
       " 114,\n",
       " 115,\n",
       " 116,\n",
       " 117,\n",
       " 118,\n",
       " 119,\n",
       " 120,\n",
       " 121,\n",
       " 122,\n",
       " 123,\n",
       " 124,\n",
       " 125,\n",
       " 126,\n",
       " 128,\n",
       " 129,\n",
       " 130,\n",
       " 132,\n",
       " 133,\n",
       " 134,\n",
       " 135,\n",
       " 136,\n",
       " 138,\n",
       " 140,\n",
       " 141,\n",
       " 142,\n",
       " 143,\n",
       " 144,\n",
       " 145,\n",
       " 146,\n",
       " 147,\n",
       " 148,\n",
       " 150,\n",
       " 152,\n",
       " 153,\n",
       " 154,\n",
       " 155,\n",
       " 156,\n",
       " 158,\n",
       " 159,\n",
       " 160,\n",
       " 161,\n",
       " 162,\n",
       " 164,\n",
       " 165,\n",
       " 166,\n",
       " 168,\n",
       " 169,\n",
       " 170,\n",
       " 171,\n",
       " 172,\n",
       " 174,\n",
       " 175,\n",
       " 176,\n",
       " 177,\n",
       " 178,\n",
       " 180,\n",
       " 182,\n",
       " 183,\n",
       " 184,\n",
       " 185,\n",
       " 186,\n",
       " 187,\n",
       " 188,\n",
       " 189,\n",
       " 190,\n",
       " 192,\n",
       " 194,\n",
       " 195,\n",
       " 196,\n",
       " 198,\n",
       " 200,\n",
       " 201,\n",
       " 202,\n",
       " 203,\n",
       " 204,\n",
       " 205,\n",
       " 206,\n",
       " 207,\n",
       " 208,\n",
       " 209,\n",
       " 210,\n",
       " 212,\n",
       " 213,\n",
       " 214,\n",
       " 215,\n",
       " 216,\n",
       " 217,\n",
       " 218,\n",
       " 219,\n",
       " 220,\n",
       " 221,\n",
       " 222,\n",
       " 224,\n",
       " 225,\n",
       " 226,\n",
       " 228,\n",
       " 230,\n",
       " 231,\n",
       " 232,\n",
       " 234,\n",
       " 235,\n",
       " 236,\n",
       " 237,\n",
       " 238,\n",
       " 240,\n",
       " 242,\n",
       " 243,\n",
       " 244,\n",
       " 245,\n",
       " 246,\n",
       " 247,\n",
       " 248,\n",
       " 249,\n",
       " 250,\n",
       " 252,\n",
       " 253,\n",
       " 254,\n",
       " 255,\n",
       " 256,\n",
       " 258,\n",
       " 259,\n",
       " 260,\n",
       " 261,\n",
       " 262,\n",
       " 264,\n",
       " 265,\n",
       " 266,\n",
       " 267,\n",
       " 268,\n",
       " 270,\n",
       " 272,\n",
       " 273,\n",
       " 274,\n",
       " 275,\n",
       " 276,\n",
       " 278,\n",
       " 279,\n",
       " 280,\n",
       " 282,\n",
       " 284,\n",
       " 285,\n",
       " 286,\n",
       " 287,\n",
       " 288,\n",
       " 289,\n",
       " 290,\n",
       " 291,\n",
       " 292,\n",
       " 294,\n",
       " 295,\n",
       " 296,\n",
       " 297,\n",
       " 298,\n",
       " 299,\n",
       " 300,\n",
       " 301,\n",
       " 302,\n",
       " 303,\n",
       " 304]"
      ]
     },
     "execution_count": 22,
     "metadata": {},
     "output_type": "execute_result"
    }
   ],
   "source": [
    "%time\n",
    "def get_composite_list(n):\n",
    "    return [i for i in range(2, n+1) if is_composite(i)]\n",
    "\n",
    "n=304\n",
    "get_composite_list(n)"
   ]
  },
  {
   "attachments": {},
   "cell_type": "markdown",
   "metadata": {},
   "source": [
    "# \n",
    "---"
   ]
  },
  {
   "attachments": {},
   "cell_type": "markdown",
   "metadata": {},
   "source": [
    "### Unpacking * Asterisk\n",
    "<p>ref : https://velog.io/@insutance/%ED%8C%8C%EC%9D%B4%EC%8D%AC-%EB%B3%84%ED%91%9C-Asterisk-%EC%9D%98-%EC%97%AD%ED%95%A0</p>\n",
    "\n"
   ]
  },
  {
   "cell_type": "code",
   "execution_count": 7,
   "metadata": {},
   "outputs": [
    {
     "name": "stdout",
     "output_type": "stream",
     "text": [
      "1 2 3 4 5\n",
      "2 4 6 8 10\n",
      "1 2 3 4\n",
      "[1, 2, 3, 4, 5, 6]\n"
     ]
    }
   ],
   "source": [
    "'''\n",
    "Unpacking에 사용\n",
    "'''\n",
    "list_data = [1,2,3,4,5]\n",
    "# print(f'list_data : {list_data} / *list_data : {*list_data}')\n",
    "# SyntaxError: f-string: cannot use starred expression here\n",
    "print(*list_data)\n",
    "\n",
    "tuple_data = (2,4,6,8,10)\n",
    "print(*tuple_data)\n",
    "\n",
    "dict_data = {1: \"name\", 2: \"age\", 3: \"height\", 4: \"weight\"}\n",
    "print(*dict_data)\n",
    "\n",
    "packing_data = [1, 2, 3, 4, 5, 6]\n",
    "*a, = packing_data  # unpacking의 좌변은 리스트 또는 튜플의 형태를 가져야하므로 단일 unpacking의 경우 *a가 아닌 *a,를 사용\n",
    "print(a)"
   ]
  },
  {
   "cell_type": "code",
   "execution_count": 8,
   "metadata": {},
   "outputs": [
    {
     "name": "stdout",
     "output_type": "stream",
     "text": [
      "res1 : 15 / res2 : 40\n"
     ]
    }
   ],
   "source": [
    "'''\n",
    "인자Argument로서,\n",
    "파이썬에서 함수의 인자를 가변인자로 주기 위해서는 인자 앞에 *연산자만 적어주면 된다.\n",
    "'''\n",
    "def sum(*args):\n",
    "    result = 0\n",
    "    for i in args:\n",
    "        result += i\n",
    "    return result\n",
    "\n",
    "res1 = sum(1,2,3,4,5)\n",
    "tmp1 = [6,7,8,9,10]\n",
    "res2 = sum(*tmp1)\n",
    "print(f'res1 : {res1} / res2 : {res2}')"
   ]
  },
  {
   "attachments": {},
   "cell_type": "markdown",
   "metadata": {},
   "source": [
    "### List Comprehension & Slicing"
   ]
  },
  {
   "cell_type": "code",
   "execution_count": null,
   "metadata": {},
   "outputs": [],
   "source": [
    "def solution(n):\n",
    "    answer = set()\n",
    "    division = [i for i in range(2,n) if n % i == 0]\n",
    "\n",
    "    return answer\n",
    "\n",
    "n = 10\n",
    "solution(n)"
   ]
  },
  {
   "cell_type": "code",
   "execution_count": null,
   "metadata": {},
   "outputs": [],
   "source": [
    "def solution(numbers):\n",
    "    return { n*2 for n in numbers}\n",
    "\n",
    "numbers = range(2,20) # iteration 이라서<\n",
    "solution(numbers)\n",
    "print(type(solution(numbers)))"
   ]
  },
  {
   "cell_type": "code",
   "execution_count": null,
   "metadata": {},
   "outputs": [],
   "source": [
    "def solution(numbers):\n",
    "    return {numbers.index(n) : n*2 for n in numbers}\n",
    "\n",
    "numbers = range(2,20) # iteration 이라서<\n",
    "solution(numbers)"
   ]
  },
  {
   "cell_type": "code",
   "execution_count": null,
   "metadata": {},
   "outputs": [],
   "source": [
    "def solution(numbers):\n",
    "    return (n*2 for n in numbers)\n",
    "\n",
    "numbers = range(2,20) # iteration 이라서<\n",
    "print(solution(numbers))\n",
    "print(type(solution(numbers))) # ? why generator?\n",
    "print(tuple(solution(numbers)), type(tuple(solution(numbers))))\n",
    "# <class 'generator'>"
   ]
  },
  {
   "cell_type": "code",
   "execution_count": null,
   "metadata": {},
   "outputs": [],
   "source": [
    "tmp = list(range(1,11))\n",
    "# 5 이후부터 짝수 단위로?\n",
    "print(tmp)\n",
    "tmp[5::2]=[0]*len(tmp[5::2]) # for loop 보다 slicing이 더 많이 빠름.\n",
    "# for loop보다 slicing 등이 훨씬 빠름.\n",
    "print(tmp)"
   ]
  },
  {
   "cell_type": "code",
   "execution_count": 39,
   "metadata": {},
   "outputs": [],
   "source": [
    "# JS Version\n",
    "# from IPython.display import Javascript\n",
    "# %%js\n",
    "from IPython.display import Javascript"
   ]
  },
  {
   "attachments": {},
   "cell_type": "markdown",
   "metadata": {},
   "source": [
    "# \n",
    "---"
   ]
  },
  {
   "attachments": {},
   "cell_type": "markdown",
   "metadata": {},
   "source": [
    "### Tuple 심화 - Packing & Unpacking\n",
    "- ref : https://wikidocs.net/92538\n",
    "- ref : https://wikidocs.net/22801\n",
    "\n",
    "1. 튜플 패킹 Tuple packing\n",
    "\n",
    "2. 튜플 언패킹 Tuple unpacking\n"
   ]
  },
  {
   "cell_type": "code",
   "execution_count": 40,
   "metadata": {},
   "outputs": [
    {
     "name": "stdout",
     "output_type": "stream",
     "text": [
      "(1, 2) <class 'tuple'>\n",
      "(4, 5, 6) <class 'tuple'>\n",
      "7 8 9 10 11 12 13 [9, 10, 11, 12, 13] <class 'list'>\n",
      "(165, 63, 1.0, 0.7, 30, 28, 34, 245) <class 'tuple'>\n",
      "e1 : 1, e2 : 1\n",
      "f1 : 4, f2 : [5, 6] <- <class 'list'>\n",
      "height : 165 / weight : 63 / lefteyes & righteye : (1.0, 0.7, <class 'float'>) / *body : [30, 28, 34] / footsize : 245\n"
     ]
    }
   ],
   "source": [
    "# 1. Tuple packing\n",
    "# 튜플로 값을 묶는 것\n",
    "e = 1, 2\n",
    "f = (4, 5, 6)\n",
    "g1, g2, *g = (7, 8, 9, 10, 11, 12, 13)\n",
    "info = (165, 63, 1.0, 0.7, 30, 28, 34, 245)\n",
    "\n",
    "print(e, type(e))\n",
    "print(f, type(f))\n",
    "print(g1, g2, *g, g, type(g)) # type(*g) -> unpacking -> argument 가 많다고 에러남.\n",
    "print(info, type(info))\n",
    "\n",
    "# 2. Tuple unpacking\n",
    "# 튜플로 묶인 값을 푸는 것 -> How? 튜플의 왼쪽에 각 튜플의 원소를 바인딩할 변수를 적어서 각 변수가 튜플의 원소를 바인딩하기.\n",
    "e1, e2 = e\n",
    "print(f'e1 : {e1}, e2 : {e1}')\n",
    "f1, *f2 = f\n",
    "print(f'f1 : {f1}, f2 : {f2} <- {type(f2)}') # [5,6] <- list type\n",
    "height, weight, lefteyes, righteye, *body, footsize = info\n",
    "print(f'height : {height} / weight : {weight} /\\\n",
    " lefteyes & righteye : {lefteyes, righteye, type(lefteyes)} /\\\n",
    " *body : {body} / footsize : {footsize}')\n"
   ]
  },
  {
   "cell_type": "code",
   "execution_count": 41,
   "metadata": {},
   "outputs": [
    {
     "name": "stdout",
     "output_type": "stream",
     "text": [
      "nums : ((1, 2, 3, 4, 5), <class 'tuple'>)\n",
      "1 2 3 4 5\n",
      "180\n",
      "75\n",
      "97\n",
      "(98, 99, 100, 101, 102, 103)\n",
      "98 99 100 101 102 103\n"
     ]
    }
   ],
   "source": [
    "# 예시\n",
    "def packing(*nums):\n",
    "    print(f'nums : {nums, type(nums)}') # (1,2,3,4,5) -> 튜플 패킹\n",
    "    print(*nums)\n",
    "    # print(f'*nums : {*nums}') # SyntaxError: f-string: can't use starred expression here\n",
    "\n",
    "packing(1, 2, 3, 4, 5)\n",
    "\n",
    "def show(height, weight):\n",
    "    print(height)\n",
    "    print(weight)\n",
    "\n",
    "male = 180, 75\n",
    "show(*male) # male에 담긴 값을 언패킹하여 각각 매개변수에 전달한다.\n",
    "\n",
    "\n",
    "def show(first, *others):\n",
    "    # first, *others, last -> others 에 packing을 전부 하므로 last\n",
    "    # TypeError: show() missing 1 required keyword-only argument: 'last'\n",
    "    print(first)\n",
    "    print(others)\n",
    "    print(*others)\n",
    "\n",
    "testing = ord('a'), ord('b'), ord('c'), ord('d'), ord('e'), ord('f'), ord('g')\n",
    "show(*testing) # male에 담긴 값을 언패킹하여 각각 매개변수에 전달한다."
   ]
  },
  {
   "cell_type": "code",
   "execution_count": 42,
   "metadata": {},
   "outputs": [
    {
     "name": "stdout",
     "output_type": "stream",
     "text": [
      "overlap : ((20, 21, 22), 23, 24, 25, (26, 27), ((28, 29, 30), (31, 32), 33))\n",
      "-------------------- unpacking overlapped tuples --------------------\n",
      "(20, 21, 22)\n",
      "23 24 25\n",
      "(26, 27)\n",
      "((28, 29, 30), (31, 32), 33)\n"
     ]
    }
   ],
   "source": [
    "# 중첩 tuple packing & unpacking\n",
    "overlap = ((20, 21, 22), 23, 24, 25, (26, 27), ((28, 29, 30), (31, 32), 33))\n",
    "print(f'overlap : {overlap}')\n",
    "lap1, lap2, lap3, lap4, lap5, lap6 = overlap\n",
    "print('-'*20,'unpacking overlapped tuples','-'*20)\n",
    "print(lap1)\n",
    "print(lap2, lap3, lap4)\n",
    "print(lap5)\n",
    "print(lap6)"
   ]
  },
  {
   "cell_type": "code",
   "execution_count": 43,
   "metadata": {},
   "outputs": [
    {
     "name": "stdout",
     "output_type": "stream",
     "text": [
      "f 31 174 (1.1, 1.2)\n",
      "David m 34\n",
      "Kim f 29\n",
      "Ebby f 20\n",
      "Luck m 41\n"
     ]
    }
   ],
   "source": [
    "# 사용하지 않는 값 의 unpacking의 경우\n",
    "# 관례적으로 사용하지 않는 값들에 대해서는 _ 변수에 담는다.\n",
    "test1 = ('Emily', 'f', 'married', 31, 174, 68, (1.1, 1.2), 250)\n",
    "# name, gender, married/unmarried, age, height, weight, (eye sight-left, right), foot size\n",
    "_, gender, _, age, height, _, eyesight, _ = test1\n",
    "print(gender, age, height, eyesight)\n",
    "\n",
    "# for loop 사용 시\n",
    "info_list = [('David', 'm', 181, 34), ('Kim', 'f', 169, 29), ('Ebby', 'f', 157, 20), ('Luck', 'm', 196, 41)]\n",
    "for name, gender, _, age in info_list:\n",
    "    print(name, gender, age)"
   ]
  },
  {
   "cell_type": "code",
   "execution_count": 44,
   "metadata": {},
   "outputs": [
    {
     "name": "stdout",
     "output_type": "stream",
     "text": [
      "아버지 : 홍길동\n",
      "어머니 : 심사임당\n",
      "호적 메이트..\n",
      "누나 : 김태희\n",
      "여동생 : 윤아\n",
      "남동생 : 강동원\n"
     ]
    }
   ],
   "source": [
    "# unpacking 확인 1\n",
    "def print_family_name(father, mother, **sibling):\n",
    "      print('아버지 :', father)\n",
    "      print('어머니 :', mother)\n",
    "      if sibling:\n",
    "           print('호적 메이트..')\n",
    "           for title, name in sibling.items():\n",
    "                 print('{} : {}'.format(title, name))\n",
    "\n",
    "print_family_name('홍길동', '심사임당', 누나='김태희', 여동생='윤아', 남동생='강동원')"
   ]
  },
  {
   "cell_type": "code",
   "execution_count": 45,
   "metadata": {},
   "outputs": [
    {
     "name": "stdout",
     "output_type": "stream",
     "text": [
      "할머니 : 박승태\n",
      "아버지 : 성동일\n",
      "어머니 : 이일화\n",
      "호적 메이트..2\n",
      "오빠 : 안재홍\n",
      "여동생 : 혜리\n",
      "언니 : 류혜영\n",
      "남동생 : 박보검\n"
     ]
    }
   ],
   "source": [
    "# unpacking 확인 2\n",
    "def print_family_name_II(*parents, **sibling):\n",
    "      print('할머니 :', parents[0])\n",
    "      print('아버지 :', parents[1])\n",
    "      print('어머니 :', parents[2])\n",
    "      if sibling:\n",
    "           print('호적 메이트..2')\n",
    "           for title, name in sibling.items():\n",
    "                 print('{} : {}'.format(title, name))\n",
    "\n",
    "print_family_name_II('박승태','성동일', '이일화', 오빠='안재홍', 여동생='혜리', 언니='류혜영', 남동생='박보검')"
   ]
  },
  {
   "cell_type": "code",
   "execution_count": 46,
   "metadata": {},
   "outputs": [
    {
     "name": "stdout",
     "output_type": "stream",
     "text": [
      "1st : 1 / 2nd : 2 / 3rd : 3\n",
      "sum : 6\n",
      "1st : A / 2nd : B / 3rd : C\n",
      "ABC\n",
      "1st : 4 / 2nd : 5 / 3rd : 6\n",
      "15\n",
      "1st : 가 / 2nd : 나 / 3rd : 다\n",
      "가나다\n",
      "1st : 치킨 / 2nd : 피자 / 3rd : 음료수\n",
      "치킨피자음료수\n"
     ]
    }
   ],
   "source": [
    "# 함수에서 unpacking을 할때는, 매개변수에서 *을 붙이는게 아니라 인자 앞에 *을 붙여서 사용.\n",
    "# 동일하게 위치인자를 unpacking 하는 경우는 *를, 키워드인자를 unpacking하는 경우 **를 사용\n",
    "def sum(a, b, c):\n",
    "    print(f'1st : {a} / 2nd : {b} / 3rd : {c}')\n",
    "    return a + b + c\n",
    "\n",
    "numbers = [1, 2, 3]\n",
    "# sum(numbers) # error\n",
    "\n",
    "print(f'sum : {sum(*numbers)}') # 출력 : 6\n",
    "\n",
    "# 위치인 자를 unpacking할때는 위에 예에서는 list타입이였지만, Container객체라면 다 가능\n",
    "print(sum(*'ABC')) # 'ABC'\n",
    "print(sum(*(4, 5, 6))) # 15\n",
    "print(sum(*{'가', '나', '다'})) # '나다가'\n",
    "# set 타입과 dict타입은 순서정보를 가지고 있지 않기 때문에 결과가 다를 수 있다.\n",
    "print(sum(*{'치킨': 3, '피자': 15, '음료수': 10})) # '치킨피자음료수'"
   ]
  },
  {
   "cell_type": "code",
   "execution_count": 47,
   "metadata": {},
   "outputs": [
    {
     "name": "stdout",
     "output_type": "stream",
     "text": [
      "44032\n",
      "45208\n",
      "45796\n"
     ]
    }
   ],
   "source": [
    "# 가, 나, 다 순 확인\n",
    "print(ord('가'))\n",
    "print(ord('나'))\n",
    "print(ord('다'))"
   ]
  },
  {
   "cell_type": "code",
   "execution_count": 48,
   "metadata": {},
   "outputs": [
    {
     "data": {
      "text/plain": [
       "408"
      ]
     },
     "execution_count": 48,
     "metadata": {},
     "output_type": "execute_result"
    }
   ],
   "source": [
    "# unpacking하기 위해선 인자가 key와 인자로 구성되어 있는 mapping타입, 즉 dict가 필요\n",
    "def cal(first, op, second):\n",
    "    if op == '+':\n",
    "        return first + second\n",
    "    if op == '/':\n",
    "        return first / second\n",
    "    if op == '-':\n",
    "        return first - second\n",
    "    if op == '*':\n",
    "        return first * second\n",
    "\n",
    "prob = {\n",
    "  'first': 12,\n",
    "  'second': 34,\n",
    "  'op': '*'\n",
    "}\n",
    "\n",
    "cal(**prob) # 결과 : 408"
   ]
  },
  {
   "cell_type": "code",
   "execution_count": 49,
   "metadata": {},
   "outputs": [],
   "source": [
    "prob2 = [20,45,'+']\n",
    "# cal(**prob2) # TypeError: __main__.cal() argument after ** must be a mapping, not list"
   ]
  },
  {
   "cell_type": "code",
   "execution_count": 50,
   "metadata": {},
   "outputs": [
    {
     "data": {
      "text/plain": [
       "\"\\n1. cal(**prob) -> argument 인 prob를 calling\\n2. cal(prob = {\\n  'first': 12,\\n  'second': 34,\\n  'op': '*'\\n}) -> dict 형식으로 key & value 불러옴.\\n3. cal(first=12, second=34, op='*') -> cal 함수로 인자(argument) 전달.\\n\""
      ]
     },
     "execution_count": 50,
     "metadata": {},
     "output_type": "execute_result"
    }
   ],
   "source": [
    "# 작동방식.\n",
    "'''\n",
    "1. cal(**prob) -> argument 인 prob를 calling\n",
    "2. cal(prob = {\n",
    "  'first': 12,\n",
    "  'second': 34,\n",
    "  'op': '*'\n",
    "}) -> dict 형식으로 key & value 불러옴.\n",
    "3. cal(first=12, second=34, op='*') -> cal 함수로 인자(argument) 전달.\n",
    "'''\n",
    "# + 만약 비어있는 인자를 unpacking를 하면 무시한다고 함.\n",
    "# # 이러한 특성이 있기 때문에 함수의 packing과 unpacking을 이용하여, 다음과 같이 어떠한 함수에도 반응하는 함수를 작성할 수 있음.\n"
   ]
  },
  {
   "cell_type": "code",
   "execution_count": 51,
   "metadata": {},
   "outputs": [
    {
     "name": "stdout",
     "output_type": "stream",
     "text": [
      "함수를 시작합니다.\n",
      "안녕하세요~~ 파이썬 꿀잼!\n",
      "함수를 시작합니다.\n",
      "3\n"
     ]
    }
   ],
   "source": [
    "def start(func, *args, **kwargs):\n",
    "    print(\"함수를 시작합니다.\")\n",
    "    return func(*args, **kwargs)\n",
    "\n",
    "\n",
    "start(print, '안녕하세요', '파이썬 꿀잼!', sep='~~ ')\n",
    "\n",
    "def sum_a_b(a, b):\n",
    "     return a + b\n",
    "\n",
    "result = start(sum_a_b, 1, 2) # 함수를 시작합니다.\n",
    "print(result)"
   ]
  },
  {
   "cell_type": "code",
   "execution_count": null,
   "metadata": {},
   "outputs": [],
   "source": []
  },
  {
   "attachments": {},
   "cell_type": "markdown",
   "metadata": {},
   "source": [
    "### 파이썬 기초 통계 - from scipy import stats\n",
    "- ref : https://wikidocs.net/book/4607\n",
    "- ref : https://wikidocs.net/book/7982\n",
    "- ref : https://datascienceschool.net/01%20python/03.04%20%EA%B8%B0%EC%88%A0%20%ED%86%B5%EA%B3%84.html\n"
   ]
  },
  {
   "attachments": {},
   "cell_type": "markdown",
   "metadata": {},
   "source": [
    "##### 최빈치\n",
    "최빈치(最頻値, mode)란 말 그대로 제일 빈번한 수치다. 관찰된 수치들 중에서 가장 많이 나타난 수치다. 어떨때는 최빈치가 평균보다 더 대표성이 좋을 수 있다. 빈번에 대해서는 빈도(頻度, frequency)'를 통해 알 수 있고 이 빈도는 '빈도분포(頻度分布, frequency distribution)'를 통해 알 수 있다. 다만 빈도분포에서도 '상대빈도(相對頻度, relative frequency)'를 통해서 전체에서 해당 빈도가 차지하는 비중을 알 수 있기 때문에 이를 유의해야 한다.\n",
    "\n",
    "\\+ ref : https://wikidocs.net/83926"
   ]
  },
  {
   "cell_type": "code",
   "execution_count": 52,
   "metadata": {},
   "outputs": [
    {
     "name": "stdout",
     "output_type": "stream",
     "text": [
      "Starting - brr : [0, 0, 0, 0]\n",
      "item : 2 / brr[item]: 0 / brr : [0, 0, 0, 0]\n",
      "item : 0 / brr[item]: 0 / brr : [0, 0, 1, 0]\n",
      "item : 1 / brr[item]: 0 / brr : [1, 0, 1, 0]\n",
      "item : 3 / brr[item]: 0 / brr : [1, 1, 1, 0]\n",
      "item : 2 / brr[item]: 1 / brr : [1, 1, 1, 1]\n",
      "item : 0 / brr[item]: 1 / brr : [1, 1, 2, 1]\n",
      "item : 2 / brr[item]: 2 / brr : [2, 1, 2, 1]\n",
      "item : 3 / brr[item]: 1 / brr : [2, 1, 3, 1]\n",
      "item : 0 / brr[item]: 2 / brr : [2, 1, 3, 2]\n",
      "item : 1 / brr[item]: 1 / brr : [3, 1, 3, 2]\n",
      "item : 1 / brr[item]: 2 / brr : [3, 2, 3, 2]\n",
      "item : 2 / brr[item]: 3 / brr : [3, 3, 3, 2]\n",
      "item : 2 / brr[item]: 4 / brr : [3, 3, 4, 2]\n",
      "item : 0 / brr[item]: 3 / brr : [3, 3, 5, 2]\n",
      "item : 3 / brr[item]: 2 / brr : [4, 3, 5, 2]\n",
      "[4, 3, 5, 3]\n"
     ]
    }
   ],
   "source": [
    "arr = [2, 0, 1, 3, 2, 0, 2, 3, 0, 1, 1, 2, 2, 0, 3]\n",
    "brr = [0]*4 # 리스트에 0이 담긴 공간을 네 개 만들어주기!\n",
    "\n",
    "print(f'Starting - brr : {brr}')\n",
    "for item in arr:\n",
    "    print(f'item : {item} / brr[item]: {brr[item]} / brr : {brr}')\n",
    "    brr[item] += 1 # arr의 항목 값을 brr 항목 번호로 하는 공간에 1을 더해주기!\n",
    "\n",
    "print(brr)"
   ]
  },
  {
   "cell_type": "code",
   "execution_count": null,
   "metadata": {},
   "outputs": [],
   "source": []
  }
 ],
 "metadata": {
  "kernelspec": {
   "display_name": "Python 3",
   "language": "python",
   "name": "python3"
  },
  "language_info": {
   "codemirror_mode": {
    "name": "ipython",
    "version": 3
   },
   "file_extension": ".py",
   "mimetype": "text/x-python",
   "name": "python",
   "nbconvert_exporter": "python",
   "pygments_lexer": "ipython3",
   "version": "3.11.1"
  },
  "orig_nbformat": 4,
  "vscode": {
   "interpreter": {
    "hash": "ebfc0a8d552866b0d59eba665220a57de3bc06f3ac643b8bef38dd8f66781fdd"
   }
  }
 },
 "nbformat": 4,
 "nbformat_minor": 2
}
