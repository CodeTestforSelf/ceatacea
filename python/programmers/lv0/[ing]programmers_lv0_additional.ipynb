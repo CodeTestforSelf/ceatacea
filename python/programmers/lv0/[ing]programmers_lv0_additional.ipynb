{
 "cells": [
  {
   "attachments": {},
   "cell_type": "markdown",
   "metadata": {},
   "source": [
    "# 프로그래머스 문제 풀이 - Lv.0 - ing 2023~05-08 ~"
   ]
  },
  {
   "attachments": {},
   "cell_type": "markdown",
   "metadata": {},
   "source": [
    "### Lv.0 & Python\n",
    "site : https://school.programmers.co.kr/learn/challenges?order=recent&page=1&languages=python3&statuses=unsolved&levels=0"
   ]
  },
  {
   "attachments": {},
   "cell_type": "markdown",
   "metadata": {},
   "source": [
    "- 다 풀고 추가되거나 업데이트 된 내용 더 풀어보기~~"
   ]
  },
  {
   "attachments": {},
   "cell_type": "markdown",
   "metadata": {},
   "source": [
    "### 프로그래머스 코딩테스트 입문 - Lv.0"
   ]
  },
  {
   "attachments": {},
   "cell_type": "markdown",
   "metadata": {},
   "source": [
    "#### 수열과 구간 쿼리 1 [fin:2023-05-08]\n",
    "link : https://school.programmers.co.kr/learn/courses/30/lessons/181883\n",
    "\n",
    "**문제 설명**\n",
    "\n",
    "정수 배열 `arr`와 2차원 정수 배열 `queries`이 주어집니다. `queries`의 원소는 각각 하나의 `query`를 나타내며, `[s, e]` 꼴입니다.\n",
    "\n",
    "각 `query`마다 순서대로 `s` ≤ `i` ≤ `e`인 모든 `i`에 대해 `arr[i]`에 1을 더합니다.\n",
    "\n",
    "위 규칙에 따라 `queries`를 처리한 이후의 `arr`를 return 하는 solution 함수를 완성해 주세요.\n",
    "\n",
    "**제한사항**\n",
    "\n",
    "- 1 ≤ `arr`의 길이 ≤ 1,000\n",
    "    - 0 ≤ `arr`의 원소 ≤ 1,000,000\n",
    "- 1 ≤ `queries`의 길이 ≤ 1,000\n",
    "    - 0 ≤ `s` ≤ `e` < `arr`의 길이\n",
    "\n",
    "**입출력 예**\n",
    "\n",
    "| arr | queries | result |\n",
    "| --- | --- | --- |\n",
    "| [0, 1, 2, 3, 4] | [[0, 1],[1, 2],[2, 3]] | [1, 3, 4, 4, 4] |"
   ]
  },
  {
   "cell_type": "code",
   "execution_count": 9,
   "metadata": {},
   "outputs": [
    {
     "name": "stdout",
     "output_type": "stream",
     "text": [
      "[0, 1]\n",
      "[1, 2, 2, 3, 4]\n",
      "[2, 2]\n",
      "[1, 3, 3, 3, 4]\n",
      "[3, 3]\n",
      "[1, 3, 4, 4, 4]\n"
     ]
    },
    {
     "data": {
      "text/plain": [
       "[]"
      ]
     },
     "execution_count": 9,
     "metadata": {},
     "output_type": "execute_result"
    }
   ],
   "source": [
    "def solution(arr, queries):\n",
    "    answer = []\n",
    "    for query in queries:\n",
    "        start = query[0]\n",
    "        end = query[1]\n",
    "        print(arr[start:end+1])\n",
    "        for idx in range(start, end+1):\n",
    "            arr[idx] += 1\n",
    "        print(arr)\n",
    "    return answer\n",
    "\n",
    "\n",
    "arr, queries, result = [0, 1, 2, 3, 4], [[0, 1],[1, 2],[2, 3]], [1, 3, 4, 4, 4]\n",
    "solution(arr, queries)"
   ]
  },
  {
   "cell_type": "code",
   "execution_count": 18,
   "metadata": {},
   "outputs": [
    {
     "data": {
      "text/plain": [
       "[1, 3, 2, 5, 0, 4]"
      ]
     },
     "execution_count": 18,
     "metadata": {},
     "output_type": "execute_result"
    }
   ],
   "source": [
    "sum([[1, 3],[2, 5],[0, 4]],[])"
   ]
  },
  {
   "cell_type": "code",
   "execution_count": 22,
   "metadata": {},
   "outputs": [
    {
     "name": "stdout",
     "output_type": "stream",
     "text": [
      "[2, 3, 4, 9, 1, -1]\n",
      "[0, 0, 0, 0, 0, 0, 0]\n",
      "[1, 2, 3, 3, 2, 1, 0]\n"
     ]
    },
    {
     "data": {
      "text/plain": [
       "[3, 5, 7, 12, 3, 0]"
      ]
     },
     "execution_count": 22,
     "metadata": {},
     "output_type": "execute_result"
    }
   ],
   "source": [
    "def solution(arr, queries):\n",
    "    dp = [0] * (len(arr)+1)\n",
    "    # print(len(arr), len(dp))\n",
    "    print(arr)\n",
    "    print(dp)\n",
    "    for start, end in queries:\n",
    "        dp[start] += 1\n",
    "        dp[end+1] -= 1\n",
    "\n",
    "    for idx, val in enumerate(dp[1:], start=1):\n",
    "        dp[idx] += dp[idx-1]\n",
    "    print(dp)\n",
    "\n",
    "    return [a+b for a, b in zip(dp, arr)] # zip이 짧은 거 기준\n",
    "\n",
    "\n",
    "# arr, queries, result = [0, 1, 2, 3, 4], [[0, 1],[1, 2],[2, 3]], [1, 3, 4, 4, 4]\n",
    "arr, queries, result = [2, 3, 4, 9, 1, -1], [[1, 3],[2, 5],[0, 4]], [3, 5, 7, 12, 3, 0]\n",
    "solution(arr, queries)"
   ]
  },
  {
   "cell_type": "code",
   "execution_count": null,
   "metadata": {},
   "outputs": [],
   "source": [
    "# 제출\n",
    "def solution(arr, queries):\n",
    "    for query in queries:\n",
    "        start = query[0]\n",
    "        end = query[1]\n",
    "        for idx in range(start, end+1):\n",
    "            arr[idx] += 1\n",
    "    return arr"
   ]
  },
  {
   "cell_type": "code",
   "execution_count": null,
   "metadata": {},
   "outputs": [],
   "source": [
    "# 제출\n",
    "def solution(arr, queries):\n",
    "    for start, end in queries:\n",
    "        for idx in range(start, end+1):\n",
    "            arr[idx] += 1\n",
    "    return arr"
   ]
  },
  {
   "cell_type": "code",
   "execution_count": null,
   "metadata": {},
   "outputs": [],
   "source": [
    "# 제출 - 누적합\n",
    "def solution(arr, queries):\n",
    "    dp = [0] * (len(arr)+1)\n",
    "    for start, end in queries:\n",
    "        dp[start] += 1\n",
    "        dp[end+1] -= 1\n",
    "\n",
    "    for idx, val in enumerate(dp[1:], start=1):\n",
    "        dp[idx] += dp[idx-1]\n",
    "\n",
    "    return [a+b for a, b in zip(dp, arr)]"
   ]
  },
  {
   "cell_type": "code",
   "execution_count": null,
   "metadata": {},
   "outputs": [],
   "source": [
    "# 해설\n",
    "'''\n",
    "'''"
   ]
  },
  {
   "attachments": {},
   "cell_type": "markdown",
   "metadata": {},
   "source": [
    "#### template [fin:2023-04-20]\n",
    "link : \n",
    "\n",
    "**문제 설명**\n",
    "\n",
    "문자열로 구성된 리스트 strings와, 정수 n이 주어졌을 때, 각 문자열의 인덱스 n번째 글자를 기준으로 오름차순 정렬하려 합니다. 예를 들어 strings가 [\"sun\", \"bed\", \"car\"]이고 n이 1이면 각 단어의 인덱스 1의 문자 \"u\", \"e\", \"a\"로 strings를 정렬합니다.\n",
    "\n",
    "**제한 조건**\n",
    "\n",
    "- strings는 길이 1 이상, 50이하인 배열입니다.\n",
    "- strings의 원소는 소문자 알파벳으로 이루어져 있습니다.\n",
    "- strings의 원소는 길이 1 이상, 100이하인 문자열입니다.\n",
    "- 모든 strings의 원소의 길이는 n보다 큽니다.\n",
    "- 인덱스 1의 문자가 같은 문자열이 여럿 일 경우, 사전순으로 앞선 문자열이 앞쪽에 위치합니다.\n",
    "\n",
    "**입출력 예**\n",
    "\n",
    "| strings | n | return |\n",
    "| --- | --- | --- |\n",
    "| [\"sun\", \"bed\", \"car\"] | 1 | [\"car\", \"bed\", \"sun\"] |\n",
    "| [\"abce\", \"abcd\", \"cdx\"] | 2 | [\"abcd\", \"abce\", \"cdx\"] |"
   ]
  },
  {
   "cell_type": "code",
   "execution_count": null,
   "metadata": {},
   "outputs": [],
   "source": [
    "# 제출"
   ]
  },
  {
   "cell_type": "code",
   "execution_count": null,
   "metadata": {},
   "outputs": [],
   "source": [
    "# 해설\n",
    "'''\n",
    "'''"
   ]
  },
  {
   "attachments": {},
   "cell_type": "markdown",
   "metadata": {},
   "source": [
    "#### template [fin:2023-04-20]\n",
    "link : \n",
    "\n",
    "**문제 설명**\n",
    "\n",
    "문자열로 구성된 리스트 strings와, 정수 n이 주어졌을 때, 각 문자열의 인덱스 n번째 글자를 기준으로 오름차순 정렬하려 합니다. 예를 들어 strings가 [\"sun\", \"bed\", \"car\"]이고 n이 1이면 각 단어의 인덱스 1의 문자 \"u\", \"e\", \"a\"로 strings를 정렬합니다.\n",
    "\n",
    "**제한 조건**\n",
    "\n",
    "- strings는 길이 1 이상, 50이하인 배열입니다.\n",
    "- strings의 원소는 소문자 알파벳으로 이루어져 있습니다.\n",
    "- strings의 원소는 길이 1 이상, 100이하인 문자열입니다.\n",
    "- 모든 strings의 원소의 길이는 n보다 큽니다.\n",
    "- 인덱스 1의 문자가 같은 문자열이 여럿 일 경우, 사전순으로 앞선 문자열이 앞쪽에 위치합니다.\n",
    "\n",
    "**입출력 예**\n",
    "\n",
    "| strings | n | return |\n",
    "| --- | --- | --- |\n",
    "| [\"sun\", \"bed\", \"car\"] | 1 | [\"car\", \"bed\", \"sun\"] |\n",
    "| [\"abce\", \"abcd\", \"cdx\"] | 2 | [\"abcd\", \"abce\", \"cdx\"] |"
   ]
  },
  {
   "cell_type": "code",
   "execution_count": null,
   "metadata": {},
   "outputs": [],
   "source": [
    "# 제출"
   ]
  },
  {
   "cell_type": "code",
   "execution_count": null,
   "metadata": {},
   "outputs": [],
   "source": [
    "# 해설\n",
    "'''\n",
    "'''"
   ]
  },
  {
   "attachments": {},
   "cell_type": "markdown",
   "metadata": {},
   "source": [
    "#### template [fin:2023-04-20]\n",
    "link : \n",
    "\n",
    "**문제 설명**\n",
    "\n",
    "문자열로 구성된 리스트 strings와, 정수 n이 주어졌을 때, 각 문자열의 인덱스 n번째 글자를 기준으로 오름차순 정렬하려 합니다. 예를 들어 strings가 [\"sun\", \"bed\", \"car\"]이고 n이 1이면 각 단어의 인덱스 1의 문자 \"u\", \"e\", \"a\"로 strings를 정렬합니다.\n",
    "\n",
    "**제한 조건**\n",
    "\n",
    "- strings는 길이 1 이상, 50이하인 배열입니다.\n",
    "- strings의 원소는 소문자 알파벳으로 이루어져 있습니다.\n",
    "- strings의 원소는 길이 1 이상, 100이하인 문자열입니다.\n",
    "- 모든 strings의 원소의 길이는 n보다 큽니다.\n",
    "- 인덱스 1의 문자가 같은 문자열이 여럿 일 경우, 사전순으로 앞선 문자열이 앞쪽에 위치합니다.\n",
    "\n",
    "**입출력 예**\n",
    "\n",
    "| strings | n | return |\n",
    "| --- | --- | --- |\n",
    "| [\"sun\", \"bed\", \"car\"] | 1 | [\"car\", \"bed\", \"sun\"] |\n",
    "| [\"abce\", \"abcd\", \"cdx\"] | 2 | [\"abcd\", \"abce\", \"cdx\"] |"
   ]
  },
  {
   "cell_type": "code",
   "execution_count": null,
   "metadata": {},
   "outputs": [],
   "source": [
    "# 제출"
   ]
  },
  {
   "cell_type": "code",
   "execution_count": null,
   "metadata": {},
   "outputs": [],
   "source": [
    "# 해설\n",
    "'''\n",
    "'''"
   ]
  },
  {
   "attachments": {},
   "cell_type": "markdown",
   "metadata": {},
   "source": [
    "#### template [fin:2023-04-20]\n",
    "link : \n",
    "\n",
    "**문제 설명**\n",
    "\n",
    "문자열로 구성된 리스트 strings와, 정수 n이 주어졌을 때, 각 문자열의 인덱스 n번째 글자를 기준으로 오름차순 정렬하려 합니다. 예를 들어 strings가 [\"sun\", \"bed\", \"car\"]이고 n이 1이면 각 단어의 인덱스 1의 문자 \"u\", \"e\", \"a\"로 strings를 정렬합니다.\n",
    "\n",
    "**제한 조건**\n",
    "\n",
    "- strings는 길이 1 이상, 50이하인 배열입니다.\n",
    "- strings의 원소는 소문자 알파벳으로 이루어져 있습니다.\n",
    "- strings의 원소는 길이 1 이상, 100이하인 문자열입니다.\n",
    "- 모든 strings의 원소의 길이는 n보다 큽니다.\n",
    "- 인덱스 1의 문자가 같은 문자열이 여럿 일 경우, 사전순으로 앞선 문자열이 앞쪽에 위치합니다.\n",
    "\n",
    "**입출력 예**\n",
    "\n",
    "| strings | n | return |\n",
    "| --- | --- | --- |\n",
    "| [\"sun\", \"bed\", \"car\"] | 1 | [\"car\", \"bed\", \"sun\"] |\n",
    "| [\"abce\", \"abcd\", \"cdx\"] | 2 | [\"abcd\", \"abce\", \"cdx\"] |"
   ]
  },
  {
   "cell_type": "code",
   "execution_count": null,
   "metadata": {},
   "outputs": [],
   "source": [
    "# 제출"
   ]
  },
  {
   "cell_type": "code",
   "execution_count": null,
   "metadata": {},
   "outputs": [],
   "source": [
    "# 해설\n",
    "'''\n",
    "'''"
   ]
  },
  {
   "attachments": {},
   "cell_type": "markdown",
   "metadata": {},
   "source": [
    "#### template [fin:2023-04-20]\n",
    "link : \n",
    "\n",
    "**문제 설명**\n",
    "\n",
    "문자열로 구성된 리스트 strings와, 정수 n이 주어졌을 때, 각 문자열의 인덱스 n번째 글자를 기준으로 오름차순 정렬하려 합니다. 예를 들어 strings가 [\"sun\", \"bed\", \"car\"]이고 n이 1이면 각 단어의 인덱스 1의 문자 \"u\", \"e\", \"a\"로 strings를 정렬합니다.\n",
    "\n",
    "**제한 조건**\n",
    "\n",
    "- strings는 길이 1 이상, 50이하인 배열입니다.\n",
    "- strings의 원소는 소문자 알파벳으로 이루어져 있습니다.\n",
    "- strings의 원소는 길이 1 이상, 100이하인 문자열입니다.\n",
    "- 모든 strings의 원소의 길이는 n보다 큽니다.\n",
    "- 인덱스 1의 문자가 같은 문자열이 여럿 일 경우, 사전순으로 앞선 문자열이 앞쪽에 위치합니다.\n",
    "\n",
    "**입출력 예**\n",
    "\n",
    "| strings | n | return |\n",
    "| --- | --- | --- |\n",
    "| [\"sun\", \"bed\", \"car\"] | 1 | [\"car\", \"bed\", \"sun\"] |\n",
    "| [\"abce\", \"abcd\", \"cdx\"] | 2 | [\"abcd\", \"abce\", \"cdx\"] |"
   ]
  },
  {
   "cell_type": "code",
   "execution_count": null,
   "metadata": {},
   "outputs": [],
   "source": [
    "# 제출"
   ]
  },
  {
   "cell_type": "code",
   "execution_count": null,
   "metadata": {},
   "outputs": [],
   "source": [
    "# 해설\n",
    "'''\n",
    "'''"
   ]
  },
  {
   "attachments": {},
   "cell_type": "markdown",
   "metadata": {},
   "source": [
    "#### template [fin:2023-04-20]\n",
    "link : \n",
    "\n",
    "**문제 설명**\n",
    "\n",
    "문자열로 구성된 리스트 strings와, 정수 n이 주어졌을 때, 각 문자열의 인덱스 n번째 글자를 기준으로 오름차순 정렬하려 합니다. 예를 들어 strings가 [\"sun\", \"bed\", \"car\"]이고 n이 1이면 각 단어의 인덱스 1의 문자 \"u\", \"e\", \"a\"로 strings를 정렬합니다.\n",
    "\n",
    "**제한 조건**\n",
    "\n",
    "- strings는 길이 1 이상, 50이하인 배열입니다.\n",
    "- strings의 원소는 소문자 알파벳으로 이루어져 있습니다.\n",
    "- strings의 원소는 길이 1 이상, 100이하인 문자열입니다.\n",
    "- 모든 strings의 원소의 길이는 n보다 큽니다.\n",
    "- 인덱스 1의 문자가 같은 문자열이 여럿 일 경우, 사전순으로 앞선 문자열이 앞쪽에 위치합니다.\n",
    "\n",
    "**입출력 예**\n",
    "\n",
    "| strings | n | return |\n",
    "| --- | --- | --- |\n",
    "| [\"sun\", \"bed\", \"car\"] | 1 | [\"car\", \"bed\", \"sun\"] |\n",
    "| [\"abce\", \"abcd\", \"cdx\"] | 2 | [\"abcd\", \"abce\", \"cdx\"] |"
   ]
  },
  {
   "cell_type": "code",
   "execution_count": null,
   "metadata": {},
   "outputs": [],
   "source": [
    "# 제출"
   ]
  },
  {
   "cell_type": "code",
   "execution_count": null,
   "metadata": {},
   "outputs": [],
   "source": [
    "# 해설\n",
    "'''\n",
    "'''"
   ]
  }
 ],
 "metadata": {
  "kernelspec": {
   "display_name": "Python 3",
   "language": "python",
   "name": "python3"
  },
  "language_info": {
   "codemirror_mode": {
    "name": "ipython",
    "version": 3
   },
   "file_extension": ".py",
   "mimetype": "text/x-python",
   "name": "python",
   "nbconvert_exporter": "python",
   "pygments_lexer": "ipython3",
   "version": "3.10.0"
  },
  "orig_nbformat": 4
 },
 "nbformat": 4,
 "nbformat_minor": 2
}
