{
 "cells": [
  {
   "attachments": {},
   "cell_type": "markdown",
   "metadata": {},
   "source": [
    "# 프로그래머스 문제 풀이 - Lv.1"
   ]
  },
  {
   "attachments": {},
   "cell_type": "markdown",
   "metadata": {},
   "source": [
    "## Rules\n",
    "1. 하루 최소 1문제 이상.\n",
    "2. 이해한 내용으로써 풀기.\n",
    "3. 꾸준하게 계속하는 것이 목표. 쉬운 것부터 자동적으로 나올 때까지."
   ]
  },
  {
   "attachments": {},
   "cell_type": "markdown",
   "metadata": {},
   "source": [
    "### Lv.1 & Python\n",
    "site : https://school.programmers.co.kr/learn/challenges?order=acceptance_desc&page=1&languages=python3&levels=1"
   ]
  },
  {
   "attachments": {},
   "cell_type": "markdown",
   "metadata": {},
   "source": [
    "### 프로그래머스 코딩테스트 입문 - Lv.1"
   ]
  },
  {
   "attachments": {},
   "cell_type": "markdown",
   "metadata": {},
   "source": [
    "#### 평균 구하기 [ing:2023-01-10]\n",
    "link : https://school.programmers.co.kr/learn/courses/30/lessons/12944\n",
    "\n",
    "**문제 설명**\n",
    "\n",
    "정수를 담고 있는 배열 arr의 평균값을 return하는 함수, solution을 완성해보세요.\n",
    "\n",
    "**제한사항**\n",
    "\n",
    "- arr은 길이 1 이상, 100 이하인 배열입니다.\n",
    "- arr의 원소는 -10,000 이상 10,000 이하인 정수입니다.\n",
    "\n",
    "**입출력 예**\n",
    "\n",
    "| arr | return |\n",
    "| --- | --- |\n",
    "| [1,2,3,4] | 2.5 |\n",
    "| [5,5] | 5 |"
   ]
  },
  {
   "cell_type": "code",
   "execution_count": 1,
   "metadata": {},
   "outputs": [],
   "source": [
    "# 제출\n",
    "def solution(arr):\n",
    "    return sum(arr)/len(arr)\n"
   ]
  },
  {
   "cell_type": "code",
   "execution_count": null,
   "metadata": {},
   "outputs": [],
   "source": [
    "# 해설\n",
    "'''\n",
    "문제 그대로.\n",
    "'''"
   ]
  },
  {
   "attachments": {},
   "cell_type": "markdown",
   "metadata": {},
   "source": [
    "#### 짝수와 홀수 [fin:2023-01-12]\n",
    "link : https://school.programmers.co.kr/learn/courses/30/lessons/12937\n",
    "\n",
    "**문제 설명**\n",
    "\n",
    "정수 num이 짝수일 경우 \"Even\"을 반환하고 홀수인 경우 \"Odd\"를 반환하는 함수, solution을 완성해주세요.\n",
    "\n",
    "**제한 조건**\n",
    "\n",
    "- num은 int 범위의 정수입니다.\n",
    "- 0은 짝수입니다.\n",
    "\n",
    "**입출력 예**\n",
    "\n",
    "| num | return |\n",
    "| --- | --- |\n",
    "| 3 | \"Odd\" |\n",
    "| 4 | \"Even\" |"
   ]
  },
  {
   "cell_type": "code",
   "execution_count": null,
   "metadata": {},
   "outputs": [],
   "source": [
    "# 제출\n",
    "def solution(num):\n",
    "    return \"Even\" if num % 2 == 0 else \"Odd\""
   ]
  },
  {
   "cell_type": "code",
   "execution_count": null,
   "metadata": {},
   "outputs": [],
   "source": [
    "# 해설\n",
    "'''\n",
    "문제 그대로로\n",
    "'''"
   ]
  },
  {
   "attachments": {},
   "cell_type": "markdown",
   "metadata": {},
   "source": [
    "#### 자릿수 더하기 [fin:2023-01-12]\n",
    "link : https://school.programmers.co.kr/learn/courses/30/lessons/12931\n",
    "\n",
    "**문제 설명**\n",
    "\n",
    "자연수 N이 주어지면, N의 각 자릿수의 합을 구해서 return 하는 solution 함수를 만들어 주세요.예를들어 N = 123이면 1 + 2 + 3 = 6을 return 하면 됩니다.\n",
    "\n",
    "**제한사항**\n",
    "\n",
    "- N의 범위 : 100,000,000 이하의 자연수\n",
    "\n",
    "**입출력 예**\n",
    "\n",
    "| N | answer |\n",
    "| --- | --- |\n",
    "| 123 | 6 |\n",
    "| 987 | 24 |"
   ]
  },
  {
   "cell_type": "code",
   "execution_count": 2,
   "metadata": {},
   "outputs": [
    {
     "data": {
      "text/plain": [
       "6"
      ]
     },
     "execution_count": 2,
     "metadata": {},
     "output_type": "execute_result"
    }
   ],
   "source": [
    "# 제출\n",
    "def solution(n):\n",
    "    return sum(int(i) for i in str(n))"
   ]
  },
  {
   "cell_type": "code",
   "execution_count": null,
   "metadata": {},
   "outputs": [],
   "source": [
    "# 해설\n",
    "'''\n",
    "문제 그대로\n",
    "'''"
   ]
  },
  {
   "attachments": {},
   "cell_type": "markdown",
   "metadata": {},
   "source": [
    "#### 약수의 합 [fin:2023-01-12]\n",
    "link : https://school.programmers.co.kr/learn/courses/30/lessons/12928\n",
    "\n",
    "**문제 설명**\n",
    "\n",
    "정수 n을 입력받아 n의 약수를 모두 더한 값을 리턴하는 함수, solution을 완성해주세요.\n",
    "\n",
    "**제한 사항**\n",
    "\n",
    "- `n`은 0 이상 3000이하인 정수입니다.\n",
    "\n",
    "**입출력 예**\n",
    "\n",
    "| n | return |\n",
    "| --- | --- |\n",
    "| 12 | 28 |\n",
    "| 5 | 6 |"
   ]
  },
  {
   "cell_type": "code",
   "execution_count": null,
   "metadata": {},
   "outputs": [],
   "source": [
    "# 제출\n",
    "def solution(n):\n",
    "    return sum(i for i in range(1,n+1) if n%i==0)"
   ]
  },
  {
   "cell_type": "code",
   "execution_count": null,
   "metadata": {},
   "outputs": [],
   "source": [
    "# 해설\n",
    "'''\n",
    "문제 그대로 for loop쓰는 대신에 list comprehension을 sum으로 몰아서 쓰고 조건문 걸음.\n",
    "'''"
   ]
  },
  {
   "attachments": {},
   "cell_type": "markdown",
   "metadata": {},
   "source": [
    "#### 자연수 뒤집어 배열로 만들기 [fin:2023-01-12]\n",
    "link : https://school.programmers.co.kr/learn/courses/30/lessons/12932\n",
    "\n",
    "**문제 설명**\n",
    "\n",
    "자연수 n을 뒤집어 각 자리 숫자를 원소로 가지는 배열 형태로 리턴해주세요. 예를들어 n이 12345이면 [5,4,3,2,1]을 리턴합니다.\n",
    "\n",
    "**제한 조건**\n",
    "\n",
    "- n은 10,000,000,000이하인 자연수입니다.\n",
    "\n",
    "**입출력 예**\n",
    "\n",
    "| n | return |\n",
    "| --- | --- |\n",
    "| 12345 | [5,4,3,2,1] |"
   ]
  },
  {
   "cell_type": "code",
   "execution_count": null,
   "metadata": {},
   "outputs": [],
   "source": [
    "# 제출\n",
    "def solution(n):\n",
    "    return [int(i) for i in str(n)][::-1]"
   ]
  },
  {
   "cell_type": "code",
   "execution_count": null,
   "metadata": {},
   "outputs": [],
   "source": [
    "# 다른 사람 풀이\n",
    "def solution(n):\n",
    "    return list(map(int, reversed(str(n))))"
   ]
  },
  {
   "cell_type": "code",
   "execution_count": null,
   "metadata": {},
   "outputs": [],
   "source": [
    "# 해설\n",
    "'''\n",
    "list comprehension과 slicing 역으로 처리\n",
    "'''"
   ]
  },
  {
   "attachments": {},
   "cell_type": "markdown",
   "metadata": {},
   "source": [
    "#### 정수 제곱근 판별 [fin:2023-01-13]\n",
    "link : https://school.programmers.co.kr/learn/courses/30/lessons/12934\n",
    "\n",
    "**문제 설명**\n",
    "\n",
    "임의의 양의 정수 n에 대해, n이 어떤 양의 정수 x의 제곱인지 아닌지 판단하려 합니다.n이 양의 정수 x의 제곱이라면 x+1의 제곱을 리턴하고, n이 양의 정수 x의 제곱이 아니라면 -1을 리턴하는 함수를 완성하세요.\n",
    "\n",
    "**제한 사항**\n",
    "\n",
    "- n은 1이상, 50000000000000 이하인 양의 정수입니다.\n",
    "\n",
    "**입출력 예**\n",
    "\n",
    "| n | return |\n",
    "| --- | --- |\n",
    "| 121 | 144 |\n",
    "| 3 | -1 |"
   ]
  },
  {
   "cell_type": "code",
   "execution_count": null,
   "metadata": {},
   "outputs": [],
   "source": [
    "# 제출\n",
    "def solution(n):\n",
    "    return (int(n**(1/2))+1)**2 if int(n**(1/2))**2 == n else -1"
   ]
  },
  {
   "cell_type": "code",
   "execution_count": null,
   "metadata": {},
   "outputs": [],
   "source": [
    "# 해설\n",
    "'''\n",
    "문제 그대로 제곱근을 해서 제곱한 것과 동일하면 n의 제곱근에 +1을 하고 그 수를 제곱한 걸 반환하고 아니면 -1\n",
    "'''"
   ]
  },
  {
   "attachments": {},
   "cell_type": "markdown",
   "metadata": {},
   "source": [
    "#### 문자열 내 p와 y의 개수 [fin:2023-01-13]\n",
    "link : https://school.programmers.co.kr/learn/courses/30/lessons/12916\n",
    "\n",
    "**문제 설명**\n",
    "\n",
    "대문자와 소문자가 섞여있는 문자열 s가 주어집니다. s에 'p'의 개수와 'y'의 개수를 비교해 같으면 True, 다르면 False를 return 하는 solution를 완성하세요. 'p', 'y' 모두 하나도 없는 경우는 항상 True를 리턴합니다. 단, 개수를 비교할 때 대문자와 소문자는 구별하지 않습니다.\n",
    "\n",
    "예를 들어 s가 \"pPoooyY\"면 true를 return하고 \"Pyy\"라면 false를 return합니다.\n",
    "\n",
    "**제한사항**\n",
    "\n",
    "- 문자열 s의 길이 : 50 이하의 자연수\n",
    "- 문자열 s는 알파벳으로만 이루어져 있습니다.\n",
    "\n",
    "**입출력 예**\n",
    "\n",
    "| s | answer |\n",
    "| --- | --- |\n",
    "| \"pPoooyY\" | true |\n",
    "| \"Pyy\" | false |"
   ]
  },
  {
   "cell_type": "code",
   "execution_count": null,
   "metadata": {},
   "outputs": [],
   "source": [
    "# 제출\n",
    "def solution(s):\n",
    "    s = s.lower()\n",
    "    return True if s.count('p') == s.count('y') else False"
   ]
  },
  {
   "cell_type": "code",
   "execution_count": null,
   "metadata": {},
   "outputs": [],
   "source": [
    "# 해설\n",
    "'''\n",
    "lower() 와 count 이용\n",
    "'''"
   ]
  },
  {
   "attachments": {},
   "cell_type": "markdown",
   "metadata": {},
   "source": [
    "#### x만큼 간격이 있는 n개의 숫자 [fin:2023-01-13]\n",
    "link : https://school.programmers.co.kr/learn/courses/30/lessons/12954\n",
    "\n",
    "**문제 설명**\n",
    "\n",
    "함수 solution은 정수 x와 자연수 n을 입력 받아, x부터 시작해 x씩 증가하는 숫자를 n개 지니는 리스트를 리턴해야 합니다. 다음 제한 조건을 보고, 조건을 만족하는 함수, solution을 완성해주세요.\n",
    "\n",
    "**제한 조건**\n",
    "\n",
    "- x는 -10000000 이상, 10000000 이하인 정수입니다.\n",
    "- n은 1000 이하인 자연수입니다.\n",
    "\n",
    "**입출력 예**\n",
    "\n",
    "| x | n | answer |\n",
    "| --- | --- | --- |\n",
    "| 2 | 5 | [2,4,6,8,10] |\n",
    "| 4 | 3 | [4,8,12] |\n",
    "| -4 | 2 | [-4, -8] |"
   ]
  },
  {
   "cell_type": "code",
   "execution_count": null,
   "metadata": {},
   "outputs": [],
   "source": [
    "# 제출\n",
    "def solution(x, n):\n",
    "    return [x*i for i in range(1,n+1)]"
   ]
  },
  {
   "cell_type": "code",
   "execution_count": null,
   "metadata": {},
   "outputs": [],
   "source": [
    "# 해설\n",
    "'''\n",
    "list comprehension으로 곱해서 list에 넣기\n",
    "'''"
   ]
  },
  {
   "attachments": {},
   "cell_type": "markdown",
   "metadata": {},
   "source": [
    "#### 문자열을 정수로 바꾸기 [fin:2023-01-13]\n",
    "link : https://school.programmers.co.kr/learn/courses/30/lessons/12925\n",
    "\n",
    "**문제 설명**\n",
    "\n",
    "문자열 s를 숫자로 변환한 결과를 반환하는 함수, solution을 완성하세요.\n",
    "\n",
    "**제한 조건**\n",
    "\n",
    "- s의 길이는 1 이상 5이하입니다.\n",
    "- s의 맨앞에는 부호(+, -)가 올 수 있습니다.\n",
    "- s는 부호와 숫자로만 이루어져있습니다.\n",
    "- s는 \"0\"으로 시작하지 않습니다.\n",
    "\n",
    "**입출력 예**\n",
    "\n",
    "예를들어 str이 \"1234\"이면 1234를 반환하고, \"-1234\"이면 -1234를 반환하면 됩니다.str은 부호(+,-)와 숫자로만 구성되어 있고, 잘못된 값이 입력되는 경우는 없습니다."
   ]
  },
  {
   "cell_type": "code",
   "execution_count": null,
   "metadata": {},
   "outputs": [],
   "source": [
    "# 제출\n",
    "def solution(s):\n",
    "    return int(s)"
   ]
  },
  {
   "cell_type": "code",
   "execution_count": null,
   "metadata": {},
   "outputs": [],
   "source": [
    "# 해설\n",
    "'''\n",
    "int 메서드가 알아서 인지함.\n",
    "'''"
   ]
  },
  {
   "attachments": {},
   "cell_type": "markdown",
   "metadata": {},
   "source": [
    "#### 하샤드 수 [fin:2023-01-13]\n",
    "link : https://school.programmers.co.kr/learn/courses/30/lessons/12947\n",
    "\n",
    "**문제 설명**\n",
    "\n",
    "양의 정수 x가 하샤드 수이려면 x의 자릿수의 합으로 x가 나누어져야 합니다. 예를 들어 18의 자릿수 합은 1+8=9이고, 18은 9로 나누어 떨어지므로 18은 하샤드 수입니다. 자연수 x를 입력받아 x가 하샤드 수인지 아닌지 검사하는 함수, solution을 완성해주세요.\n",
    "\n",
    "**제한 조건**\n",
    "\n",
    "- `x`는 1 이상, 10000 이하인 정수입니다.\n",
    "\n",
    "**입출력 예**\n",
    "\n",
    "| arr | return |\n",
    "| --- | --- |\n",
    "| 10 | true |\n",
    "| 12 | true |\n",
    "| 11 | false |\n",
    "| 13 | false |"
   ]
  },
  {
   "cell_type": "code",
   "execution_count": 22,
   "metadata": {},
   "outputs": [
    {
     "data": {
      "text/plain": [
       "True"
      ]
     },
     "execution_count": 22,
     "metadata": {},
     "output_type": "execute_result"
    }
   ],
   "source": [
    "# 제출\n",
    "def solution(x):\n",
    "    return (x % (sum(int(i) for i in str(x)))) == 0"
   ]
  },
  {
   "cell_type": "code",
   "execution_count": null,
   "metadata": {},
   "outputs": [],
   "source": [
    "# 해설\n",
    "'''\n",
    "True / False는 굳이 IF문 쓰지 않아도 되므로 그대로.\n",
    "'''"
   ]
  },
  {
   "attachments": {},
   "cell_type": "markdown",
   "metadata": {},
   "source": [
    "#### 정수 내림차순으로 배치하기 [fin:2023-01-13]\n",
    "link : https://school.programmers.co.kr/learn/courses/30/lessons/12933\n",
    "\n",
    "**문제 설명**\n",
    "\n",
    "정수를 담고 있는 배열 arr의 평균값을 return하는 함수, solution을 완성해보세요.\n",
    "\n",
    "**제한사항**\n",
    "\n",
    "- arr은 길이 1 이상, 100 이하인 배열입니다.\n",
    "- arr의 원소는 -10,000 이상 10,000 이하인 정수입니다.\n",
    "\n",
    "**입출력 예**\n",
    "\n",
    "| arr | return |\n",
    "| --- | --- |\n",
    "| [1,2,3,4] | 2.5 |\n",
    "| [5,5] | 5 |"
   ]
  },
  {
   "cell_type": "code",
   "execution_count": 39,
   "metadata": {},
   "outputs": [],
   "source": [
    "# 제출\n",
    "def solution(n):\n",
    "    return int(''.join(sorted([i for i in str(n)], reverse=True)))"
   ]
  },
  {
   "cell_type": "code",
   "execution_count": null,
   "metadata": {},
   "outputs": [],
   "source": [
    "# 해설\n",
    "'''\n",
    "list comprehension 에서 sorted를 reverse 로 하고 join 한 다음에 int\n",
    "'''"
   ]
  },
  {
   "attachments": {},
   "cell_type": "markdown",
   "metadata": {},
   "source": [
    "#### 나머지가 1이 되는 수 찾기 [fin:2023-01-13]\n",
    "link : https://school.programmers.co.kr/learn/courses/30/lessons/87389\n",
    "\n",
    "**문제 설명**\n",
    "\n",
    "자연수 `n`이 매개변수로 주어집니다. `n`을 `x`로 나눈 나머지가 1이 되도록 하는 가장 작은 자연수 `x`를 return 하도록 solution 함수를 완성해주세요. 답이 항상 존재함은 증명될 수 있습니다.\n",
    "\n",
    "**제한사항**\n",
    "\n",
    "- 3 ≤ `n` ≤ 1,000,000\n",
    "\n",
    "**입출력 예**\n",
    "\n",
    "| n | result |\n",
    "| --- | --- |\n",
    "| 10 | 3 |\n",
    "| 12 | 11 |"
   ]
  },
  {
   "cell_type": "code",
   "execution_count": null,
   "metadata": {},
   "outputs": [],
   "source": [
    "# 제출\n",
    "def solution(n):\n",
    "    return min(i for i in range(2,n+1) if n % i == 1)"
   ]
  },
  {
   "cell_type": "code",
   "execution_count": null,
   "metadata": {},
   "outputs": [],
   "source": [
    "def solution(n):\n",
    "    return list(i for i in range(2,n+1) if n % i == 1)\n",
    "\n",
    "n=120\n",
    "solution(n)"
   ]
  },
  {
   "cell_type": "code",
   "execution_count": null,
   "metadata": {},
   "outputs": [],
   "source": [
    "# 해설\n",
    "'''\n",
    "n이 3이상이지 x는 3이상이라는 조건이 없었는데 그걸 생각 못하고 처음에 range(3,n+1) 했다가 3,4번 에러 났다가 수정하니까 해결\n",
    "'''"
   ]
  },
  {
   "attachments": {},
   "cell_type": "markdown",
   "metadata": {},
   "source": [
    "#### 두 정수 사이의 합\n",
    "link : https://school.programmers.co.kr/learn/courses/30/lessons/12912\n",
    "\n",
    "**문제 설명**\n",
    "\n",
    "두 정수 a, b가 주어졌을 때 a와 b 사이에 속한 모든 정수의 합을 리턴하는 함수, solution을 완성하세요.예를 들어 a = 3, b = 5인 경우, 3 + 4 + 5 = 12이므로 12를 리턴합니다.\n",
    "\n",
    "**제한 조건**\n",
    "\n",
    "- a와 b가 같은 경우는 둘 중 아무 수나 리턴하세요.\n",
    "- a와 b는 -10,000,000 이상 10,000,000 이하인 정수입니다.\n",
    "- a와 b의 대소관계는 정해져있지 않습니다.\n",
    "\n",
    "**입출력 예**\n",
    "\n",
    "| a | b | return |\n",
    "| --- | --- | --- |\n",
    "| 3 | 5 | 12 |\n",
    "| 3 | 3 | 3 |\n",
    "| 5 | 3 | 12 |"
   ]
  },
  {
   "cell_type": "code",
   "execution_count": null,
   "metadata": {},
   "outputs": [],
   "source": [
    "# 제출\n",
    "def solution(a, b):\n",
    "    return sum(range(a if a < b else b, (b if a < b else a)+1))"
   ]
  },
  {
   "cell_type": "code",
   "execution_count": null,
   "metadata": {},
   "outputs": [],
   "source": [
    "# 해설\n",
    "'''\n",
    "min max도 있지만 그러면 시간 복잡도가 느니까 그냥 if else 로 해서 처리한 후 range()로 하고 sum\n",
    "'''"
   ]
  },
  {
   "attachments": {},
   "cell_type": "markdown",
   "metadata": {},
   "source": [
    "#### 콜라츠 추측 [fin:2023-01-13]\n",
    "link : https://school.programmers.co.kr/learn/courses/30/lessons/12943\n",
    "\n",
    "**문제 설명**\n",
    "\n",
    "1937년 Collatz란 사람에 의해 제기된 이 추측은, 주어진 수가 1이 될 때까지 다음 작업을 반복하면, 모든 수를 1로 만들 수 있다는 추측입니다. 작업은 다음과 같습니다.\n",
    "\n",
    "```\n",
    "1-1. 입력된 수가 짝수라면 2로 나눕니다.\n",
    "1-2. 입력된 수가 홀수라면 3을 곱하고 1을 더합니다.\n",
    "2. 결과로 나온 수에 같은 작업을 1이 될 때까지 반복합니다.\n",
    "```\n",
    "\n",
    "예를 들어, 주어진 수가 6이라면 6 → 3 → 10 → 5 → 16 → 8 → 4 → 2 → 1 이 되어 총 8번 만에 1이 됩니다. 위 작업을 몇 번이나 반복해야 하는지 반환하는 함수, solution을 완성해 주세요. 단, 주어진 수가 1인 경우에는 0을, 작업을 500번 반복할 때까지 1이 되지 않는다면 –1을 반환해 주세요.\n",
    "\n",
    "**제한 사항**\n",
    "\n",
    "- 입력된 수, `num`은 1 이상 8,000,000 미만인 정수입니다.\n",
    "\n",
    "**입출력 예**\n",
    "\n",
    "| n | result |\n",
    "| --- | --- |\n",
    "| 6 | 8 |\n",
    "| 16 | 4 |\n",
    "| 626331 | -1 |"
   ]
  },
  {
   "cell_type": "code",
   "execution_count": 38,
   "metadata": {},
   "outputs": [],
   "source": [
    "# 제출\n",
    "def solution(num):\n",
    "    count = 0\n",
    "    while num > 1 and count <= 500:\n",
    "        if num % 2 == 0:\n",
    "            num //= 2\n",
    "            count += 1\n",
    "        else:\n",
    "            num = (num*3)+1\n",
    "            count += 1\n",
    "    return count if count < 500 else -1"
   ]
  },
  {
   "cell_type": "code",
   "execution_count": null,
   "metadata": {},
   "outputs": [],
   "source": [
    "# 해설\n",
    "'''\n",
    "for 보다 while 이 더 가벼운 느낌이기도 하고 count에 대해서 조절도 가능하니까 그렇게 하고 if 문으로 처리.\n",
    "'''"
   ]
  },
  {
   "attachments": {},
   "cell_type": "markdown",
   "metadata": {},
   "source": [
    "#### 서울에서 김서방 찾기 [fin:2023-01-13]\n",
    "link : https://school.programmers.co.kr/learn/courses/30/lessons/12919\n",
    "\n",
    "**문제 설명**\n",
    "\n",
    "String형 배열 seoul의 element중 \"Kim\"의 위치 x를 찾아, \"김서방은 x에 있다\"는 String을 반환하는 함수, solution을 완성하세요. seoul에 \"Kim\"은 오직 한 번만 나타나며 잘못된 값이 입력되는 경우는 없습니다.\n",
    "\n",
    "**제한 사항**\n",
    "\n",
    "- seoul은 길이 1 이상, 1000 이하인 배열입니다.\n",
    "- seoul의 원소는 길이 1 이상, 20 이하인 문자열입니다.\n",
    "- \"Kim\"은 반드시 seoul 안에 포함되어 있습니다.\n",
    "\n",
    "**입출력 예**\n",
    "\n",
    "| seoul | return |\n",
    "| --- | --- |\n",
    "| [\"Jane\", \"Kim\"] | \"김서방은 1에 있다\" |"
   ]
  },
  {
   "cell_type": "code",
   "execution_count": null,
   "metadata": {},
   "outputs": [],
   "source": [
    "# 제출\n",
    "def solution(seoul):\n",
    "    return f\"김서방은 {seoul.index('Kim')}에 있다\""
   ]
  },
  {
   "cell_type": "code",
   "execution_count": null,
   "metadata": {},
   "outputs": [],
   "source": [
    "# 해설\n",
    "'''\n",
    "Kim의 index를 찾아서 처리. 문제에서 오직 한 번만 나타나며 잘못된 값이 입력되는 경우는 없다고 했기 때문.\n",
    "'''"
   ]
  },
  {
   "attachments": {},
   "cell_type": "markdown",
   "metadata": {},
   "source": [
    "#### 나누어 떨어지는 숫자 배열 [fin:2023-01-13]\n",
    "link : https://school.programmers.co.kr/learn/courses/30/lessons/12910\n",
    "\n",
    "**문제 설명**\n",
    "\n",
    "array의 각 element 중 divisor로 나누어 떨어지는 값을 오름차순으로 정렬한 배열을 반환하는 함수, solution을 작성해주세요.divisor로 나누어 떨어지는 element가 하나도 없다면 배열에 -1을 담아 반환하세요.\n",
    "\n",
    "**제한사항**\n",
    "\n",
    "- arr은 자연수를 담은 배열입니다.\n",
    "- 정수 i, j에 대해 i ≠ j 이면 arr[i] ≠ arr[j] 입니다.\n",
    "- divisor는 자연수입니다.\n",
    "- array는 길이 1 이상인 배열입니다.\n",
    "\n",
    "**입출력 예**\n",
    "\n",
    "| arr | divisor | return |\n",
    "| --- | --- | --- |\n",
    "| [5, 9, 7, 10] | 5 | [5, 10] |\n",
    "| [2, 36, 1, 3] | 1 | [1, 2, 3, 36] |\n",
    "| [3,2,6] | 10 | [-1] |"
   ]
  },
  {
   "cell_type": "code",
   "execution_count": null,
   "metadata": {},
   "outputs": [],
   "source": [
    "# 제출\n",
    "def solution(arr, divisor):\n",
    "    answer = sorted(i for i in arr if i % divisor == 0)\n",
    "    return answer if len(answer) > 0 else [-1]"
   ]
  },
  {
   "cell_type": "code",
   "execution_count": null,
   "metadata": {},
   "outputs": [],
   "source": [
    "# 해설\n",
    "'''\n",
    "문제 그대로\n",
    "'''"
   ]
  },
  {
   "attachments": {},
   "cell_type": "markdown",
   "metadata": {},
   "source": [
    "#### 핸드폰 번호 가리기 [fin:2023-01-13]\n",
    "link : https://school.programmers.co.kr/learn/courses/30/lessons/12948\n",
    "\n",
    "**문제 설명**\n",
    "\n",
    "프로그래머스 모바일은 개인정보 보호를 위해 고지서를 보낼 때 고객들의 전화번호의 일부를 가립니다.전화번호가 문자열 phone_number로 주어졌을 때, 전화번호의 뒷 4자리를 제외한 나머지 숫자를 전부 `*`으로 가린 문자열을 리턴하는 함수, solution을 완성해주세요.\n",
    "\n",
    "**제한 조건**\n",
    "\n",
    "- phone_number는 길이 4 이상, 20이하인 문자열입니다.\n",
    "\n",
    "**입출력 예**\n",
    "\n",
    "| phone_number | return |\n",
    "| --- | --- |\n",
    "| \"01033334444\" | \"*******4444\" |\n",
    "| \"027778888\" | \"*****8888\" |"
   ]
  },
  {
   "cell_type": "code",
   "execution_count": null,
   "metadata": {},
   "outputs": [],
   "source": [
    "# 제출\n",
    "def solution(phone_number):\n",
    "    return ''.join(t.replace(t,'*') for t in phone_number[:-4]) + phone_number[-4:]"
   ]
  },
  {
   "cell_type": "code",
   "execution_count": null,
   "metadata": {},
   "outputs": [],
   "source": [
    "# 해설\n",
    "'''\n",
    "slicing으로 4번째 까지 ‘*’ 바꾸고 나서 나머지는 4번 이후를 + 연산으로 처리\n",
    "'''"
   ]
  },
  {
   "attachments": {},
   "cell_type": "markdown",
   "metadata": {},
   "source": [
    "#### 제일 작은 수 제거하기 [fin:2023-01-13]\n",
    "link : https://school.programmers.co.kr/learn/courses/30/lessons/12935\n",
    "\n",
    "**문제 설명**\n",
    "\n",
    "정수를 저장한 배열, arr 에서 가장 작은 수를 제거한 배열을 리턴하는 함수, solution을 완성해주세요. 단, 리턴하려는 배열이 빈 배열인 경우엔 배열에 -1을 채워 리턴하세요. 예를들어 arr이 [4,3,2,1]인 경우는 [4,3,2]를 리턴 하고, [10]면 [-1]을 리턴 합니다.\n",
    "\n",
    "**제한 조건**\n",
    "\n",
    "- arr은 길이 1 이상인 배열입니다.\n",
    "- 인덱스 i, j에 대해 i ≠ j이면 arr[i] ≠ arr[j] 입니다.\n",
    "\n",
    "**입출력 예**\n",
    "\n",
    "| arr | return |\n",
    "| --- | --- |\n",
    "| [4,3,2,1] | [4,3,2] |\n",
    "| [10] | [-1] |"
   ]
  },
  {
   "cell_type": "code",
   "execution_count": null,
   "metadata": {},
   "outputs": [],
   "source": [
    "# 제출\n",
    "def solution(arr):\n",
    "    arr.remove(min(arr))\n",
    "    return arr if len(arr) > 0 else [-1]"
   ]
  },
  {
   "cell_type": "code",
   "execution_count": null,
   "metadata": {},
   "outputs": [],
   "source": [
    "# 해설\n",
    "'''\n",
    "remove 이용.\n",
    "'''"
   ]
  },
  {
   "attachments": {},
   "cell_type": "markdown",
   "metadata": {},
   "source": [
    "#### 음양 더하기 [fin:2023-01-13]\n",
    "link : https://school.programmers.co.kr/learn/courses/30/lessons/76501\n",
    "\n",
    "**문제 설명**\n",
    "\n",
    "어떤 정수들이 있습니다. 이 정수들의 절댓값을 차례대로 담은 정수 배열 absolutes와 이 정수들의 부호를 차례대로 담은 불리언 배열 signs가 매개변수로 주어집니다. 실제 정수들의 합을 구하여 return 하도록 solution 함수를 완성해주세요.\n",
    "\n",
    "**제한사항**\n",
    "\n",
    "- absolutes의 길이는 1 이상 1,000 이하입니다.\n",
    "    - absolutes의 모든 수는 각각 1 이상 1,000 이하입니다.\n",
    "- signs의 길이는 absolutes의 길이와 같습니다.\n",
    "    - `signs[i]` 가 참이면 `absolutes[i]` 의 실제 정수가 양수임을, 그렇지 않으면 음수임을 의미합니다.\n",
    "\n",
    "**입출력 예**\n",
    "\n",
    "| absolutes | signs | result |\n",
    "| --- | --- | --- |\n",
    "| [4,7,12] | [true,false,true] | 9 |\n",
    "| [1,2,3] | [false,false,true] | 0 |"
   ]
  },
  {
   "cell_type": "code",
   "execution_count": 75,
   "metadata": {},
   "outputs": [],
   "source": [
    "# 제출\n",
    "def solution(absolutes, signs):\n",
    "    tmp = []\n",
    "    for s, n in zip(signs, absolutes):\n",
    "        if s == True:\n",
    "            tmp.append(n)\n",
    "        else:\n",
    "            tmp.append(-n)\n",
    "    return sum(tmp)\n"
   ]
  },
  {
   "cell_type": "code",
   "execution_count": null,
   "metadata": {},
   "outputs": [],
   "source": [
    "# 줄여서\n",
    "def solution(absolutes, signs):\n",
    "    return sum(a if s else -a for s, a in zip(signs, absolutes))"
   ]
  },
  {
   "cell_type": "code",
   "execution_count": null,
   "metadata": {},
   "outputs": [],
   "source": [
    "# 해설\n",
    "'''\n",
    "true와 false 가 있고 int에 -는 자동으로 인식하니까 그대로 처리. 그러고 나서 줄일 수 있지 않나 했는데 역시나 다른 분 코드에서도 줄인 걸 발견하여 줄임.\n",
    "\n",
    "```python\n",
    "# 줄여서\n",
    "def solution(absolutes, signs):\n",
    "    return sum(a if s else -a for s, a in zip(signs, absolutes))\n",
    "```\n",
    "\n",
    "'''"
   ]
  },
  {
   "attachments": {},
   "cell_type": "markdown",
   "metadata": {},
   "source": [
    "#### 없는 숫자 더하기 [fin:2023-01-16]\n",
    "link : https://school.programmers.co.kr/learn/courses/30/lessons/86051\n",
    "\n",
    "**문제 설명**\n",
    "\n",
    "0부터 9까지의 숫자 중 일부가 들어있는 정수 배열 `numbers`가 매개변수로 주어집니다. `numbers`에서 찾을 수 없는 0부터 9까지의 숫자를 모두 찾아 더한 수를 return 하도록 solution 함수를 완성해주세요.\n",
    "\n",
    "**제한사항**\n",
    "\n",
    "- 1 ≤ `numbers`의 길이 ≤ 9\n",
    "- 0 ≤ `numbers`의 모든 원소 ≤ 9\n",
    "- `numbers`의 모든 원소는 서로 다릅니다.\n",
    "\n",
    "**입출력 예**\n",
    "\n",
    "| numbers | result |\n",
    "| --- | --- |\n",
    "| [1,2,3,4,6,7,8,0] | 14 |\n",
    "| [5,8,4,0,6,7,9] | 6 |"
   ]
  },
  {
   "cell_type": "code",
   "execution_count": 1,
   "metadata": {},
   "outputs": [
    {
     "data": {
      "text/plain": [
       "31"
      ]
     },
     "execution_count": 1,
     "metadata": {},
     "output_type": "execute_result"
    }
   ],
   "source": [
    "sum([1,2,3,4,5,6,7,8,9,0])"
   ]
  },
  {
   "cell_type": "code",
   "execution_count": null,
   "metadata": {},
   "outputs": [],
   "source": [
    "# 제출\n",
    "def solution(numbers):\n",
    "    return 45 - sum(numbers)"
   ]
  },
  {
   "cell_type": "code",
   "execution_count": null,
   "metadata": {},
   "outputs": [],
   "source": [
    "# 해설\n",
    "'''\n",
    "sum([1,2,3,4,5,6,7,8,9,0]) 은 45고, 그 이외의 수의 합이니까 빼버림.\n",
    "'''"
   ]
  },
  {
   "attachments": {},
   "cell_type": "markdown",
   "metadata": {},
   "source": [
    "#### 가운데 글자 가져오기 [fin:2023-01-16]\n",
    "link : https://school.programmers.co.kr/learn/courses/30/lessons/12903\n",
    "\n",
    "**문제 설명**\n",
    "\n",
    "단어 s의 가운데 글자를 반환하는 함수, solution을 만들어 보세요. 단어의 길이가 짝수라면 가운데 두글자를 반환하면 됩니다.\n",
    "\n",
    "**제한사항**\n",
    "\n",
    "- s는 길이가 1 이상, 100이하인 스트링입니다.\n",
    "\n",
    "**입출력 예**\n",
    "\n",
    "| s | return |\n",
    "| --- | --- |\n",
    "| \"abcde\" | \"c\" |\n",
    "| \"qwer\" | \"we\" |"
   ]
  },
  {
   "cell_type": "code",
   "execution_count": null,
   "metadata": {},
   "outputs": [],
   "source": [
    "# 제출\n",
    "def solution(s):\n",
    "    return s[len(s)//2] if len(s) % 2 != 0 else s[(len(s)//2)-1:(len(s)//2)+1]"
   ]
  },
  {
   "cell_type": "code",
   "execution_count": 11,
   "metadata": {},
   "outputs": [
    {
     "name": "stdout",
     "output_type": "stream",
     "text": [
      "1  :  3\n",
      "we\n",
      "2  :  3\n",
      "c\n"
     ]
    },
    {
     "data": {
      "text/plain": [
       "1"
      ]
     },
     "execution_count": 11,
     "metadata": {},
     "output_type": "execute_result"
    }
   ],
   "source": [
    "s=\"qwer\"\n",
    "print((len(s)-1)//2,' : ',len(s)//2+1)\n",
    "print(s[(len(s)-1)//2:len(s)//2+1])\n",
    "s2=\"abcde\"\n",
    "print((len(s2)-1)//2,' : ',len(s2)//2+1)\n",
    "print(s2[(len(s2)-1)//2:len(s2)//2+1])"
   ]
  },
  {
   "cell_type": "code",
   "execution_count": null,
   "metadata": {},
   "outputs": [],
   "source": [
    "# 해설\n",
    "'''\n",
    "짝수 홀수에 따라서 결과치 적용은 그러려니 하는데 다른 사람 풀이 중에서\n",
    "\n",
    "```python\n",
    "return s[(len(s)-1)//2:len(s)//2+1]\n",
    "```\n",
    "\n",
    "이건 좀 좀 똑똑한 게 홀수든 짝수든 끝나는 건 2로 나누고 +1을 한 것이고 시작점이 홀수면 -1을 하니 짝수로서 중앙값 1글자 바로 앞이 되고 홀수면 짝수로서 가운데 2글자가 포함되게 함.\n",
    "'''"
   ]
  },
  {
   "attachments": {},
   "cell_type": "markdown",
   "metadata": {},
   "source": [
    "#### 수박수박수박수박수박수? [fin:2023-01-13]\n",
    "link : https://school.programmers.co.kr/learn/courses/30/lessons/12922\n",
    "\n",
    "**문제 설명**\n",
    "\n",
    "길이가 n이고, \"수박수박수박수....\"와 같은 패턴을 유지하는 문자열을 리턴하는 함수, solution을 완성하세요. 예를들어 n이 4이면 \"수박수박\"을 리턴하고 3이라면 \"수박수\"를 리턴하면 됩니다.\n",
    "\n",
    "**제한 조건**\n",
    "\n",
    "- n은 길이 10,000이하인 자연수입니다.\n",
    "\n",
    "**입출력 예**\n",
    "\n",
    "| n | return |\n",
    "| --- | --- |\n",
    "| 3 | \"수박수\" |\n",
    "| 4 | \"수박수박\" |"
   ]
  },
  {
   "cell_type": "code",
   "execution_count": 18,
   "metadata": {},
   "outputs": [
    {
     "data": {
      "text/plain": [
       "'수박수박'"
      ]
     },
     "execution_count": 18,
     "metadata": {},
     "output_type": "execute_result"
    }
   ],
   "source": [
    "# 제출\n",
    "def solution(n):\n",
    "    return ('수박'*n)[:n]"
   ]
  },
  {
   "cell_type": "code",
   "execution_count": null,
   "metadata": {},
   "outputs": [],
   "source": [
    "# 해설\n",
    "'''\n",
    "파이썬에서 문자열에*를 하면 반복한 문자가 붙어서 나오므로 그 다음에 slicing이용\n",
    "'''"
   ]
  },
  {
   "attachments": {},
   "cell_type": "markdown",
   "metadata": {},
   "source": [
    "#### 내적 [fin:2023-01-17]\n",
    "link : https://school.programmers.co.kr/learn/courses/30/lessons/70128\n",
    "\n",
    "\n",
    "**문제 설명**\n",
    "\n",
    "길이가 같은 두 1차원 정수 배열 a, b가 매개변수로 주어집니다. a와 b의 [내적](https://en.wikipedia.org/wiki/Dot_product)을 return 하도록 solution 함수를 완성해주세요.\n",
    "\n",
    "이때, a와 b의 내적은 `a[0]*b[0] + a[1]*b[1] + ... + a[n-1]*b[n-1]` 입니다. (n은 a, b의 길이)\n",
    "\n",
    "**제한사항**\n",
    "\n",
    "- a, b의 길이는 1 이상 1,000 이하입니다.\n",
    "- a, b의 모든 수는 -1,000 이상 1,000 이하입니다.\n",
    "\n",
    "**입출력 예**\n",
    "\n",
    "| a | b | result |\n",
    "| --- | --- | --- |\n",
    "| [1,2,3,4] | [-3,-1,0,2] | 3 |\n",
    "| [-1,0,1] | [1,0,-1] | -2 |"
   ]
  },
  {
   "cell_type": "code",
   "execution_count": null,
   "metadata": {},
   "outputs": [],
   "source": [
    "# 제출\n",
    "def solution(a, b):\n",
    "    return sum(i*j for i,j in zip(a,b))"
   ]
  },
  {
   "cell_type": "code",
   "execution_count": null,
   "metadata": {},
   "outputs": [],
   "source": [
    "# 해설\n",
    "'''\n",
    "내적이라는 개념은 모르겠지만..(..) a와 b의 배열 사이즈가 같을 때, a[0]*b[0] + a[1]*b[1] + ... + a[n-1]*b[n-1] 라는 수식이 성립하므로 그걸 zip으로 동일한 순서끼리 풀어서 곱하고 sum 처리.\n",
    "'''"
   ]
  },
  {
   "attachments": {},
   "cell_type": "markdown",
   "metadata": {},
   "source": [
    "#### 문자열 내림차순으로 배치하기 [fin:2023-01-17]\n",
    "link : https://school.programmers.co.kr/learn/courses/30/lessons/12917\n",
    "\n",
    "**문제 설명**\n",
    "\n",
    "문자열 s에 나타나는 문자를 큰것부터 작은 순으로 정렬해 새로운 문자열을 리턴하는 함수, solution을 완성해주세요.s는 영문 대소문자로만 구성되어 있으며, 대문자는 소문자보다 작은 것으로 간주합니다.\n",
    "\n",
    "**제한 사항**\n",
    "\n",
    "- str은 길이 1 이상인 문자열입니다.\n",
    "\n",
    "**입출력 예**\n",
    "\n",
    "| s | return |\n",
    "| --- | --- |\n",
    "| \"Zbcdefg\" | \"gfedcbZ\" |"
   ]
  },
  {
   "cell_type": "code",
   "execution_count": 2,
   "metadata": {},
   "outputs": [
    {
     "name": "stdout",
     "output_type": "stream",
     "text": [
      "90\n",
      "103\n"
     ]
    }
   ],
   "source": [
    "s='Z'\n",
    "print(ord(s))\n",
    "s2='g'\n",
    "print(ord(s2))"
   ]
  },
  {
   "cell_type": "code",
   "execution_count": null,
   "metadata": {},
   "outputs": [],
   "source": [
    "# 제출\n",
    "def solution(s):\n",
    "    return ''.join(sorted(s, key=lambda x: ord(x), reverse=True))"
   ]
  },
  {
   "cell_type": "code",
   "execution_count": null,
   "metadata": {},
   "outputs": [],
   "source": [
    "# 제출 - short\n",
    "def solution(s):\n",
    "    return ''.join(sorted(s, reverse=True))"
   ]
  },
  {
   "cell_type": "code",
   "execution_count": null,
   "metadata": {},
   "outputs": [],
   "source": [
    "# 해설\n",
    "'''\n",
    "sorted의 key로 조건을 ord로 걸었는데 대문자가 더 작게 나오고 문제와 동일해서 그냥 했는데 다른 사람 풀이 보니까 sorted 자체로도 문자열을 대소문자 구분해서 정렬한다고 함.. 그래서 더 줄여서 ''.join(sorted(s, reverse=True)) 로도 가능한 거 확인.\n",
    "'''"
   ]
  },
  {
   "attachments": {},
   "cell_type": "markdown",
   "metadata": {},
   "source": [
    "#### 약수의 개수와 덧셈 [fin:2023-01-18]\n",
    "link : https://school.programmers.co.kr/learn/courses/30/lessons/77884\n",
    "\n",
    "**문제 설명**\n",
    "\n",
    "두 정수 `left`와 `right`가 매개변수로 주어집니다. `left`부터 `right`까지의 모든 수들 중에서, 약수의 개수가 짝수인 수는 더하고, 약수의 개수가 홀수인 수는 뺀 수를 return 하도록 solution 함수를 완성해주세요.\n",
    "\n",
    "**제한사항**\n",
    "\n",
    "- 1 ≤ `left` ≤ `right` ≤ 1,000\n",
    "\n",
    "**입출력 예**\n",
    "\n",
    "| left | right | result |\n",
    "| --- | --- | --- |\n",
    "| 13 | 17 | 43 |\n",
    "| 24 | 27 | 52 |"
   ]
  },
  {
   "cell_type": "code",
   "execution_count": 13,
   "metadata": {},
   "outputs": [
    {
     "data": {
      "text/plain": [
       "52"
      ]
     },
     "execution_count": 13,
     "metadata": {},
     "output_type": "execute_result"
    }
   ],
   "source": [
    "def solution(left, right):\n",
    "    answer = 0\n",
    "    tmp = [[n for n in range(1,i+1) if i%n == 0] for i in range(left,right+1) if i > 1]\n",
    "    for j in tmp:\n",
    "        answer = answer+j[-1] if len(j) % 2 == 0 else answer-j[-1]\n",
    "    return answer\n",
    "\n",
    "\n",
    "left, right = 24, 27\n",
    "solution(left, right)"
   ]
  },
  {
   "cell_type": "code",
   "execution_count": null,
   "metadata": {},
   "outputs": [],
   "source": [
    "# 첫번째 제출 - 1번 실패\n",
    "def solution(left, right):\n",
    "    answer = 0\n",
    "    tmp = [[n for n in range(1,i+1) if i%n == 0] for i in range(left,right+1) if i > 1]\n",
    "    for j in tmp:\n",
    "        answer = answer+j[-1] if len(j) % 2 == 0 else answer-j[-1]\n",
    "    return answer"
   ]
  },
  {
   "cell_type": "code",
   "execution_count": null,
   "metadata": {},
   "outputs": [],
   "source": [
    "# 제출\n",
    "def solution(left, right):\n",
    "    answer = 0\n",
    "    tmp = [[n for n in range(1,i+1) if i%n == 0] for i in range(left,right+1)]\n",
    "    for j in tmp:\n",
    "        answer = answer+j[-1] if len(j) % 2 == 0 else answer-j[-1]\n",
    "    return answer"
   ]
  },
  {
   "cell_type": "code",
   "execution_count": 16,
   "metadata": {},
   "outputs": [
    {
     "name": "stdout",
     "output_type": "stream",
     "text": [
      "i : 24 / i**0.5 : 4.898979485566356 / int(i**0.5) : 4 / i**(1/2) : 4.898979485566356 / int(i**(1/2)) : 4\n",
      "answer : 24\n",
      "i : 25 / i**0.5 : 5.0 / int(i**0.5) : 5 / i**(1/2) : 5.0 / int(i**(1/2)) : 5\n",
      "answer : -1\n",
      "i : 26 / i**0.5 : 5.0990195135927845 / int(i**0.5) : 5 / i**(1/2) : 5.0990195135927845 / int(i**(1/2)) : 5\n",
      "answer : 25\n",
      "i : 27 / i**0.5 : 5.196152422706632 / int(i**0.5) : 5 / i**(1/2) : 5.196152422706632 / int(i**(1/2)) : 5\n",
      "answer : 52\n"
     ]
    },
    {
     "data": {
      "text/plain": [
       "52"
      ]
     },
     "execution_count": 16,
     "metadata": {},
     "output_type": "execute_result"
    }
   ],
   "source": [
    "# 다른 사람 풀이\n",
    "def solution(left, right):\n",
    "    answer = 0\n",
    "    for i in range(left,right+1):\n",
    "        print(f'i : {i} / i**0.5 : {i**0.5} / int(i**0.5) : {int(i**0.5)} / i**(1/2) : {i**(1/2)} / int(i**(1/2)) : {int(i**(1/2))}')\n",
    "        answer = answer-i if int(i**0.5)==i**0.5 else answer+i\n",
    "        print(f'answer : {answer}')\n",
    "    return answer\n",
    "\n",
    "\n",
    "left, right = 24, 27\n",
    "solution(left, right)"
   ]
  },
  {
   "cell_type": "code",
   "execution_count": null,
   "metadata": {},
   "outputs": [],
   "source": [
    "# 해설\n",
    "'''\n",
    "처음에 약수라는 생각에 if > 1 조건 걸었다가 1번 테스트 틀리고 지우니까 해결됨.\n",
    "\n",
    "사실 좋은 풀이는 아닌 것 같다.\n",
    "\n",
    "저번에 약수에 대해서 이야기 할 때도 나왔던 이야기 같은데, 이미 list comprehension 안에 for loop이 이중으로 들어가 있어서 마음에 들지 않는데 tmp 부분에 대한 해결이 고민이다가 \n",
    "\n",
    "```python\n",
    "def solution(left, right):\n",
    "    answer = 0\n",
    "    for i in range(left,right+1):\n",
    "        answer = answer-i if int(i**0.5)==i**0.5 else answer+i\n",
    "    return answer\n",
    "```\n",
    "\n",
    "이 분의 경우 제곱근 한 수가 똑 떨어지는 그러니까 25의 제곱근이 5.0면 그걸 정수화 한 5와 동일하다면 결국 25는 1,5,25라는 이야기가 되고 다르게 예시처럼 16의 경우도 1, 2, 4, 8, 16으로서 제곱수들끼리만 나오게 되면 갯수는 홀수가 된다는 점을 이용해서 똑 떨어지면 -=를 하고 아닌 경우면 +=로서 진행한 경우였음.\n",
    "'''"
   ]
  },
  {
   "attachments": {},
   "cell_type": "markdown",
   "metadata": {},
   "source": [
    "#### 문자열 다루기 기본 [fin:2023-01-18]\n",
    "link : https://school.programmers.co.kr/learn/courses/30/lessons/12918\n",
    "\n",
    "**문제 설명**\n",
    "\n",
    "문자열 s의 길이가 4 혹은 6이고, 숫자로만 구성돼있는지 확인해주는 함수, solution을 완성하세요. 예를 들어 s가 \"a234\"이면 False를 리턴하고 \"1234\"라면 True를 리턴하면 됩니다.\n",
    "\n",
    "**제한 사항**\n",
    "\n",
    "- `s`는 길이 1 이상, 길이 8 이하인 문자열입니다.\n",
    "- `s`는 영문 알파벳 대소문자 또는 0부터 9까지 숫자로 이루어져 있습니다.\n",
    "\n",
    "**입출력 예**\n",
    "\n",
    "| s | return |\n",
    "| --- | --- |\n",
    "| \"a234\" | false |\n",
    "| \"1234\" | true |"
   ]
  },
  {
   "cell_type": "code",
   "execution_count": null,
   "metadata": {},
   "outputs": [],
   "source": [
    "# 제출\n",
    "def solution(s):\n",
    "    return True if (s.isdigit()) and (len(s) == 4 or len(s) == 6) else False"
   ]
  },
  {
   "cell_type": "code",
   "execution_count": null,
   "metadata": {},
   "outputs": [],
   "source": [
    "# 해설\n",
    "'''\n",
    "처음에는 if 문에서 len으로 or 체크했더니 5,6,28,29번이 틀려서 숫자인지 먼저 체크하고 len 이 4 혹은 6인지 체크하니까 해결 \n",
    "'''"
   ]
  },
  {
   "attachments": {},
   "cell_type": "markdown",
   "metadata": {},
   "source": [
    "#### 부족한 금액 계산하기 [fin:2023-01-18]\n",
    "link : https://school.programmers.co.kr/learn/courses/30/lessons/82612\n",
    "\n",
    "**문제 설명**\n",
    "\n",
    "새로 생긴 놀이기구는 인기가 매우 많아 줄이 끊이질 않습니다. 이 놀이기구의 원래 이용료는 price원 인데, 놀이기구를 N 번 째 이용한다면 원래 이용료의 N배를 받기로 하였습니다. 즉, 처음 이용료가 100이었다면 2번째에는 200, 3번째에는 300으로 요금이 인상됩니다.놀이기구를 count번 타게 되면 현재 자신이 가지고 있는 금액에서 얼마가 모자라는지를 return 하도록 solution 함수를 완성하세요.단, 금액이 부족하지 않으면 0을 return 하세요.\n",
    "\n",
    "**제한사항**\n",
    "\n",
    "- 놀이기구의 이용료 price : 1 ≤ price ≤ 2,500, price는 자연수\n",
    "- 처음 가지고 있던 금액 money : 1 ≤ money ≤ 1,000,000,000, money는 자연수\n",
    "- 놀이기구의 이용 횟수 count : 1 ≤ count ≤ 2,500, count는 자연수\n",
    "\n",
    "**입출력 예**\n",
    "\n",
    "| price | money | count | result |\n",
    "| --- | --- | --- | --- |\n",
    "| 3 | 20 | 4 | 10 |"
   ]
  },
  {
   "cell_type": "code",
   "execution_count": 24,
   "metadata": {},
   "outputs": [
    {
     "data": {
      "text/plain": [
       "10"
      ]
     },
     "execution_count": 24,
     "metadata": {},
     "output_type": "execute_result"
    }
   ],
   "source": [
    "def solution(price, money, count):\n",
    "    total = sum(price*i for i in range(1,count+1))\n",
    "    return 0 if money >= total else abs(total-money)\n",
    "\n",
    "\n",
    "price, money, count = 3, 20, 4\n",
    "solution(price, money, count)"
   ]
  },
  {
   "cell_type": "code",
   "execution_count": null,
   "metadata": {},
   "outputs": [],
   "source": [
    "# 제출\n",
    "def solution(price, money, count):\n",
    "    total = sum(price*i for i in range(1,count+1))\n",
    "    return 0 if money >= total else abs(total-money)"
   ]
  },
  {
   "cell_type": "code",
   "execution_count": 25,
   "metadata": {},
   "outputs": [],
   "source": [
    "# 다른 사람 풀이\n",
    "def solution(price, money, count):\n",
    "    return max(0,price*(count+1)*count//2-money)"
   ]
  },
  {
   "cell_type": "code",
   "execution_count": 30,
   "metadata": {},
   "outputs": [
    {
     "name": "stdout",
     "output_type": "stream",
     "text": [
      "price*(count+1)*count : 90 / price*(count+1)*count//2 : 45 / price*(count+1)*count//2-money : 15\n"
     ]
    },
    {
     "data": {
      "text/plain": [
       "15"
      ]
     },
     "execution_count": 30,
     "metadata": {},
     "output_type": "execute_result"
    }
   ],
   "source": [
    "# 다른 사람 풀이\n",
    "def solution(price, money, count):\n",
    "    print(f'price*(count+1)*count : {price*(count+1)*count} / price*(count+1)*count//2 : {price*(count+1)*count//2} / price*(count+1)*count//2-money : {price*(count+1)*count//2-money}')\n",
    "    return max(0,price*(count+1)*count//2-money)\n",
    "\n",
    "price, money, count = 3, 30, 5\n",
    "solution(price, money, count)"
   ]
  },
  {
   "cell_type": "code",
   "execution_count": null,
   "metadata": {},
   "outputs": [],
   "source": [
    "# 해설\n",
    "'''\n",
    "사실 문제 그대로를 구현하긴 했다. count의 횟수까지 price를 곱한 값들의 sum인데 사실상 단계별 뛰어넘는 느낌? 아무튼 구현 후에 조건으로서 모자라면 abs 처리 하고 아니면 0 처리 했는데 그러다가 for 문안 쓰고 구할 수 있지 않나 해서 생각한 게  $(3*1)+(3*2)+(3*3)+(3*4)$ 인 예시를 등차수열의 공식으로 이해한 셈해서 `(price*sum(range(1,count+1)))-money` 이거였는데,\n",
    "\n",
    "그러다가 다른 사람 풀이 중에서\n",
    "\n",
    "```python\n",
    "# 다른 사람 풀이\n",
    "def solution(price, money, count):\n",
    "    return max(0,price*(count+1)*count//2-money)\n",
    "```\n",
    "\n",
    "이거 보고 `price*(count+1)*count//2-money` 이 뭘까 하다가..\n",
    "\n",
    "$(3*1)+(3*2)+(3*3)+(3*4)$ 이걸 묶으면 $3(1+2+3+4)$이고 이건 1부터4까지의 Sigma 즉 순열의 합이므로 이 공식은 ${n(n+1)\\over2}$인데 여기서 n이 count인 4라고 하면 n=4이니까 ${4*5\\over2} = 10$이고 다시 $3({4*5\\over2}) = 3*10 = 30$ 이 된다. 결국 price로 묶고 나머지 (count+1)*count 하는 부분이 진짜 똑똑한 듯..!\n",
    "'''"
   ]
  },
  {
   "attachments": {},
   "cell_type": "markdown",
   "metadata": {},
   "source": [
    "#### 행렬의 덧셈 [fin:2023-01-19]\n",
    "link : https://school.programmers.co.kr/learn/courses/30/lessons/12950\n",
    "\n",
    "**문제 설명**\n",
    "\n",
    "행렬의 덧셈은 행과 열의 크기가 같은 두 행렬의 같은 행, 같은 열의 값을 서로 더한 결과가 됩니다. 2개의 행렬 arr1과 arr2를 입력받아, 행렬 덧셈의 결과를 반환하는 함수, solution을 완성해주세요.\n",
    "\n",
    "**제한 조건**\n",
    "\n",
    "- 행렬 arr1, arr2의 행과 열의 길이는 500을 넘지 않습니다.\n",
    "\n",
    "**입출력 예**\n",
    "\n",
    "| arr1 | arr2 | return |\n",
    "| --- | --- | --- |\n",
    "| [[1,2],[2,3]] | [[3,4],[5,6]] | [[4,6],[7,9]] |\n",
    "| [[1],[2]] | [[3],[4]] | [[4],[6]] |"
   ]
  },
  {
   "cell_type": "code",
   "execution_count": null,
   "metadata": {},
   "outputs": [],
   "source": [
    "# 제출\n",
    "def solution(arr1, arr2):\n",
    "    return [[a1[i]+a2[i] for i in range(len(a1))] for a1, a2 in zip(arr1, arr2)]"
   ]
  },
  {
   "attachments": {},
   "cell_type": "markdown",
   "metadata": {},
   "source": [
    "**행렬의 덧셈과 뺄셈** \n",
    "\n",
    "두 행렬 A, B가 서로 같은 꼴일 때 서로 같은 위치에 있는 성분끼리 +, -를 한다고 할 때,\n",
    "\n",
    "$A = {a_{11}\\,a_{12} \\choose a_{21}\\,a_{22}}$, $B = {b_{11}\\,b_{12} \\choose b_{21}\\,b_{22}}$ 일 때 $A \\pm B = {a_{11} \\pm B_{11} \\, a_{12} \\pm b_{12} \\choose a_{21} \\pm b_{21} \\, a_{22} \\pm b_{22}}$"
   ]
  },
  {
   "cell_type": "code",
   "execution_count": null,
   "metadata": {},
   "outputs": [],
   "source": [
    "# 해설\n",
    "'''\n",
    "행렬의 덧셈 개념을 참고해서 구현하되, 행렬의 갯수는 range를 통해서 처리.\n",
    "'''"
   ]
  },
  {
   "attachments": {},
   "cell_type": "markdown",
   "metadata": {},
   "source": [
    "#### 직사각형 별찍기 [fin:2023-01-19]\n",
    "link : https://school.programmers.co.kr/learn/courses/30/lessons/12969\n",
    "\n",
    "**문제 설명**\n",
    "\n",
    "이 문제에는 표준 입력으로 두 개의 정수 n과 m이 주어집니다.별(*) 문자를 이용해 가로의 길이가 n, 세로의 길이가 m인 직사각형 형태를 출력해보세요.\n",
    "\n",
    "**제한 조건**\n",
    "\n",
    "- n과 m은 각각 1000 이하인 자연수입니다."
   ]
  },
  {
   "cell_type": "code",
   "execution_count": null,
   "metadata": {},
   "outputs": [],
   "source": [
    "# 제출\n",
    "a, b = map(int, input().strip().split(' '))\n",
    "for _ in range(b):\n",
    "    print('*'*a)"
   ]
  },
  {
   "cell_type": "code",
   "execution_count": 16,
   "metadata": {},
   "outputs": [
    {
     "name": "stdout",
     "output_type": "stream",
     "text": [
      "*****\n",
      "*****\n",
      "*****\n",
      "\n"
     ]
    }
   ],
   "source": [
    "# 다른 사람 풀이\n",
    "a, b = map(int, input().strip().split(' '))\n",
    "print(('*'*a +'\\n')*b)"
   ]
  },
  {
   "cell_type": "code",
   "execution_count": null,
   "metadata": {},
   "outputs": [],
   "source": [
    "# 해설\n",
    "'''\n",
    "간단한 거 아닌가 했는데 역시 다른 사람들은 더 똑똑하더라\n",
    "\n",
    "```python\n",
    "# 다른 사람 풀이\n",
    "a, b = map(int, input().strip().split(' '))\n",
    "print(('*'*a +'\\n')*b)\n",
    "```\n",
    "\n",
    "for loop 쓸 필요도 없이 이렇게 하는 거 보고 박수침..\n",
    "'''"
   ]
  },
  {
   "attachments": {},
   "cell_type": "markdown",
   "metadata": {},
   "source": [
    "#### 최대공약수와 최소공배수 [fin:2023-01-19]\n",
    "link : https://school.programmers.co.kr/learn/courses/30/lessons/12940\n",
    "\n",
    "**문제 설명**\n",
    "\n",
    "두 수를 입력받아 두 수의 최대공약수와 최소공배수를 반환하는 함수, solution을 완성해 보세요. 배열의 맨 앞에 최대공약수, 그다음 최소공배수를 넣어 반환하면 됩니다. 예를 들어 두 수 3, 12의 최대공약수는 3, 최소공배수는 12이므로 solution(3, 12)는 [3, 12]를 반환해야 합니다.\n",
    "\n",
    "**제한 사항**\n",
    "\n",
    "- 두 수는 1이상 1000000이하의 자연수입니다.\n",
    "\n",
    "**입출력 예**\n",
    "\n",
    "| n | m | return |\n",
    "| --- | --- | --- |\n",
    "| 3 | 12 | [3, 12] |\n",
    "| 2 | 5 | [1, 10] |"
   ]
  },
  {
   "cell_type": "code",
   "execution_count": 22,
   "metadata": {},
   "outputs": [
    {
     "name": "stdout",
     "output_type": "stream",
     "text": [
      "최대공약수 : 3\n",
      "1\n",
      "4\n",
      "최소공배수 : 12\n",
      "최소공배수 : 12\n"
     ]
    }
   ],
   "source": [
    "# wiki의 수식이용\n",
    "# 1https://ko.wikipedia.org/wiki/%EC%9C%A0%ED%81%B4%EB%A6%AC%EB%93%9C_%ED%98%B8%EC%A0%9C%EB%B2%95ref : \n",
    "def gcd(m,n):\n",
    "    max_val = m if m > n else n\n",
    "    min_val = m if m < n else n\n",
    "    while min_val != 0:\n",
    "        tmp = max_val % min_val\n",
    "        (max_val,min_val) = (min_val,tmp)\n",
    "\n",
    "    return abs(max_val)\n",
    "m,n = 3,12\n",
    "# 60,48\n",
    "print(f'최대공약수 : {gcd(m,n)}')\n",
    "print(m//gcd(m,n))\n",
    "print(n//gcd(m,n))\n",
    "print(f'최소공배수 : {gcd(m,n)*(m//gcd(m,n))*(n//gcd(m,n))}')\n",
    "print(f'최소공배수 : {m*n//gcd(m,n)}')"
   ]
  },
  {
   "cell_type": "code",
   "execution_count": 17,
   "metadata": {},
   "outputs": [
    {
     "data": {
      "text/plain": [
       "12"
      ]
     },
     "execution_count": 17,
     "metadata": {},
     "output_type": "execute_result"
    }
   ],
   "source": [
    "# 제출\n",
    "def solution(n, m):\n",
    "    max_val = m if m > n else n\n",
    "    min_val = m if m < n else n\n",
    "    while min_val != 0:\n",
    "        tmp = max_val % min_val\n",
    "        (max_val,min_val) = (min_val,tmp)\n",
    "\n",
    "    return [max_val, max_val*(m//max_val)*(n//max_val)]\n"
   ]
  },
  {
   "cell_type": "code",
   "execution_count": null,
   "metadata": {},
   "outputs": [],
   "source": [
    "# 해설\n",
    "'''\n",
    "최대공약수랑 최소공배수 구하는 법 찾다가 유클리디안 호제법이라는 걸 발견\n",
    "\n",
    "```python\n",
    "def gcd(m,n):\n",
    "    while n != 0:\n",
    "       t = m%n\n",
    "       (m,n) = (n,t)\n",
    "    return abs(m)\n",
    "# ref : [https://ko.wikipedia.org/wiki/유클리드_호제법](https://ko.wikipedia.org/wiki/%EC%9C%A0%ED%81%B4%EB%A6%AC%EB%93%9C_%ED%98%B8%EC%A0%9C%EB%B2%95)\n",
    "```\n",
    "\n",
    "여기서 발견한 걸 이용해서 위처럼 만들었는데 다른 사람 풀이 보니까 비슷한데 return 만 `[max_val, max_val*(m//max_val)*(n//max_val)]` 을 좀 더 간결하게 `[max_val, m*n//max_val]`  으로 한 걸 보고 좀 더 고민해야겠다 하고 배움.\n",
    "'''"
   ]
  },
  {
   "attachments": {},
   "cell_type": "markdown",
   "metadata": {},
   "source": [
    "#### 같은 숫자는 싫어 [fin:2023-01-19]\n",
    "link : https://school.programmers.co.kr/learn/courses/30/lessons/12906\n",
    "\n",
    "**문제 설명**\n",
    "\n",
    "배열 arr가 주어집니다. 배열 arr의 각 원소는 숫자 0부터 9까지로 이루어져 있습니다. 이때, 배열 arr에서 연속적으로 나타나는 숫자는 하나만 남기고 전부 제거하려고 합니다. 단, 제거된 후 남은 수들을 반환할 때는 배열 arr의 원소들의 순서를 유지해야 합니다. 예를 들면,\n",
    "\n",
    "- arr = [1, 1, 3, 3, 0, 1, 1] 이면 [1, 3, 0, 1] 을 return 합니다.\n",
    "- arr = [4, 4, 4, 3, 3] 이면 [4, 3] 을 return 합니다.\n",
    "\n",
    "배열 arr에서 연속적으로 나타나는 숫자는 제거하고 남은 수들을 return 하는 solution 함수를 완성해 주세요.\n",
    "\n",
    "**제한사항**\n",
    "\n",
    "- 배열 arr의 크기 : 1,000,000 이하의 자연수\n",
    "- 배열 arr의 원소의 크기 : 0보다 크거나 같고 9보다 작거나 같은 정수\n",
    "\n",
    "**입출력 예**\n",
    "\n",
    "| arr | answer |\n",
    "| --- | --- |\n",
    "| [1,1,3,3,0,1,1] | [1,3,0,1] |\n",
    "| [4,4,4,3,3] | [4,3] |"
   ]
  },
  {
   "cell_type": "code",
   "execution_count": 28,
   "metadata": {},
   "outputs": [],
   "source": [
    "# 제출\n",
    "def solution(arr):\n",
    "    tmp = []\n",
    "    for i in range(1,len(arr)):\n",
    "        if arr[i-1] != arr[i]:\n",
    "            tmp.append(arr[i-1])\n",
    "    tmp.append(arr[-1])\n",
    "    return tmp"
   ]
  },
  {
   "cell_type": "code",
   "execution_count": 46,
   "metadata": {},
   "outputs": [
    {
     "name": "stdout",
     "output_type": "stream",
     "text": [
      "tmp[-1:] : [] / [i] : [1]\n",
      "tmp[-1:] : [1] / [i] : [1]\n",
      "tmp[-1:] : [1] / [i] : [3]\n",
      "tmp[-1:] : [3] / [i] : [3]\n",
      "tmp[-1:] : [3] / [i] : [0]\n",
      "tmp[-1:] : [0] / [i] : [1]\n",
      "tmp[-1:] : [1] / [i] : [1]\n"
     ]
    },
    {
     "data": {
      "text/plain": [
       "[1, 3, 0, 1]"
      ]
     },
     "execution_count": 46,
     "metadata": {},
     "output_type": "execute_result"
    }
   ],
   "source": [
    "# 다른 사람 풀이 1\n",
    "def solution(arr):\n",
    "    tmp = []\n",
    "    for i in arr:\n",
    "        print(f'tmp[-1:] : {tmp[-1:]} / [i] : {[i]}')\n",
    "        if tmp[-1:] == [i]: continue\n",
    "        tmp.append(i)\n",
    "    return tmp\n",
    "\n",
    "\n",
    "arr = [1,1,3,3,0,1,1]\n",
    "solution(arr)"
   ]
  },
  {
   "cell_type": "code",
   "execution_count": 47,
   "metadata": {},
   "outputs": [
    {
     "data": {
      "text/plain": [
       "[1, 3, 0, 1]"
      ]
     },
     "execution_count": 47,
     "metadata": {},
     "output_type": "execute_result"
    }
   ],
   "source": [
    "# 다른 사람 풀이 2\n",
    "def solution(arr):\n",
    "    return [arr[i] for i in range(0,len(arr)-1) if arr[i] != arr[i+1]]+[arr[-1]]\n",
    "\n",
    "arr = [1,1,3,3,0,1,1]\n",
    "solution(arr)"
   ]
  },
  {
   "cell_type": "code",
   "execution_count": 49,
   "metadata": {},
   "outputs": [
    {
     "name": "stdout",
     "output_type": "stream",
     "text": [
      "arr[i] : 1 / arr[i+1] : 1 / arr[-1] : 1 / arr[i+1]+arr[-1] : 2\n",
      "arr[i] : 1 / arr[i+1] : 3 / arr[-1] : 1 / arr[i+1]+arr[-1] : 4\n",
      "arr[i] : 3 / arr[i+1] : 3 / arr[-1] : 1 / arr[i+1]+arr[-1] : 4\n",
      "arr[i] : 3 / arr[i+1] : 0 / arr[-1] : 1 / arr[i+1]+arr[-1] : 1\n",
      "arr[i] : 0 / arr[i+1] : 1 / arr[-1] : 1 / arr[i+1]+arr[-1] : 2\n",
      "arr[i] : 1 / arr[i+1] : 1 / arr[-1] : 1 / arr[i+1]+arr[-1] : 2\n"
     ]
    },
    {
     "data": {
      "text/plain": [
       "[1, 1, 3, 3, 0, 1]"
      ]
     },
     "execution_count": 49,
     "metadata": {},
     "output_type": "execute_result"
    }
   ],
   "source": [
    "def solution(arr):\n",
    "    tmp = []\n",
    "    for i in range(0,len(arr)-1):\n",
    "        print(f'arr[i] : {arr[i]} / arr[i+1] : {arr[i+1]} / arr[-1] : {arr[-1]} / arr[i+1]+arr[-1] : {arr[i+1]+arr[-1]}')\n",
    "        if arr[i] != arr[i+1]+arr[-1]:\n",
    "            tmp.append(arr[i])\n",
    "    return tmp\n",
    "\n",
    "arr = [1,1,3,3,0,1,1]\n",
    "solution(arr)"
   ]
  },
  {
   "cell_type": "code",
   "execution_count": 29,
   "metadata": {},
   "outputs": [
    {
     "data": {
      "text/plain": [
       "'\\n'"
      ]
     },
     "execution_count": 29,
     "metadata": {},
     "output_type": "execute_result"
    }
   ],
   "source": [
    "# 해설\n",
    "'''\n",
    "이것도 우선 구현은 했는데 맨 마지막의 경우 때문에 append(arr[-1])을 했고 나랑 똑같은데 숏코딩을 한 걸 봤는데\n",
    "\n",
    "```python\n",
    "# 다른 사람 풀이 2\n",
    "def solution(arr):\n",
    "    return [arr[i] for i in range(0,len(arr)-1) if arr[i] != arr[i+1]]+[arr[-1]]\n",
    "```\n",
    "\n",
    "이건 저번에 로이님과 이야기 한 것 처럼 list끼리의 + 연산은 심각하게 느려지므로 지양해야 한다는 걸 이해했기 때문에 다른 방식을 보다가 비슷하면서 다른 걸 발견.\n",
    "\n",
    "```python\n",
    "# 다른 사람 풀이 1\n",
    "def solution(arr):\n",
    "    tmp = []\n",
    "    for i in arr:\n",
    "        if tmp[-1:] == [i]: continue\n",
    "        tmp.append(i)\n",
    "    return tmp\n",
    "```\n",
    "\n",
    "이 쪽이 좀 더 깔끔하고 이해하기가 좋았는데, 가장 마지막 의 경우와 이전이 같으면 continue로 패스하고 아니면 tmp에 append 함으로서 이전 요소와 같지 않은 경우와 넣는 건 동일한데 동시에 가장 마지막 요소까지 넣을 수 있어서 깔끔하고 좋았다.\n",
    "'''"
   ]
  },
  {
   "attachments": {},
   "cell_type": "markdown",
   "metadata": {},
   "source": [
    "#### 3진법 뒤집기 [fin:2023-01-19]\n",
    "link : https://school.programmers.co.kr/learn/courses/30/lessons/68935\n",
    "\n",
    "**문제 설명**\n",
    "\n",
    "자연수 n이 매개변수로 주어집니다. n을 3진법 상에서 앞뒤로 뒤집은 후, 이를 다시 10진법으로 표현한 수를 return 하도록 solution 함수를 완성해주세요.\n",
    "\n",
    "**제한사항**\n",
    "\n",
    "- n은 1 이상 100,000,000 이하인 자연수입니다.\n",
    "\n",
    "**입출력 예**\n",
    "\n",
    "| n | result |\n",
    "| --- | --- |\n",
    "| 45 | 7 |\n",
    "| 125 | 229 |"
   ]
  },
  {
   "cell_type": "code",
   "execution_count": null,
   "metadata": {},
   "outputs": [],
   "source": [
    "print(58%7)\n",
    "print(58//7)\n",
    "print(divmod(58,7))"
   ]
  },
  {
   "cell_type": "code",
   "execution_count": 65,
   "metadata": {},
   "outputs": [
    {
     "data": {
      "text/plain": [
       "7"
      ]
     },
     "execution_count": 65,
     "metadata": {},
     "output_type": "execute_result"
    }
   ],
   "source": [
    "def solution(n):\n",
    "    answer = ''\n",
    "    while n > 0:\n",
    "        n, remain = divmod(n,3)\n",
    "        answer += str(remain)\n",
    "    return int(answer,3)\n",
    "\n",
    "n= 45\n",
    "# 125\n",
    "# 45\n",
    "solution(n)"
   ]
  },
  {
   "cell_type": "code",
   "execution_count": 30,
   "metadata": {},
   "outputs": [],
   "source": [
    "# 제출\n",
    "def solution(n):\n",
    "    answer = ''\n",
    "    while n > 0:\n",
    "        n, remain = divmod(n,3)\n",
    "        answer += str(remain)\n",
    "    return int(answer,3)"
   ]
  },
  {
   "cell_type": "code",
   "execution_count": null,
   "metadata": {},
   "outputs": [],
   "source": [
    "# 해설\n",
    "'''\n",
    "N진법으로 하는 거는 이전에 N진수 만들기 할 때 했던 거라서 익숙하게 할 수 있었다. divmod로 n이라는 몫과 remain 이라는 나머지를 받고 0이 될 때 까지 while loop 돌리면서 나온 3으로 나눈 수는 str로 answer로 돌렸다가 int의 내부 기능으로 전환. \n",
    "'''"
   ]
  },
  {
   "attachments": {},
   "cell_type": "markdown",
   "metadata": {},
   "source": [
    "#### 이상한 문자 만들기 [fin:2023-01-19]\n",
    "link : https://school.programmers.co.kr/learn/courses/30/lessons/12930\n",
    "\n",
    "**문제 설명**\n",
    "\n",
    "문자열 s는 한 개 이상의 단어로 구성되어 있습니다. 각 단어는 하나 이상의 공백문자로 구분되어 있습니다. 각 단어의 짝수번째 알파벳은 대문자로, 홀수번째 알파벳은 소문자로 바꾼 문자열을 리턴하는 함수, solution을 완성하세요.\n",
    "\n",
    "**제한 사항**\n",
    "\n",
    "- 문자열 전체의 짝/홀수 인덱스가 아니라, 단어(공백을 기준)별로 짝/홀수 인덱스를 판단해야합니다.\n",
    "- 첫 번째 글자는 0번째 인덱스로 보아 짝수번째 알파벳으로 처리해야 합니다.\n",
    "\n",
    "**입출력 예**\n",
    "\n",
    "| s | return |\n",
    "| --- | --- |\n",
    "| \"try hello world\" | \"TrY HeLlO WoRlD\" |"
   ]
  },
  {
   "cell_type": "code",
   "execution_count": 32,
   "metadata": {},
   "outputs": [],
   "source": [
    "# 제출\n",
    "def solution(s):\n",
    "    return ' '.join([''.join(txt[i].upper() if i % 2 == 0 else txt[i].lower() for i in range(len(txt))) for txt in s.split(' ')])\n"
   ]
  },
  {
   "cell_type": "code",
   "execution_count": 152,
   "metadata": {},
   "outputs": [
    {
     "data": {
      "text/plain": [
       "'TrY HeLlO WoRlD'"
      ]
     },
     "execution_count": 152,
     "metadata": {},
     "output_type": "execute_result"
    }
   ],
   "source": [
    "# 다른 사람 풀이\n",
    "def solution(s):\n",
    "    return ' '.join([''.join([val.upper() if idx % 2 == 0 else val.lower() for idx, val in enumerate(txt)]) for txt in s.split()])"
   ]
  },
  {
   "cell_type": "code",
   "execution_count": null,
   "metadata": {},
   "outputs": [],
   "source": [
    "# 해설\n",
    "'''\n",
    "사실 숏코딩으로 하긴 했는데 이중 for 문이라서 딱히 마음에 들지는 않음..ㅠ\n",
    "\n",
    "다른 사람 풀이 중에서\n",
    "\n",
    "```python\n",
    "# 다른 사람 풀이\n",
    "def solution(s):\n",
    "    return ' '.join([''.join([val.upper() if idx % 2 == 0 else val.lower() for idx, val in enumerate(txt)]) for txt in s.split()])\n",
    "```\n",
    "\n",
    "range(len(txt)) 대신에 enumerate로 한 차이가 있을 뿐 기본적으로 보는 관점은 여기까진 비슷한 듯.\n",
    "'''"
   ]
  },
  {
   "attachments": {},
   "cell_type": "markdown",
   "metadata": {},
   "source": [
    "#### 예산 [fin:2023-01-19]\n",
    "link : https://school.programmers.co.kr/learn/courses/30/lessons/12982\n",
    "\n",
    "**문제 설명**\n",
    "\n",
    "S사에서는 각 부서에 필요한 물품을 지원해 주기 위해 부서별로 물품을 구매하는데 필요한 금액을 조사했습니다. 그러나, 전체 예산이 정해져 있기 때문에 모든 부서의 물품을 구매해 줄 수는 없습니다. 그래서 최대한 많은 부서의 물품을 구매해 줄 수 있도록 하려고 합니다.\n",
    "\n",
    "물품을 구매해 줄 때는 각 부서가 신청한 금액만큼을 모두 지원해 줘야 합니다. 예를 들어 1,000원을 신청한 부서에는 정확히 1,000원을 지원해야 하며, 1,000원보다 적은 금액을 지원해 줄 수는 없습니다.\n",
    "\n",
    "부서별로 신청한 금액이 들어있는 배열 d와 예산 budget이 매개변수로 주어질 때, 최대 몇 개의 부서에 물품을 지원할 수 있는지 return 하도록 solution 함수를 완성해주세요.\n",
    "\n",
    "**제한사항**\n",
    "\n",
    "- d는 부서별로 신청한 금액이 들어있는 배열이며, 길이(전체 부서의 개수)는 1 이상 100 이하입니다.\n",
    "- d의 각 원소는 부서별로 신청한 금액을 나타내며, 부서별 신청 금액은 1 이상 100,000 이하의 자연수입니다.\n",
    "- budget은 예산을 나타내며, 1 이상 10,000,000 이하의 자연수입니다.\n",
    "\n",
    "**입출력 예**\n",
    "\n",
    "| d | budget | result |\n",
    "| --- | --- | --- |\n",
    "| [1,3,2,5,4] | 9 | 3 |\n",
    "| [2,2,3,3] | 10 | 4 |"
   ]
  },
  {
   "cell_type": "code",
   "execution_count": 2,
   "metadata": {},
   "outputs": [
    {
     "data": {
      "text/plain": [
       "4"
      ]
     },
     "execution_count": 2,
     "metadata": {},
     "output_type": "execute_result"
    }
   ],
   "source": [
    "def solution(d, budget):\n",
    "    answer = 0\n",
    "    for i in sorted(d):\n",
    "        if budget >= i:\n",
    "            budget -= i\n",
    "            answer += 1\n",
    "    return answer\n",
    "\n",
    "\n",
    "d, budget = [2,2,3,3],10\n",
    "# [2,2,3,3],10\n",
    "# [1,3,2,5,4],9\n",
    "solution(d,budget)"
   ]
  },
  {
   "cell_type": "code",
   "execution_count": 34,
   "metadata": {},
   "outputs": [],
   "source": [
    "# 제출\n",
    "def solution(d, budget):\n",
    "    answer = 0\n",
    "    for i in sorted(d):\n",
    "        if budget >= i:\n",
    "            budget -= i\n",
    "            answer += 1\n",
    "    return answer"
   ]
  },
  {
   "cell_type": "code",
   "execution_count": null,
   "metadata": {},
   "outputs": [],
   "source": [
    "# 해설\n",
    "'''\n",
    "예산이 적다면 지원이 더 많이 될 수 있는 팀의 수가 늘어나므로 sorted로 먼저 하고 나서 예산이 팀의 요청 금액보다 크다면 거기서 빼고 할당하고 answer의 카운팅을 += 1 함.\n",
    "'''"
   ]
  },
  {
   "attachments": {},
   "cell_type": "markdown",
   "metadata": {},
   "source": [
    "#### 시저 암호 [fin:2023-01-19]\n",
    "link : https://school.programmers.co.kr/learn/courses/30/lessons/12926\n",
    "\n",
    "**문제 설명**\n",
    "\n",
    "어떤 문장의 각 알파벳을 일정한 거리만큼 밀어서 다른 알파벳으로 바꾸는 암호화 방식을 시저 암호라고 합니다. 예를 들어 \"AB\"는 1만큼 밀면 \"BC\"가 되고, 3만큼 밀면 \"DE\"가 됩니다. \"z\"는 1만큼 밀면 \"a\"가 됩니다. 문자열 s와 거리 n을 입력받아 s를 n만큼 민 암호문을 만드는 함수, solution을 완성해 보세요.\n",
    "\n",
    "**제한 조건**\n",
    "\n",
    "- 공백은 아무리 밀어도 공백입니다.\n",
    "- s는 알파벳 소문자, 대문자, 공백으로만 이루어져 있습니다.\n",
    "- s의 길이는 8000이하입니다.\n",
    "- n은 1 이상, 25이하인 자연수입니다.\n",
    "\n",
    "**입출력 예**\n",
    "\n",
    "| s | n | result |\n",
    "| --- | --- | --- |\n",
    "| \"AB\" | 1 | \"BC\" |\n",
    "| \"z\" | 1 | \"a\" |\n",
    "| \"a B z\" | 4 | \"e F d\" |"
   ]
  },
  {
   "cell_type": "code",
   "execution_count": null,
   "metadata": {},
   "outputs": [],
   "source": [
    "# 첫번째 실패\n",
    "def solution(s, n):\n",
    "    return ''.join([chr(ord(txt)+(n-26)) if (ord(txt) == 122 or ord(txt) == 90) else chr(ord(txt)+n) if ord(txt) != 32 else txt for txt in s])"
   ]
  },
  {
   "cell_type": "code",
   "execution_count": 194,
   "metadata": {},
   "outputs": [
    {
     "name": "stdout",
     "output_type": "stream",
     "text": [
      "txt : a / tmp : 97\n",
      "txt : a\n",
      "txt :   / tmp : 32\n",
      "txt : B / tmp : 66\n",
      "txt : B\n",
      "txt :   / tmp : 32\n",
      "txt : z / tmp : 122\n",
      "txt : z\n",
      "txt :   / tmp : 32\n",
      "txt : A / tmp : 65\n",
      "txt : A\n",
      "txt : B / tmp : 66\n",
      "txt : B\n",
      "txt :   / tmp : 32\n",
      "txt : Y / tmp : 89\n",
      "txt : Y\n",
      "txt : y / tmp : 121\n",
      "txt : y\n",
      "txt : z / tmp : 122\n",
      "txt : z\n",
      "txt :   / tmp : 32\n",
      "txt : Z / tmp : 90\n",
      "txt : Z\n",
      "txt : Z / tmp : 90\n",
      "txt : Z\n",
      "txt :   / tmp : 32\n",
      "txt : q / tmp : 113\n",
      "txt : q\n",
      "['e', ' ', 'F', ' ', 'd', ' ', 'E', 'F', ' ', 'C', 'c', 'd', ' ', 'D', 'D', ' ', 'u']\n"
     ]
    },
    {
     "data": {
      "text/plain": [
       "'e F d EF Ccd DD u'"
      ]
     },
     "execution_count": 194,
     "metadata": {},
     "output_type": "execute_result"
    }
   ],
   "source": [
    "def solution(s, n):\n",
    "    answer = []\n",
    "    for txt in s:\n",
    "        tmp = ord(txt)\n",
    "        print(f'txt : {txt} / tmp : {tmp}')\n",
    "        if txt.isupper():\n",
    "            answer.append(chr(tmp+n-26) if tmp+n > 90 else chr(tmp+n))\n",
    "            # s.replace(txt,chr(tmp+n-26) if tmp+n > 90 else chr(tmp+n))\n",
    "            print(f'txt : {txt}')\n",
    "        elif txt.islower():\n",
    "            answer.append(chr(tmp+n-26) if tmp+n > 122 else chr(tmp+n))\n",
    "            # txt = chr(tmp+n-26) if tmp+n > 122 else chr(tmp+n)\n",
    "            print(f'txt : {txt}')\n",
    "        else:\n",
    "            answer.append(txt)\n",
    "    return ''.join(answer)\n",
    "\n",
    "s=\"a B z AB Yyz ZZ q\"\n",
    "n=4\n",
    "solution(s, n)"
   ]
  },
  {
   "cell_type": "code",
   "execution_count": 36,
   "metadata": {},
   "outputs": [],
   "source": [
    "# 제출\n",
    "def solution(s, n):\n",
    "    answer = []\n",
    "    for txt in s:\n",
    "        tmp = ord(txt)\n",
    "        if txt.isupper():\n",
    "            answer.append(chr(tmp+n-26) if tmp+n > 90 else chr(tmp+n))\n",
    "        elif txt.islower():\n",
    "            answer.append(chr(tmp+n-26) if tmp+n > 122 else chr(tmp+n))\n",
    "        else:\n",
    "            answer.append(txt)\n",
    "    return ''.join(answer)"
   ]
  },
  {
   "cell_type": "code",
   "execution_count": 195,
   "metadata": {},
   "outputs": [
    {
     "data": {
      "text/plain": [
       "'e F d EF ]}d DD u'"
      ]
     },
     "execution_count": 195,
     "metadata": {},
     "output_type": "execute_result"
    }
   ],
   "source": [
    "def solution(s, n):\n",
    "    return ''.join([chr(ord(txt)+(n-26)) if (ord(txt) == 122 or ord(txt) == 90) else chr(ord(txt)+n) if ord(txt) != 32 else txt for txt in s])\n",
    "\n",
    "s=\"a B z AB Yyz ZZ q\"\n",
    "n=4\n",
    "solution(s, n)"
   ]
  },
  {
   "cell_type": "code",
   "execution_count": null,
   "metadata": {},
   "outputs": [],
   "source": [
    "# 해설\n",
    "'''\n",
    "처음에는 가볍게 보고 했다가 실패했는데\n",
    "\n",
    "```python\n",
    "# 첫번째 실패\n",
    "def solution(s, n):\n",
    "    return ''.join([chr(ord(txt)+(n-26)) if (ord(txt) == 122 or ord(txt) == 90) else chr(ord(txt)+n) if ord(txt) != 32 else txt for txt in s])\n",
    "\n",
    "s=\"a B z AB Yyz ZZ q\"\n",
    "n=4\n",
    "solution(s, n)\n",
    "# output: 'e F d EF ]}d DD u'\n",
    "```\n",
    "\n",
    "보니까 중간에 조건이 안 맞는 부분이 txt의 ord에 n을 더했을 때 z혹은 Z의 범위를 넘어갈 때를 생각하지 못해서였음. 그걸 더 하려다가 뭔가 꼬여서 처음부터 그냥 if 문에 대문자, 소문자 걸고 tmp+n이 해당 범위를 넘어가면 -26을 했고 아니면 그대로 해서 성공.\n",
    "'''"
   ]
  },
  {
   "attachments": {},
   "cell_type": "markdown",
   "metadata": {},
   "source": [
    "#### 최소직사각형 [fin:2023-01-19]\n",
    "link : https://school.programmers.co.kr/learn/courses/30/lessons/86491\n",
    "\n",
    "**문제 설명**\n",
    "\n",
    "명함 지갑을 만드는 회사에서 지갑의 크기를 정하려고 합니다. 다양한 모양과 크기의 명함들을 모두 수납할 수 있으면서, 작아서 들고 다니기 편한 지갑을 만들어야 합니다. 이러한 요건을 만족하는 지갑을 만들기 위해 디자인팀은 모든 명함의 가로 길이와 세로 길이를 조사했습니다.\n",
    "\n",
    "아래 표는 4가지 명함의 가로 길이와 세로 길이를 나타냅니다.\n",
    "\n",
    "| 명함 번호 | 가로 길이 | 세로 길이 |\n",
    "| --- | --- | --- |\n",
    "| 1 | 60 | 50 |\n",
    "| 2 | 30 | 70 |\n",
    "| 3 | 60 | 30 |\n",
    "| 4 | 80 | 40 |\n",
    "\n",
    "가장 긴 가로 길이와 세로 길이가 각각 80, 70이기 때문에 80(가로) x 70(세로) 크기의 지갑을 만들면 모든 명함들을 수납할 수 있습니다. 하지만 2번 명함을 가로로 눕혀 수납한다면 80(가로) x 50(세로) 크기의 지갑으로 모든 명함들을 수납할 수 있습니다. 이때의 지갑 크기는 4000(=80 x 50)입니다.\n",
    "\n",
    "모든 명함의 가로 길이와 세로 길이를 나타내는 2차원 배열 sizes가 매개변수로 주어집니다. 모든 명함을 수납할 수 있는 가장 작은 지갑을 만들 때, 지갑의 크기를 return 하도록 solution 함수를 완성해주세요.\n",
    "\n",
    "**제한사항**\n",
    "\n",
    "- sizes의 길이는 1 이상 10,000 이하입니다.\n",
    "    - sizes의 원소는 [w, h] 형식입니다.\n",
    "    - w는 명함의 가로 길이를 나타냅니다.\n",
    "    - h는 명함의 세로 길이를 나타냅니다.\n",
    "    - w와 h는 1 이상 1,000 이하인 자연수입니다.\n",
    "\n",
    "**입출력 예**\n",
    "\n",
    "| sizes | result |\n",
    "| --- | --- |\n",
    "| [[60, 50], [30, 70], [60, 30], [80, 40]] | 4000 |\n",
    "| [[10, 7], [12, 3], [8, 15], [14, 7], [5, 15]] | 120 |\n",
    "| [[14, 4], [19, 6], [6, 16], [18, 7], [7, 11]] | 133 |"
   ]
  },
  {
   "cell_type": "code",
   "execution_count": 197,
   "metadata": {},
   "outputs": [
    {
     "name": "stdout",
     "output_type": "stream",
     "text": [
      "[60, 50]\n",
      "[70, 50]\n",
      "[70, 50]\n",
      "[80, 50]\n"
     ]
    },
    {
     "data": {
      "text/plain": [
       "4000"
      ]
     },
     "execution_count": 197,
     "metadata": {},
     "output_type": "execute_result"
    }
   ],
   "source": [
    "def solution(sizes):\n",
    "    answer = [0,0]\n",
    "    for card in sizes:\n",
    "        big = card[0] if card[0] > card[1] else card[1]\n",
    "        small = card[0] if card[0] < card[1] else card[1]\n",
    "        answer[0] = big if big > answer[0] else answer[0]\n",
    "        answer[1] = small if small > answer[1] else answer[1]\n",
    "    return answer[0]*answer[1]\n",
    "\n",
    "\n",
    "sizes = [[60, 50], [30, 70], [60, 30], [80, 40]]\n",
    "solution(sizes)"
   ]
  },
  {
   "cell_type": "code",
   "execution_count": 38,
   "metadata": {},
   "outputs": [],
   "source": [
    "# 제출\n",
    "def solution(sizes):\n",
    "    answer = [0,0]\n",
    "    for card in sizes:\n",
    "        big = card[0] if card[0] > card[1] else card[1]\n",
    "        small = card[0] if card[0] < card[1] else card[1]\n",
    "        answer[0] = big if big > answer[0] else answer[0]\n",
    "        answer[1] = small if small > answer[1] else answer[1]\n",
    "    return answer[0]*answer[1]\n"
   ]
  },
  {
   "cell_type": "code",
   "execution_count": 198,
   "metadata": {},
   "outputs": [],
   "source": [
    "# 다른 사람 풀이 1\n",
    "def solution(sizes):\n",
    "    return max(max(x) for x in sizes) * max(min(x) for x in sizes)"
   ]
  },
  {
   "cell_type": "code",
   "execution_count": null,
   "metadata": {},
   "outputs": [],
   "source": [
    "# 다른 사람 풀이 2\n",
    "solution = lambda sizes: max(sum(sizes, [])) * max(min(size) for size in sizes)"
   ]
  },
  {
   "cell_type": "code",
   "execution_count": null,
   "metadata": {},
   "outputs": [],
   "source": [
    "# 해설\n",
    "'''\n",
    "처음에 그냥 가장 큰 것들끼리 곱하라는 건가 했는데 그게 아니라 회전해도 된다는 개념이어서 결국 명함의 w와h 중에서 큰 애는 big에, 작은 애는 small 에 넣고 기존과도 비교하면서 큰 애들 중에서 max, 작은 애들 중에서 max를 잡아서 하니까 맞긴 맞음. 근데 다른 사람들 풀이 중에서\n",
    "\n",
    "```python\n",
    "# 다른 사람 풀이 1\n",
    "def solution(sizes):\n",
    "    return max(max(x) for x in sizes) * max(min(x) for x in sizes)\n",
    "```\n",
    "\n",
    "```python\n",
    "# 다른 사람 풀이 2\n",
    "solution = lambda sizes: max(sum(sizes, [])) * max(min(size) for size in sizes)\n",
    "```\n",
    "\n",
    "이 둘이 인상 깊었는데, 그 중에서 `sum(list,[])` 를 하면 그냥 하나의 list로 묶어주는 거 보고 되는 거였지 하고 다시 기억해냄.. 처음에 배울때 그렇구나 했는데 써보질 않아서 이해 못하다가 이번에 이해한 느낌. 풀이 1의 경우 for문이 2번 쓰이고 max랑 min이 계속 쓰여서 시간복잡도가 어떨지 모르겠지만 간결해서 좋다. 풀이 2번의 경우도 max랑 min이 많지만 이건 sum(list,[])이 신기해서.\n",
    "\n",
    "해당에 대한 내용은 [https://stackoverflow.com/questions/33541947/what-does-the-built-in-function-sum-do-with-sumlist](https://stackoverflow.com/questions/33541947/what-does-the-built-in-function-sum-do-with-sumlist) 에서도 확인 가능.\n",
    "\n",
    "참조 : [https://docs.python.org/ko/3/library/functions.html#sum](https://docs.python.org/ko/3/library/functions.html#sum)\n",
    "'''"
   ]
  },
  {
   "attachments": {},
   "cell_type": "markdown",
   "metadata": {},
   "source": [
    "#### 삼총사 [fin:2023-01-19]\n",
    "link : https://school.programmers.co.kr/learn/courses/30/lessons/131705\n",
    "\n",
    "**문제 설명**\n",
    "\n",
    "한국중학교에 다니는 학생들은 각자 정수 번호를 갖고 있습니다. 이 학교 학생 3명의 정수 번호를 더했을 때 0이 되면 3명의 학생은 삼총사라고 합니다. 예를 들어, 5명의 학생이 있고, 각각의 정수 번호가 순서대로 -2, 3, 0, 2, -5일 때, 첫 번째, 세 번째, 네 번째 학생의 정수 번호를 더하면 0이므로 세 학생은 삼총사입니다. 또한, 두 번째, 네 번째, 다섯 번째 학생의 정수 번호를 더해도 0이므로 세 학생도 삼총사입니다. 따라서 이 경우 한국중학교에서는 두 가지 방법으로 삼총사를 만들 수 있습니다.\n",
    "\n",
    "한국중학교 학생들의 번호를 나타내는 정수 배열 `number`가 매개변수로 주어질 때, 학생들 중 삼총사를 만들 수 있는 방법의 수를 return 하도록 solution 함수를 완성하세요.\n",
    "\n",
    "**제한사항**\n",
    "\n",
    "- 3 ≤ `number`의 길이 ≤ 13\n",
    "- 1,000 ≤ `number`의 각 원소 ≤ 1,000\n",
    "- 서로 다른 학생의 정수 번호가 같을 수 있습니다.\n",
    "\n",
    "**입출력 예**\n",
    "\n",
    "| number | result |\n",
    "| --- | --- |\n",
    "| [-2, 3, 0, 2, -5] | 2 |\n",
    "| [-3, -2, -1, 0, 1, 2, 3] | 5 |\n",
    "| [-1, 1, -1, 1] | 0 |"
   ]
  },
  {
   "cell_type": "code",
   "execution_count": 205,
   "metadata": {},
   "outputs": [
    {
     "data": {
      "text/plain": [
       "5"
      ]
     },
     "execution_count": 205,
     "metadata": {},
     "output_type": "execute_result"
    }
   ],
   "source": [
    "from itertools import combinations\n",
    "def solution(number):\n",
    "    return sum(1 for i in combinations(number,3) if sum(i) == 0)\n",
    "\n",
    "number=[-3, -2, -1, 0, 1, 2, 3]\n",
    "solution(number)"
   ]
  },
  {
   "cell_type": "code",
   "execution_count": 40,
   "metadata": {},
   "outputs": [],
   "source": [
    "# 제출\n",
    "from itertools import combinations\n",
    "def solution(number):\n",
    "    return sum(1 for i in combinations(number,3) if sum(i) == 0)"
   ]
  },
  {
   "cell_type": "code",
   "execution_count": null,
   "metadata": {},
   "outputs": [],
   "source": [
    "# 해설\n",
    "'''\n",
    "저건 무조건 경우의 수들을 하나하나 구해야 하고 number의 길이도 3에서 13 사이니까 할 만 하다 싶어서 바로 combinations 하고 조건으로 sum이 0이면 1을 넣어서 전부 sum함.\n",
    "'''"
   ]
  },
  {
   "attachments": {},
   "cell_type": "markdown",
   "metadata": {},
   "source": [
    "#### [1차] 비밀지도 [fin:2023-01-19]\n",
    "link : https://school.programmers.co.kr/learn/courses/30/lessons/17681\n",
    "\n",
    "**문제 설명**\n",
    "\n",
    "**비밀지도**\n",
    "\n",
    "네오는 평소 프로도가 비상금을 숨겨놓는 장소를 알려줄 비밀지도를 손에 넣었다. 그런데 이 비밀지도는 숫자로 암호화되어 있어 위치를 확인하기 위해서는 암호를 해독해야 한다. 다행히 지도 암호를 해독할 방법을 적어놓은 메모도 함께 발견했다.\n",
    "\n",
    "1. 지도는 한 변의 길이가 `n`인 정사각형 배열 형태로, 각 칸은 \"공백\"(\" \") 또는 \"벽\"(\"#\") 두 종류로 이루어져 있다.\n",
    "2. 전체 지도는 두 장의 지도를 겹쳐서 얻을 수 있다. 각각 \"지도 1\"과 \"지도 2\"라고 하자. 지도 1 또는 지도 2 중 어느 하나라도 벽인 부분은 전체 지도에서도 벽이다. 지도 1과 지도 2에서 모두 공백인 부분은 전체 지도에서도 공백이다.\n",
    "3. \"지도 1\"과 \"지도 2\"는 각각 정수 배열로 암호화되어 있다.\n",
    "4. 암호화된 배열은 지도의 각 가로줄에서 벽 부분을 `1`, 공백 부분을 `0`으로 부호화했을 때 얻어지는 이진수에 해당하는 값의 배열이다.\n",
    "\n",
    "![http://t1.kakaocdn.net/welcome2018/secret8.png](http://t1.kakaocdn.net/welcome2018/secret8.png)\n",
    "\n",
    "네오가 프로도의 비상금을 손에 넣을 수 있도록, 비밀지도의 암호를 해독하는 작업을 도와줄 프로그램을 작성하라.\n",
    "\n",
    "**입력 형식**\n",
    "\n",
    "입력으로 지도의 한 변 크기 `n` 과 2개의 정수 배열 `arr1`, `arr2`가 들어온다.\n",
    "\n",
    "- 1 ≦ `n` ≦ 16\n",
    "- `arr1`, `arr2`는 길이 `n`인 정수 배열로 주어진다.\n",
    "- 정수 배열의 각 원소 `x`를 이진수로 변환했을 때의 길이는 `n` 이하이다. 즉, 0 ≦ `x` ≦ $2^n - 1$을 만족한다.\n",
    "\n",
    "**출력 형식**\n",
    "\n",
    "원래의 비밀지도를 해독하여 `'#'`, `공백`으로 구성된 문자열 배열로 출력하라.\n",
    "\n",
    "**입출력 예제**\n",
    "\n",
    "| 매개변수 | 값 |\n",
    "| --- | --- |\n",
    "| n | 5 |\n",
    "| arr1 | [9, 20, 28, 18, 11] |\n",
    "| arr2 | [30, 1, 21, 17, 28] |\n",
    "| 출력 | [\"#####\",\"# # #\", \"### #\", \"# ##\", \"#####\"] |\n",
    "\n",
    "| 매개변수 | 값 |\n",
    "| --- | --- |\n",
    "| n | 6 |\n",
    "| arr1 | [46, 33, 33 ,22, 31, 50] |\n",
    "| arr2 | [27 ,56, 19, 14, 14, 10] |\n",
    "| 출력 | [\"######\", \"### #\", \"## ##\", \" #### \", \" #####\", \"### # \"] |\n",
    "\n",
    "해설 : [https://tech.kakao.com/2017/09/27/kakao-blind-recruitment-round-1/](https://tech.kakao.com/2017/09/27/kakao-blind-recruitment-round-1/)"
   ]
  },
  {
   "cell_type": "code",
   "execution_count": 236,
   "metadata": {},
   "outputs": [
    {
     "name": "stdout",
     "output_type": "stream",
     "text": [
      "01001\n",
      "11110\n",
      "39\n",
      "100111\n",
      "31\n"
     ]
    }
   ],
   "source": [
    "print(bin(9)[2:].zfill(5) if len(bin(9)[2:]) < 5 else bin(9)[2:])\n",
    "print(bin(30)[2:])\n",
    "print(int(bin(9)[2:],2)+int(bin(30)[2:],2))\n",
    "print(bin(39)[2:])\n",
    "print(9|30)"
   ]
  },
  {
   "cell_type": "code",
   "execution_count": 238,
   "metadata": {},
   "outputs": [
    {
     "name": "stdout",
     "output_type": "stream",
     "text": [
      "111111\n",
      "111001\n",
      "110011\n",
      "11110\n",
      "11111\n",
      "111010\n"
     ]
    },
    {
     "data": {
      "text/plain": [
       "['######', '###  #', '##  ##', '#### ', '#####', '### # ']"
      ]
     },
     "execution_count": 238,
     "metadata": {},
     "output_type": "execute_result"
    }
   ],
   "source": [
    "def solution(n, arr1, arr2):\n",
    "    answer = []\n",
    "    for a1, a2 in zip(arr1,arr2):\n",
    "        bit = bin(a1|a2)[2:].zfill(n)\n",
    "        answer.append(bit.replace('1','#').replace('0',' '))\n",
    "    return answer\n",
    "\n",
    "n=6\n",
    "# 5\n",
    "arr1=[46, 33, 33, 22, 31, 50]\n",
    "# [9, 20, 28, 18, 11]\n",
    "arr2=[27, 56, 19, 14, 14, 10]\n",
    "# [30, 1, 21, 17, 28]\n",
    "solution(n, arr1, arr2)\n",
    "# [\"######\", \"###  #\", \"##  ##\", \" #### \", \" #####\", \"### # \"]"
   ]
  },
  {
   "cell_type": "code",
   "execution_count": 42,
   "metadata": {},
   "outputs": [],
   "source": [
    "# 제출\n",
    "def solution(n, arr1, arr2):\n",
    "    answer = []\n",
    "    for a1, a2 in zip(arr1,arr2):\n",
    "        bit = bin(a1|a2)[2:].zfill(n)\n",
    "        answer.append(bit.replace('1','#').replace('0',' '))\n",
    "    return answer"
   ]
  },
  {
   "cell_type": "code",
   "execution_count": null,
   "metadata": {},
   "outputs": [],
   "source": [
    "# 해설\n",
    "'''\n",
    "' | bitwise OR 는 논리합이다. 두 비트의 값 중 하나만 1이어도 1이다.' 라는 문장을 정리할 때는 그랬구나 했는데 풀 때 헐 하게 되었다. 처음에는 예전에 못 푼 것 때문에 할까 말까 하다가 해봤는데 이번에는 이진수의 연산이니까 비트연산 할 수 있다는 걸 깨달음. 그래도 이런 문제 여러 번 풀어봐야 할 듯.\n",
    "'''"
   ]
  },
  {
   "attachments": {},
   "cell_type": "markdown",
   "metadata": {},
   "source": [
    "#### 문자열 내 마음대로 정렬하기 [fin:2023-01-20]\n",
    "link : https://school.programmers.co.kr/learn/courses/30/lessons/12915\n",
    "\n",
    "**문제 설명**\n",
    "\n",
    "문자열로 구성된 리스트 strings와, 정수 n이 주어졌을 때, 각 문자열의 인덱스 n번째 글자를 기준으로 오름차순 정렬하려 합니다. 예를 들어 strings가 [\"sun\", \"bed\", \"car\"]이고 n이 1이면 각 단어의 인덱스 1의 문자 \"u\", \"e\", \"a\"로 strings를 정렬합니다.\n",
    "\n",
    "**제한 조건**\n",
    "\n",
    "- strings는 길이 1 이상, 50이하인 배열입니다.\n",
    "- strings의 원소는 소문자 알파벳으로 이루어져 있습니다.\n",
    "- strings의 원소는 길이 1 이상, 100이하인 문자열입니다.\n",
    "- 모든 strings의 원소의 길이는 n보다 큽니다.\n",
    "- 인덱스 1의 문자가 같은 문자열이 여럿 일 경우, 사전순으로 앞선 문자열이 앞쪽에 위치합니다.\n",
    "\n",
    "**입출력 예**\n",
    "\n",
    "| strings | n | return |\n",
    "| --- | --- | --- |\n",
    "| [\"sun\", \"bed\", \"car\"] | 1 | [\"car\", \"bed\", \"sun\"] |\n",
    "| [\"abce\", \"abcd\", \"cdx\"] | 2 | [\"abcd\", \"abce\", \"cdx\"] |"
   ]
  },
  {
   "cell_type": "code",
   "execution_count": 253,
   "metadata": {},
   "outputs": [
    {
     "data": {
      "text/plain": [
       "['abcd', 'abce', 'cdx']"
      ]
     },
     "execution_count": 253,
     "metadata": {},
     "output_type": "execute_result"
    }
   ],
   "source": [
    "def solution(strings, n):\n",
    "    answer = []\n",
    "    return sorted(strings,key=lambda x : (x[n], x))\n",
    "\n",
    "strings = [\"abce\", \"abcd\", \"cdx\"]\n",
    "# [\"sun\", \"bed\", \"car\"]\n",
    "# [\"abce\", \"abcd\", \"cdx\"]\n",
    "n = 2\n",
    "# 2\n",
    "solution(strings, n)\n",
    "# output : [\"abcd\", \"abce\", \"cdx\"]\n",
    "# output : [\"car\", \"bed\", \"sun\"]"
   ]
  },
  {
   "cell_type": "code",
   "execution_count": 44,
   "metadata": {},
   "outputs": [],
   "source": [
    "# 제출\n",
    "def solution(strings, n):\n",
    "    answer = []\n",
    "    return sorted(strings,key=lambda x : (x[n], x))"
   ]
  },
  {
   "cell_type": "code",
   "execution_count": null,
   "metadata": {},
   "outputs": [],
   "source": [
    "# 해설\n",
    "'''\n",
    "이전에 sorted의 key에 대해서 lambda x로 문자 하나하나 정렬할 순서를 처음에는 x문자의 n번째 인덱스로 잡고 그 다음에는 알아서 되도록 x 추가.\n",
    "'''"
   ]
  },
  {
   "attachments": {},
   "cell_type": "markdown",
   "metadata": {},
   "source": [
    "#### K번째수 [fin:2023-01-20]\n",
    "link : https://school.programmers.co.kr/learn/courses/30/lessons/42748\n",
    "\n",
    "**문제 설명**\n",
    "\n",
    "배열 array의 i번째 숫자부터 j번째 숫자까지 자르고 정렬했을 때, k번째에 있는 수를 구하려 합니다.\n",
    "\n",
    "예를 들어 array가 [1, 5, 2, 6, 3, 7, 4], i = 2, j = 5, k = 3이라면\n",
    "\n",
    "1. array의 2번째부터 5번째까지 자르면 [5, 2, 6, 3]입니다.\n",
    "2. 1에서 나온 배열을 정렬하면 [2, 3, 5, 6]입니다.\n",
    "3. 2에서 나온 배열의 3번째 숫자는 5입니다.\n",
    "\n",
    "배열 array, [i, j, k]를 원소로 가진 2차원 배열 commands가 매개변수로 주어질 때, commands의 모든 원소에 대해 앞서 설명한 연산을 적용했을 때 나온 결과를 배열에 담아 return 하도록 solution 함수를 작성해주세요.\n",
    "\n",
    "**제한사항**\n",
    "\n",
    "- array의 길이는 1 이상 100 이하입니다.\n",
    "- array의 각 원소는 1 이상 100 이하입니다.\n",
    "- commands의 길이는 1 이상 50 이하입니다.\n",
    "- commands의 각 원소는 길이가 3입니다.\n",
    "\n",
    "**입출력 예**\n",
    "\n",
    "| array | commands | return |\n",
    "| --- | --- | --- |\n",
    "| [1, 5, 2, 6, 3, 7, 4] | [[2, 5, 3], [4, 4, 1], [1, 7, 3]] | [5, 6, 3] |"
   ]
  },
  {
   "cell_type": "code",
   "execution_count": null,
   "metadata": {},
   "outputs": [],
   "source": [
    "def solution(array, commands):\n",
    "    answer = []\n",
    "    for cmd in commands:\n",
    "        answer.append(sorted(array[cmd[0]-1:cmd[1]])[cmd[2]-1])"
   ]
  },
  {
   "cell_type": "code",
   "execution_count": 272,
   "metadata": {},
   "outputs": [
    {
     "data": {
      "text/plain": [
       "[5, 6, 3]"
      ]
     },
     "execution_count": 272,
     "metadata": {},
     "output_type": "execute_result"
    }
   ],
   "source": [
    "def solution(array, commands):\n",
    "    return [sorted(array[cmd[0]-1:cmd[1]])[cmd[2]-1] for cmd in commands]\n",
    "\n",
    "array= [1, 5, 2, 6, 3, 7, 4]\n",
    "commands = [[2, 5, 3], [4, 4, 1], [1, 7, 3]]\n",
    "solution(array, commands)"
   ]
  },
  {
   "cell_type": "code",
   "execution_count": 254,
   "metadata": {},
   "outputs": [],
   "source": [
    "# 제출\n",
    "def solution(array, commands):\n",
    "    return [sorted(array[cmd[0]-1:cmd[1]])[cmd[2]-1] for cmd in commands]"
   ]
  },
  {
   "cell_type": "code",
   "execution_count": null,
   "metadata": {},
   "outputs": [],
   "source": [
    "# 해설\n",
    "'''\n",
    "이건 처음에 인덱스 번호가 아니어서 틀렸다가 -1을 하니까 맞음.. 근데 cmd라고 해도 되지만\n",
    "\n",
    "`[sorted(array[i-1:j])[k-1] for i,j,k in commands]` 라고 풀어도 될 듯.\n",
    "'''"
   ]
  },
  {
   "attachments": {},
   "cell_type": "markdown",
   "metadata": {},
   "source": [
    "#### 숫자 문자열과 영단어 [fin:2023-01-20]\n",
    "link : https://school.programmers.co.kr/learn/courses/30/lessons/81301\n",
    "\n",
    "**문제 설명**\n",
    "\n",
    "![https://grepp-programmers.s3.ap-northeast-2.amazonaws.com/files/production/d31cb063-4025-4412-8cbc-6ac6909cf93e/img1.png](https://grepp-programmers.s3.ap-northeast-2.amazonaws.com/files/production/d31cb063-4025-4412-8cbc-6ac6909cf93e/img1.png)\n",
    "\n",
    "네오와 프로도가 숫자놀이를 하고 있습니다. 네오가 프로도에게 숫자를 건넬 때 일부 자릿수를 영단어로 바꾼 카드를 건네주면 프로도는 원래 숫자를 찾는 게임입니다.다음은 숫자의 일부 자릿수를 영단어로 바꾸는 예시입니다.\n",
    "\n",
    "- 1478 → \"one4seveneight\"\n",
    "- 234567 → \"23four5six7\"\n",
    "- 10203 → \"1zerotwozero3\"\n",
    "\n",
    "이렇게 숫자의 일부 자릿수가 영단어로 바뀌어졌거나, 혹은 바뀌지 않고 그대로인 문자열 `s`가 매개변수로 주어집니다. `s`가 의미하는 원래 숫자를 return 하도록 solution 함수를 완성해주세요.\n",
    "\n",
    "참고로 각 숫자에 대응되는 영단어는 다음 표와 같습니다.\n",
    "\n",
    "| 숫자 | 영단어 |\n",
    "| --- | --- |\n",
    "| 0 | zero |\n",
    "| 1 | one |\n",
    "| 2 | two |\n",
    "| 3 | three |\n",
    "| 4 | four |\n",
    "| 5 | five |\n",
    "| 6 | six |\n",
    "| 7 | seven |\n",
    "| 8 | eight |\n",
    "| 9 | nine |\n",
    "\n",
    "**제한사항**\n",
    "\n",
    "- 1 ≤ `s`의 길이 ≤ 50\n",
    "- `s`가 \"zero\" 또는 \"0\"으로 시작하는 경우는 주어지지 않습니다.\n",
    "- return 값이 1 이상 2,000,000,000 이하의 정수가 되는 올바른 입력만 `s`로 주어집니다.\n",
    "\n",
    "**입출력 예**\n",
    "\n",
    "| s | result |\n",
    "| --- | --- |\n",
    "| \"one4seveneight\" | 1478 |\n",
    "| \"23four5six7\" | 234567 |\n",
    "| \"2three45sixseven\" | 234567 |\n",
    "| \"123\" | 123 |"
   ]
  },
  {
   "cell_type": "code",
   "execution_count": null,
   "metadata": {},
   "outputs": [],
   "source": [
    "# 제출\n",
    "def solution(s):\n",
    "    answer = ''\n",
    "    num_dict = {'zero' : 0, 'one' : 1, 'two' : 2, 'three' : 3, 'four' : 4, 'five' : 5, 'six' : 6, 'seven' : 7, 'eight' : 8, 'nine' : 9 }\n",
    "    tmp = ''\n",
    "    for txt in s:\n",
    "        if txt.isdigit():\n",
    "            answer += txt\n",
    "        else:\n",
    "            tmp += txt\n",
    "        if tmp in num_dict.keys():\n",
    "            answer += str(num_dict[tmp])\n",
    "            tmp=''\n",
    "    return int(answer)"
   ]
  },
  {
   "cell_type": "code",
   "execution_count": null,
   "metadata": {},
   "outputs": [],
   "source": [
    "# 해설\n",
    "'''\n",
    "풀긴 했는데 풀고나서 후회한 점. 그냥 0도 str 하고 나서 items()로 replace할 걸..\n",
    "\n",
    "다른 사람 풀이도 그랬다..\n",
    "\n",
    "```python\n",
    "def solution(s):\n",
    "    num_dict = {'zero' : '0', 'one' : '1', 'two' : '2', 'three' : '3', 'four' : '4', 'five' : '5', 'six' : '6', 'seven' : '7', 'eight' : '8', 'nine' : '9' }\n",
    "    for key, val in num_dict.items():\n",
    "        s = s.replace(key, val)\n",
    "    return int(s)\n",
    "```\n",
    "\n",
    "이러면 더 짧고 간단한데…\n",
    "'''"
   ]
  },
  {
   "attachments": {},
   "cell_type": "markdown",
   "metadata": {},
   "source": [
    "#### 나머지 한 점 [fin:2023-01-20]\n",
    "link : https://school.programmers.co.kr/learn/courses/18/lessons/1878\n",
    "\n",
    "**문제 설명**\n",
    "\n",
    "직사각형을 만드는 데 필요한 4개의 점 중 3개의 좌표가 주어질 때, 나머지 한 점의 좌표를 구하려고 합니다. 점 3개의 좌표가 들어있는 배열 v가 매개변수로 주어질 때, 직사각형을 만드는 데 필요한 나머지 한 점의 좌표를 return 하도록 solution 함수를 완성해주세요. 단, 직사각형의 각 변은 x축, y축에 평행하며, 반드시 직사각형을 만들 수 있는 경우만 입력으로 주어집니다.\n",
    "\n",
    "**제한사항**\n",
    "\n",
    "- v는 세 점의 좌표가 들어있는 2차원 배열입니다.\n",
    "- v의 각 원소는 점의 좌표를 나타내며, 좌표는 [x축 좌표, y축 좌표] 순으로 주어집니다.\n",
    "- 좌표값은 1 이상 10억 이하의 자연수입니다.\n",
    "- 직사각형을 만드는 데 필요한 나머지 한 점의 좌표를 [x축 좌표, y축 좌표] 순으로 담아 return 해주세요.\n",
    "\n",
    "**입출력 예**\n",
    "\n",
    "| v | result |\n",
    "| --- | --- |\n",
    "| [[1, 4], [3, 4], [3, 10]] | [1, 10] |\n",
    "| [[1, 1], [2, 2], [1, 2]] | [2, 1] |"
   ]
  },
  {
   "cell_type": "code",
   "execution_count": 5,
   "metadata": {},
   "outputs": [
    {
     "name": "stdout",
     "output_type": "stream",
     "text": [
      "^ bitwise XOR 는 배타적 논리합이다.\n",
      "두 비트 중 하나가 1이면 1이고 나머진 0이다.\n",
      "예를 들어 1^1 과 0^0은 0이지만 1^0이나 0^1은 1을 반환한다.\n",
      "\n",
      "A xor A = 0\n",
      "A xor A xor B = B\n",
      "\n",
      "같은 값 두 개와 다른 값 한 개를 XOR 하면 다른 값 한 개가 나온다는 원리\n",
      "\n",
      "v[0][0], v[0][1] : 0001, 0100\n",
      "v[1][0], v[1][1] : 0011, 0100\n",
      "v[2][0], v[2][1] : 0011, 1010\n",
      "\n",
      "\n",
      "\n",
      "v1^v3^v5 : 1 -> bin : 0001\n",
      "v2^v4^v6 : 10 -> bin : 1010\n"
     ]
    }
   ],
   "source": [
    "print('^ bitwise XOR 는 배타적 논리합이다.\\n두 비트 중 하나가 1이면 1이고 나머진 0이다.\\n예를 들어 1^1 과 0^0은 0이지만 1^0이나 0^1은 1을 반환한다.\\n\\nA xor A = 0\\nA xor A xor B = B\\n\\n같은 값 두 개와 다른 값 한 개를 XOR 하면 다른 값 한 개가 나온다는 원리\\n')\n",
    "v = [[1, 4], [3, 4], [3, 10]]\n",
    "n = 4\n",
    "v1 = bin(v[0][0])[2:].zfill(n)\n",
    "v2 = bin(v[0][1])[2:].zfill(n)\n",
    "v3 = bin(v[1][0])[2:].zfill(n)\n",
    "v4 = bin(v[1][1])[2:].zfill(n)\n",
    "v5 = bin(v[2][0])[2:].zfill(n)\n",
    "v6 = bin(v[2][1])[2:].zfill(n)\n",
    "print(f'v[0][0], v[0][1] : {v1}, {v2}')\n",
    "print(f'v[1][0], v[1][1] : {v3}, {v4}')\n",
    "print(f'v[2][0], v[2][1] : {v5}, {v6}')\n",
    "print('\\n\\n')\n",
    "print(f'v1^v3^v5 : {v[0][0] ^ v[1][0] ^ v[2][0]} -> bin : {bin(v[0][0] ^ v[1][0] ^ v[2][0])[2:].zfill(n)}')\n",
    "print(f'v2^v4^v6 : {v[0][1] ^ v[1][1] ^ v[2][1]} -> bin : {bin(v[0][1] ^ v[1][1] ^ v[2][1])[2:].zfill(n)}')\n"
   ]
  },
  {
   "cell_type": "code",
   "execution_count": null,
   "metadata": {},
   "outputs": [],
   "source": [
    "# 제출\n",
    "def solution(v):\n",
    "    return [v[0][0] ^ v[1][0] ^ v[2][0],v[0][1] ^ v[1][1] ^ v[2][1]]"
   ]
  },
  {
   "cell_type": "code",
   "execution_count": null,
   "metadata": {},
   "outputs": [],
   "source": [
    "# 다르게 풀기\n",
    "def solution(v):\n",
    "    x = [v[0][0],v[1][0],v[2][0]]\n",
    "    y = [v[0][1],v[1][1],v[2][1]]\n",
    "    tmp = [0,0]\n",
    "    for i,j in zip(x,y):\n",
    "        if x.count(i) == 1:\n",
    "            tmp[0] = i\n",
    "        if y.count(j) == 1:\n",
    "            tmp[1] = j\n",
    "    return tmp"
   ]
  },
  {
   "cell_type": "code",
   "execution_count": null,
   "metadata": {},
   "outputs": [],
   "source": [
    "# 해설\n",
    "'''\n",
    "^ bitwise XOR 는 배타적 논리합이다.\n",
    "두 비트 중 하나가 1이면 1이고 나머진 0이다.\n",
    "예를 들어 1^1 과 0^0은 0이지만 1^0이나 0^1은 1을 반환한다.\n",
    "\n",
    "A xor A = 0\n",
    "A xor A xor B = B\n",
    "\n",
    "같은 값 두 개와 다른 값 한 개를 XOR 하면 다른 값 한 개가 나온다는 원리\n",
    "\n",
    "```python\n",
    "v[0][0], v[0][1] : 0001, 0100\n",
    "v[1][0], v[1][1] : 0011, 0100\n",
    "v[2][0], v[2][1] : 0011, 1010\n",
    "\n",
    "# output : \n",
    "# v1^v3^v5 : 1  -> bin : 0001\n",
    "# v2^v4^v6 : 10 -> bin : 1010\n",
    "```\n",
    "\n",
    "이건 좀 전에 XOR 관련으로 풀고 나서 이전에 봤던 걸 다시 꺼내본 건데, 결국에는 주어진 v의 원소의 조합 중에서 같은 값 두 개와 다른 값 한 개를 XOR 한다면 다른 값 한 개가 온다는 걸 찾아서 하긴 했지만..\n",
    "\n",
    "그래서 그냥 아는 대로 다시 풀었음\n",
    "\n",
    "```python\n",
    "def solution(v):\n",
    "    x = [v[0][0],v[1][0],v[2][0]]\n",
    "    y = [v[0][1],v[1][1],v[2][1]]\n",
    "    tmp = [0,0]\n",
    "    for i,j in zip(x,y):\n",
    "        if x.count(i) == 1:\n",
    "            tmp[0] = i\n",
    "        if y.count(j) == 1:\n",
    "            tmp[1] = j\n",
    "    return tmp\n",
    "```\n",
    "'''"
   ]
  },
  {
   "attachments": {},
   "cell_type": "markdown",
   "metadata": {},
   "source": [
    "#### 두 개 뽑아서 더하기 [fin:2023-01-20]\n",
    "link : https://school.programmers.co.kr/learn/courses/30/lessons/68644\n",
    "\n",
    "**문제 설명**\n",
    "\n",
    "정수 배열 numbers가 주어집니다. numbers에서 서로 다른 인덱스에 있는 두 개의 수를 뽑아 더해서 만들 수 있는 모든 수를 배열에 오름차순으로 담아 return 하도록 solution 함수를 완성해주세요.\n",
    "\n",
    "**제한사항**\n",
    "\n",
    "- numbers의 길이는 2 이상 100 이하입니다.\n",
    "    - numbers의 모든 수는 0 이상 100 이하입니다.\n",
    "\n",
    "**입출력 예**\n",
    "\n",
    "| numbers | result |\n",
    "| --- | --- |\n",
    "| [2,1,3,4,1] | [2,3,4,5,6,7] |\n",
    "| [5,0,2,7] | [2,5,7,9,12] |"
   ]
  },
  {
   "cell_type": "code",
   "execution_count": 10,
   "metadata": {},
   "outputs": [
    {
     "data": {
      "text/plain": [
       "[2, 5, 7, 9, 12]"
      ]
     },
     "execution_count": 10,
     "metadata": {},
     "output_type": "execute_result"
    }
   ],
   "source": [
    "from itertools import combinations\n",
    "def solution(numbers):\n",
    "    return sorted(set(sum(i) for i in set(combinations(numbers,2))))\n",
    "\n",
    "\n",
    "numbers = [5,0,2,7]\n",
    "# [2,1,3,4,1]\n",
    "solution(numbers)"
   ]
  },
  {
   "cell_type": "code",
   "execution_count": null,
   "metadata": {},
   "outputs": [],
   "source": [
    "# 제출\n",
    "from itertools import combinations\n",
    "def solution(numbers):\n",
    "    return sorted(set(sum(i) for i in list(combinations(numbers,2))))"
   ]
  },
  {
   "cell_type": "code",
   "execution_count": null,
   "metadata": {},
   "outputs": [],
   "source": [
    "# 해설\n",
    "'''\n",
    "numbers의 len이 100이하라고 해서 combinations를 쓸 수 있겠다 싶어서 시도. 그리고 중복이 있는 건 나온 경우의 수들의 sum을 set으로 거르고 오름차순으로 반환하라고 해서 sorted를 쓰긴 했는데 다른 사람 풀이들은 대부분 for loop이 이중이라서 이쪽을 좀 더 선호함.\n",
    "'''"
   ]
  },
  {
   "attachments": {},
   "cell_type": "markdown",
   "metadata": {},
   "source": [
    "#### 2016년 [fin:2023-01-25]\n",
    "link : https://school.programmers.co.kr/learn/courses/30/lessons/12901\n",
    "\n",
    "\n",
    "**문제 설명**\n",
    "\n",
    "2016년 1월 1일은 금요일입니다. 2016년 a월 b일은 무슨 요일일까요? 두 수 a ,b를 입력받아 2016년 a월 b일이 무슨 요일인지 리턴하는 함수, solution을 완성하세요. 요일의 이름은 일요일부터 토요일까지 각각 `SUN,MON,TUE,WED,THU,FRI,SAT`\n",
    "\n",
    "입니다. 예를 들어 a=5, b=24라면 5월 24일은 화요일이므로 문자열 \"TUE\"를 반환하세요.\n",
    "\n",
    "\n",
    "**제한 조건**\n",
    "\n",
    "- 2016년은 윤년입니다.\n",
    "- 2016년 a월 b일은 실제로 있는 날입니다. (13월 26일이나 2월 45일같은 날짜는 주어지지 않습니다)\n",
    "\n",
    "**입출력 예**\n",
    "\n",
    "| a | b | result |\n",
    "| --- | --- | --- |\n",
    "| 5 | 24 | \"TUE\" |"
   ]
  },
  {
   "cell_type": "code",
   "execution_count": 19,
   "metadata": {},
   "outputs": [
    {
     "data": {
      "text/plain": [
       "'TUE'"
      ]
     },
     "execution_count": 19,
     "metadata": {},
     "output_type": "execute_result"
    }
   ],
   "source": [
    "# 제출\n",
    "import datetime\n",
    "def solution(a, b):\n",
    "    days = ['MON', 'TUE', 'WED', 'THU', 'FRI', 'SAT', 'SUN']\n",
    "    return days[datetime.date(2016,a,b).weekday()]\n",
    "\n",
    "a=5\n",
    "b=24\n",
    "solution(a, b)"
   ]
  },
  {
   "cell_type": "code",
   "execution_count": null,
   "metadata": {},
   "outputs": [],
   "source": [
    "# 해설\n",
    "'''\n",
    "이건 사실 import datetime을 알면 끝이긴 하다. MON부터 잡은 이유는 datetime모듈의 weekday가 월요일부터 시작해서 맞춘 것 뿐. 그걸 제외하고는 datetime모듈의 date로 잡고 weekday로 요일에 따른 수를 맞춘 건데, 그걸 제외하고 다른 사람 풀이 중에서는\n",
    "\n",
    "```python\n",
    "# 다른 사람 풀이\n",
    "def soulution(a,b):\n",
    "    months = [31, 29, 31, 30, 31, 30, 31, 31, 30, 31, 30, 31]\n",
    "    days = ['FRI', 'SAT', 'SUN', 'MON', 'TUE', 'WED', 'THU']\n",
    "    return days[(sum(months[:a-1])+b-1)%7]\n",
    "```\n",
    "\n",
    "이게 좀 똑똑했는데 2016년은 윤년이라서 2월이 29일인 걸 제외하고는 1,3,5,7,8,10,12월은 31일까지 2월 제외한 4,6,9,11월은 30일에 끝나는걸 기반으로 하고 거기에서 인덱스로 5월의 날을 맞추고 공식화 한 거.\n",
    "\n",
    "그러다가 날짜 계산 공식 있는 거 생각나서 추가.\n",
    "'''"
   ]
  },
  {
   "cell_type": "code",
   "execution_count": 39,
   "metadata": {},
   "outputs": [
    {
     "name": "stdout",
     "output_type": "stream",
     "text": [
      "1\n"
     ]
    },
    {
     "data": {
      "text/plain": [
       "'SUN'"
      ]
     },
     "execution_count": 39,
     "metadata": {},
     "output_type": "execute_result"
    }
   ],
   "source": [
    "def solution(m, d):\n",
    "    days = ['SAT','SUN','MON','TUE','WED','THU','FRI',]\n",
    "    m = m if m > 2 else 13 if m == 1 else 14\n",
    "    y = (2016-1) if m == 13 or m == 14 else 2016\n",
    "    k = (y%100) # 16 년도\n",
    "    j = int(y/100) # 20 세기\n",
    "    # W = [C/4]+Y+[Y/4]-2*C+[13*(M+1)/5]+D mod 7\n",
    "    # C : 년도의 앞의 두자리 수, ex) 2018 → 20\n",
    "    # Y : 년도의 뒤의 두자리 수, ex) 2018 →18\n",
    "    # M : 월, 3월=3, 4월=4 … 12월=12, 1월=13, 2월=14 (1월, 2월의 경우 Y에 이전 년도를 입력)\n",
    "    # D : 일자\n",
    "    exp = (d+int(13*(m+1)/5)+k+int(k/4)+int(j/4)-(2*j))%7\n",
    "    print(exp)\n",
    "    return days[exp]\n",
    "\n",
    "a=1# 5\n",
    "b=3# 24\n",
    "solution(a, b)"
   ]
  },
  {
   "cell_type": "code",
   "execution_count": 42,
   "metadata": {},
   "outputs": [
    {
     "name": "stdout",
     "output_type": "stream",
     "text": [
      "1/3 : SUN\n",
      "2016-02-11 : THU\n"
     ]
    }
   ],
   "source": [
    "# 제출\n",
    "def solution(m, d):\n",
    "    days = ['SAT','SUN','MON','TUE','WED','THU','FRI']\n",
    "    m = m if m > 2 else 13 if m == 1 else 14\n",
    "    y = (2016-1) if m == 13 or m == 14 else 2016\n",
    "    k = (y%100)\n",
    "    j = int(y/100)\n",
    "    exp = (d+int(13*(m+1)/5)+k+int(k/4)+int(j/4)-(2*j))%7\n",
    "    return days[exp]\n",
    "a=1# 5\n",
    "b=3# 24\n",
    "print(f'{a}/{b} : {solution(a, b)}')\n",
    "print(f'2016-02-11 : {solution(2,11)}')"
   ]
  },
  {
   "cell_type": "code",
   "execution_count": null,
   "metadata": {},
   "outputs": [],
   "source": [
    "# 해설 2\n",
    "'''\n",
    "1. 일년은 365일이다. 365 = 7일 * 52주 + 1일이다.  따라서 일년의 차이는 같은 월-일이면 요일에 하루 차이가 난다. 예를 들어서 작년 2022년 1월 1일이 토요일이었기 때문에 올해인 2023년 1월 1일은 일요일이다. 거기다가 4년마다 돌아오는 윤년이라는 변수가 숨어있다. \n",
    "\n",
    "윤년은 7일 * 52주 + 2일이라서 366일이므로 2일의 차이가 난다. 윤년의 규칙은 아래와 같다.\n",
    "\n",
    "> 그레고리력의 정확한 윤년 규칙은 다음과 같다.\n",
    "1. [서력 기원](http://ko.wikipedia.org/wiki/%EC%84%9C%EB%A0%A5_%EA%B8%B0%EC%9B%90) 연수가 4로 나누어 떨어지는 해는 윤년으로 한다.(2004년, 2008년, 2012년…)\n",
    "2. 이 중에서 100으로 나누어 떨어지는 해는 평년으로 한다.(2100년, 2200년, 2300년…)\n",
    "3. 그 중에 400으로 나누어 떨어지는 해는 윤년으로 둔다.(1600년, 2000년, 2400년 …)\n",
    "[http://ko.wikipedia.org/wiki/윤년](https://ko.wikipedia.org/wiki/%EC%9C%A4%EB%85%84)\n",
    "> \n",
    "\n",
    " 위를 근거로 2016년은 윤년이므로 2월은 29일이다. 그리고 기본적으로 월의 경우 7개월인 1,3,5,7,8,10,12월은 31일이고 2월을 제외한 나머지 4개월 4,6,9,11월은 30일이다. 이를 이용하여 Zeller의 요일계산 공식(**Zeller's Congruence 혹은 첼러의 합동식**)을 이용하면\n",
    "\n",
    "![source : [https://en.wikipedia.org/wiki/Zeller's_congruence](https://en.wikipedia.org/wiki/Zeller's_congruence)](https://s3-us-west-2.amazonaws.com/secure.notion-static.com/c71f0ada-2f13-4dd4-804e-760c1b16ff9f/Untitled.png)\n",
    "\n",
    "source : [https://en.wikipedia.org/wiki/Zeller's_congruence](https://en.wikipedia.org/wiki/Zeller's_congruence)\n",
    "\n",
    "${ h = \\left ( q + \\left\\lfloor {\\frac {13(m+1)}{5}}\\right\\rfloor + K + \\left\\lfloor {\\frac {K}{4}}\\right\\rfloor + \\left\\lfloor {\\frac {J}{4}}\\right\\rfloor - 2J \\right)\\mod 7 }$\n",
    "\n",
    "- **h** : 요일 ( 0 = 토, 1 = 일, 2 = 월, ..., 6 = 금 ) → `days = ['SAT','SUN','MON','TUE','WED','THU','FRI']`\n",
    "- **q** : 일 → q\n",
    "- **m** : 월 (1월=13, 2=14, 3월=3, 4월=4, … 12월=12)  → `m = m if m > 2 else 13 if m == 1 else 14`\n",
    "- **K** : 연도 뒷2자리 ( 연도를 100으로 나 나머지) → `(year%100)`\n",
    "- **J** : 세기 연도 앞 2자리 → `int(year/100)`\n",
    "- **mod**는 나머지 연산을 의미하며, **[ ]**는 가우스 기호로 \"X 보다 크지 않은 최대 정수\"를 의미하므로 파이썬에서는 `int()` 캐스팅.\n",
    "\n",
    "예시 : 2016-05-24 혹은 2016-01-03, 2016-02-11 모두 맞음.\n",
    "\n",
    "```python\n",
    "# 제출\n",
    "def solution(m, d):\n",
    "    days = ['SAT','SUN','MON','TUE','WED','THU','FRI']\n",
    "    m = m if m > 2 else 13 if m == 1 else 14\n",
    "    y = (2016-1) if m == 13 or m == 14 else 2016\n",
    "    k = (y%100)\n",
    "    j = int(y/100)\n",
    "    exp = (d+int(13*(m+1)/5)+k+int(k/4)+int(j/4)-(2*j))%7\n",
    "    return days[exp]\n",
    "\n",
    "```\n",
    "\n",
    "ref : [https://en.wikipedia.org/wiki/Zeller's_congruence](https://en.wikipedia.org/wiki/Zeller's_congruence)\n",
    "'''\n"
   ]
  },
  {
   "attachments": {},
   "cell_type": "markdown",
   "metadata": {},
   "source": [
    "#### 폰켓몬 [fin:2023-01-25]\n",
    "link : https://school.programmers.co.kr/learn/courses/30/lessons/1845\n",
    "\n",
    "**문제 설명**\n",
    "\n",
    "당신은 폰켓몬을 잡기 위한 오랜 여행 끝에, 홍 박사님의 연구실에 도착했습니다. 홍 박사님은 당신에게 자신의 연구실에 있는 총 N 마리의 폰켓몬 중에서 N/2마리를 가져가도 좋다고 했습니다.홍 박사님 연구실의 폰켓몬은 종류에 따라 번호를 붙여 구분합니다. 따라서 같은 종류의 폰켓몬은 같은 번호를 가지고 있습니다. 예를 들어 연구실에 총 4마리의 폰켓몬이 있고, 각 폰켓몬의 종류 번호가 [3번, 1번, 2번, 3번]이라면 이는 3번 폰켓몬 두 마리, 1번 폰켓몬 한 마리, 2번 폰켓몬 한 마리가 있음을 나타냅니다. 이때, 4마리의 폰켓몬 중 2마리를 고르는 방법은 다음과 같이 6가지가 있습니다.\n",
    "\n",
    "1. 첫 번째(3번), 두 번째(1번) 폰켓몬을 선택\n",
    "2. 첫 번째(3번), 세 번째(2번) 폰켓몬을 선택\n",
    "3. 첫 번째(3번), 네 번째(3번) 폰켓몬을 선택\n",
    "4. 두 번째(1번), 세 번째(2번) 폰켓몬을 선택\n",
    "5. 두 번째(1번), 네 번째(3번) 폰켓몬을 선택\n",
    "6. 세 번째(2번), 네 번째(3번) 폰켓몬을 선택\n",
    "\n",
    "이때, 첫 번째(3번) 폰켓몬과 네 번째(3번) 폰켓몬을 선택하는 방법은 한 종류(3번 폰켓몬 두 마리)의 폰켓몬만 가질 수 있지만, 다른 방법들은 모두 두 종류의 폰켓몬을 가질 수 있습니다. 따라서 위 예시에서 가질 수 있는 폰켓몬 종류 수의 최댓값은 2가 됩니다.당신은 최대한 다양한 종류의 폰켓몬을 가지길 원하기 때문에, 최대한 많은 종류의 폰켓몬을 포함해서 N/2마리를 선택하려 합니다. N마리 폰켓몬의 종류 번호가 담긴 배열 nums가 매개변수로 주어질 때, N/2마리의 폰켓몬을 선택하는 방법 중, 가장 많은 종류의 폰켓몬을 선택하는 방법을 찾아, 그때의 폰켓몬 종류 번호의 개수를 return 하도록 solution 함수를 완성해주세요.\n",
    "\n",
    "**제한사항**\n",
    "\n",
    "- nums는 폰켓몬의 종류 번호가 담긴 1차원 배열입니다.\n",
    "- nums의 길이(N)는 1 이상 10,000 이하의 자연수이며, 항상 짝수로 주어집니다.\n",
    "- 폰켓몬의 종류 번호는 1 이상 200,000 이하의 자연수로 나타냅니다.\n",
    "- 가장 많은 종류의 폰켓몬을 선택하는 방법이 여러 가지인 경우에도, 선택할 수 있는 폰켓몬 종류 개수의 최댓값 하나만 return 하면 됩니다.\n",
    "\n",
    "**입출력 예**\n",
    "\n",
    "| nums | result |\n",
    "| --- | --- |\n",
    "| [3,1,2,3] | 2 |\n",
    "| [3,3,3,2,2,4] | 3 |\n",
    "| [3,3,3,2,2,2] | 2 |"
   ]
  },
  {
   "cell_type": "code",
   "execution_count": 2,
   "metadata": {},
   "outputs": [
    {
     "name": "stdout",
     "output_type": "stream",
     "text": [
      "{1, 2, 3}\n"
     ]
    },
    {
     "data": {
      "text/plain": [
       "3"
      ]
     },
     "execution_count": 2,
     "metadata": {},
     "output_type": "execute_result"
    }
   ],
   "source": [
    "def solution(nums):\n",
    "    n = len(nums)//2\n",
    "    set_num = set(nums)\n",
    "    print(set_num)\n",
    "    return len(set_num) if n >= len(set_num) else n\n",
    "\n",
    "nums=[3, 1, 2, 3]\n",
    "# [3,3,3,2,2,4]\n",
    "solution(nums)"
   ]
  },
  {
   "cell_type": "code",
   "execution_count": null,
   "metadata": {},
   "outputs": [],
   "source": [
    "# 제출\n",
    "def solution(nums):\n",
    "    n = len(nums)//2\n",
    "    set_num = set(nums)\n",
    "    return len(set_num) if n >= len(set_num) else n"
   ]
  },
  {
   "cell_type": "code",
   "execution_count": null,
   "metadata": {},
   "outputs": [],
   "source": [
    "# short\n",
    "def solution(nums):\n",
    "    return min(len(set(nums)),len(nums)//2)"
   ]
  },
  {
   "cell_type": "code",
   "execution_count": null,
   "metadata": {},
   "outputs": [],
   "source": [
    "# 해설\n",
    "'''\n",
    "문제는 길지만 결국 이해한 내용으로는 \n",
    "\n",
    "1. N/2마리를 선택해야 하며 → 이 수를 넘을 수 없음. \n",
    "2. 최대한 많은 종류의 폰켓몬을 선택한다.  → set\n",
    "\n",
    "이 조건으로 성공했지만 줄일 수 있을 거 같아서 줄여봄.\n",
    "\n",
    "```python\n",
    "# short\n",
    "def solution(nums):\n",
    "    return min(len(set(nums)),len(nums)//2)\n",
    "```\n",
    "\n",
    "그랬더니 다른 사람 풀이도 비슷하더라는..\n",
    "'''"
   ]
  },
  {
   "attachments": {},
   "cell_type": "markdown",
   "metadata": {},
   "source": [
    "#### 콜라 문제 [fin:2023-02-20]\n",
    "link : https://school.programmers.co.kr/learn/courses/30/lessons/132267\n",
    "\n",
    "**문제 설명**\n",
    "\n",
    "오래전 유행했던 콜라 문제가 있습니다. 콜라 문제의 지문은 다음과 같습니다.\n",
    "\n",
    "> 정답은 아무에게도 말하지 마세요.\n",
    "> \n",
    "> \n",
    "> 콜라 빈 병 2개를 가져다주면 콜라 1병을 주는 마트가 있다. 빈 병 20개를 가져다주면 몇 병을 받을 수 있는가?\n",
    "> \n",
    "> 단, 보유 중인 빈 병이 2개 미만이면, 콜라를 받을 수 없다.\n",
    "> \n",
    "\n",
    "문제를 풀던 상빈이는 콜라 문제의 완벽한 해답을 찾았습니다. 상빈이가 푼 방법은 아래 그림과 같습니다. 우선 콜라 빈 병 20병을 가져가서 10병을 받습니다. 받은 10병을 모두 마신 뒤, 가져가서 5병을 받습니다. 5병 중 4병을 모두 마신 뒤 가져가서 2병을 받고, 또 2병을 모두 마신 뒤 가져가서 1병을 받습니다. 받은 1병과 5병을 받았을 때 남은 1병을 모두 마신 뒤 가져가면 1병을 또 받을 수 있습니다. 이 경우 상빈이는 총 10 + 5 + 2 + 1 + 1 = 19병의 콜라를 받을 수 있습니다.\n",
    "\n",
    "![https://grepp-programmers.s3.ap-northeast-2.amazonaws.com/files/production/95ce1c11-2f21-4248-8bfc-e330299cbb9a/image6.PNG](https://grepp-programmers.s3.ap-northeast-2.amazonaws.com/files/production/95ce1c11-2f21-4248-8bfc-e330299cbb9a/image6.PNG)\n",
    "\n",
    "문제를 열심히 풀던 상빈이는 일반화된 콜라 문제를 생각했습니다. 이 문제는 빈 병 `a`개를 가져다주면 콜라 `b`병을 주는 마트가 있을 때, 빈 병 `n`개를 가져다주면 몇 병을 받을 수 있는지 계산하는 문제입니다. 기존 콜라 문제와 마찬가지로, 보유 중인 빈 병이 `a`개 미만이면, 추가적으로 빈 병을 받을 순 없습니다. 상빈이는 열심히 고심했지만, 일반화된 콜라 문제의 답을 찾을 수 없었습니다. 상빈이를 도와, 일반화된 콜라 문제를 해결하는 프로그램을 만들어 주세요.\n",
    "\n",
    "콜라를 받기 위해 마트에 주어야 하는 병 수 `a`, 빈 병 a개를 가져다 주면 마트가 주는 콜라 병 수 `b`, 상빈이가 가지고 있는 빈 병의 개수 `n`이 매개변수로 주어집니다. 상빈이가 받을 수 있는 콜라의 병 수를 return 하도록 solution 함수를 작성해주세요.\n",
    "\n",
    "**제한사항**\n",
    "\n",
    "- 1 ≤ `b` < `a` ≤ `n` ≤ 1,000,000\n",
    "- 정답은 항상 int 범위를 넘지 않게 주어집니다.\n",
    "\n",
    "**입출력 예**\n",
    "\n",
    "| a | b | n | result |\n",
    "| --- | --- | --- | --- |\n",
    "| 2 | 1 | 20 | 19 |\n",
    "| 3 | 1 | 20 | 9 |"
   ]
  },
  {
   "cell_type": "code",
   "execution_count": 7,
   "metadata": {},
   "outputs": [],
   "source": [
    "# 첫번째 제출\n",
    "def solution(a, b, n):\n",
    "    answer=0\n",
    "    while n > a:\n",
    "        answer += n//a\n",
    "        n = (n%a)*b+(n//a)\n",
    "    return answer+n//a"
   ]
  },
  {
   "cell_type": "code",
   "execution_count": null,
   "metadata": {},
   "outputs": [],
   "source": [
    "# 제출\n",
    "def solution(a, b, n):\n",
    "    answer=0\n",
    "    while n >= a:\n",
    "        answer += (n//a)*b\n",
    "        n = (n//a)*b+(n%a)\n",
    "    return answer"
   ]
  },
  {
   "cell_type": "code",
   "execution_count": null,
   "metadata": {},
   "outputs": [],
   "source": [
    "# 해설\n",
    "'''\n",
    "처음에는 b로서 받는 걸 제대로 생각 못하고 그리고 나머지를 다시 계산하는 과정을 잘못해서 아래 처럼 제출하고 거진 다 틀림.\n",
    "\n",
    "```python\n",
    "def solution(a, b, n):\n",
    "    answer=0\n",
    "    while n > a:\n",
    "        answer += n//a\n",
    "        n = (n%a)*b+(n//a)\n",
    "    return answer+n//a\n",
    "```\n",
    "\n",
    "그러고 나서 뭐지 하면서 다시 보다가 n이 a와 같으면 다시 나눠야 하니까  n ≥ a 처리부터 시작하고 n을 a로 나눈 몫에 b를 곱하고 다시 얻고 나머지를 더해서 n에 덧씌우고 answer에도 b만큼 얻은 걸 적용.\n",
    "'''"
   ]
  },
  {
   "attachments": {},
   "cell_type": "markdown",
   "metadata": {},
   "source": [
    "#### 크기가 작은 부분 문자열 [fin:2023-01-27]\n",
    "link : https://school.programmers.co.kr/learn/courses/30/lessons/147355\n",
    "\n",
    "**문제 설명**\n",
    "\n",
    "숫자로 이루어진 문자열 `t`와 `p`가 주어질 때, `t`에서 `p`와 길이가 같은 부분문자열 중에서, 이 부분문자열이 나타내는 수가 `p`가 나타내는 수보다 작거나 같은 것이 나오는 횟수를 return하는 함수 solution을 완성하세요.\n",
    "\n",
    "예를 들어, `t`=\"3141592\"이고 `p`=\"271\" 인 경우, `t`의 길이가 3인 부분 문자열은 314, 141, 415, 159, 592입니다. 이 문자열이 나타내는 수 중 271보다 작거나 같은 수는 141, 159 2개 입니다.\n",
    "\n",
    "\n",
    "\n",
    "**제한사항**\n",
    "\n",
    "- 1 ≤ `p`의 길이 ≤ 18\n",
    "- `p`의 길이 ≤ `t`의 길이 ≤ 10,000\n",
    "- `t`와 `p`는 숫자로만 이루어진 문자열이며, 0으로 시작하지 않습니다.\n",
    "\n",
    "\n",
    "\n",
    "**입출력 예**\n",
    "\n",
    "| t | p | result |\n",
    "| --- | --- | --- |\n",
    "| \"3141592\" | \"271\" | 2 |\n",
    "| \"500220839878\" | \"7\" | 8 |\n",
    "| \"10203\" | \"15\" | 3 |"
   ]
  },
  {
   "cell_type": "code",
   "execution_count": 13,
   "metadata": {},
   "outputs": [
    {
     "name": "stdout",
     "output_type": "stream",
     "text": [
      "[5, 0, 0, 2, 2, 0, 8, 3, 9, 8, 7, 8]\n"
     ]
    },
    {
     "data": {
      "text/plain": [
       "8"
      ]
     },
     "execution_count": 13,
     "metadata": {},
     "output_type": "execute_result"
    }
   ],
   "source": [
    "def solution(t, p):\n",
    "    len_p = len(p)\n",
    "    tmp = [int(t[i:i+len_p]) for i in range(len(t)) if len(t[i:i+len_p]) == len_p]\n",
    "    return sum(1 for num in tmp if int(p) >= num)\n",
    "\n",
    "\n",
    "\n",
    "t,p=\"500220839878\",\"7\"\n",
    "# \"500220839878\",\"7\"\n",
    "# \"3141592\",\"271\"\n",
    "solution(t, p)"
   ]
  },
  {
   "cell_type": "code",
   "execution_count": null,
   "metadata": {},
   "outputs": [],
   "source": [
    "# 제출\n",
    "def solution(t, p):\n",
    "    len_p = len(p)\n",
    "    tmp = [int(t[i:i+len_p]) for i in range(len(t)) if len(t[i:i+len_p]) == len_p]\n",
    "    return sum(1 for num in tmp if int(p) >= num)"
   ]
  },
  {
   "cell_type": "code",
   "execution_count": null,
   "metadata": {},
   "outputs": [],
   "source": [
    "# short\n",
    "def solution(t, p):\n",
    "    len_p = len(p)\n",
    "    return len([int(t[i:i+len_p]) for i in range(len(t)) if len(t[i:i+len_p]) == len_p and int(t[i:i+len_p]) <= int(p)])"
   ]
  },
  {
   "cell_type": "code",
   "execution_count": null,
   "metadata": {},
   "outputs": [],
   "source": [
    "# 해설\n",
    "'''\n",
    "slicing을 이용해서 했는데 short으로도 줄여봄. 그런데 실제 제출해보면 먼저 제출한 게 더 시간복잡도가 낮음… 흠?\n",
    "'''"
   ]
  },
  {
   "attachments": {},
   "cell_type": "markdown",
   "metadata": {},
   "source": [
    "#### 소수 찾기 [fin:2023-01-27]\n",
    "link : https://school.programmers.co.kr/learn/courses/30/lessons/12921\n",
    "\n",
    "**문제 설명**\n",
    "\n",
    "1부터 입력받은 숫자 n 사이에 있는 소수의 개수를 반환하는 함수, solution을 만들어 보세요.\n",
    "\n",
    "소수는 1과 자기 자신으로만 나누어지는 수를 의미합니다.(1은 소수가 아닙니다.)\n",
    "\n",
    "**제한 조건**\n",
    "\n",
    "- n은 2이상 1000000이하의 자연수입니다.\n",
    "\n",
    "**입출력 예**\n",
    "\n",
    "| n | result |\n",
    "| --- | --- |\n",
    "| 10 | 4 |\n",
    "| 5 | 3 |"
   ]
  },
  {
   "cell_type": "code",
   "execution_count": 1,
   "metadata": {},
   "outputs": [
    {
     "data": {
      "text/plain": [
       "0"
      ]
     },
     "execution_count": 1,
     "metadata": {},
     "output_type": "execute_result"
    }
   ],
   "source": [
    "def solution(n):\n",
    "    answer = 0\n",
    "    return answer\n",
    "\n",
    "\n",
    "n=10\n",
    "solution(n)"
   ]
  },
  {
   "cell_type": "code",
   "execution_count": null,
   "metadata": {},
   "outputs": [],
   "source": [
    "# 제출\n",
    "def prime(x):\n",
    "    for d in range(2,int(x**.5)+1):\n",
    "        if x%d==0:\n",
    "            return False\n",
    "    return True\n",
    "\n",
    "def solution(n):\n",
    "    return len([i for i in range(2,n+1) if prime(i)])"
   ]
  },
  {
   "cell_type": "code",
   "execution_count": null,
   "metadata": {},
   "outputs": [],
   "source": [
    "# 해설\n",
    "'''\n",
    "이전에 소수를 찾는 함수를 만든 걸 응용해서 썼는데, 에라토스테네스의 체를 더 간결하게 구현한 걸 봄\n",
    "\n",
    "```python\n",
    "def solution(n):\n",
    "    num=set(range(2,n+1))\n",
    "\n",
    "    for i in range(2,n+1):\n",
    "        if i in num:\n",
    "            num-=set(range(2*i,n+1,i))\n",
    "    return len(num)\n",
    "```\n",
    "\n",
    "이것도 꽤 똑똑하게 잘 짠 듯 물론 일정 이상 가면 나중에 같은 반복이겠지만 어차피 소수 찾는 건 한 번 다 돌려야 하는 상황이고..\n",
    "'''"
   ]
  },
  {
   "attachments": {},
   "cell_type": "markdown",
   "metadata": {},
   "source": [
    "#### 모의고사 [fin:2023-02-01]\n",
    "link : https://school.programmers.co.kr/learn/courses/30/lessons/42840\n",
    "\n",
    "**문제 설명**\n",
    "\n",
    "수포자는 수학을 포기한 사람의 준말입니다. 수포자 삼인방은 모의고사에 수학 문제를 전부 찍으려 합니다. 수포자는 1번 문제부터 마지막 문제까지 다음과 같이 찍습니다.\n",
    "\n",
    "1번 수포자가 찍는 방식: 1, 2, 3, 4, 5, 1, 2, 3, 4, 5, ...2번 수포자가 찍는 방식: 2, 1, 2, 3, 2, 4, 2, 5, 2, 1, 2, 3, 2, 4, 2, 5, ...3번 수포자가 찍는 방식: 3, 3, 1, 1, 2, 2, 4, 4, 5, 5, 3, 3, 1, 1, 2, 2, 4, 4, 5, 5, ...\n",
    "\n",
    "1번 문제부터 마지막 문제까지의 정답이 순서대로 들은 배열 answers가 주어졌을 때, 가장 많은 문제를 맞힌 사람이 누구인지 배열에 담아 return 하도록 solution 함수를 작성해주세요.\n",
    "\n",
    "**제한 조건**\n",
    "\n",
    "- 시험은 최대 10,000 문제로 구성되어있습니다.\n",
    "- 문제의 정답은 1, 2, 3, 4, 5중 하나입니다.\n",
    "- 가장 높은 점수를 받은 사람이 여럿일 경우, return하는 값을 오름차순 정렬해주세요.\n",
    "\n",
    "**입출력 예**\n",
    "\n",
    "| answers | return |\n",
    "| --- | --- |\n",
    "| [1,2,3,4,5] | [1] |\n",
    "| [1,3,2,4,2] | [1,2,3] |"
   ]
  },
  {
   "cell_type": "code",
   "execution_count": null,
   "metadata": {},
   "outputs": [],
   "source": [
    "# 제출\n",
    "def solution(answers):\n",
    "    N = len(answers)\n",
    "    one = ([1, 2, 3, 4, 5]*N)[:N]\n",
    "    two = ([2, 1, 2, 3, 2, 4, 2, 5]*N)[:N]\n",
    "    three = ([3, 3, 1, 1, 2, 2, 4, 4, 5, 5]*N)[:N]\n",
    "    count1, count2, count3 = 0,0,0\n",
    "    for i in range(N):\n",
    "        if answers[i] == one[i]:\n",
    "            count1 += 1\n",
    "        if answers[i] == two[i]:\n",
    "            count2 += 1\n",
    "        if answers[i] == three[i]:\n",
    "            count3 += 1\n",
    "    score = [count1, count2, count3]\n",
    "    max_mem = max(score)\n",
    "    return sorted(i+1 for i in range(3) if max_mem == score[i])"
   ]
  },
  {
   "cell_type": "code",
   "execution_count": null,
   "metadata": {},
   "outputs": [],
   "source": [
    "# 해설\n",
    "'''\n",
    "이건 처음에 문제 구현 부터 좀 버벅대다가 그냥 해보자 싶어서 1,2,3번을 각자 만들고 문제 맞춘 거 카운트 하려고 count1~3까지 만들고 for문으로 맞으면 count를 하나하나 시키고 socre에서 가장 큰 애 하나 잡아놓고 동일 수 있으면 index에서 +1하고 sorted했는데 처음에는 [1, 2, 3, 4, 5] 이렇게만 했더니 런타임 에러길래 체크하니까 문제의 길이를 파악을 안 했더란.. 그래서 문제 길이만큼 늘리게 해놓고 slicing함.\n",
    "\n",
    "하고 나서 좀 줄여본 게 아래와 같고\n",
    "\n",
    "def solution(answers):\n",
    "    N = len(answers)\n",
    "    one = ([1, 2, 3, 4, 5]*N)[:N]\n",
    "    two = ([2, 1, 2, 3, 2, 4, 2, 5]*N)[:N]\n",
    "    three = ([3, 3, 1, 1, 2, 2, 4, 4, 5, 5]*N)[:N]\n",
    "    score = [0,0,0]\n",
    "    for i in range(N):\n",
    "        if answers[i] == one[i]:\n",
    "            score[0] += 1\n",
    "        if answers[i] == two[i]:\n",
    "            score[1] += 1\n",
    "        if answers[i] == three[i]:\n",
    "            score[2] += 1\n",
    "    max_mem = max(score)\n",
    "    return sorted(i+1 for i in range(3) if max_mem == score[i])\n",
    "여기서 더 못 줄일 거 같아서 다른 사람 풀이 봤는데 결국 비슷했다…\n",
    "'''"
   ]
  },
  {
   "attachments": {},
   "cell_type": "markdown",
   "metadata": {},
   "source": [
    "#### 푸드 파이트 대회 [fin:2023-02-03]\n",
    "link : https://school.programmers.co.kr/learn/courses/30/lessons/134240\n",
    "\n",
    "**문제 설명**\n",
    "\n",
    "수웅이는 매달 주어진 음식을 빨리 먹는 푸드 파이트 대회를 개최합니다. 이 대회에서 선수들은 1대 1로 대결하며, 매 대결마다 음식의 종류와 양이 바뀝니다. 대결은 준비된 음식들을 일렬로 배치한 뒤, 한 선수는 제일 왼쪽에 있는 음식부터 오른쪽으로, 다른 선수는 제일 오른쪽에 있는 음식부터 왼쪽으로 순서대로 먹는 방식으로 진행됩니다. 중앙에는 물을 배치하고, 물을 먼저 먹는 선수가 승리하게 됩니다.\n",
    "\n",
    "이때, 대회의 공정성을 위해 두 선수가 먹는 음식의 종류와 양이 같아야 하며, 음식을 먹는 순서도 같아야 합니다. 또한, 이번 대회부터는 칼로리가 낮은 음식을 먼저 먹을 수 있게 배치하여 선수들이 음식을 더 잘 먹을 수 있게 하려고 합니다. 이번 대회를 위해 수웅이는 음식을 주문했는데, 대회의 조건을 고려하지 않고 음식을 주문하여 몇 개의 음식은 대회에 사용하지 못하게 되었습니다.\n",
    "\n",
    "예를 들어, 3가지의 음식이 준비되어 있으며, 칼로리가 적은 순서대로 1번 음식을 3개, 2번 음식을 4개, 3번 음식을 6개 준비했으며, 물을 편의상 0번 음식이라고 칭한다면, 두 선수는 1번 음식 1개, 2번 음식 2개, 3번 음식 3개씩을 먹게 되므로 음식의 배치는 \"1223330333221\"이 됩니다. 따라서 1번 음식 1개는 대회에 사용하지 못합니다.\n",
    "\n",
    "수웅이가 준비한 음식의 양을 칼로리가 적은 순서대로 나타내는 정수 배열 `food`가 주어졌을 때, 대회를 위한 음식의 배치를 나타내는 문자열을 return 하는 solution 함수를 완성해주세요.\n",
    "\n",
    "**제한사항**\n",
    "\n",
    "- 2 ≤ `food`의 길이 ≤ 9\n",
    "- 1 ≤ `food`의 각 원소 ≤ 1,000\n",
    "- `food`에는 칼로리가 적은 순서대로 음식의 양이 담겨 있습니다.\n",
    "- `food[i]`는 i번 음식의 수입니다.\n",
    "- `food[0]`은 수웅이가 준비한 물의 양이며, 항상 1입니다.\n",
    "- 정답의 길이가 3 이상인 경우만 입력으로 주어집니다.\n",
    "\n",
    "**입출력 예**\n",
    "\n",
    "| food | result |\n",
    "| --- | --- |\n",
    "| [1, 3, 4, 6] | \"1223330333221\" |\n",
    "| [1, 7, 1, 2] | \"111303111\" |"
   ]
  },
  {
   "cell_type": "code",
   "execution_count": null,
   "metadata": {},
   "outputs": [],
   "source": [
    "# 제출\n",
    "def solution(food):\n",
    "    answer = ''\n",
    "    for a in range(1,len(food)):\n",
    "        answer += str(a)*(food[a]//2)\n",
    "    return answer+'0'+answer[::-1]"
   ]
  },
  {
   "cell_type": "code",
   "execution_count": null,
   "metadata": {},
   "outputs": [],
   "source": [
    "# 해설\n",
    "'''\n",
    "처음에는 food를 0부터 시작하게 하고 index를 썼더니 동일한 수에 대해서 먼저번 index가 나오면서 6,14,20에서 틀리고 뭐가 문제지 하다가 food=[1, 5, 3, 5] 를 해보고 나서 index의 문제를 확인하고 수정해서 해결.\n",
    "'''"
   ]
  },
  {
   "attachments": {},
   "cell_type": "markdown",
   "metadata": {},
   "source": [
    "#### 가장 가까운 같은 글자 [fin:2023-02-20]\n",
    "link : https://school.programmers.co.kr/learn/courses/30/lessons/142086\n",
    "\n",
    "**문제 설명**\n",
    "\n",
    "문자열 `s`가 주어졌을 때, `s`의 각 위치마다 자신보다 앞에 나왔으면서, 자신과 가장 가까운 곳에 있는 같은 글자가 어디 있는지 알고 싶습니다.예를 들어, `s`=\"banana\"라고 할 때,  각 글자들을 왼쪽부터 오른쪽으로 읽어 나가면서 다음과 같이 진행할 수 있습니다.\n",
    "\n",
    "- b는 처음 나왔기 때문에 자신의 앞에 같은 글자가 없습니다. 이는 -1로 표현합니다.\n",
    "- a는 처음 나왔기 때문에 자신의 앞에 같은 글자가 없습니다. 이는 -1로 표현합니다.\n",
    "- n은 처음 나왔기 때문에 자신의 앞에 같은 글자가 없습니다. 이는 -1로 표현합니다.\n",
    "- a는 자신보다 두 칸 앞에 a가 있습니다. 이는 2로 표현합니다.\n",
    "- n도 자신보다 두 칸 앞에 n이 있습니다. 이는 2로 표현합니다.\n",
    "- a는 자신보다 두 칸, 네 칸 앞에 a가 있습니다. 이 중 가까운 것은 두 칸 앞이고, 이는 2로 표현합니다.\n",
    "\n",
    "따라서 최종 결과물은 [-1, -1, -1, 2, 2, 2]가 됩니다.\n",
    "\n",
    "문자열 `s`이 주어질 때, 위와 같이 정의된 연산을 수행하는 함수 solution을 완성해주세요.\n",
    "\n",
    "**제한사항**\n",
    "\n",
    "- 1 ≤ `s`의 길이 ≤ 10,000\n",
    "    - `s`은 영어 소문자로만 이루어져 있습니다.\n",
    "\n",
    "**입출력 예**\n",
    "\n",
    "| s | result |\n",
    "| --- | --- |\n",
    "| \"banana\" | [-1, -1, -1, 2, 2, 2] |\n",
    "| \"foobar\" | [-1, -1, 1, -1, -1, -1] |"
   ]
  },
  {
   "cell_type": "code",
   "execution_count": null,
   "metadata": {},
   "outputs": [],
   "source": [
    "# 제출\n",
    "def solution(s):\n",
    "    answer = [-1]*len(s)\n",
    "    tmp = {}\n",
    "    for i, char in enumerate(s):\n",
    "        if char in tmp:\n",
    "            answer[i] = i - tmp[char]\n",
    "        tmp[char] = i\n",
    "    return answer"
   ]
  },
  {
   "cell_type": "code",
   "execution_count": null,
   "metadata": {},
   "outputs": [],
   "source": [
    "# 해설\n",
    "'''\n",
    "처음에는 answer를 -1로 해놓고 나서 동일한 게 나오면 answer에서 i번째에서 tmp에 있는 index로 계산해서 처리하다가\n",
    "\n",
    "```jsx\n",
    "def solution(s):\n",
    "    answer = [-1]*len(s)\n",
    "    tmp = []\n",
    "    for i in range(len(s)):\n",
    "        print(tmp, i)\n",
    "        if tmp.count(s[i]):\n",
    "            answer[i] = i - tmp.index(s[i])\n",
    "        else:\n",
    "            tmp.append(s[i])\n",
    "    return answer\n",
    "```\n",
    "\n",
    "이렇게 풀었더니 결과가 `[-1, -1, -1, 2, 2, 4]` 이렇게 나오는 거 보고 마지막 a 때문에 index의 위치를 갱신해서 저장해야한다는 걸 알고 dict으로 바꿔서 처리해서 해결함.\n",
    "'''"
   ]
  },
  {
   "attachments": {},
   "cell_type": "markdown",
   "metadata": {},
   "source": [
    "#### template [fin:2023-02-20]\n",
    "link : \n",
    "\n",
    "**문제 설명**\n",
    "\n",
    "문자열로 구성된 리스트 strings와, 정수 n이 주어졌을 때, 각 문자열의 인덱스 n번째 글자를 기준으로 오름차순 정렬하려 합니다. 예를 들어 strings가 [\"sun\", \"bed\", \"car\"]이고 n이 1이면 각 단어의 인덱스 1의 문자 \"u\", \"e\", \"a\"로 strings를 정렬합니다.\n",
    "\n",
    "**제한 조건**\n",
    "\n",
    "- strings는 길이 1 이상, 50이하인 배열입니다.\n",
    "- strings의 원소는 소문자 알파벳으로 이루어져 있습니다.\n",
    "- strings의 원소는 길이 1 이상, 100이하인 문자열입니다.\n",
    "- 모든 strings의 원소의 길이는 n보다 큽니다.\n",
    "- 인덱스 1의 문자가 같은 문자열이 여럿 일 경우, 사전순으로 앞선 문자열이 앞쪽에 위치합니다.\n",
    "\n",
    "**입출력 예**\n",
    "\n",
    "| strings | n | return |\n",
    "| --- | --- | --- |\n",
    "| [\"sun\", \"bed\", \"car\"] | 1 | [\"car\", \"bed\", \"sun\"] |\n",
    "| [\"abce\", \"abcd\", \"cdx\"] | 2 | [\"abcd\", \"abce\", \"cdx\"] |"
   ]
  },
  {
   "cell_type": "code",
   "execution_count": null,
   "metadata": {},
   "outputs": [],
   "source": [
    "# 제출"
   ]
  },
  {
   "cell_type": "code",
   "execution_count": null,
   "metadata": {},
   "outputs": [],
   "source": [
    "# 해설\n",
    "'''\n",
    "'''"
   ]
  },
  {
   "attachments": {},
   "cell_type": "markdown",
   "metadata": {},
   "source": [
    "#### template [fin:2023-02-20]\n",
    "link : \n",
    "\n",
    "**문제 설명**\n",
    "\n",
    "문자열로 구성된 리스트 strings와, 정수 n이 주어졌을 때, 각 문자열의 인덱스 n번째 글자를 기준으로 오름차순 정렬하려 합니다. 예를 들어 strings가 [\"sun\", \"bed\", \"car\"]이고 n이 1이면 각 단어의 인덱스 1의 문자 \"u\", \"e\", \"a\"로 strings를 정렬합니다.\n",
    "\n",
    "**제한 조건**\n",
    "\n",
    "- strings는 길이 1 이상, 50이하인 배열입니다.\n",
    "- strings의 원소는 소문자 알파벳으로 이루어져 있습니다.\n",
    "- strings의 원소는 길이 1 이상, 100이하인 문자열입니다.\n",
    "- 모든 strings의 원소의 길이는 n보다 큽니다.\n",
    "- 인덱스 1의 문자가 같은 문자열이 여럿 일 경우, 사전순으로 앞선 문자열이 앞쪽에 위치합니다.\n",
    "\n",
    "**입출력 예**\n",
    "\n",
    "| strings | n | return |\n",
    "| --- | --- | --- |\n",
    "| [\"sun\", \"bed\", \"car\"] | 1 | [\"car\", \"bed\", \"sun\"] |\n",
    "| [\"abce\", \"abcd\", \"cdx\"] | 2 | [\"abcd\", \"abce\", \"cdx\"] |"
   ]
  },
  {
   "cell_type": "code",
   "execution_count": null,
   "metadata": {},
   "outputs": [],
   "source": [
    "# 제출"
   ]
  },
  {
   "cell_type": "code",
   "execution_count": null,
   "metadata": {},
   "outputs": [],
   "source": [
    "# 해설\n",
    "'''\n",
    "'''"
   ]
  },
  {
   "attachments": {},
   "cell_type": "markdown",
   "metadata": {},
   "source": [
    "#### template [fin:2023-02-20]\n",
    "link : \n",
    "\n",
    "**문제 설명**\n",
    "\n",
    "문자열로 구성된 리스트 strings와, 정수 n이 주어졌을 때, 각 문자열의 인덱스 n번째 글자를 기준으로 오름차순 정렬하려 합니다. 예를 들어 strings가 [\"sun\", \"bed\", \"car\"]이고 n이 1이면 각 단어의 인덱스 1의 문자 \"u\", \"e\", \"a\"로 strings를 정렬합니다.\n",
    "\n",
    "**제한 조건**\n",
    "\n",
    "- strings는 길이 1 이상, 50이하인 배열입니다.\n",
    "- strings의 원소는 소문자 알파벳으로 이루어져 있습니다.\n",
    "- strings의 원소는 길이 1 이상, 100이하인 문자열입니다.\n",
    "- 모든 strings의 원소의 길이는 n보다 큽니다.\n",
    "- 인덱스 1의 문자가 같은 문자열이 여럿 일 경우, 사전순으로 앞선 문자열이 앞쪽에 위치합니다.\n",
    "\n",
    "**입출력 예**\n",
    "\n",
    "| strings | n | return |\n",
    "| --- | --- | --- |\n",
    "| [\"sun\", \"bed\", \"car\"] | 1 | [\"car\", \"bed\", \"sun\"] |\n",
    "| [\"abce\", \"abcd\", \"cdx\"] | 2 | [\"abcd\", \"abce\", \"cdx\"] |"
   ]
  },
  {
   "cell_type": "code",
   "execution_count": null,
   "metadata": {},
   "outputs": [],
   "source": [
    "# 제출"
   ]
  },
  {
   "cell_type": "code",
   "execution_count": null,
   "metadata": {},
   "outputs": [],
   "source": [
    "# 해설\n",
    "'''\n",
    "'''"
   ]
  },
  {
   "attachments": {},
   "cell_type": "markdown",
   "metadata": {},
   "source": [
    "#### template [fin:2023-02-20]\n",
    "link : \n",
    "\n",
    "**문제 설명**\n",
    "\n",
    "문자열로 구성된 리스트 strings와, 정수 n이 주어졌을 때, 각 문자열의 인덱스 n번째 글자를 기준으로 오름차순 정렬하려 합니다. 예를 들어 strings가 [\"sun\", \"bed\", \"car\"]이고 n이 1이면 각 단어의 인덱스 1의 문자 \"u\", \"e\", \"a\"로 strings를 정렬합니다.\n",
    "\n",
    "**제한 조건**\n",
    "\n",
    "- strings는 길이 1 이상, 50이하인 배열입니다.\n",
    "- strings의 원소는 소문자 알파벳으로 이루어져 있습니다.\n",
    "- strings의 원소는 길이 1 이상, 100이하인 문자열입니다.\n",
    "- 모든 strings의 원소의 길이는 n보다 큽니다.\n",
    "- 인덱스 1의 문자가 같은 문자열이 여럿 일 경우, 사전순으로 앞선 문자열이 앞쪽에 위치합니다.\n",
    "\n",
    "**입출력 예**\n",
    "\n",
    "| strings | n | return |\n",
    "| --- | --- | --- |\n",
    "| [\"sun\", \"bed\", \"car\"] | 1 | [\"car\", \"bed\", \"sun\"] |\n",
    "| [\"abce\", \"abcd\", \"cdx\"] | 2 | [\"abcd\", \"abce\", \"cdx\"] |"
   ]
  },
  {
   "cell_type": "code",
   "execution_count": null,
   "metadata": {},
   "outputs": [],
   "source": [
    "# 제출"
   ]
  },
  {
   "cell_type": "code",
   "execution_count": null,
   "metadata": {},
   "outputs": [],
   "source": [
    "# 해설\n",
    "'''\n",
    "'''"
   ]
  }
 ],
 "metadata": {
  "kernelspec": {
   "display_name": "Python 3",
   "language": "python",
   "name": "python3"
  },
  "language_info": {
   "codemirror_mode": {
    "name": "ipython",
    "version": 3
   },
   "file_extension": ".py",
   "mimetype": "text/x-python",
   "name": "python",
   "nbconvert_exporter": "python",
   "pygments_lexer": "ipython3",
   "version": "3.10.10"
  },
  "orig_nbformat": 4,
  "vscode": {
   "interpreter": {
    "hash": "3ad933181bd8a04b432d3370b9dc3b0662ad032c4dfaa4e4f1596c548f763858"
   }
  }
 },
 "nbformat": 4,
 "nbformat_minor": 2
}
