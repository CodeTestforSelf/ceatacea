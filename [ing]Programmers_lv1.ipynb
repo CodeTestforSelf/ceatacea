{
 "cells": [
  {
   "attachments": {},
   "cell_type": "markdown",
   "metadata": {},
   "source": [
    "# 프로그래머스 문제 풀이 - Lv.1"
   ]
  },
  {
   "attachments": {},
   "cell_type": "markdown",
   "metadata": {},
   "source": [
    "## Rules\n",
    "1. 하루 최소 1문제 이상.\n",
    "2. 이해한 내용으로써 풀기.\n",
    "3. 꾸준하게 계속하는 것이 목표. 쉬운 것부터 자동적으로 나올 때까지."
   ]
  },
  {
   "attachments": {},
   "cell_type": "markdown",
   "metadata": {},
   "source": [
    "### Lv.1 & Python\n",
    "site : https://school.programmers.co.kr/learn/challenges?order=acceptance_desc&page=1&languages=python3&levels=1"
   ]
  },
  {
   "attachments": {},
   "cell_type": "markdown",
   "metadata": {},
   "source": [
    "### 프로그래머스 코딩테스트 입문 - Lv.1"
   ]
  },
  {
   "attachments": {},
   "cell_type": "markdown",
   "metadata": {},
   "source": [
    "#### 평균 구하기 [ing:2023-01-10]\n",
    "link : https://school.programmers.co.kr/learn/courses/30/lessons/12944\n",
    "\n",
    "**문제 설명**\n",
    "\n",
    "정수를 담고 있는 배열 arr의 평균값을 return하는 함수, solution을 완성해보세요.\n",
    "\n",
    "**제한사항**\n",
    "\n",
    "- arr은 길이 1 이상, 100 이하인 배열입니다.\n",
    "- arr의 원소는 -10,000 이상 10,000 이하인 정수입니다.\n",
    "\n",
    "**입출력 예**\n",
    "\n",
    "| arr | return |\n",
    "| --- | --- |\n",
    "| [1,2,3,4] | 2.5 |\n",
    "| [5,5] | 5 |"
   ]
  },
  {
   "cell_type": "code",
   "execution_count": 1,
   "metadata": {},
   "outputs": [],
   "source": [
    "# 제출\n",
    "def solution(arr):\n",
    "    return sum(arr)/len(arr)\n"
   ]
  },
  {
   "cell_type": "code",
   "execution_count": null,
   "metadata": {},
   "outputs": [],
   "source": [
    "# 해설\n",
    "'''\n",
    "문제 그대로.\n",
    "'''"
   ]
  },
  {
   "attachments": {},
   "cell_type": "markdown",
   "metadata": {},
   "source": [
    "#### 짝수와 홀수 [fin:2023-01-12]\n",
    "link : https://school.programmers.co.kr/learn/courses/30/lessons/12937\n",
    "\n",
    "**문제 설명**\n",
    "\n",
    "정수 num이 짝수일 경우 \"Even\"을 반환하고 홀수인 경우 \"Odd\"를 반환하는 함수, solution을 완성해주세요.\n",
    "\n",
    "**제한 조건**\n",
    "\n",
    "- num은 int 범위의 정수입니다.\n",
    "- 0은 짝수입니다.\n",
    "\n",
    "**입출력 예**\n",
    "\n",
    "| num | return |\n",
    "| --- | --- |\n",
    "| 3 | \"Odd\" |\n",
    "| 4 | \"Even\" |"
   ]
  },
  {
   "cell_type": "code",
   "execution_count": null,
   "metadata": {},
   "outputs": [],
   "source": [
    "# 제출\n",
    "def solution(num):\n",
    "    return \"Even\" if num % 2 == 0 else \"Odd\""
   ]
  },
  {
   "cell_type": "code",
   "execution_count": null,
   "metadata": {},
   "outputs": [],
   "source": [
    "# 해설\n",
    "'''\n",
    "문제 그대로로\n",
    "'''"
   ]
  },
  {
   "attachments": {},
   "cell_type": "markdown",
   "metadata": {},
   "source": [
    "#### 자릿수 더하기 [fin:2023-01-12]\n",
    "link : https://school.programmers.co.kr/learn/courses/30/lessons/12931\n",
    "\n",
    "**문제 설명**\n",
    "\n",
    "자연수 N이 주어지면, N의 각 자릿수의 합을 구해서 return 하는 solution 함수를 만들어 주세요.예를들어 N = 123이면 1 + 2 + 3 = 6을 return 하면 됩니다.\n",
    "\n",
    "**제한사항**\n",
    "\n",
    "- N의 범위 : 100,000,000 이하의 자연수\n",
    "\n",
    "**입출력 예**\n",
    "\n",
    "| N | answer |\n",
    "| --- | --- |\n",
    "| 123 | 6 |\n",
    "| 987 | 24 |"
   ]
  },
  {
   "cell_type": "code",
   "execution_count": 2,
   "metadata": {},
   "outputs": [
    {
     "data": {
      "text/plain": [
       "6"
      ]
     },
     "execution_count": 2,
     "metadata": {},
     "output_type": "execute_result"
    }
   ],
   "source": [
    "# 제출\n",
    "def solution(n):\n",
    "    return sum(int(i) for i in str(n))"
   ]
  },
  {
   "cell_type": "code",
   "execution_count": null,
   "metadata": {},
   "outputs": [],
   "source": [
    "# 해설\n",
    "'''\n",
    "문제 그대로\n",
    "'''"
   ]
  },
  {
   "attachments": {},
   "cell_type": "markdown",
   "metadata": {},
   "source": [
    "#### 약수의 합 [fin:2023-01-12]\n",
    "link : https://school.programmers.co.kr/learn/courses/30/lessons/12928\n",
    "\n",
    "**문제 설명**\n",
    "\n",
    "정수 n을 입력받아 n의 약수를 모두 더한 값을 리턴하는 함수, solution을 완성해주세요.\n",
    "\n",
    "**제한 사항**\n",
    "\n",
    "- `n`은 0 이상 3000이하인 정수입니다.\n",
    "\n",
    "**입출력 예**\n",
    "\n",
    "| n | return |\n",
    "| --- | --- |\n",
    "| 12 | 28 |\n",
    "| 5 | 6 |"
   ]
  },
  {
   "cell_type": "code",
   "execution_count": null,
   "metadata": {},
   "outputs": [],
   "source": [
    "# 제출\n",
    "def solution(n):\n",
    "    return sum(i for i in range(1,n+1) if n%i==0)"
   ]
  },
  {
   "cell_type": "code",
   "execution_count": null,
   "metadata": {},
   "outputs": [],
   "source": [
    "# 해설\n",
    "'''\n",
    "문제 그대로 for loop쓰는 대신에 list comprehension을 sum으로 몰아서 쓰고 조건문 걸음.\n",
    "'''"
   ]
  },
  {
   "attachments": {},
   "cell_type": "markdown",
   "metadata": {},
   "source": [
    "#### 자연수 뒤집어 배열로 만들기 [fin:2023-01-12]\n",
    "link : https://school.programmers.co.kr/learn/courses/30/lessons/12932\n",
    "\n",
    "**문제 설명**\n",
    "\n",
    "자연수 n을 뒤집어 각 자리 숫자를 원소로 가지는 배열 형태로 리턴해주세요. 예를들어 n이 12345이면 [5,4,3,2,1]을 리턴합니다.\n",
    "\n",
    "**제한 조건**\n",
    "\n",
    "- n은 10,000,000,000이하인 자연수입니다.\n",
    "\n",
    "**입출력 예**\n",
    "\n",
    "| n | return |\n",
    "| --- | --- |\n",
    "| 12345 | [5,4,3,2,1] |"
   ]
  },
  {
   "cell_type": "code",
   "execution_count": null,
   "metadata": {},
   "outputs": [],
   "source": [
    "# 제출\n",
    "def solution(n):\n",
    "    return [int(i) for i in str(n)][::-1]"
   ]
  },
  {
   "cell_type": "code",
   "execution_count": null,
   "metadata": {},
   "outputs": [],
   "source": [
    "# 다른 사람 풀이\n",
    "def solution(n):\n",
    "    return list(map(int, reversed(str(n))))"
   ]
  },
  {
   "cell_type": "code",
   "execution_count": null,
   "metadata": {},
   "outputs": [],
   "source": [
    "# 해설\n",
    "'''\n",
    "list comprehension과 slicing 역으로 처리\n",
    "'''"
   ]
  },
  {
   "attachments": {},
   "cell_type": "markdown",
   "metadata": {},
   "source": [
    "#### 정수 제곱근 판별 [fin:2023-01-13]\n",
    "link : https://school.programmers.co.kr/learn/courses/30/lessons/12934\n",
    "\n",
    "**문제 설명**\n",
    "\n",
    "임의의 양의 정수 n에 대해, n이 어떤 양의 정수 x의 제곱인지 아닌지 판단하려 합니다.n이 양의 정수 x의 제곱이라면 x+1의 제곱을 리턴하고, n이 양의 정수 x의 제곱이 아니라면 -1을 리턴하는 함수를 완성하세요.\n",
    "\n",
    "**제한 사항**\n",
    "\n",
    "- n은 1이상, 50000000000000 이하인 양의 정수입니다.\n",
    "\n",
    "**입출력 예**\n",
    "\n",
    "| n | return |\n",
    "| --- | --- |\n",
    "| 121 | 144 |\n",
    "| 3 | -1 |"
   ]
  },
  {
   "cell_type": "code",
   "execution_count": null,
   "metadata": {},
   "outputs": [],
   "source": [
    "# 제출\n",
    "def solution(n):\n",
    "    return (int(n**(1/2))+1)**2 if int(n**(1/2))**2 == n else -1"
   ]
  },
  {
   "cell_type": "code",
   "execution_count": null,
   "metadata": {},
   "outputs": [],
   "source": [
    "# 해설\n",
    "'''\n",
    "문제 그대로 제곱근을 해서 제곱한 것과 동일하면 n의 제곱근에 +1을 하고 그 수를 제곱한 걸 반환하고 아니면 -1\n",
    "'''"
   ]
  },
  {
   "attachments": {},
   "cell_type": "markdown",
   "metadata": {},
   "source": [
    "#### 문자열 내 p와 y의 개수 [fin:2023-01-13]\n",
    "link : https://school.programmers.co.kr/learn/courses/30/lessons/12916\n",
    "\n",
    "**문제 설명**\n",
    "\n",
    "대문자와 소문자가 섞여있는 문자열 s가 주어집니다. s에 'p'의 개수와 'y'의 개수를 비교해 같으면 True, 다르면 False를 return 하는 solution를 완성하세요. 'p', 'y' 모두 하나도 없는 경우는 항상 True를 리턴합니다. 단, 개수를 비교할 때 대문자와 소문자는 구별하지 않습니다.\n",
    "\n",
    "예를 들어 s가 \"pPoooyY\"면 true를 return하고 \"Pyy\"라면 false를 return합니다.\n",
    "\n",
    "**제한사항**\n",
    "\n",
    "- 문자열 s의 길이 : 50 이하의 자연수\n",
    "- 문자열 s는 알파벳으로만 이루어져 있습니다.\n",
    "\n",
    "**입출력 예**\n",
    "\n",
    "| s | answer |\n",
    "| --- | --- |\n",
    "| \"pPoooyY\" | true |\n",
    "| \"Pyy\" | false |"
   ]
  },
  {
   "cell_type": "code",
   "execution_count": null,
   "metadata": {},
   "outputs": [],
   "source": [
    "# 제출\n",
    "def solution(s):\n",
    "    s = s.lower()\n",
    "    return True if s.count('p') == s.count('y') else False"
   ]
  },
  {
   "cell_type": "code",
   "execution_count": null,
   "metadata": {},
   "outputs": [],
   "source": [
    "# 해설\n",
    "'''\n",
    "lower() 와 count 이용\n",
    "'''"
   ]
  },
  {
   "attachments": {},
   "cell_type": "markdown",
   "metadata": {},
   "source": [
    "#### x만큼 간격이 있는 n개의 숫자 [fin:2023-01-13]\n",
    "link : https://school.programmers.co.kr/learn/courses/30/lessons/12954\n",
    "\n",
    "**문제 설명**\n",
    "\n",
    "함수 solution은 정수 x와 자연수 n을 입력 받아, x부터 시작해 x씩 증가하는 숫자를 n개 지니는 리스트를 리턴해야 합니다. 다음 제한 조건을 보고, 조건을 만족하는 함수, solution을 완성해주세요.\n",
    "\n",
    "**제한 조건**\n",
    "\n",
    "- x는 -10000000 이상, 10000000 이하인 정수입니다.\n",
    "- n은 1000 이하인 자연수입니다.\n",
    "\n",
    "**입출력 예**\n",
    "\n",
    "| x | n | answer |\n",
    "| --- | --- | --- |\n",
    "| 2 | 5 | [2,4,6,8,10] |\n",
    "| 4 | 3 | [4,8,12] |\n",
    "| -4 | 2 | [-4, -8] |"
   ]
  },
  {
   "cell_type": "code",
   "execution_count": null,
   "metadata": {},
   "outputs": [],
   "source": [
    "# 제출\n",
    "def solution(x, n):\n",
    "    return [x*i for i in range(1,n+1)]"
   ]
  },
  {
   "cell_type": "code",
   "execution_count": null,
   "metadata": {},
   "outputs": [],
   "source": [
    "# 해설\n",
    "'''\n",
    "list comprehension으로 곱해서 list에 넣기\n",
    "'''"
   ]
  },
  {
   "attachments": {},
   "cell_type": "markdown",
   "metadata": {},
   "source": [
    "#### 문자열을 정수로 바꾸기 [fin:2023-01-13]\n",
    "link : https://school.programmers.co.kr/learn/courses/30/lessons/12925\n",
    "\n",
    "**문제 설명**\n",
    "\n",
    "문자열 s를 숫자로 변환한 결과를 반환하는 함수, solution을 완성하세요.\n",
    "\n",
    "**제한 조건**\n",
    "\n",
    "- s의 길이는 1 이상 5이하입니다.\n",
    "- s의 맨앞에는 부호(+, -)가 올 수 있습니다.\n",
    "- s는 부호와 숫자로만 이루어져있습니다.\n",
    "- s는 \"0\"으로 시작하지 않습니다.\n",
    "\n",
    "**입출력 예**\n",
    "\n",
    "예를들어 str이 \"1234\"이면 1234를 반환하고, \"-1234\"이면 -1234를 반환하면 됩니다.str은 부호(+,-)와 숫자로만 구성되어 있고, 잘못된 값이 입력되는 경우는 없습니다."
   ]
  },
  {
   "cell_type": "code",
   "execution_count": null,
   "metadata": {},
   "outputs": [],
   "source": [
    "# 제출\n",
    "def solution(s):\n",
    "    return int(s)"
   ]
  },
  {
   "cell_type": "code",
   "execution_count": null,
   "metadata": {},
   "outputs": [],
   "source": [
    "# 해설\n",
    "'''\n",
    "int 메서드가 알아서 인지함.\n",
    "'''"
   ]
  },
  {
   "attachments": {},
   "cell_type": "markdown",
   "metadata": {},
   "source": [
    "#### 하샤드 수 [fin:2023-01-13]\n",
    "link : https://school.programmers.co.kr/learn/courses/30/lessons/12947\n",
    "\n",
    "**문제 설명**\n",
    "\n",
    "양의 정수 x가 하샤드 수이려면 x의 자릿수의 합으로 x가 나누어져야 합니다. 예를 들어 18의 자릿수 합은 1+8=9이고, 18은 9로 나누어 떨어지므로 18은 하샤드 수입니다. 자연수 x를 입력받아 x가 하샤드 수인지 아닌지 검사하는 함수, solution을 완성해주세요.\n",
    "\n",
    "**제한 조건**\n",
    "\n",
    "- `x`는 1 이상, 10000 이하인 정수입니다.\n",
    "\n",
    "**입출력 예**\n",
    "\n",
    "| arr | return |\n",
    "| --- | --- |\n",
    "| 10 | true |\n",
    "| 12 | true |\n",
    "| 11 | false |\n",
    "| 13 | false |"
   ]
  },
  {
   "cell_type": "code",
   "execution_count": 22,
   "metadata": {},
   "outputs": [
    {
     "data": {
      "text/plain": [
       "True"
      ]
     },
     "execution_count": 22,
     "metadata": {},
     "output_type": "execute_result"
    }
   ],
   "source": [
    "# 제출\n",
    "def solution(x):\n",
    "    return (x % (sum(int(i) for i in str(x)))) == 0"
   ]
  },
  {
   "cell_type": "code",
   "execution_count": null,
   "metadata": {},
   "outputs": [],
   "source": [
    "# 해설\n",
    "'''\n",
    "True / False는 굳이 IF문 쓰지 않아도 되므로 그대로.\n",
    "'''"
   ]
  },
  {
   "attachments": {},
   "cell_type": "markdown",
   "metadata": {},
   "source": [
    "#### 정수 내림차순으로 배치하기 [fin:2023-01-13]\n",
    "link : https://school.programmers.co.kr/learn/courses/30/lessons/12933\n",
    "\n",
    "**문제 설명**\n",
    "\n",
    "정수를 담고 있는 배열 arr의 평균값을 return하는 함수, solution을 완성해보세요.\n",
    "\n",
    "**제한사항**\n",
    "\n",
    "- arr은 길이 1 이상, 100 이하인 배열입니다.\n",
    "- arr의 원소는 -10,000 이상 10,000 이하인 정수입니다.\n",
    "\n",
    "**입출력 예**\n",
    "\n",
    "| arr | return |\n",
    "| --- | --- |\n",
    "| [1,2,3,4] | 2.5 |\n",
    "| [5,5] | 5 |"
   ]
  },
  {
   "cell_type": "code",
   "execution_count": 39,
   "metadata": {},
   "outputs": [],
   "source": [
    "# 제출\n",
    "def solution(n):\n",
    "    return int(''.join(sorted([i for i in str(n)], reverse=True)))"
   ]
  },
  {
   "cell_type": "code",
   "execution_count": null,
   "metadata": {},
   "outputs": [],
   "source": [
    "# 해설\n",
    "'''\n",
    "list comprehension 에서 sorted를 reverse 로 하고 join 한 다음에 int\n",
    "'''"
   ]
  },
  {
   "attachments": {},
   "cell_type": "markdown",
   "metadata": {},
   "source": [
    "#### 나머지가 1이 되는 수 찾기 [fin:2023-01-13]\n",
    "link : https://school.programmers.co.kr/learn/courses/30/lessons/87389\n",
    "\n",
    "**문제 설명**\n",
    "\n",
    "자연수 `n`이 매개변수로 주어집니다. `n`을 `x`로 나눈 나머지가 1이 되도록 하는 가장 작은 자연수 `x`를 return 하도록 solution 함수를 완성해주세요. 답이 항상 존재함은 증명될 수 있습니다.\n",
    "\n",
    "**제한사항**\n",
    "\n",
    "- 3 ≤ `n` ≤ 1,000,000\n",
    "\n",
    "**입출력 예**\n",
    "\n",
    "| n | result |\n",
    "| --- | --- |\n",
    "| 10 | 3 |\n",
    "| 12 | 11 |"
   ]
  },
  {
   "cell_type": "code",
   "execution_count": null,
   "metadata": {},
   "outputs": [],
   "source": [
    "# 제출\n",
    "def solution(n):\n",
    "    return min(i for i in range(2,n+1) if n % i == 1)"
   ]
  },
  {
   "cell_type": "code",
   "execution_count": null,
   "metadata": {},
   "outputs": [],
   "source": [
    "def solution(n):\n",
    "    return list(i for i in range(2,n+1) if n % i == 1)\n",
    "\n",
    "n=120\n",
    "solution(n)"
   ]
  },
  {
   "cell_type": "code",
   "execution_count": null,
   "metadata": {},
   "outputs": [],
   "source": [
    "# 해설\n",
    "'''\n",
    "n이 3이상이지 x는 3이상이라는 조건이 없었는데 그걸 생각 못하고 처음에 range(3,n+1) 했다가 3,4번 에러 났다가 수정하니까 해결\n",
    "'''"
   ]
  },
  {
   "attachments": {},
   "cell_type": "markdown",
   "metadata": {},
   "source": [
    "#### 두 정수 사이의 합\n",
    "link : https://school.programmers.co.kr/learn/courses/30/lessons/12912\n",
    "\n",
    "**문제 설명**\n",
    "\n",
    "두 정수 a, b가 주어졌을 때 a와 b 사이에 속한 모든 정수의 합을 리턴하는 함수, solution을 완성하세요.예를 들어 a = 3, b = 5인 경우, 3 + 4 + 5 = 12이므로 12를 리턴합니다.\n",
    "\n",
    "**제한 조건**\n",
    "\n",
    "- a와 b가 같은 경우는 둘 중 아무 수나 리턴하세요.\n",
    "- a와 b는 -10,000,000 이상 10,000,000 이하인 정수입니다.\n",
    "- a와 b의 대소관계는 정해져있지 않습니다.\n",
    "\n",
    "**입출력 예**\n",
    "\n",
    "| a | b | return |\n",
    "| --- | --- | --- |\n",
    "| 3 | 5 | 12 |\n",
    "| 3 | 3 | 3 |\n",
    "| 5 | 3 | 12 |"
   ]
  },
  {
   "cell_type": "code",
   "execution_count": null,
   "metadata": {},
   "outputs": [],
   "source": [
    "# 제출\n",
    "def solution(a, b):\n",
    "    return sum(range(a if a < b else b, (b if a < b else a)+1))"
   ]
  },
  {
   "cell_type": "code",
   "execution_count": null,
   "metadata": {},
   "outputs": [],
   "source": [
    "# 해설\n",
    "'''\n",
    "min max도 있지만 그러면 시간 복잡도가 느니까 그냥 if else 로 해서 처리한 후 range()로 하고 sum\n",
    "'''"
   ]
  },
  {
   "attachments": {},
   "cell_type": "markdown",
   "metadata": {},
   "source": [
    "#### 콜라츠 추측 [fin:2023-01-13]\n",
    "link : https://school.programmers.co.kr/learn/courses/30/lessons/12943\n",
    "\n",
    "**문제 설명**\n",
    "\n",
    "1937년 Collatz란 사람에 의해 제기된 이 추측은, 주어진 수가 1이 될 때까지 다음 작업을 반복하면, 모든 수를 1로 만들 수 있다는 추측입니다. 작업은 다음과 같습니다.\n",
    "\n",
    "```\n",
    "1-1. 입력된 수가 짝수라면 2로 나눕니다.\n",
    "1-2. 입력된 수가 홀수라면 3을 곱하고 1을 더합니다.\n",
    "2. 결과로 나온 수에 같은 작업을 1이 될 때까지 반복합니다.\n",
    "```\n",
    "\n",
    "예를 들어, 주어진 수가 6이라면 6 → 3 → 10 → 5 → 16 → 8 → 4 → 2 → 1 이 되어 총 8번 만에 1이 됩니다. 위 작업을 몇 번이나 반복해야 하는지 반환하는 함수, solution을 완성해 주세요. 단, 주어진 수가 1인 경우에는 0을, 작업을 500번 반복할 때까지 1이 되지 않는다면 –1을 반환해 주세요.\n",
    "\n",
    "**제한 사항**\n",
    "\n",
    "- 입력된 수, `num`은 1 이상 8,000,000 미만인 정수입니다.\n",
    "\n",
    "**입출력 예**\n",
    "\n",
    "| n | result |\n",
    "| --- | --- |\n",
    "| 6 | 8 |\n",
    "| 16 | 4 |\n",
    "| 626331 | -1 |"
   ]
  },
  {
   "cell_type": "code",
   "execution_count": 38,
   "metadata": {},
   "outputs": [],
   "source": [
    "# 제출\n",
    "def solution(num):\n",
    "    count = 0\n",
    "    while num > 1 and count <= 500:\n",
    "        if num % 2 == 0:\n",
    "            num //= 2\n",
    "            count += 1\n",
    "        else:\n",
    "            num = (num*3)+1\n",
    "            count += 1\n",
    "    return count if count < 500 else -1"
   ]
  },
  {
   "cell_type": "code",
   "execution_count": null,
   "metadata": {},
   "outputs": [],
   "source": [
    "# 해설\n",
    "'''\n",
    "for 보다 while 이 더 가벼운 느낌이기도 하고 count에 대해서 조절도 가능하니까 그렇게 하고 if 문으로 처리.\n",
    "'''"
   ]
  },
  {
   "attachments": {},
   "cell_type": "markdown",
   "metadata": {},
   "source": [
    "#### 서울에서 김서방 찾기 [fin:2023-01-13]\n",
    "link : https://school.programmers.co.kr/learn/courses/30/lessons/12919\n",
    "\n",
    "**문제 설명**\n",
    "\n",
    "String형 배열 seoul의 element중 \"Kim\"의 위치 x를 찾아, \"김서방은 x에 있다\"는 String을 반환하는 함수, solution을 완성하세요. seoul에 \"Kim\"은 오직 한 번만 나타나며 잘못된 값이 입력되는 경우는 없습니다.\n",
    "\n",
    "**제한 사항**\n",
    "\n",
    "- seoul은 길이 1 이상, 1000 이하인 배열입니다.\n",
    "- seoul의 원소는 길이 1 이상, 20 이하인 문자열입니다.\n",
    "- \"Kim\"은 반드시 seoul 안에 포함되어 있습니다.\n",
    "\n",
    "**입출력 예**\n",
    "\n",
    "| seoul | return |\n",
    "| --- | --- |\n",
    "| [\"Jane\", \"Kim\"] | \"김서방은 1에 있다\" |"
   ]
  },
  {
   "cell_type": "code",
   "execution_count": null,
   "metadata": {},
   "outputs": [],
   "source": [
    "# 제출\n",
    "def solution(seoul):\n",
    "    return f\"김서방은 {seoul.index('Kim')}에 있다\""
   ]
  },
  {
   "cell_type": "code",
   "execution_count": null,
   "metadata": {},
   "outputs": [],
   "source": [
    "# 해설\n",
    "'''\n",
    "Kim의 index를 찾아서 처리. 문제에서 오직 한 번만 나타나며 잘못된 값이 입력되는 경우는 없다고 했기 때문.\n",
    "'''"
   ]
  },
  {
   "attachments": {},
   "cell_type": "markdown",
   "metadata": {},
   "source": [
    "#### 나누어 떨어지는 숫자 배열 [fin:2023-01-13]\n",
    "link : https://school.programmers.co.kr/learn/courses/30/lessons/12910\n",
    "\n",
    "**문제 설명**\n",
    "\n",
    "array의 각 element 중 divisor로 나누어 떨어지는 값을 오름차순으로 정렬한 배열을 반환하는 함수, solution을 작성해주세요.divisor로 나누어 떨어지는 element가 하나도 없다면 배열에 -1을 담아 반환하세요.\n",
    "\n",
    "**제한사항**\n",
    "\n",
    "- arr은 자연수를 담은 배열입니다.\n",
    "- 정수 i, j에 대해 i ≠ j 이면 arr[i] ≠ arr[j] 입니다.\n",
    "- divisor는 자연수입니다.\n",
    "- array는 길이 1 이상인 배열입니다.\n",
    "\n",
    "**입출력 예**\n",
    "\n",
    "| arr | divisor | return |\n",
    "| --- | --- | --- |\n",
    "| [5, 9, 7, 10] | 5 | [5, 10] |\n",
    "| [2, 36, 1, 3] | 1 | [1, 2, 3, 36] |\n",
    "| [3,2,6] | 10 | [-1] |"
   ]
  },
  {
   "cell_type": "code",
   "execution_count": null,
   "metadata": {},
   "outputs": [],
   "source": [
    "# 제출\n",
    "def solution(arr, divisor):\n",
    "    answer = sorted(i for i in arr if i % divisor == 0)\n",
    "    return answer if len(answer) > 0 else [-1]"
   ]
  },
  {
   "cell_type": "code",
   "execution_count": null,
   "metadata": {},
   "outputs": [],
   "source": [
    "# 해설\n",
    "'''\n",
    "문제 그대로\n",
    "'''"
   ]
  },
  {
   "attachments": {},
   "cell_type": "markdown",
   "metadata": {},
   "source": [
    "#### 핸드폰 번호 가리기 [fin:2023-01-13]\n",
    "link : https://school.programmers.co.kr/learn/courses/30/lessons/12948\n",
    "\n",
    "**문제 설명**\n",
    "\n",
    "프로그래머스 모바일은 개인정보 보호를 위해 고지서를 보낼 때 고객들의 전화번호의 일부를 가립니다.전화번호가 문자열 phone_number로 주어졌을 때, 전화번호의 뒷 4자리를 제외한 나머지 숫자를 전부 `*`으로 가린 문자열을 리턴하는 함수, solution을 완성해주세요.\n",
    "\n",
    "**제한 조건**\n",
    "\n",
    "- phone_number는 길이 4 이상, 20이하인 문자열입니다.\n",
    "\n",
    "**입출력 예**\n",
    "\n",
    "| phone_number | return |\n",
    "| --- | --- |\n",
    "| \"01033334444\" | \"*******4444\" |\n",
    "| \"027778888\" | \"*****8888\" |"
   ]
  },
  {
   "cell_type": "code",
   "execution_count": null,
   "metadata": {},
   "outputs": [],
   "source": [
    "# 제출\n",
    "def solution(phone_number):\n",
    "    return ''.join(t.replace(t,'*') for t in phone_number[:-4]) + phone_number[-4:]"
   ]
  },
  {
   "cell_type": "code",
   "execution_count": null,
   "metadata": {},
   "outputs": [],
   "source": [
    "# 해설\n",
    "'''\n",
    "slicing으로 4번째 까지 ‘*’ 바꾸고 나서 나머지는 4번 이후를 + 연산으로 처리\n",
    "'''"
   ]
  },
  {
   "attachments": {},
   "cell_type": "markdown",
   "metadata": {},
   "source": [
    "#### 제일 작은 수 제거하기 [fin:2023-01-13]\n",
    "link : https://school.programmers.co.kr/learn/courses/30/lessons/12935\n",
    "\n",
    "**문제 설명**\n",
    "\n",
    "정수를 저장한 배열, arr 에서 가장 작은 수를 제거한 배열을 리턴하는 함수, solution을 완성해주세요. 단, 리턴하려는 배열이 빈 배열인 경우엔 배열에 -1을 채워 리턴하세요. 예를들어 arr이 [4,3,2,1]인 경우는 [4,3,2]를 리턴 하고, [10]면 [-1]을 리턴 합니다.\n",
    "\n",
    "**제한 조건**\n",
    "\n",
    "- arr은 길이 1 이상인 배열입니다.\n",
    "- 인덱스 i, j에 대해 i ≠ j이면 arr[i] ≠ arr[j] 입니다.\n",
    "\n",
    "**입출력 예**\n",
    "\n",
    "| arr | return |\n",
    "| --- | --- |\n",
    "| [4,3,2,1] | [4,3,2] |\n",
    "| [10] | [-1] |"
   ]
  },
  {
   "cell_type": "code",
   "execution_count": null,
   "metadata": {},
   "outputs": [],
   "source": [
    "# 제출\n",
    "def solution(arr):\n",
    "    arr.remove(min(arr))\n",
    "    return arr if len(arr) > 0 else [-1]"
   ]
  },
  {
   "cell_type": "code",
   "execution_count": null,
   "metadata": {},
   "outputs": [],
   "source": [
    "# 해설\n",
    "'''\n",
    "remove 이용.\n",
    "'''"
   ]
  },
  {
   "attachments": {},
   "cell_type": "markdown",
   "metadata": {},
   "source": [
    "#### 음양 더하기 [fin:2023-01-13]\n",
    "link : https://school.programmers.co.kr/learn/courses/30/lessons/76501\n",
    "\n",
    "**문제 설명**\n",
    "\n",
    "어떤 정수들이 있습니다. 이 정수들의 절댓값을 차례대로 담은 정수 배열 absolutes와 이 정수들의 부호를 차례대로 담은 불리언 배열 signs가 매개변수로 주어집니다. 실제 정수들의 합을 구하여 return 하도록 solution 함수를 완성해주세요.\n",
    "\n",
    "**제한사항**\n",
    "\n",
    "- absolutes의 길이는 1 이상 1,000 이하입니다.\n",
    "    - absolutes의 모든 수는 각각 1 이상 1,000 이하입니다.\n",
    "- signs의 길이는 absolutes의 길이와 같습니다.\n",
    "    - `signs[i]` 가 참이면 `absolutes[i]` 의 실제 정수가 양수임을, 그렇지 않으면 음수임을 의미합니다.\n",
    "\n",
    "**입출력 예**\n",
    "\n",
    "| absolutes | signs | result |\n",
    "| --- | --- | --- |\n",
    "| [4,7,12] | [true,false,true] | 9 |\n",
    "| [1,2,3] | [false,false,true] | 0 |"
   ]
  },
  {
   "cell_type": "code",
   "execution_count": 75,
   "metadata": {},
   "outputs": [],
   "source": [
    "# 제출\n",
    "def solution(absolutes, signs):\n",
    "    tmp = []\n",
    "    for s, n in zip(signs, absolutes):\n",
    "        if s == True:\n",
    "            tmp.append(n)\n",
    "        else:\n",
    "            tmp.append(-n)\n",
    "    return sum(tmp)\n"
   ]
  },
  {
   "cell_type": "code",
   "execution_count": null,
   "metadata": {},
   "outputs": [],
   "source": [
    "# 줄여서\n",
    "def solution(absolutes, signs):\n",
    "    return sum(a if s else -a for s, a in zip(signs, absolutes))"
   ]
  },
  {
   "cell_type": "code",
   "execution_count": null,
   "metadata": {},
   "outputs": [],
   "source": [
    "# 해설\n",
    "'''\n",
    "true와 false 가 있고 int에 -는 자동으로 인식하니까 그대로 처리. 그러고 나서 줄일 수 있지 않나 했는데 역시나 다른 분 코드에서도 줄인 걸 발견하여 줄임.\n",
    "\n",
    "```python\n",
    "# 줄여서\n",
    "def solution(absolutes, signs):\n",
    "    return sum(a if s else -a for s, a in zip(signs, absolutes))\n",
    "```\n",
    "\n",
    "'''"
   ]
  },
  {
   "attachments": {},
   "cell_type": "markdown",
   "metadata": {},
   "source": [
    "#### 없는 숫자 더하기 [fin:2023-01-16]\n",
    "link : https://school.programmers.co.kr/learn/courses/30/lessons/86051\n",
    "\n",
    "**문제 설명**\n",
    "\n",
    "0부터 9까지의 숫자 중 일부가 들어있는 정수 배열 `numbers`가 매개변수로 주어집니다. `numbers`에서 찾을 수 없는 0부터 9까지의 숫자를 모두 찾아 더한 수를 return 하도록 solution 함수를 완성해주세요.\n",
    "\n",
    "**제한사항**\n",
    "\n",
    "- 1 ≤ `numbers`의 길이 ≤ 9\n",
    "- 0 ≤ `numbers`의 모든 원소 ≤ 9\n",
    "- `numbers`의 모든 원소는 서로 다릅니다.\n",
    "\n",
    "**입출력 예**\n",
    "\n",
    "| numbers | result |\n",
    "| --- | --- |\n",
    "| [1,2,3,4,6,7,8,0] | 14 |\n",
    "| [5,8,4,0,6,7,9] | 6 |"
   ]
  },
  {
   "cell_type": "code",
   "execution_count": 1,
   "metadata": {},
   "outputs": [
    {
     "data": {
      "text/plain": [
       "31"
      ]
     },
     "execution_count": 1,
     "metadata": {},
     "output_type": "execute_result"
    }
   ],
   "source": [
    "sum([1,2,3,4,5,6,7,8,9,0])"
   ]
  },
  {
   "cell_type": "code",
   "execution_count": null,
   "metadata": {},
   "outputs": [],
   "source": [
    "# 제출\n",
    "def solution(numbers):\n",
    "    return 45 - sum(numbers)"
   ]
  },
  {
   "cell_type": "code",
   "execution_count": null,
   "metadata": {},
   "outputs": [],
   "source": [
    "# 해설\n",
    "'''\n",
    "sum([1,2,3,4,5,6,7,8,9,0]) 은 45고, 그 이외의 수의 합이니까 빼버림.\n",
    "'''"
   ]
  },
  {
   "attachments": {},
   "cell_type": "markdown",
   "metadata": {},
   "source": [
    "#### 가운데 글자 가져오기 [fin:2023-01-16]\n",
    "link : https://school.programmers.co.kr/learn/courses/30/lessons/12903\n",
    "\n",
    "**문제 설명**\n",
    "\n",
    "단어 s의 가운데 글자를 반환하는 함수, solution을 만들어 보세요. 단어의 길이가 짝수라면 가운데 두글자를 반환하면 됩니다.\n",
    "\n",
    "**제한사항**\n",
    "\n",
    "- s는 길이가 1 이상, 100이하인 스트링입니다.\n",
    "\n",
    "**입출력 예**\n",
    "\n",
    "| s | return |\n",
    "| --- | --- |\n",
    "| \"abcde\" | \"c\" |\n",
    "| \"qwer\" | \"we\" |"
   ]
  },
  {
   "cell_type": "code",
   "execution_count": null,
   "metadata": {},
   "outputs": [],
   "source": [
    "# 제출\n",
    "def solution(s):\n",
    "    return s[len(s)//2] if len(s) % 2 != 0 else s[(len(s)//2)-1:(len(s)//2)+1]"
   ]
  },
  {
   "cell_type": "code",
   "execution_count": 11,
   "metadata": {},
   "outputs": [
    {
     "name": "stdout",
     "output_type": "stream",
     "text": [
      "1  :  3\n",
      "we\n",
      "2  :  3\n",
      "c\n"
     ]
    },
    {
     "data": {
      "text/plain": [
       "1"
      ]
     },
     "execution_count": 11,
     "metadata": {},
     "output_type": "execute_result"
    }
   ],
   "source": [
    "s=\"qwer\"\n",
    "print((len(s)-1)//2,' : ',len(s)//2+1)\n",
    "print(s[(len(s)-1)//2:len(s)//2+1])\n",
    "s2=\"abcde\"\n",
    "print((len(s2)-1)//2,' : ',len(s2)//2+1)\n",
    "print(s2[(len(s2)-1)//2:len(s2)//2+1])"
   ]
  },
  {
   "cell_type": "code",
   "execution_count": null,
   "metadata": {},
   "outputs": [],
   "source": [
    "# 해설\n",
    "'''\n",
    "짝수 홀수에 따라서 결과치 적용은 그러려니 하는데 다른 사람 풀이 중에서\n",
    "\n",
    "```python\n",
    "return s[(len(s)-1)//2:len(s)//2+1]\n",
    "```\n",
    "\n",
    "이건 좀 좀 똑똑한 게 홀수든 짝수든 끝나는 건 2로 나누고 +1을 한 것이고 시작점이 홀수면 -1을 하니 짝수로서 중앙값 1글자 바로 앞이 되고 홀수면 짝수로서 가운데 2글자가 포함되게 함.\n",
    "'''"
   ]
  },
  {
   "attachments": {},
   "cell_type": "markdown",
   "metadata": {},
   "source": [
    "#### 수박수박수박수박수박수? [fin:2023-01-13]\n",
    "link : https://school.programmers.co.kr/learn/courses/30/lessons/12922\n",
    "\n",
    "**문제 설명**\n",
    "\n",
    "길이가 n이고, \"수박수박수박수....\"와 같은 패턴을 유지하는 문자열을 리턴하는 함수, solution을 완성하세요. 예를들어 n이 4이면 \"수박수박\"을 리턴하고 3이라면 \"수박수\"를 리턴하면 됩니다.\n",
    "\n",
    "**제한 조건**\n",
    "\n",
    "- n은 길이 10,000이하인 자연수입니다.\n",
    "\n",
    "**입출력 예**\n",
    "\n",
    "| n | return |\n",
    "| --- | --- |\n",
    "| 3 | \"수박수\" |\n",
    "| 4 | \"수박수박\" |"
   ]
  },
  {
   "cell_type": "code",
   "execution_count": 18,
   "metadata": {},
   "outputs": [
    {
     "data": {
      "text/plain": [
       "'수박수박'"
      ]
     },
     "execution_count": 18,
     "metadata": {},
     "output_type": "execute_result"
    }
   ],
   "source": [
    "# 제출\n",
    "def solution(n):\n",
    "    return ('수박'*n)[:n]"
   ]
  },
  {
   "cell_type": "code",
   "execution_count": null,
   "metadata": {},
   "outputs": [],
   "source": [
    "# 해설\n",
    "'''\n",
    "파이썬에서 문자열에*를 하면 반복한 문자가 붙어서 나오므로 그 다음에 slicing이용\n",
    "'''"
   ]
  },
  {
   "attachments": {},
   "cell_type": "markdown",
   "metadata": {},
   "source": [
    "#### 내적 [fin:2023-01-13]\n",
    "link : https://school.programmers.co.kr/learn/courses/30/lessons/70128\n",
    "\n"
   ]
  },
  {
   "cell_type": "code",
   "execution_count": null,
   "metadata": {},
   "outputs": [],
   "source": [
    "# 제출\n"
   ]
  },
  {
   "cell_type": "code",
   "execution_count": null,
   "metadata": {},
   "outputs": [],
   "source": [
    "# 해설\n",
    "'''\n",
    "'''"
   ]
  },
  {
   "attachments": {},
   "cell_type": "markdown",
   "metadata": {},
   "source": [
    "#### Template\n",
    " [fin:2023-01-02]\n",
    "link : \n",
    "\n",
    "**문제 설명**\n",
    "\n",
    "각에서 0도 초과 90도 미만은 예각, 90도는 직각, 90도 초과 180도 미만은 둔각 180도는 평각으로 분류합니다. 각 angle이 매개변수로 주어질 때 예각일 때 1, 직각일 때 2, 둔각일 때 3, 평각일 때 4를 return하도록 solution 함수를 완성해주세요.\n",
    "- 예각 : 0 < angle < 90\n",
    "- 직각 : angle = 90\n",
    "- 둔각 : 90 < angle < 180\n",
    "- 평각 : angle = 180\n",
    "\n",
    "**제한사항**\n",
    "\n",
    "- 0 < angle ≤ 180\n",
    "- angle은 정수입니다.\n",
    "\n",
    "\n",
    "**입출력 예**\n",
    "\n",
    "| angle    | result   |\n",
    "|----------|----------|\n",
    "| 70       | 1        |\n",
    "| 91       | 3        |\n",
    "| 180      | 4        |"
   ]
  },
  {
   "cell_type": "code",
   "execution_count": null,
   "metadata": {},
   "outputs": [],
   "source": [
    "# 제출\n"
   ]
  },
  {
   "cell_type": "code",
   "execution_count": null,
   "metadata": {},
   "outputs": [],
   "source": [
    "# 해설\n",
    "'''\n",
    "'''"
   ]
  },
  {
   "attachments": {},
   "cell_type": "markdown",
   "metadata": {},
   "source": [
    "#### Template\n",
    " [fin:2023-01-02]\n",
    "link : \n",
    "\n",
    "**문제 설명**\n",
    "\n",
    "각에서 0도 초과 90도 미만은 예각, 90도는 직각, 90도 초과 180도 미만은 둔각 180도는 평각으로 분류합니다. 각 angle이 매개변수로 주어질 때 예각일 때 1, 직각일 때 2, 둔각일 때 3, 평각일 때 4를 return하도록 solution 함수를 완성해주세요.\n",
    "- 예각 : 0 < angle < 90\n",
    "- 직각 : angle = 90\n",
    "- 둔각 : 90 < angle < 180\n",
    "- 평각 : angle = 180\n",
    "\n",
    "**제한사항**\n",
    "\n",
    "- 0 < angle ≤ 180\n",
    "- angle은 정수입니다.\n",
    "\n",
    "\n",
    "**입출력 예**\n",
    "\n",
    "| angle    | result   |\n",
    "|----------|----------|\n",
    "| 70       | 1        |\n",
    "| 91       | 3        |\n",
    "| 180      | 4        |"
   ]
  },
  {
   "cell_type": "code",
   "execution_count": null,
   "metadata": {},
   "outputs": [],
   "source": [
    "# 제출\n"
   ]
  },
  {
   "cell_type": "code",
   "execution_count": null,
   "metadata": {},
   "outputs": [],
   "source": [
    "# 해설\n",
    "'''\n",
    "'''"
   ]
  },
  {
   "attachments": {},
   "cell_type": "markdown",
   "metadata": {},
   "source": [
    "#### Template\n",
    " [fin:2023-01-02]\n",
    "link : \n",
    "\n",
    "**문제 설명**\n",
    "\n",
    "각에서 0도 초과 90도 미만은 예각, 90도는 직각, 90도 초과 180도 미만은 둔각 180도는 평각으로 분류합니다. 각 angle이 매개변수로 주어질 때 예각일 때 1, 직각일 때 2, 둔각일 때 3, 평각일 때 4를 return하도록 solution 함수를 완성해주세요.\n",
    "- 예각 : 0 < angle < 90\n",
    "- 직각 : angle = 90\n",
    "- 둔각 : 90 < angle < 180\n",
    "- 평각 : angle = 180\n",
    "\n",
    "**제한사항**\n",
    "\n",
    "- 0 < angle ≤ 180\n",
    "- angle은 정수입니다.\n",
    "\n",
    "\n",
    "**입출력 예**\n",
    "\n",
    "| angle    | result   |\n",
    "|----------|----------|\n",
    "| 70       | 1        |\n",
    "| 91       | 3        |\n",
    "| 180      | 4        |"
   ]
  },
  {
   "cell_type": "code",
   "execution_count": null,
   "metadata": {},
   "outputs": [],
   "source": [
    "# 제출\n"
   ]
  },
  {
   "cell_type": "code",
   "execution_count": null,
   "metadata": {},
   "outputs": [],
   "source": [
    "# 해설\n",
    "'''\n",
    "'''"
   ]
  },
  {
   "attachments": {},
   "cell_type": "markdown",
   "metadata": {},
   "source": [
    "#### Template\n",
    " [fin:2023-01-02]\n",
    "link : \n",
    "\n",
    "**문제 설명**\n",
    "\n",
    "각에서 0도 초과 90도 미만은 예각, 90도는 직각, 90도 초과 180도 미만은 둔각 180도는 평각으로 분류합니다. 각 angle이 매개변수로 주어질 때 예각일 때 1, 직각일 때 2, 둔각일 때 3, 평각일 때 4를 return하도록 solution 함수를 완성해주세요.\n",
    "- 예각 : 0 < angle < 90\n",
    "- 직각 : angle = 90\n",
    "- 둔각 : 90 < angle < 180\n",
    "- 평각 : angle = 180\n",
    "\n",
    "**제한사항**\n",
    "\n",
    "- 0 < angle ≤ 180\n",
    "- angle은 정수입니다.\n",
    "\n",
    "\n",
    "**입출력 예**\n",
    "\n",
    "| angle    | result   |\n",
    "|----------|----------|\n",
    "| 70       | 1        |\n",
    "| 91       | 3        |\n",
    "| 180      | 4        |"
   ]
  },
  {
   "cell_type": "code",
   "execution_count": null,
   "metadata": {},
   "outputs": [],
   "source": [
    "# 제출\n"
   ]
  },
  {
   "cell_type": "code",
   "execution_count": null,
   "metadata": {},
   "outputs": [],
   "source": [
    "# 해설\n",
    "'''\n",
    "'''"
   ]
  },
  {
   "attachments": {},
   "cell_type": "markdown",
   "metadata": {},
   "source": [
    "#### Template\n",
    " [fin:2023-01-02]\n",
    "link : \n",
    "\n",
    "**문제 설명**\n",
    "\n",
    "각에서 0도 초과 90도 미만은 예각, 90도는 직각, 90도 초과 180도 미만은 둔각 180도는 평각으로 분류합니다. 각 angle이 매개변수로 주어질 때 예각일 때 1, 직각일 때 2, 둔각일 때 3, 평각일 때 4를 return하도록 solution 함수를 완성해주세요.\n",
    "- 예각 : 0 < angle < 90\n",
    "- 직각 : angle = 90\n",
    "- 둔각 : 90 < angle < 180\n",
    "- 평각 : angle = 180\n",
    "\n",
    "**제한사항**\n",
    "\n",
    "- 0 < angle ≤ 180\n",
    "- angle은 정수입니다.\n",
    "\n",
    "\n",
    "**입출력 예**\n",
    "\n",
    "| angle    | result   |\n",
    "|----------|----------|\n",
    "| 70       | 1        |\n",
    "| 91       | 3        |\n",
    "| 180      | 4        |"
   ]
  },
  {
   "cell_type": "code",
   "execution_count": null,
   "metadata": {},
   "outputs": [],
   "source": [
    "# 제출\n"
   ]
  },
  {
   "cell_type": "code",
   "execution_count": null,
   "metadata": {},
   "outputs": [],
   "source": [
    "# 해설\n",
    "'''\n",
    "'''"
   ]
  },
  {
   "attachments": {},
   "cell_type": "markdown",
   "metadata": {},
   "source": [
    "#### Template\n",
    " [fin:2023-01-02]\n",
    "link : \n",
    "\n",
    "**문제 설명**\n",
    "\n",
    "각에서 0도 초과 90도 미만은 예각, 90도는 직각, 90도 초과 180도 미만은 둔각 180도는 평각으로 분류합니다. 각 angle이 매개변수로 주어질 때 예각일 때 1, 직각일 때 2, 둔각일 때 3, 평각일 때 4를 return하도록 solution 함수를 완성해주세요.\n",
    "- 예각 : 0 < angle < 90\n",
    "- 직각 : angle = 90\n",
    "- 둔각 : 90 < angle < 180\n",
    "- 평각 : angle = 180\n",
    "\n",
    "**제한사항**\n",
    "\n",
    "- 0 < angle ≤ 180\n",
    "- angle은 정수입니다.\n",
    "\n",
    "\n",
    "**입출력 예**\n",
    "\n",
    "| angle    | result   |\n",
    "|----------|----------|\n",
    "| 70       | 1        |\n",
    "| 91       | 3        |\n",
    "| 180      | 4        |"
   ]
  },
  {
   "cell_type": "code",
   "execution_count": null,
   "metadata": {},
   "outputs": [],
   "source": [
    "# 제출\n"
   ]
  },
  {
   "cell_type": "code",
   "execution_count": null,
   "metadata": {},
   "outputs": [],
   "source": [
    "# 해설\n",
    "'''\n",
    "'''"
   ]
  },
  {
   "attachments": {},
   "cell_type": "markdown",
   "metadata": {},
   "source": [
    "#### Template\n",
    " [fin:2023-01-02]\n",
    "link : \n",
    "\n",
    "**문제 설명**\n",
    "\n",
    "각에서 0도 초과 90도 미만은 예각, 90도는 직각, 90도 초과 180도 미만은 둔각 180도는 평각으로 분류합니다. 각 angle이 매개변수로 주어질 때 예각일 때 1, 직각일 때 2, 둔각일 때 3, 평각일 때 4를 return하도록 solution 함수를 완성해주세요.\n",
    "- 예각 : 0 < angle < 90\n",
    "- 직각 : angle = 90\n",
    "- 둔각 : 90 < angle < 180\n",
    "- 평각 : angle = 180\n",
    "\n",
    "**제한사항**\n",
    "\n",
    "- 0 < angle ≤ 180\n",
    "- angle은 정수입니다.\n",
    "\n",
    "\n",
    "**입출력 예**\n",
    "\n",
    "| angle    | result   |\n",
    "|----------|----------|\n",
    "| 70       | 1        |\n",
    "| 91       | 3        |\n",
    "| 180      | 4        |"
   ]
  },
  {
   "cell_type": "code",
   "execution_count": null,
   "metadata": {},
   "outputs": [],
   "source": [
    "# 제출\n"
   ]
  },
  {
   "cell_type": "code",
   "execution_count": null,
   "metadata": {},
   "outputs": [],
   "source": [
    "# 해설\n",
    "'''\n",
    "'''"
   ]
  },
  {
   "attachments": {},
   "cell_type": "markdown",
   "metadata": {},
   "source": [
    "#### Template\n",
    " [fin:2023-01-02]\n",
    "link : \n",
    "\n",
    "**문제 설명**\n",
    "\n",
    "각에서 0도 초과 90도 미만은 예각, 90도는 직각, 90도 초과 180도 미만은 둔각 180도는 평각으로 분류합니다. 각 angle이 매개변수로 주어질 때 예각일 때 1, 직각일 때 2, 둔각일 때 3, 평각일 때 4를 return하도록 solution 함수를 완성해주세요.\n",
    "- 예각 : 0 < angle < 90\n",
    "- 직각 : angle = 90\n",
    "- 둔각 : 90 < angle < 180\n",
    "- 평각 : angle = 180\n",
    "\n",
    "**제한사항**\n",
    "\n",
    "- 0 < angle ≤ 180\n",
    "- angle은 정수입니다.\n",
    "\n",
    "\n",
    "**입출력 예**\n",
    "\n",
    "| angle    | result   |\n",
    "|----------|----------|\n",
    "| 70       | 1        |\n",
    "| 91       | 3        |\n",
    "| 180      | 4        |"
   ]
  },
  {
   "cell_type": "code",
   "execution_count": null,
   "metadata": {},
   "outputs": [],
   "source": [
    "# 제출\n"
   ]
  },
  {
   "cell_type": "code",
   "execution_count": null,
   "metadata": {},
   "outputs": [],
   "source": [
    "# 해설\n",
    "'''\n",
    "'''"
   ]
  },
  {
   "attachments": {},
   "cell_type": "markdown",
   "metadata": {},
   "source": [
    "#### Template\n",
    " [fin:2023-01-02]\n",
    "link : \n",
    "\n",
    "**문제 설명**\n",
    "\n",
    "각에서 0도 초과 90도 미만은 예각, 90도는 직각, 90도 초과 180도 미만은 둔각 180도는 평각으로 분류합니다. 각 angle이 매개변수로 주어질 때 예각일 때 1, 직각일 때 2, 둔각일 때 3, 평각일 때 4를 return하도록 solution 함수를 완성해주세요.\n",
    "- 예각 : 0 < angle < 90\n",
    "- 직각 : angle = 90\n",
    "- 둔각 : 90 < angle < 180\n",
    "- 평각 : angle = 180\n",
    "\n",
    "**제한사항**\n",
    "\n",
    "- 0 < angle ≤ 180\n",
    "- angle은 정수입니다.\n",
    "\n",
    "\n",
    "**입출력 예**\n",
    "\n",
    "| angle    | result   |\n",
    "|----------|----------|\n",
    "| 70       | 1        |\n",
    "| 91       | 3        |\n",
    "| 180      | 4        |"
   ]
  },
  {
   "cell_type": "code",
   "execution_count": null,
   "metadata": {},
   "outputs": [],
   "source": [
    "# 제출\n"
   ]
  },
  {
   "cell_type": "code",
   "execution_count": null,
   "metadata": {},
   "outputs": [],
   "source": [
    "# 해설\n",
    "'''\n",
    "'''"
   ]
  },
  {
   "attachments": {},
   "cell_type": "markdown",
   "metadata": {},
   "source": [
    "#### Template\n",
    " [fin:2023-01-02]\n",
    "link : \n",
    "\n",
    "**문제 설명**\n",
    "\n",
    "각에서 0도 초과 90도 미만은 예각, 90도는 직각, 90도 초과 180도 미만은 둔각 180도는 평각으로 분류합니다. 각 angle이 매개변수로 주어질 때 예각일 때 1, 직각일 때 2, 둔각일 때 3, 평각일 때 4를 return하도록 solution 함수를 완성해주세요.\n",
    "- 예각 : 0 < angle < 90\n",
    "- 직각 : angle = 90\n",
    "- 둔각 : 90 < angle < 180\n",
    "- 평각 : angle = 180\n",
    "\n",
    "**제한사항**\n",
    "\n",
    "- 0 < angle ≤ 180\n",
    "- angle은 정수입니다.\n",
    "\n",
    "\n",
    "**입출력 예**\n",
    "\n",
    "| angle    | result   |\n",
    "|----------|----------|\n",
    "| 70       | 1        |\n",
    "| 91       | 3        |\n",
    "| 180      | 4        |"
   ]
  },
  {
   "cell_type": "code",
   "execution_count": null,
   "metadata": {},
   "outputs": [],
   "source": [
    "# 제출\n"
   ]
  },
  {
   "cell_type": "code",
   "execution_count": null,
   "metadata": {},
   "outputs": [],
   "source": [
    "# 해설\n",
    "'''\n",
    "'''"
   ]
  },
  {
   "attachments": {},
   "cell_type": "markdown",
   "metadata": {},
   "source": [
    "#### Template\n",
    " [fin:2023-01-02]\n",
    "link : \n",
    "\n",
    "**문제 설명**\n",
    "\n",
    "각에서 0도 초과 90도 미만은 예각, 90도는 직각, 90도 초과 180도 미만은 둔각 180도는 평각으로 분류합니다. 각 angle이 매개변수로 주어질 때 예각일 때 1, 직각일 때 2, 둔각일 때 3, 평각일 때 4를 return하도록 solution 함수를 완성해주세요.\n",
    "- 예각 : 0 < angle < 90\n",
    "- 직각 : angle = 90\n",
    "- 둔각 : 90 < angle < 180\n",
    "- 평각 : angle = 180\n",
    "\n",
    "**제한사항**\n",
    "\n",
    "- 0 < angle ≤ 180\n",
    "- angle은 정수입니다.\n",
    "\n",
    "\n",
    "**입출력 예**\n",
    "\n",
    "| angle    | result   |\n",
    "|----------|----------|\n",
    "| 70       | 1        |\n",
    "| 91       | 3        |\n",
    "| 180      | 4        |"
   ]
  },
  {
   "cell_type": "code",
   "execution_count": null,
   "metadata": {},
   "outputs": [],
   "source": [
    "# 제출\n"
   ]
  },
  {
   "cell_type": "code",
   "execution_count": null,
   "metadata": {},
   "outputs": [],
   "source": [
    "# 해설\n",
    "'''\n",
    "'''"
   ]
  },
  {
   "attachments": {},
   "cell_type": "markdown",
   "metadata": {},
   "source": [
    "#### Template\n",
    " [fin:2023-01-02]\n",
    "link : \n",
    "\n",
    "**문제 설명**\n",
    "\n",
    "각에서 0도 초과 90도 미만은 예각, 90도는 직각, 90도 초과 180도 미만은 둔각 180도는 평각으로 분류합니다. 각 angle이 매개변수로 주어질 때 예각일 때 1, 직각일 때 2, 둔각일 때 3, 평각일 때 4를 return하도록 solution 함수를 완성해주세요.\n",
    "- 예각 : 0 < angle < 90\n",
    "- 직각 : angle = 90\n",
    "- 둔각 : 90 < angle < 180\n",
    "- 평각 : angle = 180\n",
    "\n",
    "**제한사항**\n",
    "\n",
    "- 0 < angle ≤ 180\n",
    "- angle은 정수입니다.\n",
    "\n",
    "\n",
    "**입출력 예**\n",
    "\n",
    "| angle    | result   |\n",
    "|----------|----------|\n",
    "| 70       | 1        |\n",
    "| 91       | 3        |\n",
    "| 180      | 4        |"
   ]
  },
  {
   "cell_type": "code",
   "execution_count": null,
   "metadata": {},
   "outputs": [],
   "source": [
    "# 제출\n"
   ]
  },
  {
   "cell_type": "code",
   "execution_count": null,
   "metadata": {},
   "outputs": [],
   "source": [
    "# 해설\n",
    "'''\n",
    "'''"
   ]
  },
  {
   "attachments": {},
   "cell_type": "markdown",
   "metadata": {},
   "source": [
    "#### Template\n",
    " [fin:2023-01-02]\n",
    "link : \n",
    "\n",
    "**문제 설명**\n",
    "\n",
    "각에서 0도 초과 90도 미만은 예각, 90도는 직각, 90도 초과 180도 미만은 둔각 180도는 평각으로 분류합니다. 각 angle이 매개변수로 주어질 때 예각일 때 1, 직각일 때 2, 둔각일 때 3, 평각일 때 4를 return하도록 solution 함수를 완성해주세요.\n",
    "- 예각 : 0 < angle < 90\n",
    "- 직각 : angle = 90\n",
    "- 둔각 : 90 < angle < 180\n",
    "- 평각 : angle = 180\n",
    "\n",
    "**제한사항**\n",
    "\n",
    "- 0 < angle ≤ 180\n",
    "- angle은 정수입니다.\n",
    "\n",
    "\n",
    "**입출력 예**\n",
    "\n",
    "| angle    | result   |\n",
    "|----------|----------|\n",
    "| 70       | 1        |\n",
    "| 91       | 3        |\n",
    "| 180      | 4        |"
   ]
  },
  {
   "cell_type": "code",
   "execution_count": null,
   "metadata": {},
   "outputs": [],
   "source": [
    "# 제출\n"
   ]
  },
  {
   "cell_type": "code",
   "execution_count": null,
   "metadata": {},
   "outputs": [],
   "source": [
    "# 해설\n",
    "'''\n",
    "'''"
   ]
  },
  {
   "attachments": {},
   "cell_type": "markdown",
   "metadata": {},
   "source": [
    "#### Template\n",
    " [fin:2023-01-02]\n",
    "link : \n",
    "\n",
    "**문제 설명**\n",
    "\n",
    "각에서 0도 초과 90도 미만은 예각, 90도는 직각, 90도 초과 180도 미만은 둔각 180도는 평각으로 분류합니다. 각 angle이 매개변수로 주어질 때 예각일 때 1, 직각일 때 2, 둔각일 때 3, 평각일 때 4를 return하도록 solution 함수를 완성해주세요.\n",
    "- 예각 : 0 < angle < 90\n",
    "- 직각 : angle = 90\n",
    "- 둔각 : 90 < angle < 180\n",
    "- 평각 : angle = 180\n",
    "\n",
    "**제한사항**\n",
    "\n",
    "- 0 < angle ≤ 180\n",
    "- angle은 정수입니다.\n",
    "\n",
    "\n",
    "**입출력 예**\n",
    "\n",
    "| angle    | result   |\n",
    "|----------|----------|\n",
    "| 70       | 1        |\n",
    "| 91       | 3        |\n",
    "| 180      | 4        |"
   ]
  },
  {
   "cell_type": "code",
   "execution_count": null,
   "metadata": {},
   "outputs": [],
   "source": [
    "# 제출\n"
   ]
  },
  {
   "cell_type": "code",
   "execution_count": null,
   "metadata": {},
   "outputs": [],
   "source": [
    "# 해설\n",
    "'''\n",
    "'''"
   ]
  },
  {
   "attachments": {},
   "cell_type": "markdown",
   "metadata": {},
   "source": [
    "#### Template\n",
    " [fin:2023-01-02]\n",
    "link : \n",
    "\n",
    "**문제 설명**\n",
    "\n",
    "각에서 0도 초과 90도 미만은 예각, 90도는 직각, 90도 초과 180도 미만은 둔각 180도는 평각으로 분류합니다. 각 angle이 매개변수로 주어질 때 예각일 때 1, 직각일 때 2, 둔각일 때 3, 평각일 때 4를 return하도록 solution 함수를 완성해주세요.\n",
    "- 예각 : 0 < angle < 90\n",
    "- 직각 : angle = 90\n",
    "- 둔각 : 90 < angle < 180\n",
    "- 평각 : angle = 180\n",
    "\n",
    "**제한사항**\n",
    "\n",
    "- 0 < angle ≤ 180\n",
    "- angle은 정수입니다.\n",
    "\n",
    "\n",
    "**입출력 예**\n",
    "\n",
    "| angle    | result   |\n",
    "|----------|----------|\n",
    "| 70       | 1        |\n",
    "| 91       | 3        |\n",
    "| 180      | 4        |"
   ]
  },
  {
   "cell_type": "code",
   "execution_count": null,
   "metadata": {},
   "outputs": [],
   "source": [
    "# 제출\n"
   ]
  },
  {
   "cell_type": "code",
   "execution_count": null,
   "metadata": {},
   "outputs": [],
   "source": [
    "# 해설\n",
    "'''\n",
    "'''"
   ]
  },
  {
   "attachments": {},
   "cell_type": "markdown",
   "metadata": {},
   "source": [
    "#### Template\n",
    " [fin:2023-01-02]\n",
    "link : \n",
    "\n",
    "**문제 설명**\n",
    "\n",
    "각에서 0도 초과 90도 미만은 예각, 90도는 직각, 90도 초과 180도 미만은 둔각 180도는 평각으로 분류합니다. 각 angle이 매개변수로 주어질 때 예각일 때 1, 직각일 때 2, 둔각일 때 3, 평각일 때 4를 return하도록 solution 함수를 완성해주세요.\n",
    "- 예각 : 0 < angle < 90\n",
    "- 직각 : angle = 90\n",
    "- 둔각 : 90 < angle < 180\n",
    "- 평각 : angle = 180\n",
    "\n",
    "**제한사항**\n",
    "\n",
    "- 0 < angle ≤ 180\n",
    "- angle은 정수입니다.\n",
    "\n",
    "\n",
    "**입출력 예**\n",
    "\n",
    "| angle    | result   |\n",
    "|----------|----------|\n",
    "| 70       | 1        |\n",
    "| 91       | 3        |\n",
    "| 180      | 4        |"
   ]
  },
  {
   "cell_type": "code",
   "execution_count": null,
   "metadata": {},
   "outputs": [],
   "source": [
    "# 제출\n"
   ]
  },
  {
   "cell_type": "code",
   "execution_count": null,
   "metadata": {},
   "outputs": [],
   "source": [
    "# 해설\n",
    "'''\n",
    "'''"
   ]
  },
  {
   "attachments": {},
   "cell_type": "markdown",
   "metadata": {},
   "source": [
    "---"
   ]
  }
 ],
 "metadata": {
  "kernelspec": {
   "display_name": "Python 3",
   "language": "python",
   "name": "python3"
  },
  "language_info": {
   "codemirror_mode": {
    "name": "ipython",
    "version": 3
   },
   "file_extension": ".py",
   "mimetype": "text/x-python",
   "name": "python",
   "nbconvert_exporter": "python",
   "pygments_lexer": "ipython3",
   "version": "3.11.1"
  },
  "orig_nbformat": 4,
  "vscode": {
   "interpreter": {
    "hash": "ebfc0a8d552866b0d59eba665220a57de3bc06f3ac643b8bef38dd8f66781fdd"
   }
  }
 },
 "nbformat": 4,
 "nbformat_minor": 2
}
