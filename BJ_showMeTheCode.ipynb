{
 "cells": [
  {
   "attachments": {},
   "cell_type": "markdown",
   "metadata": {},
   "source": [
    "# 쇼미더코드 : 원티드 주관 코딩테스트 대회 3차\n",
    "- 쇼미더코드 ref : https://www.acmicpc.net/category/660\n",
    "- 3차 ref : https://www.acmicpc.net/category/detail/3451"
   ]
  },
  {
   "cell_type": "code",
   "execution_count": null,
   "metadata": {},
   "outputs": [],
   "source": []
  }
 ],
 "metadata": {
  "language_info": {
   "name": "python"
  },
  "orig_nbformat": 4
 },
 "nbformat": 4,
 "nbformat_minor": 2
}
