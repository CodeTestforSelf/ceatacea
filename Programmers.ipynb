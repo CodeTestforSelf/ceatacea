{
 "cells": [
  {
   "attachments": {},
   "cell_type": "markdown",
   "metadata": {},
   "source": [
    "# 프로그래머스 문제 풀이"
   ]
  },
  {
   "attachments": {},
   "cell_type": "markdown",
   "metadata": {},
   "source": [
    "## Rules\n",
    "1. 하루 최소 3문제\n",
    "2. 이해한 내용으로써 풀기.\n",
    "3. 꾸준하게 계속하는 것이 목표. 쉬운 것부터 자동적으로 나올 때까지."
   ]
  },
  {
   "attachments": {},
   "cell_type": "markdown",
   "metadata": {},
   "source": [
    "### Lv.0 & Python\n",
    "https://school.programmers.co.kr/learn/challenges?order=recent&page=1&languages=python3&statuses=unsolved&levels=0"
   ]
  },
  {
   "attachments": {},
   "cell_type": "markdown",
   "metadata": {},
   "source": [
    "### 프로그래머스 코딩테스트 입문"
   ]
  },
  {
   "attachments": {},
   "cell_type": "markdown",
   "metadata": {},
   "source": [
    "#### 두 수의 곱 [fin:2022-12-03]\n",
    "link : https://school.programmers.co.kr/learn/courses/30/lessons/120804\n",
    "\n",
    "**문제 설명**\n",
    "정수 num1, num2가 매개변수 주어집니다. num1과 num2를 곱한 값을 return 하도록 solution 함수를 완성해주세요.\n",
    "\n",
    "\n",
    "**제한사항**\n",
    "\n",
    "- 0 ≤ num1 ≤ 100\n",
    "- 0 ≤ num2 ≤ 100\n",
    "\n",
    "**입출력 예**\n",
    "\n",
    "| num1         | num2     | result |\n",
    "|--------------|----------|------------|\n",
    "| 3            | 4        | 12        |\n",
    "| 2          | 19        | 513       |\n"
   ]
  },
  {
   "cell_type": "code",
   "execution_count": null,
   "metadata": {},
   "outputs": [],
   "source": [
    "def solution(num1, num2):\n",
    "    return num1*num2"
   ]
  },
  {
   "cell_type": "code",
   "execution_count": null,
   "metadata": {},
   "outputs": [],
   "source": [
    "# 해설\n",
    "'''\n",
    "곱한 값을 반환하면 되는 쉬운 문제.\n",
    "\n",
    "파이썬의 기본 산술 연산자 * multiplication을 이용.\n",
    "'''"
   ]
  },
  {
   "attachments": {},
   "cell_type": "markdown",
   "metadata": {},
   "source": [
    "#### 두 수의 차 [fin:2022-12-03]\n",
    "link : https://school.programmers.co.kr/learn/courses/30/lessons/120803\n",
    "\n",
    "**문제 설명**\n",
    "정수 num1과 num2가 주어질 때, num1에서 num2를 뺀 값을 return하도록 soltuion 함수를 완성해주세요.\n",
    "\n",
    "\n",
    "**제한사항**\n",
    "\n",
    "- -50000 ≤ num1 ≤ 50000\n",
    "- -50000 ≤ num2 ≤ 50000\n",
    "\n",
    "**입출력 예**\n",
    "\n",
    "| num1         | num2     | result |\n",
    "|--------------|----------|------------|\n",
    "| 2            | 3        | -1        |\n",
    "| 100          | 2        | 98       |\n"
   ]
  },
  {
   "cell_type": "code",
   "execution_count": null,
   "metadata": {},
   "outputs": [],
   "source": [
    "def solution(num1, num2):\n",
    "    return num1 - num2"
   ]
  },
  {
   "cell_type": "code",
   "execution_count": null,
   "metadata": {},
   "outputs": [],
   "source": [
    "# 해설\n",
    "'''\n",
    "동일하게 산술 연산자 subtraction 이용\n",
    "'''"
   ]
  },
  {
   "attachments": {},
   "cell_type": "markdown",
   "metadata": {},
   "source": [
    "#### 나이 출력  [fin:2022-12-03]\n",
    "link : https://school.programmers.co.kr/learn/courses/30/lessons/120820\n",
    "\n",
    "**문제 설명**\n",
    "머쓱이는 40살인 선생님이 몇 년도에 태어났는지 궁금해졌습니다. 나이 age가 주어질 때, 2022년을 기준 출생 연도를 return 하는 solution 함수를 완성해주세요.\n",
    "\n",
    "\n",
    "**제한사항**\n",
    "\n",
    "- 0 < age ≤ 120\n",
    "- 나이는 태어난 연도에 1살이며 1년마다 1씩 증가합니다.\n",
    "\n",
    "**입출력 예**\n",
    "\n",
    "| age      | result     |\n",
    "|----------|------------|\n",
    "| 40       | 1983       |\n",
    "| 2        | 2000       |\n"
   ]
  },
  {
   "cell_type": "code",
   "execution_count": null,
   "metadata": {},
   "outputs": [],
   "source": [
    "def solution(age):\n",
    "    return 2022 - age + 1"
   ]
  },
  {
   "cell_type": "code",
   "execution_count": null,
   "metadata": {},
   "outputs": [],
   "source": [
    "# 해설\n",
    "'''\n",
    "기준 년도에서 나이를 빼고 +1을 하면 나이가 나옴.\n",
    "'''"
   ]
  },
  {
   "attachments": {},
   "cell_type": "markdown",
   "metadata": {},
   "source": [
    "#### 나머지 구하기 [fin:2022-12-04]\n",
    "link : https://school.programmers.co.kr/learn/courses/30/lessons/120810\n",
    "\n",
    "**문제 설명**\n",
    "정수 num1, num2가 매개변수로 주어질 때, num1를 num2로 나눈 나머지를 return 하도록 solution 함수를 완성해주세요.\n",
    "\n",
    "\n",
    "**제한사항**\n",
    "\n",
    "- 0 < num1 ≤ 100\n",
    "- 0 < num2 ≤ 100\n",
    "\n",
    "**입출력 예**\n",
    "\n",
    "| num1      | num2     | result     |\n",
    "|-----------|----------|------------|\n",
    "| 3         | 2        | 1          |\n",
    "| 10        | 5        | 0          |"
   ]
  },
  {
   "cell_type": "code",
   "execution_count": null,
   "metadata": {},
   "outputs": [],
   "source": [
    "def solution(num1, num2):\n",
    "    return num1 % num2"
   ]
  },
  {
   "cell_type": "code",
   "execution_count": null,
   "metadata": {},
   "outputs": [],
   "source": [
    "# 해설\n",
    "'''\n",
    "파이썬의 산술 연산자 Arithmetic Operators 중에서 Modulus 나머지 연산자를 이용.\n",
    "%는 두 수를 나누었을 때 나머지만 구할 수 있고 몫은 버림 나눗셈(//, Floor Division)으로 구할 수 있다. 참고로 %는 모듈로(modulo) 연산자라고 한다.\n",
    "ref : https://www.w3schools.com/python/python_operators.asp\n",
    "ref : https://dojang.io/mod/page/view.php?id=1229\n",
    "'''"
   ]
  },
  {
   "attachments": {},
   "cell_type": "markdown",
   "metadata": {},
   "source": [
    "#### 몫 구하기 [fin:2022-12-04]\n",
    "link : https://school.programmers.co.kr/learn/courses/30/lessons/120805\n",
    "\n",
    "**문제 설명**\n",
    "정수 num1, num2가 매개변수로 주어질 때, num1을 num2로 나눈 몫을 return 하도록 solution 함수를 완성해주세요.\n",
    "\n",
    "\n",
    "**제한사항**\n",
    "\n",
    "- 0 < num1 ≤ 100\n",
    "- 0 < num2 ≤ 100\n",
    "\n",
    "**입출력 예**\n",
    "\n",
    "| num1      | num2     | result     |\n",
    "|-----------|----------|------------|\n",
    "| 10        | 5        | 2          |\n",
    "| 7         | 2        | 3          |\n",
    "\n"
   ]
  },
  {
   "cell_type": "code",
   "execution_count": null,
   "metadata": {},
   "outputs": [],
   "source": [
    "def solution(num1, num2):\n",
    "    return num1 // num2"
   ]
  },
  {
   "cell_type": "code",
   "execution_count": null,
   "metadata": {},
   "outputs": [],
   "source": [
    "# 해설\n",
    "'''\n",
    "파이썬의 산술 연산자 Arithmetic Operators 중에서 몫은 버림 나눗셈(//, Floor Division)으로 구할 수 있다. \n",
    "\n",
    "ref : https://www.w3schools.com/python/python_operators.asp \n",
    "'''"
   ]
  },
  {
   "attachments": {},
   "cell_type": "markdown",
   "metadata": {},
   "source": [
    "#### 두 수의 합 [fin:2022-12-04]\n",
    "link : https://school.programmers.co.kr/learn/courses/30/lessons/120802\n",
    "\n",
    "**문제 설명**\n",
    "정수 num1과 num2가 주어질 때, num1과 num2의 합을 return하도록 soltuion 함수를 완성해주세요.\n",
    "\n",
    "\n",
    "**제한사항**\n",
    "\n",
    "- -50000 ≤ num1 ≤ 50000\n",
    "- -50000 ≤ num2 ≤ 50000\n",
    "\n",
    "**입출력 예**\n",
    "\n",
    "| num1         | num2     | result      |\n",
    "|--------------|----------|-------------|\n",
    "| 2            | 3        | 5           |\n",
    "| 100          | 2        | 102         |\n"
   ]
  },
  {
   "cell_type": "code",
   "execution_count": null,
   "metadata": {},
   "outputs": [],
   "source": [
    "def solution(num1, num2):\n",
    "    return num1+num2"
   ]
  },
  {
   "cell_type": "code",
   "execution_count": null,
   "metadata": {},
   "outputs": [],
   "source": [
    "# 해설\n",
    "'''\n",
    "동일하게 산술 연산자 Addition 이용.\n",
    "sum도 가능하겠지만 단순하게 빠른 것을 하고 싶어서 연산자 이용.\n",
    "'''"
   ]
  },
  {
   "attachments": {},
   "cell_type": "markdown",
   "metadata": {},
   "source": [
    "#### 두 수의 나눗셈  [fin:2022-12-05]\n",
    "link : https://school.programmers.co.kr/learn/courses/30/lessons/120806\n",
    "\n",
    "**문제 설명**\n",
    "정수 num1과 num2가 매개변수로 주어질 때, num1을 num2로 나눈 값에 1,000을 곱한 후 정수 부분을 return 하도록 solution 함수를 완성해주세요.\n",
    "\n",
    "\n",
    "**제한사항**\n",
    "\n",
    "- 0 ≤ num1 ≤ 100\n",
    "- 0 ≤ num2 ≤ 100\n",
    "\n",
    "**입출력 예**\n",
    "\n",
    "| num1         | num2     | result      |\n",
    "|--------------|----------|-------------|\n",
    "| 3            | 2        | 1500           |\n",
    "| 7          | 3        | 2333         |\n",
    "| 1          | 16        | 62         |"
   ]
  },
  {
   "cell_type": "code",
   "execution_count": null,
   "metadata": {},
   "outputs": [],
   "source": [
    "def solution(num1, num2):\n",
    "    return int((num1 / num2) * 1000)"
   ]
  },
  {
   "cell_type": "code",
   "execution_count": null,
   "metadata": {},
   "outputs": [],
   "source": [
    "# 해설\n",
    "'''\n",
    "// Floor Division 이 아니라 / Division 으로서 나눈 값으로서 float 값이 나오게 하고 1000을 곱한 뒤 type casting을 int로 처리.\n",
    "ref : https://www.w3schools.com/python/python_casting.asp\n",
    "'''"
   ]
  },
  {
   "attachments": {},
   "cell_type": "markdown",
   "metadata": {},
   "source": [
    "#### 숫자 비교하기 [fin:2022-12-05]\n",
    "link : https://school.programmers.co.kr/learn/courses/30/lessons/120807\n",
    "\n",
    "**문제 설명**\n",
    "정수 num1과 num2가 매개변수로 주어집니다. 두 수가 같으면 1 다르면 -1을 return 하도록 solution 함수를 완성해주세요.\n",
    "\n",
    "\n",
    "**제한사항**\n",
    "\n",
    "- 0 ≤ num1 ≤ 10,000\n",
    "- 0 ≤ num2 ≤ 10,000\n",
    "\n",
    "**입출력 예**\n",
    "\n",
    "| num1     | num2     | result   |\n",
    "|----------|----------|----------|\n",
    "| 2        | 3        | -1       |\n",
    "| 11       | 11       | 1        |\n",
    "| 7        | 99       | -1       |"
   ]
  },
  {
   "cell_type": "code",
   "execution_count": null,
   "metadata": {},
   "outputs": [],
   "source": [
    "def solution(num1, num2):\n",
    "    return 1 if num1 == num2 else -1"
   ]
  },
  {
   "cell_type": "code",
   "execution_count": null,
   "metadata": {},
   "outputs": [],
   "source": [
    "# 해설\n",
    "'''\n",
    "1 if num1 is num2 else -1 을 쓰지 않은 이유.\n",
    "is 는 Identity Operators 식별 연산자로서 같은 Object오브젝트, 객체여야 한다. 같은 값 value를 가진 것이 아니라 객체가 다르다고 인지하므로 테스트에서 실패가 뜨기도 했다. 또한 문제에서는 수라는 값이 같다는 것을 전제로 했으므로 Comparison Operators 비교 연산자인 == equal 로서 if else condition을 삼항연산자\n",
    "ref : https://www.w3schools.com/python/gloss_python_identity_operators.asp\n",
    "ref : https://www.w3schools.com/python/gloss_python_comparison_operators.asp\n",
    "ref : https://www.geeksforgeeks.org/ternary-operator-in-python/\n",
    "'''"
   ]
  },
  {
   "attachments": {},
   "cell_type": "markdown",
   "metadata": {},
   "source": [
    "#### 분수의 덧셈 [fin:2022-12-05]\n",
    "link : https://school.programmers.co.kr/learn/courses/30/lessons/120808\n",
    "\n",
    "**문제 설명**\n",
    "첫 번째 분수의 분자와 분모를 뜻하는 denum1, num1, 두 번째 분수의 분자와 분모를 뜻하는 denum2, num2가 매개변수로 주어집니다. 두 분수를 더한 값을 기약 분수로 나타냈을 때 분자와 분모를 순서대로 담은 배열을 return 하도록 solution 함수를 완성해보세요.\n",
    "\n",
    "\n",
    "**제한사항**\n",
    "\n",
    "- 0 < denum1, num1, denum2, num2 < 1,000\n",
    "\n",
    "**입출력 예**\n",
    "\n",
    "| denum1   | num1     | denum2   | num2   | result   |\n",
    "|----------|----------|----------|--------|----------|\n",
    "| 1        | 2        | 3        | 3      | [5,4]    |\n",
    "| 9        | 2        | 4        | 1      | [29,6]   |"
   ]
  },
  {
   "cell_type": "code",
   "execution_count": null,
   "metadata": {},
   "outputs": [],
   "source": [
    "# 첫 시도\n",
    "# ref : https://www.skillsugar.com/how-to-add-fractions-in-python\n",
    "from fractions import Fraction\n",
    "def solution(denum1, num1, denum2, num2):\n",
    "    result = str(Fraction(f'{str(denum1)}/{str(num1)}') + Fraction(f'{str(denum2)}/{str(num2)}')).split('/')\n",
    "    return [int(n) for n in result]\n",
    "# 결과 : 정확성: 73.3\n",
    "# 합계: 73.3 / 100.0\n",
    "# 실패"
   ]
  },
  {
   "cell_type": "code",
   "execution_count": null,
   "metadata": {},
   "outputs": [],
   "source": [
    "# 두 번째 시도\n",
    "# ref : https://docs.python.org/ko/3/library/fractions.html#fractions.Fraction\n",
    "from fractions import Fraction\n",
    "def solution(denum1, num1, denum2, num2):\n",
    "    result = Fraction(denum1,num1) + Fraction(denum2,num2)\n",
    "    answer = []\n",
    "    answer.append(int(result.numerator))\n",
    "    answer.append(int(result.denominator))\n",
    "    return answer\n"
   ]
  },
  {
   "cell_type": "code",
   "execution_count": null,
   "metadata": {},
   "outputs": [],
   "source": [
    "# 줄여서\n",
    "from fractions import Fraction\n",
    "def solution(denum1, num1, denum2, num2):\n",
    "    result = Fraction(denum1,num1) + Fraction(denum2,num2)\n",
    "    return [int(result.numerator), int(result.denominator)]"
   ]
  },
  {
   "cell_type": "code",
   "execution_count": null,
   "metadata": {},
   "outputs": [],
   "source": [
    "from math import gcd\n",
    "# 최대공약수 Greatest Common Divisor aka GCD 의 성질을 이용\n",
    "# https://docs.python.org/ko/3/library/math.html#math.gcd\n",
    "def solution(denum1, num1, denum2, num2):\n",
    "    denum = denum1 * num2 + denum2 * num1\n",
    "    num = num1 * num2\n",
    "    # 분모의 합은 일반적으로 분모가 다를 때는 분수를 더하기 전에 분모의 최소공배수를 찾고, 분모를 같게 통분해야 한다. 고로, 1/2 + 3/5 일 때, 2와 5의 최소공배수는 10이다. 그리고 이를 분자에 공통되게 적용이 되도록 각자의 최소공배수가 되도록 곱을 해줘야 하고 그를 합한다.\n",
    "    # 분자는 1*5 + 3*2 = 5+6 = 11이 된다.\n",
    "    # 분모는 다르므로 곱한다 2*5\n",
    "    return [denum // gcd(denum, num), num // gcd(denum, num)]\n",
    "    # 그리고 최대 공약수를 구한 뒤에 각자의 분자와 분모로 나눈 값으로 반환."
   ]
  },
  {
   "cell_type": "code",
   "execution_count": null,
   "metadata": {},
   "outputs": [],
   "source": [
    "# 다른 방법\n",
    "from math import gcd\n",
    "denum1 = 999\n",
    "num1 = 11\n",
    "denum2 = 30\n",
    "num2 = 7\n",
    "\n",
    "denum = denum1 * num2 + denum2 * num1\n",
    "num = num1 * num2\n",
    "print(f'denum(분자) : {denum} / num(분모) : {num}')\n",
    "print(f'최대공약수 : {gcd(denum, num)}')\n",
    "print([denum // gcd(denum, num), num // gcd(denum, num)])"
   ]
  },
  {
   "cell_type": "code",
   "execution_count": null,
   "metadata": {},
   "outputs": [],
   "source": [
    "# 해설\n",
    "'''\n",
    "방법은 두 가지 였음. 하나는 수학적으로 접근하는 거랑 라이브러리 쓰기. 기억하는 바로는 분수도 라이브러리 있어서 그걸 쓰기로 함.\n",
    "1. 빌트인 메서드 Built-in Method 로서 from fractions import Fraction 쓰기.\n",
    "ref : https://www.skillsugar.com/how-to-add-fractions-in-python\n",
    "이걸로 했는데 코드 실해에서는 테스트 성공인데 제출에서는 틀리길래 뭐가 문젠가 하다가 수학적인 오류보다는 문자열로 분리하고 처리하는 과정에서의 오류인 느낌이라서 두 번째는 라이브러리의 기능으로서 정수형의 분자(numerator)와 분모(denominator)라는 속성을 이용해서 정확하게 반환 시키니 맞았음.\n",
    "2. 두번째는 수학적으로 풀이한 내용\n",
    "ref : https://stackoverflow.com/questions/66549612/gcd-implementation-of-fraction-addition-not-working-properly\n",
    "여길 참조함.\n",
    "수학적 계산법은 https://ko.wikihow.com/%EB%B6%84%EB%AA%A8%EA%B0%80-%EB%8B%A4%EB%A5%B8-%EB%B6%84%EC%88%98-%EB%8D%A7%EC%85%88%ED%95%98%EB%8A%94-%EB%B0%A9%EB%B2%95 가 설명 잘 함.\n",
    "'''"
   ]
  },
  {
   "attachments": {},
   "cell_type": "markdown",
   "metadata": {},
   "source": [
    "#### 배열 두배 만들기 [fin:2022-12-05]\n",
    "link : https://school.programmers.co.kr/learn/courses/30/lessons/120809\n",
    "\n",
    "**문제 설명**\n",
    "정수 배열 numbers가 매개변수로 주어집니다. numbers의 각 원소에 두배한 원소를 가진 배열을 return하도록 solution 함수를 완성해주세요.\n",
    "\n",
    "\n",
    "**제한사항**\n",
    "\n",
    "- -10,000≤ numbers의 원소 ≤ 10,000\n",
    "- 1 ≤ numbers의 길이 ≤ 1,000\n",
    "\n",
    "**입출력 예**\n",
    "\n",
    "| numbers                      | result                      |\n",
    "|------------------------------|-----------------------------|\n",
    "| [1, 2, 3, 4, 5]              | [2, 4, 6, 8, 10]            |\n",
    "| [1, 2, 100, -99, 1, 2, 3]    | [2, 4, 200, -198, 2, 4, 6]  |"
   ]
  },
  {
   "cell_type": "code",
   "execution_count": null,
   "metadata": {},
   "outputs": [],
   "source": [
    "def solution(numbers):\n",
    "    return [n*2 for n in numbers]"
   ]
  },
  {
   "cell_type": "code",
   "execution_count": null,
   "metadata": {},
   "outputs": [],
   "source": [
    "# 해설\n",
    "'''\n",
    "리스트 컴프리헨션 List Comprehension을 이용해서 for loop 을 이용해 list 객체를 원하는 값을 적용하면서 반환하도록 처리\n",
    "\n",
    "\n",
    "ref : https://wikidocs.net/22805\n",
    "ref : https://www.geeksforgeeks.org/python-list-comprehension/\n",
    "'''"
   ]
  },
  {
   "attachments": {},
   "cell_type": "markdown",
   "metadata": {},
   "source": [
    "#### 각도기 [fin:2022-12-06]\n",
    "link : https://school.programmers.co.kr/learn/courses/30/lessons/120829\n",
    "\n",
    "**문제 설명**\n",
    "각에서 0도 초과 90도 미만은 예각, 90도는 직각, 90도 초과 180도 미만은 둔각 180도는 평각으로 분류합니다. 각 angle이 매개변수로 주어질 때 예각일 때 1, 직각일 때 2, 둔각일 때 3, 평각일 때 4를 return하도록 solution 함수를 완성해주세요.\n",
    "- 예각 : 0 < angle < 90\n",
    "- 직각 : angle = 90\n",
    "- 둔각 : 90 < angle < 180\n",
    "- 평각 : angle = 180\n",
    "\n",
    "**제한사항**\n",
    "\n",
    "- 0 < angle ≤ 180\n",
    "- angle은 정수입니다.\n",
    "\n",
    "\n",
    "**입출력 예**\n",
    "\n",
    "| angle    | result   |\n",
    "|----------|----------|\n",
    "| 70       | 1        |\n",
    "| 91       | 3        |\n",
    "| 180      | 4        |"
   ]
  },
  {
   "cell_type": "code",
   "execution_count": null,
   "metadata": {},
   "outputs": [],
   "source": [
    "# 제출\n",
    "def solution(angle):\n",
    "    if angle > 0 and angle < 90:\n",
    "        return 1\n",
    "    elif angle == 90:\n",
    "        return 2\n",
    "    elif angle > 90 and angle < 180:\n",
    "        return 3\n",
    "    elif angle == 180:\n",
    "        return 4"
   ]
  },
  {
   "cell_type": "code",
   "execution_count": null,
   "metadata": {},
   "outputs": [],
   "source": [
    "# 다른 사람 풀이 : https://school.programmers.co.kr/learn/courses/30/lessons/120829/solution_groups?language=python3\n",
    "def solution(angle):\n",
    "    answer = (angle // 90) * 2 + (angle % 90 > 0) * 1\n",
    "    return answer"
   ]
  },
  {
   "cell_type": "code",
   "execution_count": null,
   "metadata": {},
   "outputs": [],
   "source": [
    "# 위의 수식 풀이\n",
    "angle = 91\n",
    "print(angle // 90)\n",
    "print((angle // 90) * 2)\n",
    "print(angle % 90)\n",
    "print(angle % 90 > 0)\n",
    "print((angle % 90 > 0) * 1)\n",
    "print((angle // 90) * 2 + (angle % 90) * 1)\n"
   ]
  },
  {
   "cell_type": "code",
   "execution_count": null,
   "metadata": {},
   "outputs": [],
   "source": [
    "# 해설\n",
    "'''\n",
    "단순하게 if condition으로 풀기는 했는데 수학적으로도 가능할 것 같아서 다른 사람 풀이 보고 새로운 방법 발견.\n",
    "90 미만일 때는 //(Floor Division, 버림 나눗셈, 결과에서 소수점 이하는 버림)을 이용해서 0일 때를 이용하고, %(Modulus, 나머지) 가 0 이상일 때는 True로서 하여 1부터 시작하게 하고,\n",
    "90일 때는 % 에서는 0이 나와서 False로 0이지만 그 전에 90 // 90을 하면 1이고 여기에 *2를 해서 직각일 때는 2번이고 이는 180일 때도 동일하게 된다. 180 // 90 해서 2 나온 것에 2를 곱하여 4가 되고, 180 % 90은 0이 되므로 4가 고대로 나옴.\n",
    "그리고 90에서 180 사이는 91 // 90으로서 1이 나오므로 *2로서 2가 되고, 91 % 90의 경우도 1이라는 나머지에 *1을 하면 그대로 1이 나오므로 2+1해서 3이 됨.\n",
    "각 조건에 따른 수학적인 고민이 보이는 좋은 경우였다고 생각함.\n",
    "'''"
   ]
  },
  {
   "attachments": {},
   "cell_type": "markdown",
   "metadata": {},
   "source": [
    "#### 양꼬치 [fin:2022-12-06]\n",
    "link : https://school.programmers.co.kr/learn/courses/30/lessons/120830\n",
    "\n",
    "**문제 설명**\n",
    "머쓱이네 양꼬치 가게는 10인분을 먹으면 음료수 하나를 서비스로 줍니다. 양꼬치는 1인분에 12,000원, 음료수는 2,000원입니다. 정수 n과 k가 매개변수로 주어졌을 때, 양꼬치 n인분과 음료수 k개를 먹었다면 총얼마를 지불해야 하는지 return 하도록 solution 함수를 완성해보세요.\n",
    "\n",
    "**제한사항**\n",
    "\n",
    "- 0 < n < 1,000\n",
    "- n / 10 ≤ k < 1,000\n",
    "- 서비스로 받은 음료수는 모두 마십니다.\n",
    "\n",
    "\n",
    "**입출력 예**\n",
    "\n",
    "| n    | k   | result   |\n",
    "|----------|----------|----------|\n",
    "| 10       | 3        | 124,000  |\n",
    "| 64       | 6\t      | 768,000  |"
   ]
  },
  {
   "cell_type": "code",
   "execution_count": null,
   "metadata": {},
   "outputs": [],
   "source": [
    "# 제출\n",
    "def solution(n, k):\n",
    "    service = (k - (n // 10))\n",
    "    answer = 0\n",
    "    if n < 10:\n",
    "        answer = (n * 12000) + (k * 2000)\n",
    "    elif n >= 10 and n % 10 >= 0:\n",
    "        answer = (n * 12000) + (service * 2000)\n",
    "    return answer"
   ]
  },
  {
   "cell_type": "code",
   "execution_count": null,
   "metadata": {},
   "outputs": [],
   "source": [
    "# 허점?\n",
    "def solution(n, k):\n",
    "    service = n // 10\n",
    "    drink = max(0, k-service) # (k-service)\n",
    "    return (n * 12000) + (drink * 2000)\n",
    "# (k-service)여도 테스트는 통과하길래 고민해보니 n / 10 ≤ k < 1,000 라는 전제 조건과 \"서비스로 받은 음료수는 모두 마십니다.\" 라는 전제 조건이 있기에 k는 0 이 될 수 없음."
   ]
  },
  {
   "cell_type": "code",
   "execution_count": null,
   "metadata": {},
   "outputs": [],
   "source": [
    "# 문제 그대로만 할 때까지도 테스트 통과함 확인.\n",
    "def solution(n, k):\n",
    "    return 12000 * n + 2000 * k - 2000 * (n//10)"
   ]
  },
  {
   "cell_type": "code",
   "execution_count": null,
   "metadata": {},
   "outputs": [],
   "source": [
    "# 해설\n",
    "'''\n",
    "10 미만일 때는 그냥 서비스 없이 음료수 마신 이력으로 하며, k는 0 이상일 수 밖에 없음 확인하고 풀었다.\n",
    "그러다가 다른 사람들 풀이 보니까 max(0, k-service) 이 부분에 흥미를 느껴서 확인해보다가 (k-service)든 max(0, k-service)든 테스트는 통과하길래 뭐지 고민하다가 k가 0일 수 없음 확인했으나 혹시 모를 부분으로 방어로서 max 하는 부분은 동의.\n",
    "그러다가 문제의 그대로 서비스로 받은 음료는 마신다는 부분까지 해서 단순하게\n",
    "12000 * n + 2000 * k - 2000 * (n//10) 해봤는데 얘도 통과 하는 것 확인.\n",
    "'''"
   ]
  },
  {
   "attachments": {},
   "cell_type": "markdown",
   "metadata": {},
   "source": [
    "#### 배열의 평균값 [fin:2022-12-06]\n",
    "link : https://school.programmers.co.kr/learn/courses/30/lessons/120817\n",
    "\n",
    "**문제 설명**\n",
    "정수 배열 numbers가 매개변수로 주어집니다. numbers의 원소의 평균값을 return하도록 solution 함수를 완성해주세요.\n",
    "\n",
    "**제한사항**\n",
    "\n",
    "- 0 ≤ numbers의 원소 ≤ 1,000\n",
    "- 1 ≤ numbers의 길이 ≤ 100\n",
    "- 정답의 소수 부분이 .0 또는 .5인 경우만 입력으로 주어집니다.\n",
    "\n",
    "\n",
    "**입출력 예**\n",
    "\n",
    "| numbers                                         | result   |\n",
    "|-------------------------------------------------|----------|\n",
    "| [1, 2, 3, 4, 5, 6, 7, 8, 9, 10]                 | 5.5      |\n",
    "| [89, 90, 91, 92, 93, 94, 95, 96, 97, 98, 99]    | 3        |"
   ]
  },
  {
   "cell_type": "code",
   "execution_count": null,
   "metadata": {},
   "outputs": [],
   "source": [
    "# 제출\n",
    "def solution(numbers):\n",
    "    return round(sum(numbers) / len(numbers), 2)"
   ]
  },
  {
   "cell_type": "code",
   "execution_count": null,
   "metadata": {},
   "outputs": [],
   "source": [
    "# 해설\n",
    "'''\n",
    "ref : https://docs.python.org/3/library/functions.html#round\n",
    "round(number, ndigits=None)\n",
    "문제에서 \"정답의 소수 부분이 .0 또는 .5인 경우만 입력으로 주어집니다.\" 라고 했으니 round\n",
    "반올림 함수로서 round(결과값, 2) 로서 한정지어서 반올림 시켰음.\n",
    "\n",
    "문서에서도 말하듯이 기본적으로 round 메서드는 n자리를 뺀 거듭제곱에 가장 가까운 10배로 반올림이 된다고 했으며, 실수인 float 에서 round(2.675, 2) 일 때는 2.68이 아니라 2.67로 반환이 된다고 함. 버그가 아니라 파이썬의 반올림은 반올림 하려는 수가 올림, 내림했을 때 동일하게 차이가 나는 경우에는 짝수 값으로 반올림하는 셈이다.\n",
    "예를 들어 0.5 는 0에도 0.5가 차이나고 1에도 0.5가 차이가 나는 상황일 때 파이썬의 round 함수는 똑같이 가깝다면 짝수를 반환하게 설계되어있기 때문에 홀수인 1이 아니라 0 을 반환하는 것인 셈.\n",
    "설명 잘 된 곳 : https://blockdmask.tistory.com/418\n",
    "'''"
   ]
  },
  {
   "attachments": {},
   "cell_type": "markdown",
   "metadata": {},
   "source": [
    "#### 짝수의 합 [fin:2022-12-07]\n",
    "link : https://school.programmers.co.kr/learn/courses/30/lessons/120831\n",
    "\n",
    "**문제 설명**\n",
    "정수 n이 주어질 때, n이하의 짝수를 모두 더한 값을 return 하도록 solution 함수를 작성해주세요.\n",
    "\n",
    "**제한사항**\n",
    "\n",
    "- 0 < n ≤ 1000\n",
    "\n",
    "\n",
    "**입출력 예**\n",
    "\n",
    "| n        | result   |\n",
    "|----------|----------|\n",
    "| 10\t   | 30       |\n",
    "| 4        | 6        |"
   ]
  },
  {
   "cell_type": "code",
   "execution_count": null,
   "metadata": {},
   "outputs": [],
   "source": [
    "# 첫번째 - 실패 (6번)\n",
    "def solution(n):\n",
    "    answer = n if n % 2 == 0 else n-1\n",
    "    for i in range(2,n,2):\n",
    "        answer += i\n",
    "    return answer\n",
    "# 실패\n",
    "solution(3)\n",
    "# 3일 경우 틀림."
   ]
  },
  {
   "cell_type": "code",
   "execution_count": null,
   "metadata": {},
   "outputs": [],
   "source": [
    "# 두번째 - 실패\n",
    "def solution(n):\n",
    "    if n == 2:\n",
    "        return n\n",
    "    if n >=3:\n",
    "        return sum(range(2, n, 2)) + n\n",
    "    else:\n",
    "        return 0\n",
    "\n",
    "solution(5) # 11 - 실패\n",
    "# solution(3) # 5 - 실패"
   ]
  },
  {
   "cell_type": "code",
   "execution_count": null,
   "metadata": {},
   "outputs": [],
   "source": [
    "def solution(n):\n",
    "    if n == 2:\n",
    "        return n\n",
    "    if n >=3:\n",
    "        return sum(range(2, n, 2)) + n if n % 2 == 0 and n != 3 else 0 if n == 3 else n-1\n",
    "    else:\n",
    "        return 0\n",
    "\n",
    "solution(5) # 4 # 실패"
   ]
  },
  {
   "cell_type": "code",
   "execution_count": null,
   "metadata": {},
   "outputs": [],
   "source": [
    "# 제출\n",
    "def solution(n):\n",
    "    if n == 2:\n",
    "        return n\n",
    "    if n >=3:\n",
    "        return sum(range(2, n, 2)) + (0 if n == 3 else n if n % 2 == 0 else 0)\n",
    "    else:\n",
    "        return 0"
   ]
  },
  {
   "cell_type": "code",
   "execution_count": null,
   "metadata": {},
   "outputs": [],
   "source": [
    "n = 6\n",
    "print([i for i in range(2, n + 1, 2)])\n",
    "sum([i for i in range(2, n + 1, 2)])"
   ]
  },
  {
   "cell_type": "code",
   "execution_count": null,
   "metadata": {},
   "outputs": [],
   "source": [
    "# 해설\n",
    "'''\n",
    "여러번 시도함.\n",
    "처음에는 단순하게 if 조건을 여러개 걸었다가 안되서 if 조건을 조정했고 마지막에 실수 빼고는 품. 근데 다른 사람 풀이 중에서 아래 보고 패착 깨달음. list로 짝수만 뽑고(자기 자신 포함) 그걸 더하면 되는 거였어..\n",
    "def solution(n):\n",
    "    return sum([i for i in range(2, n + 1, 2)])\n",
    "'''"
   ]
  },
  {
   "attachments": {},
   "cell_type": "markdown",
   "metadata": {},
   "source": [
    "#### 중복된 숫자 개수 [fin:2022-12-07]\n",
    "link : https://school.programmers.co.kr/learn/courses/30/lessons/120583\n",
    "\n",
    "**문제 설명**\n",
    "정수가 담긴 배열 array와 정수 n이 매개변수로 주어질 때, array에 n이 몇 개 있는 지를 return 하도록 solution 함수를 완성해보세요.\n",
    "\n",
    "**제한사항**\n",
    "\n",
    "- 1 ≤ array의 길이 ≤ 100\n",
    "- 0 ≤ array의 원소 ≤ 1,000\n",
    "- 0 ≤ n ≤ 1,000\n",
    "\n",
    "\n",
    "**입출력 예**\n",
    "\n",
    "| array                | n        | result   |\n",
    "|----------------------|----------|----------|\n",
    "| [1, 1, 2, 3, 4, 5]   | 1        | 2        |\n",
    "| [0, 2, 3, 4]         | 1        | 0        |"
   ]
  },
  {
   "cell_type": "code",
   "execution_count": null,
   "metadata": {},
   "outputs": [],
   "source": [
    "# 제출\n",
    "def solution(array, n):\n",
    "    return array.count(n)"
   ]
  },
  {
   "cell_type": "code",
   "execution_count": null,
   "metadata": {},
   "outputs": [],
   "source": [
    "# 해설\n",
    "'''\n",
    "ref : https://docs.python.org/3/library/array.html?highlight=count#array.array.count\n",
    "array.count(x)\n",
    "배열array에서 x의 갯수를 반환.\n",
    "'''"
   ]
  },
  {
   "attachments": {},
   "cell_type": "markdown",
   "metadata": {},
   "source": [
    "#### 머쓱이보다 키 큰 사람 [fin:2022-12-07]\n",
    "link : https://school.programmers.co.kr/learn/courses/30/lessons/120585\n",
    "\n",
    "**문제 설명**\n",
    "머쓱이는 학교에서 키 순으로 줄을 설 때 몇 번째로 서야 하는지 궁금해졌습니다. 머쓱이네 반 친구들의 키가 담긴 정수 배열 array와 머쓱이의 키 height가 매개변수로 주어질 때, 머쓱이보다 키 큰 사람 수를 return 하도록 solution 함수를 완성해보세요.\n",
    "\n",
    "**제한사항**\n",
    "\n",
    "- 1 ≤ array의 길이 ≤ 100\n",
    "- 1 ≤ height ≤ 200\n",
    "- 1 ≤ array의 원소 ≤ 200\n",
    "\n",
    "\n",
    "**입출력 예**\n",
    "\n",
    "| array    | height   | result   |\n",
    "|----------|----------|----------|\n",
    "| [149, 180, 192, 170]\t| 167   | 3 |\n",
    "| [180, 120, 140]\t        | 190   | 0 |"
   ]
  },
  {
   "cell_type": "code",
   "execution_count": null,
   "metadata": {},
   "outputs": [],
   "source": [
    "# 제출\n",
    "def solution(array, height):\n",
    "    answer = [max(i,height) for i in array]\n",
    "    return len(answer) - answer.count(height)"
   ]
  },
  {
   "cell_type": "code",
   "execution_count": null,
   "metadata": {},
   "outputs": [],
   "source": [
    "# 해설\n",
    "'''\n",
    "풀긴 했는데..\n",
    "뭔가 좀 아쉬워서 다른 사람 풀이 보니까 len([i for i in array if i > height]) 이쪽이 더 깔끔한 느낌.\n",
    "'''"
   ]
  },
  {
   "attachments": {},
   "cell_type": "markdown",
   "metadata": {},
   "source": [
    "#### 피자 나눠 먹기 (1) [fin:2022-12-08]\n",
    "link : https://school.programmers.co.kr/learn/courses/30/lessons/120814\n",
    "\n",
    "**문제 설명**\n",
    "머쓱이네 피자가게는 피자를 일곱 조각으로 잘라 줍니다. 피자를 나눠먹을 사람의 수 n이 주어질 때, 모든 사람이 피자를 한 조각 이상 먹기 위해 필요한 피자의 수를 return 하는 solution 함수를 완성해보세요.\n",
    "\n",
    "**제한사항**\n",
    "\n",
    "- 1 ≤ n ≤ 100\n",
    "\n",
    "\n",
    "**입출력 예**\n",
    "\n",
    "| n       | result   |\n",
    "|---------|----------|\n",
    "| 7       | 1        |\n",
    "| 1       | 1        |\n",
    "| 15      | 3        |"
   ]
  },
  {
   "cell_type": "code",
   "execution_count": null,
   "metadata": {},
   "outputs": [],
   "source": [
    "# 제출\n",
    "def solution(n):\n",
    "    return (n//7) + (1 if n % 7 != 0 else 0)"
   ]
  },
  {
   "cell_type": "code",
   "execution_count": null,
   "metadata": {},
   "outputs": [],
   "source": [
    "# 다른 사람 풀이\n",
    "def solution(n):\n",
    "    return (n-1) // 7 + 1\n",
    "solution(13)"
   ]
  },
  {
   "cell_type": "code",
   "execution_count": null,
   "metadata": {},
   "outputs": [],
   "source": [
    "# 해설\n",
    "'''\n",
    "7의 배수를 만족 시킨 다음에 7의 배수를 초과하는 경우에 조건 걸어서 +1을 함.\n",
    "그리고 나서,\n",
    "\n",
    "(n-1) // 7 + 1\n",
    "라는 방식을 봤는데, 이거로 좀 고민해 봄.\n",
    "n // 7  이라는 기본 전제로서 7명당 1판 이라는 걸 7의 배수적인 건 만족하긴 하지만, 그 이상에 대해서는 추가 필요\n",
    "((n - 1) // 7) + 1로 n-1 이라는 7의 배수는 만족하지 못하게 설정 후 7의 배수 미만이라면 거기에 원래의 7의 배수적인 면으로 +1을 그게 아니라 7의 배수에서 초과값이라면 7의 배수의 나머지들도 먹을 1판을 추가해주는 방식.\n",
    "이것도 머리 잘 쓴 것 같다.\n",
    "'''"
   ]
  },
  {
   "attachments": {},
   "cell_type": "markdown",
   "metadata": {},
   "source": [
    "#### 짝수 홀수 개수 [fin:2022-12-08]\n",
    "link : https://school.programmers.co.kr/learn/courses/30/lessons/120824\n",
    "\n",
    "**문제 설명**\n",
    "정수가 담긴 리스트 num_list가 주어질 때, num_list의 원소 중 짝수와 홀수의 개수를 담은 배열을 return 하도록 solution 함수를 완성해보세요.\n",
    "\n",
    "**제한사항**\n",
    "\n",
    "- 1 ≤ num_list의 길이 ≤ 100\n",
    "- 0 ≤ num_list의 원소 ≤ 1,000\n",
    "\n",
    "\n",
    "**입출력 예**\n",
    "\n",
    "| num_list    | result   |\n",
    "|-------------|----------|\n",
    "| [1, 2, 3, 4, 5]  | [2, 3] |\n",
    "| [1, 3, 5, 7]     | [0, 4] |"
   ]
  },
  {
   "cell_type": "code",
   "execution_count": null,
   "metadata": {},
   "outputs": [],
   "source": [
    "# 제출\n",
    "def solution(num_list):\n",
    "    even = list(filter(lambda x: x % 2 == 0, num_list))\n",
    "    odd = list(filter(lambda x: x % 2 != 0, num_list))\n",
    "    return [len(even), len(odd)]"
   ]
  },
  {
   "cell_type": "code",
   "execution_count": null,
   "metadata": {},
   "outputs": [],
   "source": [
    "# 간략화\n",
    "def solution(num_list):\n",
    "    even = list(filter(lambda x: x % 2 == 0, num_list))\n",
    "    return [len(even), len(num_list) - len(even)]"
   ]
  },
  {
   "cell_type": "code",
   "execution_count": 154,
   "metadata": {},
   "outputs": [],
   "source": [
    "def solution(num_list):\n",
    "    answer = [0,0]\n",
    "    for n in num_list:\n",
    "        answer[n%2]+=1\n",
    "    return answer"
   ]
  },
  {
   "cell_type": "code",
   "execution_count": 156,
   "metadata": {},
   "outputs": [
    {
     "name": "stdout",
     "output_type": "stream",
     "text": [
      "n : 1 / n%2 : 1 / answer[n%2] : 0\n",
      "n : 3 / n%2 : 1 / answer[n%2] : 1\n",
      "n : 5 / n%2 : 1 / answer[n%2] : 2\n",
      "n : 7 / n%2 : 1 / answer[n%2] : 3\n",
      "n : 2 / n%2 : 0 / answer[n%2] : 0\n"
     ]
    },
    {
     "data": {
      "text/plain": [
       "[1, 4]"
      ]
     },
     "execution_count": 156,
     "metadata": {},
     "output_type": "execute_result"
    }
   ],
   "source": [
    "def solution(num_list):\n",
    "    answer = [0,0]\n",
    "    for n in num_list:\n",
    "        print(f'n : {n} / n%2 : {n%2} / answer[n%2] : {answer[n%2]}')\n",
    "        answer[n%2] += 1\n",
    "    return answer\n",
    "\n",
    "num_list = [1,3,5,7,2]# [1,2,3,4,5]\n",
    "solution(num_list)"
   ]
  },
  {
   "cell_type": "code",
   "execution_count": null,
   "metadata": {},
   "outputs": [],
   "source": [
    "# 해설\n",
    "'''\n",
    "ref : https://docs.python.org/3/library/functions.html#filter\n",
    "ref : https://docs.python.org/3/reference/expressions.html#lambda\n",
    "filter(function, iterable) 라는 걸 기억하고 있어서 그걸 쓰고 싶어서 이거로 파고 들음.\n",
    "처음에는 삼항연산자로 하려고 했는데 그러려면 else 가 있어야 하고 else로 남은 걸 다른 것으로 활용하려니 너무 복잡해지는 느낌이라서 깔끔하게 나눔.\n",
    "수식적으로 더 줄일 수 있을 거 같긴 한데 예전에 주훈님이 알려주신 부분 ::= 이건 아직 익숙하지 못해서 못 씀.\n",
    "\n",
    "그리고 다른 사람 풀이에서,\n",
    "answer = [0,0]\n",
    "for n in num_list:\n",
    "    answer[n%2]+=1\n",
    "이건 처음에 이해 못했다가, 짝수면 answer에서 0번째에 값에 +=1 아니면 1이 나올테니 1번째에 +=1 을 하는 방식인 걸 이해함.\n",
    "\n",
    "이것도 머리 잘 썼다 싶다.\n",
    "'''"
   ]
  },
  {
   "attachments": {},
   "cell_type": "markdown",
   "metadata": {},
   "source": [
    "#### 배열 뒤집기 [fin:2022-12-08]\n",
    "link : https://school.programmers.co.kr/learn/courses/30/lessons/120821\n",
    "\n",
    "**문제 설명**\n",
    "정수가 들어 있는 배열 num_list가 매개변수로 주어집니다. num_list의 원소의 순서를 거꾸로 뒤집은 배열을 return하도록 solution 함수를 완성해주세요.\n",
    "\n",
    "**제한사항**\n",
    "\n",
    "- 1 ≤ num_list의 길이 ≤ 1,000\n",
    "- 0 ≤ num_list의 원소 ≤ 1,000\n",
    "\n",
    "\n",
    "**입출력 예**\n",
    "\n",
    "| num_list    | result   |\n",
    "|-------------|----------|\n",
    "| [1, 2, 3, 4, 5] | [5, 4, 3, 2, 1] |\n",
    "| [1, 1, 1, 1, 1, 2] | [2, 1, 1, 1, 1, 1] |\n",
    "| [1, 0, 1, 1, 1, 3, 5] | [5, 3, 1, 1, 1, 0, 1] |"
   ]
  },
  {
   "cell_type": "code",
   "execution_count": null,
   "metadata": {},
   "outputs": [],
   "source": [
    "# 제출\n",
    "def solution(num_list):\n",
    "    return list(reversed(num_list))"
   ]
  },
  {
   "cell_type": "code",
   "execution_count": null,
   "metadata": {},
   "outputs": [],
   "source": [
    "# 해설\n",
    "'''\n",
    "ref : https://docs.python.org/3/library/functions.html#reversed\n",
    "기억하던 게 있어서 그대로 함.\n",
    "다만, 맞나 체크 겸사 reversed(num_list)해보니까 이렇게 할 경우, TypeError: Object of type list_reverse iterator is not JSON serializable라고 타입 에러 남. 그래서 type()으로 찍어보니까 <class 'list_reverse iterator'> 참조는 : https://stackoverflow.com/questions/40165800/whats-the-difference-between-a-reversed-tuple-and-a-reversed-list 여기.\n",
    "\n",
    "'''"
   ]
  },
  {
   "attachments": {},
   "cell_type": "markdown",
   "metadata": {},
   "source": [
    "#### Template\n",
    " [fin:2022-12-08]\n",
    "link : \n",
    "\n",
    "**문제 설명**\n",
    "각에서 0도 초과 90도 미만은 예각, 90도는 직각, 90도 초과 180도 미만은 둔각 180도는 평각으로 분류합니다. 각 angle이 매개변수로 주어질 때 예각일 때 1, 직각일 때 2, 둔각일 때 3, 평각일 때 4를 return하도록 solution 함수를 완성해주세요.\n",
    "- 예각 : 0 < angle < 90\n",
    "- 직각 : angle = 90\n",
    "- 둔각 : 90 < angle < 180\n",
    "- 평각 : angle = 180\n",
    "\n",
    "**제한사항**\n",
    "\n",
    "- 0 < angle ≤ 180\n",
    "- angle은 정수입니다.\n",
    "\n",
    "\n",
    "**입출력 예**\n",
    "\n",
    "| angle    | result   |\n",
    "|----------|----------|\n",
    "| 70       | 1        |\n",
    "| 91       | 3        |\n",
    "| 180      | 4        |"
   ]
  },
  {
   "cell_type": "code",
   "execution_count": null,
   "metadata": {},
   "outputs": [],
   "source": [
    "# 제출\n"
   ]
  },
  {
   "cell_type": "code",
   "execution_count": null,
   "metadata": {},
   "outputs": [],
   "source": [
    "# 해설\n",
    "'''\n",
    "'''"
   ]
  },
  {
   "attachments": {},
   "cell_type": "markdown",
   "metadata": {},
   "source": [
    "---"
   ]
  },
  {
   "attachments": {},
   "cell_type": "markdown",
   "metadata": {},
   "source": [
    "### 스킬 체크 테스트 Level.1"
   ]
  },
  {
   "attachments": {},
   "cell_type": "markdown",
   "metadata": {},
   "source": [
    "#### 스킬 체크 테스트 Level.1 / 문제 1\n",
    "https://programmers.co.kr/skill_checks/443156?challenge_id=978\n"
   ]
  },
  {
   "cell_type": "code",
   "execution_count": null,
   "metadata": {},
   "outputs": [],
   "source": [
    "from datetime import date\n",
    "\n",
    "def solution(a, b):\n",
    "    answer = ''\n",
    "    days = ['MON','TUE','WED','THU','FRI','SAT','SUN']\n",
    "    years = 2016\n",
    "    mydate = date(years, a, b).weekday()\n",
    "    answer = days[mydate]\n",
    "    # Return the day of the week as an integer, where Monday is 0 and Sunday is 6. For example, date(2002, 12, 4).weekday() == 2, a Wednesday.\n",
    "    return answer"
   ]
  },
  {
   "cell_type": "code",
   "execution_count": null,
   "metadata": {},
   "outputs": [],
   "source": [
    "# 해설\n",
    "'''\n",
    "import datetime 과 date를 기억하고 있어서 가능.\n",
    "참조 : https://docs.python.org/3/library/datetime.html#datetime.date.weekday\n",
    "date.weekday()\n",
    "Return the day of the week as an integer, where Monday is 0 and Sunday is 6. For example, date(2002, 12, 4).weekday() == 2, a Wednesday.\n",
    "요일의 수를 정수로 반환하며 기준은 월요일은 0, 일요일은 6이다. 이를 이용하서 숫자에 따른 list를 만들고 거기에 반환 처리 함.\n",
    "'''"
   ]
  },
  {
   "attachments": {},
   "cell_type": "markdown",
   "metadata": {},
   "source": [
    "#### 스킬 체크 테스트 Level.1 / 문제 1\n",
    "https://programmers.co.kr/skill_checks/443161?challenge_id=813\n"
   ]
  },
  {
   "cell_type": "code",
   "execution_count": null,
   "metadata": {},
   "outputs": [],
   "source": [
    "def solution(num):\n",
    "    answer = 0\n",
    "    if num == 1:\n",
    "        return 0 \n",
    "    while True:\n",
    "        if num % 2 == 0:\n",
    "            num //= 2\n",
    "            answer += 1\n",
    "        else:\n",
    "            num *= 3\n",
    "            num += 1\n",
    "            answer += 1\n",
    "        if num == 1:\n",
    "            return answer\n",
    "        if answer >= 500:\n",
    "            return -1\n",
    "    return answer"
   ]
  },
  {
   "attachments": {},
   "cell_type": "markdown",
   "metadata": {},
   "source": [
    "https://programmers.co.kr/skill_checks/443161?challenge_id=907"
   ]
  },
  {
   "cell_type": "code",
   "execution_count": null,
   "metadata": {},
   "outputs": [],
   "source": [
    "def solution(s):\n",
    "    answer = True\n",
    "    if len(s) == 4 or len(s) == 6:\n",
    "        if s.isdigit():\n",
    "            answer = True\n",
    "        else:\n",
    "            answer = False\n",
    "    else:\n",
    "        answer = False\n",
    "    return answer"
   ]
  }
 ],
 "metadata": {
  "kernelspec": {
   "display_name": "Python 3.9.6 64-bit",
   "language": "python",
   "name": "python3"
  },
  "language_info": {
   "codemirror_mode": {
    "name": "ipython",
    "version": 3
   },
   "file_extension": ".py",
   "mimetype": "text/x-python",
   "name": "python",
   "nbconvert_exporter": "python",
   "pygments_lexer": "ipython3",
   "version": "3.9.6"
  },
  "orig_nbformat": 4,
  "vscode": {
   "interpreter": {
    "hash": "31f2aee4e71d21fbe5cf8b01ff0e069b9275f58929596ceb00d14d90e3e16cd6"
   }
  }
 },
 "nbformat": 4,
 "nbformat_minor": 2
}
