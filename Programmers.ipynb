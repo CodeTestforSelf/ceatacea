{
 "cells": [
  {
   "attachments": {},
   "cell_type": "markdown",
   "metadata": {},
   "source": [
    "# 프로그래머스 문제 풀이"
   ]
  },
  {
   "attachments": {},
   "cell_type": "markdown",
   "metadata": {},
   "source": [
    "## Rules\n",
    "1. 하루 최소 3문제\n",
    "2. 이해한 내용으로써 풀기.\n",
    "3. 꾸준하게 계속하는 것이 목표. 쉬운 것부터 자동적으로 나올 때까지."
   ]
  },
  {
   "attachments": {},
   "cell_type": "markdown",
   "metadata": {},
   "source": [
    "### Lv.0 & Python\n",
    "https://school.programmers.co.kr/learn/challenges?order=recent&page=1&languages=python3&statuses=unsolved&levels=0"
   ]
  },
  {
   "attachments": {},
   "cell_type": "markdown",
   "metadata": {},
   "source": [
    "### 프로그래머스 코딩테스트 입문"
   ]
  },
  {
   "attachments": {},
   "cell_type": "markdown",
   "metadata": {},
   "source": [
    "#### 두 수의 곱 [fin:2022-12-03]\n",
    "link : https://school.programmers.co.kr/learn/courses/30/lessons/120804\n",
    "\n",
    "**문제 설명**\n",
    "\n",
    "정수 num1, num2가 매개변수 주어집니다. num1과 num2를 곱한 값을 return 하도록 solution 함수를 완성해주세요.\n",
    "\n",
    "\n",
    "**제한사항**\n",
    "\n",
    "- 0 ≤ num1 ≤ 100\n",
    "- 0 ≤ num2 ≤ 100\n",
    "\n",
    "**입출력 예**\n",
    "\n",
    "| num1         | num2     | result |\n",
    "|--------------|----------|------------|\n",
    "| 3            | 4        | 12        |\n",
    "| 2          | 19        | 513       |\n"
   ]
  },
  {
   "cell_type": "code",
   "execution_count": null,
   "metadata": {},
   "outputs": [],
   "source": [
    "def solution(num1, num2):\n",
    "    return num1*num2"
   ]
  },
  {
   "cell_type": "code",
   "execution_count": null,
   "metadata": {},
   "outputs": [],
   "source": [
    "# 해설\n",
    "'''\n",
    "곱한 값을 반환하면 되는 쉬운 문제.\n",
    "\n",
    "파이썬의 기본 산술 연산자 * multiplication을 이용.\n",
    "'''"
   ]
  },
  {
   "attachments": {},
   "cell_type": "markdown",
   "metadata": {},
   "source": [
    "#### 두 수의 차 [fin:2022-12-03]\n",
    "link : https://school.programmers.co.kr/learn/courses/30/lessons/120803\n",
    "\n",
    "**문제 설명**\n",
    "\n",
    "정수 num1과 num2가 주어질 때, num1에서 num2를 뺀 값을 return하도록 soltuion 함수를 완성해주세요.\n",
    "\n",
    "\n",
    "**제한사항**\n",
    "\n",
    "- -50000 ≤ num1 ≤ 50000\n",
    "- -50000 ≤ num2 ≤ 50000\n",
    "\n",
    "**입출력 예**\n",
    "\n",
    "| num1         | num2     | result |\n",
    "|--------------|----------|------------|\n",
    "| 2            | 3        | -1        |\n",
    "| 100          | 2        | 98       |\n"
   ]
  },
  {
   "cell_type": "code",
   "execution_count": null,
   "metadata": {},
   "outputs": [],
   "source": [
    "def solution(num1, num2):\n",
    "    return num1 - num2"
   ]
  },
  {
   "cell_type": "code",
   "execution_count": null,
   "metadata": {},
   "outputs": [],
   "source": [
    "# 해설\n",
    "'''\n",
    "동일하게 산술 연산자 subtraction 이용\n",
    "'''"
   ]
  },
  {
   "attachments": {},
   "cell_type": "markdown",
   "metadata": {},
   "source": [
    "#### 나이 출력  [fin:2022-12-03]\n",
    "link : https://school.programmers.co.kr/learn/courses/30/lessons/120820\n",
    "\n",
    "**문제 설명**\n",
    "\n",
    "머쓱이는 40살인 선생님이 몇 년도에 태어났는지 궁금해졌습니다. 나이 age가 주어질 때, 2022년을 기준 출생 연도를 return 하는 solution 함수를 완성해주세요.\n",
    "\n",
    "\n",
    "**제한사항**\n",
    "\n",
    "- 0 < age ≤ 120\n",
    "- 나이는 태어난 연도에 1살이며 1년마다 1씩 증가합니다.\n",
    "\n",
    "**입출력 예**\n",
    "\n",
    "| age      | result     |\n",
    "|----------|------------|\n",
    "| 40       | 1983       |\n",
    "| 2        | 2000       |\n"
   ]
  },
  {
   "cell_type": "code",
   "execution_count": null,
   "metadata": {},
   "outputs": [],
   "source": [
    "def solution(age):\n",
    "    return 2022 - age + 1"
   ]
  },
  {
   "cell_type": "code",
   "execution_count": null,
   "metadata": {},
   "outputs": [],
   "source": [
    "# 해설\n",
    "'''\n",
    "기준 년도에서 나이를 빼고 +1을 하면 나이가 나옴.\n",
    "'''"
   ]
  },
  {
   "attachments": {},
   "cell_type": "markdown",
   "metadata": {},
   "source": [
    "#### 나머지 구하기 [fin:2022-12-04]\n",
    "link : https://school.programmers.co.kr/learn/courses/30/lessons/120810\n",
    "\n",
    "**문제 설명**\n",
    "\n",
    "정수 num1, num2가 매개변수로 주어질 때, num1를 num2로 나눈 나머지를 return 하도록 solution 함수를 완성해주세요.\n",
    "\n",
    "\n",
    "**제한사항**\n",
    "\n",
    "- 0 < num1 ≤ 100\n",
    "- 0 < num2 ≤ 100\n",
    "\n",
    "**입출력 예**\n",
    "\n",
    "| num1      | num2     | result     |\n",
    "|-----------|----------|------------|\n",
    "| 3         | 2        | 1          |\n",
    "| 10        | 5        | 0          |"
   ]
  },
  {
   "cell_type": "code",
   "execution_count": null,
   "metadata": {},
   "outputs": [],
   "source": [
    "def solution(num1, num2):\n",
    "    return num1 % num2"
   ]
  },
  {
   "cell_type": "code",
   "execution_count": null,
   "metadata": {},
   "outputs": [],
   "source": [
    "# 해설\n",
    "'''\n",
    "파이썬의 산술 연산자 Arithmetic Operators 중에서 Modulus 나머지 연산자를 이용.\n",
    "%는 두 수를 나누었을 때 나머지만 구할 수 있고 몫은 버림 나눗셈(//, Floor Division)으로 구할 수 있다. 참고로 %는 모듈로(modulo) 연산자라고 한다.\n",
    "ref : https://www.w3schools.com/python/python_operators.asp\n",
    "ref : https://dojang.io/mod/page/view.php?id=1229\n",
    "'''"
   ]
  },
  {
   "attachments": {},
   "cell_type": "markdown",
   "metadata": {},
   "source": [
    "#### 몫 구하기 [fin:2022-12-04]\n",
    "link : https://school.programmers.co.kr/learn/courses/30/lessons/120805\n",
    "\n",
    "**문제 설명**\n",
    "\n",
    "정수 num1, num2가 매개변수로 주어질 때, num1을 num2로 나눈 몫을 return 하도록 solution 함수를 완성해주세요.\n",
    "\n",
    "\n",
    "**제한사항**\n",
    "\n",
    "- 0 < num1 ≤ 100\n",
    "- 0 < num2 ≤ 100\n",
    "\n",
    "**입출력 예**\n",
    "\n",
    "| num1      | num2     | result     |\n",
    "|-----------|----------|------------|\n",
    "| 10        | 5        | 2          |\n",
    "| 7         | 2        | 3          |\n",
    "\n"
   ]
  },
  {
   "cell_type": "code",
   "execution_count": null,
   "metadata": {},
   "outputs": [],
   "source": [
    "def solution(num1, num2):\n",
    "    return num1 // num2"
   ]
  },
  {
   "cell_type": "code",
   "execution_count": null,
   "metadata": {},
   "outputs": [],
   "source": [
    "# 해설\n",
    "'''\n",
    "파이썬의 산술 연산자 Arithmetic Operators 중에서 몫은 버림 나눗셈(//, Floor Division)으로 구할 수 있다. \n",
    "\n",
    "ref : https://www.w3schools.com/python/python_operators.asp \n",
    "'''"
   ]
  },
  {
   "attachments": {},
   "cell_type": "markdown",
   "metadata": {},
   "source": [
    "#### 두 수의 합 [fin:2022-12-04]\n",
    "link : https://school.programmers.co.kr/learn/courses/30/lessons/120802\n",
    "\n",
    "**문제 설명**\n",
    "\n",
    "정수 num1과 num2가 주어질 때, num1과 num2의 합을 return하도록 soltuion 함수를 완성해주세요.\n",
    "\n",
    "\n",
    "**제한사항**\n",
    "\n",
    "- -50000 ≤ num1 ≤ 50000\n",
    "- -50000 ≤ num2 ≤ 50000\n",
    "\n",
    "**입출력 예**\n",
    "\n",
    "| num1         | num2     | result      |\n",
    "|--------------|----------|-------------|\n",
    "| 2            | 3        | 5           |\n",
    "| 100          | 2        | 102         |\n"
   ]
  },
  {
   "cell_type": "code",
   "execution_count": null,
   "metadata": {},
   "outputs": [],
   "source": [
    "def solution(num1, num2):\n",
    "    return num1+num2"
   ]
  },
  {
   "cell_type": "code",
   "execution_count": null,
   "metadata": {},
   "outputs": [],
   "source": [
    "# 해설\n",
    "'''\n",
    "동일하게 산술 연산자 Addition 이용.\n",
    "sum도 가능하겠지만 단순하게 빠른 것을 하고 싶어서 연산자 이용.\n",
    "'''"
   ]
  },
  {
   "attachments": {},
   "cell_type": "markdown",
   "metadata": {},
   "source": [
    "#### 두 수의 나눗셈  [fin:2022-12-05]\n",
    "link : https://school.programmers.co.kr/learn/courses/30/lessons/120806\n",
    "\n",
    "**문제 설명**\n",
    "\n",
    "정수 num1과 num2가 매개변수로 주어질 때, num1을 num2로 나눈 값에 1,000을 곱한 후 정수 부분을 return 하도록 solution 함수를 완성해주세요.\n",
    "\n",
    "\n",
    "**제한사항**\n",
    "\n",
    "- 0 ≤ num1 ≤ 100\n",
    "- 0 ≤ num2 ≤ 100\n",
    "\n",
    "**입출력 예**\n",
    "\n",
    "| num1         | num2     | result      |\n",
    "|--------------|----------|-------------|\n",
    "| 3            | 2        | 1500           |\n",
    "| 7          | 3        | 2333         |\n",
    "| 1          | 16        | 62         |"
   ]
  },
  {
   "cell_type": "code",
   "execution_count": null,
   "metadata": {},
   "outputs": [],
   "source": [
    "def solution(num1, num2):\n",
    "    return int((num1 / num2) * 1000)"
   ]
  },
  {
   "cell_type": "code",
   "execution_count": null,
   "metadata": {},
   "outputs": [],
   "source": [
    "# 해설\n",
    "'''\n",
    "// Floor Division 이 아니라 / Division 으로서 나눈 값으로서 float 값이 나오게 하고 1000을 곱한 뒤 type casting을 int로 처리.\n",
    "ref : https://www.w3schools.com/python/python_casting.asp\n",
    "'''"
   ]
  },
  {
   "attachments": {},
   "cell_type": "markdown",
   "metadata": {},
   "source": [
    "#### 숫자 비교하기 [fin:2022-12-05]\n",
    "link : https://school.programmers.co.kr/learn/courses/30/lessons/120807\n",
    "\n",
    "**문제 설명**\n",
    "\n",
    "정수 num1과 num2가 매개변수로 주어집니다. 두 수가 같으면 1 다르면 -1을 return 하도록 solution 함수를 완성해주세요.\n",
    "\n",
    "\n",
    "**제한사항**\n",
    "\n",
    "- 0 ≤ num1 ≤ 10,000\n",
    "- 0 ≤ num2 ≤ 10,000\n",
    "\n",
    "**입출력 예**\n",
    "\n",
    "| num1     | num2     | result   |\n",
    "|----------|----------|----------|\n",
    "| 2        | 3        | -1       |\n",
    "| 11       | 11       | 1        |\n",
    "| 7        | 99       | -1       |"
   ]
  },
  {
   "cell_type": "code",
   "execution_count": null,
   "metadata": {},
   "outputs": [],
   "source": [
    "def solution(num1, num2):\n",
    "    return 1 if num1 == num2 else -1"
   ]
  },
  {
   "cell_type": "code",
   "execution_count": null,
   "metadata": {},
   "outputs": [],
   "source": [
    "# 해설\n",
    "'''\n",
    "1 if num1 is num2 else -1 을 쓰지 않은 이유.\n",
    "is 는 Identity Operators 식별 연산자로서 같은 Object오브젝트, 객체여야 한다. 같은 값 value를 가진 것이 아니라 객체가 다르다고 인지하므로 테스트에서 실패가 뜨기도 했다. 또한 문제에서는 수라는 값이 같다는 것을 전제로 했으므로 Comparison Operators 비교 연산자인 == equal 로서 if else condition을 삼항연산자\n",
    "ref : https://www.w3schools.com/python/gloss_python_identity_operators.asp\n",
    "ref : https://www.w3schools.com/python/gloss_python_comparison_operators.asp\n",
    "ref : https://www.geeksforgeeks.org/ternary-operator-in-python/\n",
    "'''"
   ]
  },
  {
   "attachments": {},
   "cell_type": "markdown",
   "metadata": {},
   "source": [
    "#### 분수의 덧셈 [fin:2022-12-05]\n",
    "link : https://school.programmers.co.kr/learn/courses/30/lessons/120808\n",
    "\n",
    "**문제 설명**\n",
    "\n",
    "첫 번째 분수의 분자와 분모를 뜻하는 denum1, num1, 두 번째 분수의 분자와 분모를 뜻하는 denum2, num2가 매개변수로 주어집니다. 두 분수를 더한 값을 기약 분수로 나타냈을 때 분자와 분모를 순서대로 담은 배열을 return 하도록 solution 함수를 완성해보세요.\n",
    "\n",
    "\n",
    "**제한사항**\n",
    "\n",
    "- 0 < denum1, num1, denum2, num2 < 1,000\n",
    "\n",
    "**입출력 예**\n",
    "\n",
    "| denum1   | num1     | denum2   | num2   | result   |\n",
    "|----------|----------|----------|--------|----------|\n",
    "| 1        | 2        | 3        | 3      | [5,4]    |\n",
    "| 9        | 2        | 4        | 1      | [29,6]   |"
   ]
  },
  {
   "cell_type": "code",
   "execution_count": null,
   "metadata": {},
   "outputs": [],
   "source": [
    "# 첫 시도\n",
    "# ref : https://www.skillsugar.com/how-to-add-fractions-in-python\n",
    "from fractions import Fraction\n",
    "def solution(denum1, num1, denum2, num2):\n",
    "    result = str(Fraction(f'{str(denum1)}/{str(num1)}') + Fraction(f'{str(denum2)}/{str(num2)}')).split('/')\n",
    "    return [int(n) for n in result]\n",
    "# 결과 : 정확성: 73.3\n",
    "# 합계: 73.3 / 100.0\n",
    "# 실패"
   ]
  },
  {
   "cell_type": "code",
   "execution_count": null,
   "metadata": {},
   "outputs": [],
   "source": [
    "# 두 번째 시도\n",
    "# ref : https://docs.python.org/ko/3/library/fractions.html#fractions.Fraction\n",
    "from fractions import Fraction\n",
    "def solution(denum1, num1, denum2, num2):\n",
    "    result = Fraction(denum1,num1) + Fraction(denum2,num2)\n",
    "    answer = []\n",
    "    answer.append(int(result.numerator))\n",
    "    answer.append(int(result.denominator))\n",
    "    return answer\n"
   ]
  },
  {
   "cell_type": "code",
   "execution_count": null,
   "metadata": {},
   "outputs": [],
   "source": [
    "# 줄여서\n",
    "from fractions import Fraction\n",
    "def solution(denum1, num1, denum2, num2):\n",
    "    result = Fraction(denum1,num1) + Fraction(denum2,num2)\n",
    "    return [int(result.numerator), int(result.denominator)]"
   ]
  },
  {
   "cell_type": "code",
   "execution_count": null,
   "metadata": {},
   "outputs": [],
   "source": [
    "from math import gcd\n",
    "# 최대공약수 Greatest Common Divisor aka GCD 의 성질을 이용\n",
    "# https://docs.python.org/ko/3/library/math.html#math.gcd\n",
    "def solution(denum1, num1, denum2, num2):\n",
    "    denum = denum1 * num2 + denum2 * num1\n",
    "    num = num1 * num2\n",
    "    # 분모의 합은 일반적으로 분모가 다를 때는 분수를 더하기 전에 분모의 최소공배수를 찾고, 분모를 같게 통분해야 한다. 고로, 1/2 + 3/5 일 때, 2와 5의 최소공배수는 10이다. 그리고 이를 분자에 공통되게 적용이 되도록 각자의 최소공배수가 되도록 곱을 해줘야 하고 그를 합한다.\n",
    "    # 분자는 1*5 + 3*2 = 5+6 = 11이 된다.\n",
    "    # 분모는 다르므로 곱한다 2*5\n",
    "    return [denum // gcd(denum, num), num // gcd(denum, num)]\n",
    "    # 그리고 최대 공약수를 구한 뒤에 각자의 분자와 분모로 나눈 값으로 반환."
   ]
  },
  {
   "cell_type": "code",
   "execution_count": null,
   "metadata": {},
   "outputs": [],
   "source": [
    "# 다른 방법\n",
    "from math import gcd\n",
    "denum1 = 999\n",
    "num1 = 11\n",
    "denum2 = 30\n",
    "num2 = 7\n",
    "\n",
    "denum = denum1 * num2 + denum2 * num1\n",
    "num = num1 * num2\n",
    "print(f'denum(분자) : {denum} / num(분모) : {num}')\n",
    "print(f'최대공약수 : {gcd(denum, num)}')\n",
    "print([denum // gcd(denum, num), num // gcd(denum, num)])"
   ]
  },
  {
   "cell_type": "code",
   "execution_count": null,
   "metadata": {},
   "outputs": [],
   "source": [
    "# 해설\n",
    "'''\n",
    "방법은 두 가지 였음. 하나는 수학적으로 접근하는 거랑 라이브러리 쓰기. 기억하는 바로는 분수도 라이브러리 있어서 그걸 쓰기로 함.\n",
    "1. 빌트인 메서드 Built-in Method 로서 from fractions import Fraction 쓰기.\n",
    "ref : https://www.skillsugar.com/how-to-add-fractions-in-python\n",
    "이걸로 했는데 코드 실해에서는 테스트 성공인데 제출에서는 틀리길래 뭐가 문젠가 하다가 수학적인 오류보다는 문자열로 분리하고 처리하는 과정에서의 오류인 느낌이라서 두 번째는 라이브러리의 기능으로서 정수형의 분자(numerator)와 분모(denominator)라는 속성을 이용해서 정확하게 반환 시키니 맞았음.\n",
    "2. 두번째는 수학적으로 풀이한 내용\n",
    "ref : https://stackoverflow.com/questions/66549612/gcd-implementation-of-fraction-addition-not-working-properly\n",
    "여길 참조함.\n",
    "수학적 계산법은 https://ko.wikihow.com/%EB%B6%84%EB%AA%A8%EA%B0%80-%EB%8B%A4%EB%A5%B8-%EB%B6%84%EC%88%98-%EB%8D%A7%EC%85%88%ED%95%98%EB%8A%94-%EB%B0%A9%EB%B2%95 가 설명 잘 함.\n",
    "'''"
   ]
  },
  {
   "attachments": {},
   "cell_type": "markdown",
   "metadata": {},
   "source": [
    "#### 배열 두배 만들기 [fin:2022-12-05]\n",
    "link : https://school.programmers.co.kr/learn/courses/30/lessons/120809\n",
    "\n",
    "**문제 설명**\n",
    "\n",
    "정수 배열 numbers가 매개변수로 주어집니다. numbers의 각 원소에 두배한 원소를 가진 배열을 return하도록 solution 함수를 완성해주세요.\n",
    "\n",
    "\n",
    "**제한사항**\n",
    "\n",
    "- -10,000≤ numbers의 원소 ≤ 10,000\n",
    "- 1 ≤ numbers의 길이 ≤ 1,000\n",
    "\n",
    "**입출력 예**\n",
    "\n",
    "| numbers                      | result                      |\n",
    "|------------------------------|-----------------------------|\n",
    "| [1, 2, 3, 4, 5]              | [2, 4, 6, 8, 10]            |\n",
    "| [1, 2, 100, -99, 1, 2, 3]    | [2, 4, 200, -198, 2, 4, 6]  |"
   ]
  },
  {
   "cell_type": "code",
   "execution_count": null,
   "metadata": {},
   "outputs": [],
   "source": [
    "def solution(numbers):\n",
    "    return [n*2 for n in numbers]"
   ]
  },
  {
   "cell_type": "code",
   "execution_count": null,
   "metadata": {},
   "outputs": [],
   "source": [
    "# 해설\n",
    "'''\n",
    "리스트 컴프리헨션 List Comprehension을 이용해서 for loop 을 이용해 list 객체를 원하는 값을 적용하면서 반환하도록 처리\n",
    "\n",
    "\n",
    "ref : https://wikidocs.net/22805\n",
    "ref : https://www.geeksforgeeks.org/python-list-comprehension/\n",
    "'''"
   ]
  },
  {
   "attachments": {},
   "cell_type": "markdown",
   "metadata": {},
   "source": [
    "#### 각도기 [fin:2022-12-06]\n",
    "link : https://school.programmers.co.kr/learn/courses/30/lessons/120829\n",
    "\n",
    "**문제 설명**\n",
    "\n",
    "각에서 0도 초과 90도 미만은 예각, 90도는 직각, 90도 초과 180도 미만은 둔각 180도는 평각으로 분류합니다. 각 angle이 매개변수로 주어질 때 예각일 때 1, 직각일 때 2, 둔각일 때 3, 평각일 때 4를 return하도록 solution 함수를 완성해주세요.\n",
    "- 예각 : 0 < angle < 90\n",
    "- 직각 : angle = 90\n",
    "- 둔각 : 90 < angle < 180\n",
    "- 평각 : angle = 180\n",
    "\n",
    "**제한사항**\n",
    "\n",
    "- 0 < angle ≤ 180\n",
    "- angle은 정수입니다.\n",
    "\n",
    "\n",
    "**입출력 예**\n",
    "\n",
    "| angle    | result   |\n",
    "|----------|----------|\n",
    "| 70       | 1        |\n",
    "| 91       | 3        |\n",
    "| 180      | 4        |"
   ]
  },
  {
   "cell_type": "code",
   "execution_count": null,
   "metadata": {},
   "outputs": [],
   "source": [
    "# 제출\n",
    "def solution(angle):\n",
    "    if angle > 0 and angle < 90:\n",
    "        return 1\n",
    "    elif angle == 90:\n",
    "        return 2\n",
    "    elif angle > 90 and angle < 180:\n",
    "        return 3\n",
    "    elif angle == 180:\n",
    "        return 4"
   ]
  },
  {
   "cell_type": "code",
   "execution_count": null,
   "metadata": {},
   "outputs": [],
   "source": [
    "# 다른 사람 풀이 : https://school.programmers.co.kr/learn/courses/30/lessons/120829/solution_groups?language=python3\n",
    "def solution(angle):\n",
    "    answer = (angle // 90) * 2 + (angle % 90 > 0) * 1\n",
    "    return answer"
   ]
  },
  {
   "cell_type": "code",
   "execution_count": null,
   "metadata": {},
   "outputs": [],
   "source": [
    "# 위의 수식 풀이\n",
    "angle = 91\n",
    "print(angle // 90)\n",
    "print((angle // 90) * 2)\n",
    "print(angle % 90)\n",
    "print(angle % 90 > 0)\n",
    "print((angle % 90 > 0) * 1)\n",
    "print((angle // 90) * 2 + (angle % 90) * 1)\n"
   ]
  },
  {
   "cell_type": "code",
   "execution_count": null,
   "metadata": {},
   "outputs": [],
   "source": [
    "# 해설\n",
    "'''\n",
    "단순하게 if condition으로 풀기는 했는데 수학적으로도 가능할 것 같아서 다른 사람 풀이 보고 새로운 방법 발견.\n",
    "90 미만일 때는 //(Floor Division, 버림 나눗셈, 결과에서 소수점 이하는 버림)을 이용해서 0일 때를 이용하고, %(Modulus, 나머지) 가 0 이상일 때는 True로서 하여 1부터 시작하게 하고,\n",
    "90일 때는 % 에서는 0이 나와서 False로 0이지만 그 전에 90 // 90을 하면 1이고 여기에 *2를 해서 직각일 때는 2번이고 이는 180일 때도 동일하게 된다. 180 // 90 해서 2 나온 것에 2를 곱하여 4가 되고, 180 % 90은 0이 되므로 4가 고대로 나옴.\n",
    "그리고 90에서 180 사이는 91 // 90으로서 1이 나오므로 *2로서 2가 되고, 91 % 90의 경우도 1이라는 나머지에 *1을 하면 그대로 1이 나오므로 2+1해서 3이 됨.\n",
    "각 조건에 따른 수학적인 고민이 보이는 좋은 경우였다고 생각함.\n",
    "'''"
   ]
  },
  {
   "attachments": {},
   "cell_type": "markdown",
   "metadata": {},
   "source": [
    "#### 양꼬치 [fin:2022-12-06]\n",
    "link : https://school.programmers.co.kr/learn/courses/30/lessons/120830\n",
    "\n",
    "**문제 설명**\n",
    "\n",
    "머쓱이네 양꼬치 가게는 10인분을 먹으면 음료수 하나를 서비스로 줍니다. 양꼬치는 1인분에 12,000원, 음료수는 2,000원입니다. 정수 n과 k가 매개변수로 주어졌을 때, 양꼬치 n인분과 음료수 k개를 먹었다면 총얼마를 지불해야 하는지 return 하도록 solution 함수를 완성해보세요.\n",
    "\n",
    "**제한사항**\n",
    "\n",
    "- 0 < n < 1,000\n",
    "- n / 10 ≤ k < 1,000\n",
    "- 서비스로 받은 음료수는 모두 마십니다.\n",
    "\n",
    "\n",
    "**입출력 예**\n",
    "\n",
    "| n    | k   | result   |\n",
    "|----------|----------|----------|\n",
    "| 10       | 3        | 124,000  |\n",
    "| 64       | 6\t      | 768,000  |"
   ]
  },
  {
   "cell_type": "code",
   "execution_count": null,
   "metadata": {},
   "outputs": [],
   "source": [
    "# 제출\n",
    "def solution(n, k):\n",
    "    service = (k - (n // 10))\n",
    "    answer = 0\n",
    "    if n < 10:\n",
    "        answer = (n * 12000) + (k * 2000)\n",
    "    elif n >= 10 and n % 10 >= 0:\n",
    "        answer = (n * 12000) + (service * 2000)\n",
    "    return answer"
   ]
  },
  {
   "cell_type": "code",
   "execution_count": null,
   "metadata": {},
   "outputs": [],
   "source": [
    "# 허점?\n",
    "def solution(n, k):\n",
    "    service = n // 10\n",
    "    drink = max(0, k-service) # (k-service)\n",
    "    return (n * 12000) + (drink * 2000)\n",
    "# (k-service)여도 테스트는 통과하길래 고민해보니 n / 10 ≤ k < 1,000 라는 전제 조건과 \"서비스로 받은 음료수는 모두 마십니다.\" 라는 전제 조건이 있기에 k는 0 이 될 수 없음."
   ]
  },
  {
   "cell_type": "code",
   "execution_count": null,
   "metadata": {},
   "outputs": [],
   "source": [
    "# 문제 그대로만 할 때까지도 테스트 통과함 확인.\n",
    "def solution(n, k):\n",
    "    return 12000 * n + 2000 * k - 2000 * (n//10)"
   ]
  },
  {
   "cell_type": "code",
   "execution_count": null,
   "metadata": {},
   "outputs": [],
   "source": [
    "# 해설\n",
    "'''\n",
    "10 미만일 때는 그냥 서비스 없이 음료수 마신 이력으로 하며, k는 0 이상일 수 밖에 없음 확인하고 풀었다.\n",
    "그러다가 다른 사람들 풀이 보니까 max(0, k-service) 이 부분에 흥미를 느껴서 확인해보다가 (k-service)든 max(0, k-service)든 테스트는 통과하길래 뭐지 고민하다가 k가 0일 수 없음 확인했으나 혹시 모를 부분으로 방어로서 max 하는 부분은 동의.\n",
    "그러다가 문제의 그대로 서비스로 받은 음료는 마신다는 부분까지 해서 단순하게\n",
    "12000 * n + 2000 * k - 2000 * (n//10) 해봤는데 얘도 통과 하는 것 확인.\n",
    "'''"
   ]
  },
  {
   "attachments": {},
   "cell_type": "markdown",
   "metadata": {},
   "source": [
    "#### 배열의 평균값 [fin:2022-12-06]\n",
    "link : https://school.programmers.co.kr/learn/courses/30/lessons/120817\n",
    "\n",
    "**문제 설명**\n",
    "\n",
    "정수 배열 numbers가 매개변수로 주어집니다. numbers의 원소의 평균값을 return하도록 solution 함수를 완성해주세요.\n",
    "\n",
    "**제한사항**\n",
    "\n",
    "- 0 ≤ numbers의 원소 ≤ 1,000\n",
    "- 1 ≤ numbers의 길이 ≤ 100\n",
    "- 정답의 소수 부분이 .0 또는 .5인 경우만 입력으로 주어집니다.\n",
    "\n",
    "\n",
    "**입출력 예**\n",
    "\n",
    "| numbers                                         | result   |\n",
    "|-------------------------------------------------|----------|\n",
    "| [1, 2, 3, 4, 5, 6, 7, 8, 9, 10]                 | 5.5      |\n",
    "| [89, 90, 91, 92, 93, 94, 95, 96, 97, 98, 99]    | 3        |"
   ]
  },
  {
   "cell_type": "code",
   "execution_count": null,
   "metadata": {},
   "outputs": [],
   "source": [
    "# 제출\n",
    "def solution(numbers):\n",
    "    return round(sum(numbers) / len(numbers), 2)"
   ]
  },
  {
   "cell_type": "code",
   "execution_count": null,
   "metadata": {},
   "outputs": [],
   "source": [
    "# 해설\n",
    "'''\n",
    "ref : https://docs.python.org/3/library/functions.html#round\n",
    "round(number, ndigits=None)\n",
    "문제에서 \"정답의 소수 부분이 .0 또는 .5인 경우만 입력으로 주어집니다.\" 라고 했으니 round\n",
    "반올림 함수로서 round(결과값, 2) 로서 한정지어서 반올림 시켰음.\n",
    "\n",
    "문서에서도 말하듯이 기본적으로 round 메서드는 n자리를 뺀 거듭제곱에 가장 가까운 10배로 반올림이 된다고 했으며, 실수인 float 에서 round(2.675, 2) 일 때는 2.68이 아니라 2.67로 반환이 된다고 함. 버그가 아니라 파이썬의 반올림은 반올림 하려는 수가 올림, 내림했을 때 동일하게 차이가 나는 경우에는 짝수 값으로 반올림하는 셈이다.\n",
    "예를 들어 0.5 는 0에도 0.5가 차이나고 1에도 0.5가 차이가 나는 상황일 때 파이썬의 round 함수는 똑같이 가깝다면 짝수를 반환하게 설계되어있기 때문에 홀수인 1이 아니라 0 을 반환하는 것인 셈.\n",
    "설명 잘 된 곳 : https://blockdmask.tistory.com/418\n",
    "'''"
   ]
  },
  {
   "attachments": {},
   "cell_type": "markdown",
   "metadata": {},
   "source": [
    "#### 짝수의 합 [fin:2022-12-07]\n",
    "link : https://school.programmers.co.kr/learn/courses/30/lessons/120831\n",
    "\n",
    "**문제 설명**\n",
    "\n",
    "정수 n이 주어질 때, n이하의 짝수를 모두 더한 값을 return 하도록 solution 함수를 작성해주세요.\n",
    "\n",
    "**제한사항**\n",
    "\n",
    "- 0 < n ≤ 1000\n",
    "\n",
    "\n",
    "**입출력 예**\n",
    "\n",
    "| n        | result   |\n",
    "|----------|----------|\n",
    "| 10\t   | 30       |\n",
    "| 4        | 6        |"
   ]
  },
  {
   "cell_type": "code",
   "execution_count": null,
   "metadata": {},
   "outputs": [],
   "source": [
    "# 첫번째 - 실패 (6번)\n",
    "def solution(n):\n",
    "    answer = n if n % 2 == 0 else n-1\n",
    "    for i in range(2,n,2):\n",
    "        answer += i\n",
    "    return answer\n",
    "# 실패\n",
    "solution(3)\n",
    "# 3일 경우 틀림."
   ]
  },
  {
   "cell_type": "code",
   "execution_count": null,
   "metadata": {},
   "outputs": [],
   "source": [
    "# 두번째 - 실패\n",
    "def solution(n):\n",
    "    if n == 2:\n",
    "        return n\n",
    "    if n >=3:\n",
    "        return sum(range(2, n, 2)) + n\n",
    "    else:\n",
    "        return 0\n",
    "\n",
    "solution(5) # 11 - 실패\n",
    "# solution(3) # 5 - 실패"
   ]
  },
  {
   "cell_type": "code",
   "execution_count": null,
   "metadata": {},
   "outputs": [],
   "source": [
    "def solution(n):\n",
    "    if n == 2:\n",
    "        return n\n",
    "    if n >=3:\n",
    "        return sum(range(2, n, 2)) + n if n % 2 == 0 and n != 3 else 0 if n == 3 else n-1\n",
    "    else:\n",
    "        return 0\n",
    "\n",
    "solution(5) # 4 # 실패"
   ]
  },
  {
   "cell_type": "code",
   "execution_count": null,
   "metadata": {},
   "outputs": [],
   "source": [
    "# 제출\n",
    "def solution(n):\n",
    "    if n == 2:\n",
    "        return n\n",
    "    if n >=3:\n",
    "        return sum(range(2, n, 2)) + (0 if n == 3 else n if n % 2 == 0 else 0)\n",
    "    else:\n",
    "        return 0"
   ]
  },
  {
   "cell_type": "code",
   "execution_count": null,
   "metadata": {},
   "outputs": [],
   "source": [
    "n = 6\n",
    "print([i for i in range(2, n + 1, 2)])\n",
    "sum([i for i in range(2, n + 1, 2)])"
   ]
  },
  {
   "cell_type": "code",
   "execution_count": null,
   "metadata": {},
   "outputs": [],
   "source": [
    "# 해설\n",
    "'''\n",
    "여러번 시도함.\n",
    "처음에는 단순하게 if 조건을 여러개 걸었다가 안되서 if 조건을 조정했고 마지막에 실수 빼고는 품. 근데 다른 사람 풀이 중에서 아래 보고 패착 깨달음. list로 짝수만 뽑고(자기 자신 포함) 그걸 더하면 되는 거였어..\n",
    "def solution(n):\n",
    "    return sum([i for i in range(2, n + 1, 2)])\n",
    "'''"
   ]
  },
  {
   "attachments": {},
   "cell_type": "markdown",
   "metadata": {},
   "source": [
    "#### 중복된 숫자 개수 [fin:2022-12-07]\n",
    "link : https://school.programmers.co.kr/learn/courses/30/lessons/120583\n",
    "\n",
    "**문제 설명**\n",
    "\n",
    "정수가 담긴 배열 array와 정수 n이 매개변수로 주어질 때, array에 n이 몇 개 있는 지를 return 하도록 solution 함수를 완성해보세요.\n",
    "\n",
    "**제한사항**\n",
    "\n",
    "- 1 ≤ array의 길이 ≤ 100\n",
    "- 0 ≤ array의 원소 ≤ 1,000\n",
    "- 0 ≤ n ≤ 1,000\n",
    "\n",
    "\n",
    "**입출력 예**\n",
    "\n",
    "| array                | n        | result   |\n",
    "|----------------------|----------|----------|\n",
    "| [1, 1, 2, 3, 4, 5]   | 1        | 2        |\n",
    "| [0, 2, 3, 4]         | 1        | 0        |"
   ]
  },
  {
   "cell_type": "code",
   "execution_count": null,
   "metadata": {},
   "outputs": [],
   "source": [
    "# 제출\n",
    "def solution(array, n):\n",
    "    return array.count(n)"
   ]
  },
  {
   "cell_type": "code",
   "execution_count": null,
   "metadata": {},
   "outputs": [],
   "source": [
    "# 해설\n",
    "'''\n",
    "ref : https://docs.python.org/3/library/array.html?highlight=count#array.array.count\n",
    "array.count(x)\n",
    "배열array에서 x의 갯수를 반환.\n",
    "'''"
   ]
  },
  {
   "attachments": {},
   "cell_type": "markdown",
   "metadata": {},
   "source": [
    "#### 머쓱이보다 키 큰 사람 [fin:2022-12-07]\n",
    "link : https://school.programmers.co.kr/learn/courses/30/lessons/120585\n",
    "\n",
    "**문제 설명**\n",
    "\n",
    "머쓱이는 학교에서 키 순으로 줄을 설 때 몇 번째로 서야 하는지 궁금해졌습니다. 머쓱이네 반 친구들의 키가 담긴 정수 배열 array와 머쓱이의 키 height가 매개변수로 주어질 때, 머쓱이보다 키 큰 사람 수를 return 하도록 solution 함수를 완성해보세요.\n",
    "\n",
    "**제한사항**\n",
    "\n",
    "- 1 ≤ array의 길이 ≤ 100\n",
    "- 1 ≤ height ≤ 200\n",
    "- 1 ≤ array의 원소 ≤ 200\n",
    "\n",
    "\n",
    "**입출력 예**\n",
    "\n",
    "| array    | height   | result   |\n",
    "|----------|----------|----------|\n",
    "| [149, 180, 192, 170]\t| 167   | 3 |\n",
    "| [180, 120, 140]\t        | 190   | 0 |"
   ]
  },
  {
   "cell_type": "code",
   "execution_count": null,
   "metadata": {},
   "outputs": [],
   "source": [
    "# 제출\n",
    "def solution(array, height):\n",
    "    answer = [max(i,height) for i in array]\n",
    "    return len(answer) - answer.count(height)"
   ]
  },
  {
   "cell_type": "code",
   "execution_count": null,
   "metadata": {},
   "outputs": [],
   "source": [
    "# 해설\n",
    "'''\n",
    "풀긴 했는데..\n",
    "뭔가 좀 아쉬워서 다른 사람 풀이 보니까 len([i for i in array if i > height]) 이쪽이 더 깔끔한 느낌.\n",
    "'''"
   ]
  },
  {
   "attachments": {},
   "cell_type": "markdown",
   "metadata": {},
   "source": [
    "#### 피자 나눠 먹기 (1) [fin:2022-12-08]\n",
    "link : https://school.programmers.co.kr/learn/courses/30/lessons/120814\n",
    "\n",
    "**문제 설명**\n",
    "\n",
    "머쓱이네 피자가게는 피자를 일곱 조각으로 잘라 줍니다. 피자를 나눠먹을 사람의 수 n이 주어질 때, 모든 사람이 피자를 한 조각 이상 먹기 위해 필요한 피자의 수를 return 하는 solution 함수를 완성해보세요.\n",
    "\n",
    "**제한사항**\n",
    "\n",
    "- 1 ≤ n ≤ 100\n",
    "\n",
    "\n",
    "**입출력 예**\n",
    "\n",
    "| n       | result   |\n",
    "|---------|----------|\n",
    "| 7       | 1        |\n",
    "| 1       | 1        |\n",
    "| 15      | 3        |"
   ]
  },
  {
   "cell_type": "code",
   "execution_count": null,
   "metadata": {},
   "outputs": [],
   "source": [
    "# 제출\n",
    "def solution(n):\n",
    "    return (n//7) + (1 if n % 7 != 0 else 0)"
   ]
  },
  {
   "cell_type": "code",
   "execution_count": null,
   "metadata": {},
   "outputs": [],
   "source": [
    "# 다른 사람 풀이\n",
    "def solution(n):\n",
    "    return (n-1) // 7 + 1\n",
    "solution(13)"
   ]
  },
  {
   "cell_type": "code",
   "execution_count": null,
   "metadata": {},
   "outputs": [],
   "source": [
    "# 해설\n",
    "'''\n",
    "7의 배수를 만족 시킨 다음에 7의 배수를 초과하는 경우에 조건 걸어서 +1을 함.\n",
    "그리고 나서,\n",
    "\n",
    "(n-1) // 7 + 1\n",
    "라는 방식을 봤는데, 이거로 좀 고민해 봄.\n",
    "n // 7  이라는 기본 전제로서 7명당 1판 이라는 걸 7의 배수적인 건 만족하긴 하지만, 그 이상에 대해서는 추가 필요\n",
    "((n - 1) // 7) + 1로 n-1 이라는 7의 배수는 만족하지 못하게 설정 후 7의 배수 미만이라면 거기에 원래의 7의 배수적인 면으로 +1을 그게 아니라 7의 배수에서 초과값이라면 7의 배수의 나머지들도 먹을 1판을 추가해주는 방식.\n",
    "이것도 머리 잘 쓴 것 같다.\n",
    "'''"
   ]
  },
  {
   "attachments": {},
   "cell_type": "markdown",
   "metadata": {},
   "source": [
    "#### 짝수 홀수 개수 [fin:2022-12-08]\n",
    "link : https://school.programmers.co.kr/learn/courses/30/lessons/120824\n",
    "\n",
    "**문제 설명**\n",
    "\n",
    "정수가 담긴 리스트 num_list가 주어질 때, num_list의 원소 중 짝수와 홀수의 개수를 담은 배열을 return 하도록 solution 함수를 완성해보세요.\n",
    "\n",
    "**제한사항**\n",
    "\n",
    "- 1 ≤ num_list의 길이 ≤ 100\n",
    "- 0 ≤ num_list의 원소 ≤ 1,000\n",
    "\n",
    "\n",
    "**입출력 예**\n",
    "\n",
    "| num_list    | result   |\n",
    "|-------------|----------|\n",
    "| [1, 2, 3, 4, 5]  | [2, 3] |\n",
    "| [1, 3, 5, 7]     | [0, 4] |"
   ]
  },
  {
   "cell_type": "code",
   "execution_count": null,
   "metadata": {},
   "outputs": [],
   "source": [
    "# 제출\n",
    "def solution(num_list):\n",
    "    even = list(filter(lambda x: x % 2 == 0, num_list))\n",
    "    odd = list(filter(lambda x: x % 2 != 0, num_list))\n",
    "    return [len(even), len(odd)]"
   ]
  },
  {
   "cell_type": "code",
   "execution_count": null,
   "metadata": {},
   "outputs": [],
   "source": [
    "# 간략화\n",
    "def solution(num_list):\n",
    "    even = list(filter(lambda x: x % 2 == 0, num_list))\n",
    "    return [len(even), len(num_list) - len(even)]"
   ]
  },
  {
   "cell_type": "code",
   "execution_count": 154,
   "metadata": {},
   "outputs": [],
   "source": [
    "def solution(num_list):\n",
    "    answer = [0,0]\n",
    "    for n in num_list:\n",
    "        answer[n%2]+=1\n",
    "    return answer"
   ]
  },
  {
   "cell_type": "code",
   "execution_count": 156,
   "metadata": {},
   "outputs": [
    {
     "name": "stdout",
     "output_type": "stream",
     "text": [
      "n : 1 / n%2 : 1 / answer[n%2] : 0\n",
      "n : 3 / n%2 : 1 / answer[n%2] : 1\n",
      "n : 5 / n%2 : 1 / answer[n%2] : 2\n",
      "n : 7 / n%2 : 1 / answer[n%2] : 3\n",
      "n : 2 / n%2 : 0 / answer[n%2] : 0\n"
     ]
    },
    {
     "data": {
      "text/plain": [
       "[1, 4]"
      ]
     },
     "execution_count": 156,
     "metadata": {},
     "output_type": "execute_result"
    }
   ],
   "source": [
    "def solution(num_list):\n",
    "    answer = [0,0]\n",
    "    for n in num_list:\n",
    "        print(f'n : {n} / n%2 : {n%2} / answer[n%2] : {answer[n%2]}')\n",
    "        answer[n%2] += 1\n",
    "    return answer\n",
    "\n",
    "num_list = [1,3,5,7,2]# [1,2,3,4,5]\n",
    "solution(num_list)"
   ]
  },
  {
   "cell_type": "code",
   "execution_count": null,
   "metadata": {},
   "outputs": [],
   "source": [
    "# 해설\n",
    "'''\n",
    "ref : https://docs.python.org/3/library/functions.html#filter\n",
    "ref : https://docs.python.org/3/reference/expressions.html#lambda\n",
    "filter(function, iterable) 라는 걸 기억하고 있어서 그걸 쓰고 싶어서 이거로 파고 들음.\n",
    "처음에는 삼항연산자로 하려고 했는데 그러려면 else 가 있어야 하고 else로 남은 걸 다른 것으로 활용하려니 너무 복잡해지는 느낌이라서 깔끔하게 나눔.\n",
    "수식적으로 더 줄일 수 있을 거 같긴 한데 예전에 주훈님이 알려주신 부분 ::= 이건 아직 익숙하지 못해서 못 씀.\n",
    "\n",
    "그리고 다른 사람 풀이에서,\n",
    "answer = [0,0]\n",
    "for n in num_list:\n",
    "    answer[n%2]+=1\n",
    "이건 처음에 이해 못했다가, 짝수면 answer에서 0번째에 값에 +=1 아니면 1이 나올테니 1번째에 +=1 을 하는 방식인 걸 이해함.\n",
    "\n",
    "이것도 머리 잘 썼다 싶다.\n",
    "'''"
   ]
  },
  {
   "attachments": {},
   "cell_type": "markdown",
   "metadata": {},
   "source": [
    "#### 배열 뒤집기 [fin:2022-12-08]\n",
    "link : https://school.programmers.co.kr/learn/courses/30/lessons/120821\n",
    "\n",
    "**문제 설명**\n",
    "\n",
    "정수가 들어 있는 배열 num_list가 매개변수로 주어집니다. num_list의 원소의 순서를 거꾸로 뒤집은 배열을 return하도록 solution 함수를 완성해주세요.\n",
    "\n",
    "**제한사항**\n",
    "\n",
    "- 1 ≤ num_list의 길이 ≤ 1,000\n",
    "- 0 ≤ num_list의 원소 ≤ 1,000\n",
    "\n",
    "\n",
    "**입출력 예**\n",
    "\n",
    "| num_list    | result   |\n",
    "|-------------|----------|\n",
    "| [1, 2, 3, 4, 5] | [5, 4, 3, 2, 1] |\n",
    "| [1, 1, 1, 1, 1, 2] | [2, 1, 1, 1, 1, 1] |\n",
    "| [1, 0, 1, 1, 1, 3, 5] | [5, 3, 1, 1, 1, 0, 1] |"
   ]
  },
  {
   "cell_type": "code",
   "execution_count": null,
   "metadata": {},
   "outputs": [],
   "source": [
    "# 제출\n",
    "def solution(num_list):\n",
    "    return list(reversed(num_list))"
   ]
  },
  {
   "cell_type": "code",
   "execution_count": null,
   "metadata": {},
   "outputs": [],
   "source": [
    "# 해설\n",
    "'''\n",
    "ref : https://docs.python.org/3/library/functions.html#reversed\n",
    "기억하던 게 있어서 그대로 함.\n",
    "다만, 맞나 체크 겸사 reversed(num_list)해보니까 이렇게 할 경우, TypeError: Object of type list_reverse iterator is not JSON serializable라고 타입 에러 남. 그래서 type()으로 찍어보니까 <class 'list_reverse iterator'> 참조는 : https://stackoverflow.com/questions/40165800/whats-the-difference-between-a-reversed-tuple-and-a-reversed-list 여기.\n",
    "\n",
    "'''"
   ]
  },
  {
   "attachments": {},
   "cell_type": "markdown",
   "metadata": {},
   "source": [
    "#### 중앙값 구하기 [fin:2022-12-12]\n",
    "[fin:2022-12-12 for 12-09]\n",
    "link : https://school.programmers.co.kr/learn/courses/30/lessons/120811\n",
    "\n",
    "**문제 설명**\n",
    "\n",
    "중앙값은 어떤 주어진 값들을 크기의 순서대로 정렬했을 때 가장 중앙에 위치하는 값을 의미합니다. 예를 들어 1, 2, 7, 10, 11의 중앙값은 7입니다. 정수 배열 array가 매개변수로 주어질 때, 중앙값을 return 하도록 solution 함수를 완성해보세요.\n",
    "\n",
    "\n",
    "**제한사항**\n",
    "\n",
    "- array의 길이는 홀수입니다.\n",
    "- 0 < array의 길이 < 100\n",
    "- -1,000 < array의 원소 < 1,000\n",
    "\n",
    "\n",
    "**입출력 예**\n",
    "\n",
    "| array    | result   |\n",
    "|----------|----------|\n",
    "| [1, 2, 7, 10, 11]       | 7        |\n",
    "| [9, -1, 0]       | 0        |"
   ]
  },
  {
   "cell_type": "code",
   "execution_count": null,
   "metadata": {},
   "outputs": [],
   "source": [
    "# 제출\n",
    "def solution(array):\n",
    "    return sorted(array)[len(array)//2]"
   ]
  },
  {
   "cell_type": "code",
   "execution_count": null,
   "metadata": {},
   "outputs": [],
   "source": [
    "# 해설\n",
    "'''\n",
    "median 중앙값이니까 말 그대로 sorted 로 정렬한 다음에 []의 index 번호를 반으로 나눠서 // floor division 이용함.\n",
    "'''"
   ]
  },
  {
   "attachments": {},
   "cell_type": "markdown",
   "metadata": {},
   "source": [
    "#### 최빈값 구하기 [fin: 2022-12-12]\n",
    " [fin:2022-12-12 for 12-09]\n",
    "link : https://school.programmers.co.kr/learn/courses/30/lessons/120812\n",
    "\n",
    "**문제 설명**\n",
    "\n",
    "최빈값은 주어진 값 중에서 가장 자주 나오는 값을 의미합니다. 정수 배열 array가 매개변수로 주어질 때, 최빈값을 return 하도록 solution 함수를 완성해보세요. 최빈값이 여러 개면 -1을 return 합니다.\n",
    "\n",
    "**제한사항**\n",
    "\n",
    "- 0 < array의 길이 < 100\n",
    "- 0 ≤ array의 원소 < 1000\n",
    "\n",
    "\n",
    "**입출력 예**\n",
    "\n",
    "| angle    | result   |\n",
    "|----------|----------|\n",
    "| [1, 2, 3, 3, 3, 4]       | 3         |\n",
    "| [1, 1, 2, 2]\t| -1 |\n",
    "| [1]\t| 1      |"
   ]
  },
  {
   "cell_type": "code",
   "execution_count": null,
   "metadata": {},
   "outputs": [],
   "source": [
    "# 첫번째 시도 - 실패\n",
    "def solution(array):\n",
    "    frequency = [0]*max(array)\n",
    "    # if len(array) == 1:\n",
    "    #     return 1\n",
    "    for item in array:\n",
    "        frequency[item-1] += 1\n",
    "    print(f'frequency : {frequency} / max(frequency) : {max(frequency)}')\n",
    "    # print(frequency.count(max(frequency)))\n",
    "    return max(frequency) if frequency.count(max(frequency)) == 1 else -1\n",
    "\n",
    "# 실행 예시는 다 성공인데 테스트 케이스에서 실패 37.5\n",
    "# frequency.count(max(frequency)) -> 이게 틀림. 당연함. 그 빈도수가 아닌 value 의 갯수이므로."
   ]
  },
  {
   "cell_type": "code",
   "execution_count": 16,
   "metadata": {},
   "outputs": [],
   "source": [
    "# 제출\n",
    "from collections import Counter\n",
    "def solution(array):\n",
    "    c = Counter(array)\n",
    "    order = c.most_common()\n",
    "    maximum = order[0][1]\n",
    "    modes = []\n",
    "    # print(f'c : {c} / order : {order} / maximum : {maximum} / modes : {modes}')\n",
    "    for num in order:\n",
    "        print(f'num : {num} / maximum : {maximum}')\n",
    "        if num[1] == maximum:\n",
    "            modes.append(num[0])\n",
    "    # print(f'After for loop - modes : {modes}')\n",
    "    return -1 if len(modes) > 1 else modes[0]"
   ]
  },
  {
   "cell_type": "code",
   "execution_count": null,
   "metadata": {},
   "outputs": [],
   "source": [
    "# 그 다음 시도\n",
    "def solution(array):\n",
    "    frequency = [0]*(max(array)+1)\n",
    "    for item in array:\n",
    "        frequency[item] += 1\n",
    "    return -1 if frequency.count(max(frequency)) != 1 else frequency.index(max(frequency))\n",
    "\n",
    "# 첫번째 시도 아쉬워서 해 봄.\n",
    "array = [0, 1, 2, 5, 4, 3, 1, 0, 2, 4, 5, 6, 3, 1, 2, 0, 3, 2, 6, 4, 4, 4]\n",
    "solution(array)\n"
   ]
  },
  {
   "cell_type": "code",
   "execution_count": 17,
   "metadata": {},
   "outputs": [],
   "source": [
    "# 다른 사람 풀이\n",
    "def solution(array):\n",
    "    while len(array) != 0:\n",
    "        for idx, val in enumerate(set(array)):\n",
    "            array.remove(val)\n",
    "        if idx == 0 :\n",
    "            return val\n",
    "    return -1\n"
   ]
  },
  {
   "cell_type": "code",
   "execution_count": null,
   "metadata": {},
   "outputs": [],
   "source": [
    "# 해설\n",
    "'''\n",
    "ref - https://wikidocs.net/84105\n",
    "ref - https://medium.com/analytics-vidhya/beginners-guide-from-collections-import-counter-d93bcecd190b\n",
    "\n",
    "처음에는 최빈값을 구하는 방식을 대략적으로 알고 있어서 그걸 쓰고 싶어서 하다가 문제를 제대로 보지 못함. 최빈값이 여러개 일 때만 -1 반환이고 그게 아니면 최빈값의 반환 해야했다. 그 부분 이해를 잘못하다가 그냥 from collections import Counter 를 쓰려고 했고,\n",
    "https://wikidocs.net/84105 와 https://medium.com/analytics-vidhya/beginners-guide-from-collections-import-counter-d93bcecd190b 를 참조해서 해결했더니 다른 사람의 풀이도 비슷한 게 있었고, 첫번째 부분이 아쉬워서 추가적으로 풀어봄.\n",
    "\n",
    "'''"
   ]
  },
  {
   "attachments": {},
   "cell_type": "markdown",
   "metadata": {},
   "source": [
    "#### 짝수는 싫어요 [fin:2022-12-12]\n",
    " [fin:2022-12-12 for 12-09]\n",
    "link : https://school.programmers.co.kr/learn/courses/30/lessons/120813\n",
    "\n",
    "**문제 설명**\n",
    "\n",
    "정수 n이 매개변수로 주어질 때, n 이하의 홀수가 오름차순으로 담긴 배열을 return하도록 solution 함수를 완성해주세요.\n",
    "\n",
    "\n",
    "**제한사항**\n",
    "\n",
    "- 1 ≤ n ≤ 100\n",
    "\n",
    "\n",
    "**입출력 예**\n",
    "\n",
    "| n    | result   |\n",
    "|----------|----------|\n",
    "| 10 | [1, 3, 5, 7, 9] |\n",
    "| 15 | [1, 3, 5, 7, 9, 11, 13, 15] |"
   ]
  },
  {
   "cell_type": "code",
   "execution_count": 26,
   "metadata": {},
   "outputs": [
    {
     "name": "stdout",
     "output_type": "stream",
     "text": [
      "[1, 3, 5, 7, 9, 11, 13, 15]\n"
     ]
    }
   ],
   "source": [
    "# 제출\n",
    "def solution(n):\n",
    "    return list(filter(lambda x: x % 2 != 0, list(range(n+1))))"
   ]
  },
  {
   "cell_type": "code",
   "execution_count": null,
   "metadata": {},
   "outputs": [],
   "source": [
    "# 해설\n",
    "'''\n",
    "list(range(15)) 를 하게 되면 15를 제외한 0부터의 수를 list로 감싼 다음에 lambda로 조건을 넣고 filter를 건 다음에 list로 만들어서 반환함. 이전의 짝수 홀수 개수 구하는 문제에서 응용.\n",
    "'''"
   ]
  },
  {
   "attachments": {},
   "cell_type": "markdown",
   "metadata": {},
   "source": [
    "#### 피자 나눠 먹기 (2) [fin:2022-12-16]\n",
    "link : https://school.programmers.co.kr/learn/courses/30/lessons/120815\n",
    "\n",
    "**문제 설명**\n",
    "\n",
    "머쓱이네 피자가게는 피자를 여섯 조각으로 잘라 줍니다. 피자를 나눠먹을 사람의 수 n이 매개변수로 주어질 때, n명이 주문한 피자를 남기지 않고 모두 같은 수의 피자 조각을 먹어야 한다면 최소 몇 판을 시켜야 하는지를 return 하도록 solution 함수를 완성해보세요.\n",
    "\n",
    "\n",
    "**제한사항**\n",
    "- 1 ≤ n ≤ 100\n",
    "\n",
    "\n",
    "**입출력 예**\n",
    "\n",
    "| n    | result   |\n",
    "|----------|----------|\n",
    "| 6       | 1        |\n",
    "| 10       | 5        |\n",
    "| 4      | 2        |"
   ]
  },
  {
   "cell_type": "code",
   "execution_count": 80,
   "metadata": {},
   "outputs": [
    {
     "name": "stdout",
     "output_type": "stream",
     "text": [
      "2\n"
     ]
    },
    {
     "data": {
      "text/plain": [
       "30"
      ]
     },
     "execution_count": 80,
     "metadata": {},
     "output_type": "execute_result"
    }
   ],
   "source": [
    "# 제출\n",
    "import math\n",
    "def solution(n):\n",
    "    return ((6 * n) // math.gcd(6, n)) // 6\n",
    "\n"
   ]
  },
  {
   "cell_type": "code",
   "execution_count": null,
   "metadata": {},
   "outputs": [],
   "source": [
    "# 해설\n",
    "'''\n",
    "최소공배수 (Lowest Common Multiple, LCM) 구하는 문제라고 생각해서 6과 n 곱한 걸 최대공약수로 나누고 피자의 갯수니까 6으로 나눔.\n",
    "\n",
    "'''"
   ]
  },
  {
   "attachments": {},
   "cell_type": "markdown",
   "metadata": {},
   "source": [
    "#### 피자 나눠 먹기 (3) [fin:2022-12-16]\n",
    "link : https://school.programmers.co.kr/learn/courses/30/lessons/120816\n",
    "\n",
    "**문제 설명**\n",
    "\n",
    "머쓱이네 피자가게는 피자를 두 조각에서 열 조각까지 원하는 조각 수로 잘라줍니다. 피자 조각 수 slice와 피자를 먹는 사람의 수 n이 매개변수로 주어질 때, n명의 사람이 최소 한 조각 이상 피자를 먹으려면 최소 몇 판의 피자를 시켜야 하는지를 return 하도록 solution 함수를 완성해보세요.\n",
    "**제한사항**\n",
    "\n",
    "- 2 ≤ slice ≤ 10\n",
    "- 1 ≤ n ≤ 100\n",
    "\n",
    "\n",
    "**입출력 예**\n",
    "\n",
    "| slice    | n   | result   |\n",
    "|----------|----------|----------|\n",
    "| 7       | 10        | 2        |\n",
    "| 4       | 12        | 3        |"
   ]
  },
  {
   "cell_type": "code",
   "execution_count": 98,
   "metadata": {},
   "outputs": [
    {
     "name": "stdout",
     "output_type": "stream",
     "text": [
      "gcd : 1\n",
      "(slice * n) : 70\n",
      "70\n",
      "n // slice : 1\n"
     ]
    }
   ],
   "source": [
    "# 제출\n",
    "import math\n",
    "def solution(slice, n):\n",
    "    lcm = ((slice * n) // math.gcd(slice, n)) // slice\n",
    "    return (n // slice)+1 if math.gcd(slice, n) == 1 else lcm "
   ]
  },
  {
   "cell_type": "code",
   "execution_count": null,
   "metadata": {},
   "outputs": [],
   "source": [
    "# 해설\n",
    "'''\n",
    "math.gcd(slice, n)) 가 1이면 단순하게 서로소라는 거니까 slice 만큼 나누고 +1 하고 그게 아니면 LCM 최소공배수 적용.\n",
    "'''"
   ]
  },
  {
   "attachments": {},
   "cell_type": "markdown",
   "metadata": {},
   "source": [
    "#### 옷가게 할인 받기 [fin:2022-12-16]\n",
    "link : https://school.programmers.co.kr/learn/courses/30/lessons/120818\n",
    "\n",
    "**문제 설명**\n",
    "\n",
    "머쓱이네 옷가게는 10만 원 이상 사면 5%, 30만 원 이상 사면 10%, 50만 원 이상 사면 20%를 할인해줍니다.\n",
    "구매한 옷의 가격 price가 주어질 때, 지불해야 할 금액을 return 하도록 solution 함수를 완성해보세요.\n",
    "\n",
    "**제한사항**\n",
    "\n",
    "- 10 ≤ price ≤ 1,000,000\n",
    "    - price는 10원 단위로(1의 자리가 0) 주어집니다.\n",
    "- 소수점 이하를 버린 정수를 return합니다.\n",
    "\n",
    "\n",
    "**입출력 예**\n",
    "\n",
    "| price    | result   |\n",
    "|----------|----------|\n",
    "| 150,000 | 142,500 |\n",
    "| 580,000 | 464,000 |"
   ]
  },
  {
   "cell_type": "code",
   "execution_count": 137,
   "metadata": {},
   "outputs": [],
   "source": [
    "# 첫번째 시도 - 실패 : 13,14번\n",
    "def solution(price):\n",
    "    if price >= 500000:\n",
    "        return (price - int(price*0.2))\n",
    "    if price >= 300000 and price < 500000:\n",
    "        return (price - int(price*0.1))\n",
    "    if price >= 100000 and price < 300000:\n",
    "        return (price - int(price*0.05))\n",
    "    else:\n",
    "        return price"
   ]
  },
  {
   "cell_type": "code",
   "execution_count": 138,
   "metadata": {},
   "outputs": [],
   "source": [
    "# 제출\n",
    "def solution(price):\n",
    "    if price >= 500000:\n",
    "        return int(price*0.8)\n",
    "    if price >= 300000 and price < 500000:\n",
    "        return int(price*0.9)\n",
    "    if price >= 100000 and price < 300000:\n",
    "        return int(price*0.95)\n",
    "    if price < 100000:\n",
    "        return price"
   ]
  },
  {
   "cell_type": "code",
   "execution_count": null,
   "metadata": {},
   "outputs": [],
   "source": [
    "# 해설\n",
    "'''\n",
    "할인이니까 그 할인된 금액을 반환하면 될 걸 그걸 빼서 틀림.﻿\n",
    "'''"
   ]
  },
  {
   "attachments": {},
   "cell_type": "markdown",
   "metadata": {},
   "source": [
    "#### 아이스 아메리카노 [fin:2022-12-16]\n",
    "link : https://school.programmers.co.kr/learn/courses/30/lessons/120819\n",
    "\n",
    "**문제 설명**\n",
    "\n",
    "각에서 0도 초과 90도 미만은 예각, 90도는 직각, 90도 초과 180도 미만은 둔각 180도는 평각으로 분류합니다. 각 angle이 매개변수로 주어질 때 예각일 때 1, 직각일 때 2, 둔각일 때 3, 평각일 때 4를 return하도록 solution 함수를 완성해주세요.\n",
    "- 예각 : 0 < angle < 90\n",
    "- 직각 : angle = 90\n",
    "- 둔각 : 90 < angle < 180\n",
    "- 평각 : angle = 180\n",
    "\n",
    "**제한사항**\n",
    "\n",
    "- 0 < angle ≤ 180\n",
    "- angle은 정수입니다.\n",
    "\n",
    "\n",
    "**입출력 예**\n",
    "\n",
    "| money    | result   |\n",
    "|----------|----------|\n",
    "| 5,500  | [1, 0] |\n",
    "| 15,000 | [2, 4000] |"
   ]
  },
  {
   "cell_type": "code",
   "execution_count": 139,
   "metadata": {},
   "outputs": [
    {
     "name": "stdout",
     "output_type": "stream",
     "text": [
      "[2, 4000]\n"
     ]
    }
   ],
   "source": [
    "# 제출\n",
    "def solution(money):\n",
    "    coffee = 5500\n",
    "    return [money//coffee,money%coffee]"
   ]
  },
  {
   "cell_type": "code",
   "execution_count": null,
   "metadata": {},
   "outputs": [],
   "source": [
    "# 해설\n",
    "'''\n",
    "문제 그대로.\n",
    "리스트 안에 [돈으로 커피값에서 살 수 있는 개수로서 Modulus 몫, 그리고 나머지]\n",
    "'''"
   ]
  },
  {
   "attachments": {},
   "cell_type": "markdown",
   "metadata": {},
   "source": [
    "#### 문자열 뒤집기 [fin:2022-12-16]\n",
    "link : https://school.programmers.co.kr/learn/courses/30/lessons/120822\n",
    "\n",
    "**문제 설명**\n",
    "\n",
    "문자열 my_string이 매개변수로 주어집니다. my_string을 거꾸로 뒤집은 문자열을 return하도록 solution 함수를 완성해주세요.\n",
    "\n",
    "**제한사항**\n",
    "\n",
    "- 1 ≤ my_string의 길이 ≤ 1,000\n",
    "\n",
    "\n",
    "**입출력 예**\n",
    "\n",
    "| my_string    | result   |\n",
    "|----------|----------|\n",
    "| \"jaron\" | \"noraj\" |\n",
    "| \"bread\" | \"daerb\" |"
   ]
  },
  {
   "cell_type": "code",
   "execution_count": null,
   "metadata": {},
   "outputs": [],
   "source": [
    "# 제출\n",
    "def solution(my_string):\n",
    "    return my_string[::-1]"
   ]
  },
  {
   "cell_type": "code",
   "execution_count": null,
   "metadata": {},
   "outputs": [],
   "source": [
    "# 해설\n",
    "'''\n",
    "문자열 slicing 이용\n",
    "'''"
   ]
  },
  {
   "attachments": {},
   "cell_type": "markdown",
   "metadata": {},
   "source": [
    "#### 배열 자르기 [fin:2022-12-16]\n",
    "link : https://school.programmers.co.kr/learn/courses/30/lessons/120833\n",
    "\n",
    "**문제 설명**\n",
    "\n",
    "각에서 0도 초과 90도 미만은 예각, 90도는 직각, 90도 초과 180도 미만은 둔각 180도는 평각으로 분류합니다. 각 angle이 매개변수로 주어질 때 예각일 때 1, 직각일 때 2, 둔각일 때 3, 평각일 때 4를 return하도록 solution 함수를 완성해주세요.\n",
    "- 예각 : 0 < angle < 90\n",
    "- 직각 : angle = 90\n",
    "- 둔각 : 90 < angle < 180\n",
    "- 평각 : angle = 180\n",
    "\n",
    "**제한사항**\n",
    "\n",
    "- 0 < angle ≤ 180\n",
    "- angle은 정수입니다.\n",
    "\n",
    "\n",
    "**입출력 예**\n",
    "\n",
    "| numbers | num1 | num2 | result |\n",
    "| ---- | ---- | ---- | ---- |\n",
    "[1, 2, 3, 4, 5] | 1 | 3 | [2, 3, 4] |\n",
    "[1, 3, 5] | 1 | 2 | [3, 5] |\n"
   ]
  },
  {
   "cell_type": "code",
   "execution_count": null,
   "metadata": {},
   "outputs": [],
   "source": [
    "# 제출\n",
    "def solution(numbers, num1, num2):\n",
    "    return numbers[num1:num2+1]"
   ]
  },
  {
   "cell_type": "code",
   "execution_count": null,
   "metadata": {},
   "outputs": [],
   "source": [
    "# 해설\n",
    "'''\n",
    "ref : https://pythonguides.com/indexing-and-slicing-in-python/\n",
    "ref : https://dojang.io/mod/page/view.php?id=2208\n",
    "리스트 인덱스 슬라이싱\n",
    "'''"
   ]
  },
  {
   "attachments": {},
   "cell_type": "markdown",
   "metadata": {},
   "source": [
    "#### 삼각형의 완성조건 (1) [fin:2022-12-16]\n",
    "link : https://school.programmers.co.kr/learn/courses/30/lessons/120889\n",
    "\n",
    "**문제 설명**\n",
    "\n",
    "선분 세 개로 삼각형을 만들기 위해서는 다음과 같은 조건을 만족해야 합니다.\n",
    "\n",
    "가장 긴 변의 길이는 다른 두 변의 길이의 합보다 작아야 합니다.\n",
    "삼각형의 세 변의 길이가 담긴 배열 sides이 매개변수로 주어집니다. 세 변으로 삼각형을 만들 수 있다면 1, 만들 수 없다면 2를 return하도록 solution 함수를 완성해주세요.\n",
    "\n",
    "\n",
    "**제한사항**\n",
    "\n",
    "- sides의 원소는 자연수입니다.\n",
    "- sides의 길이는 3입니다.\n",
    "- 1 ≤ sides의 원소 ≤ 1,000\n",
    "\n",
    "\n",
    "**입출력 예**\n",
    "\n",
    "| sides | result |\n",
    "| -- | -- |\n",
    "| [1, 2, 3] | 2 |\n",
    "| [3, 6, 2] | 2 |\n",
    "| [199, 72, 222] | 1 |"
   ]
  },
  {
   "cell_type": "code",
   "execution_count": null,
   "metadata": {},
   "outputs": [],
   "source": [
    "# 제출\n",
    "def solution(sides):\n",
    "    sides = sorted(sides)\n",
    "    return 2 if sides[0]+sides[1] <= sides[2] else 1"
   ]
  },
  {
   "cell_type": "code",
   "execution_count": null,
   "metadata": {},
   "outputs": [],
   "source": [
    "# 해설\n",
    "'''\n",
    "문제 그대로 sorted(sides) 한 다음에 가장 큰 값인 sides[2]이 두 합보다 크면 만들 수 없으니 2를 아니면 만들수 있으니 1 반환.\n",
    "'''"
   ]
  },
  {
   "attachments": {},
   "cell_type": "markdown",
   "metadata": {},
   "source": [
    "#### 배열 원소의 길이 [fin:2022-12-16]\n",
    "link : https://school.programmers.co.kr/learn/courses/30/lessons/120854\n",
    "\n",
    "**문제 설명**\n",
    "\n",
    "문자열 배열 strlist가 매개변수로 주어집니다. strlist 각 원소의 길이를 담은 배열을 retrun하도록 solution 함수를 완성해주세요.\n",
    "\n",
    "**제한사항**\n",
    "\n",
    "- 1 ≤ strlist 원소의 길이 ≤ 100\n",
    "- strlist는 알파벳 소문자, 대문자, 특수문자로 구성되어 있습니다.\n",
    "\n",
    "\n",
    "**입출력 예**\n",
    "\n",
    "| strlist | result |\n",
    "| --- | --- |\n",
    "| [\"We\", \"are\", \"the\", \"world!\"] | [2, 3, 3, 6] |\n",
    "| [\"I\", \"Love\", \"Programmers.\"] | [1, 4, 12] |"
   ]
  },
  {
   "cell_type": "code",
   "execution_count": null,
   "metadata": {},
   "outputs": [],
   "source": [
    "# 제출\n",
    "def solution(strlist):\n",
    "    return [len(str) for str in strlist]"
   ]
  },
  {
   "cell_type": "code",
   "execution_count": null,
   "metadata": {},
   "outputs": [],
   "source": [
    "# 해설\n",
    "'''\n",
    "리스트 컴프리헨션으로 for 문 돌리면서 len으로 길이가 적용되도록 처리\n",
    "'''"
   ]
  },
  {
   "attachments": {},
   "cell_type": "markdown",
   "metadata": {},
   "source": [
    "#### 최댓값 만들기(1) [fin:2022-12-16]\n",
    "link : https://school.programmers.co.kr/learn/courses/30/lessons/120847\n",
    "\n",
    "**문제 설명**\n",
    "\n",
    "정수 배열 numbers가 매개변수로 주어집니다. numbers의 원소 중 두 개를 곱해 만들 수 있는 최댓값을 return하도록 solution 함수를 완성해주세요.\n",
    "\n",
    "**제한사항**\n",
    "\n",
    "- 0 ≤ numbers의 원소 ≤ 10,000\n",
    "- 2 ≤ numbers의 길이 ≤ 100\n",
    "\n",
    "\n",
    "**입출력 예**\n",
    "| numbers | result |\n",
    "|----------|----------|\n",
    "| [1, 2, 3, 4, 5] | 20 |\n",
    "| [0, 31, 24, 10, 1, 9] | 744 |"
   ]
  },
  {
   "cell_type": "code",
   "execution_count": null,
   "metadata": {},
   "outputs": [],
   "source": [
    "# 제출\n",
    "def solution(numbers):\n",
    "    numbers = sorted(numbers)\n",
    "    return numbers[-1]*numbers[-2]"
   ]
  },
  {
   "cell_type": "code",
   "execution_count": null,
   "metadata": {},
   "outputs": [],
   "source": [
    "# 해설\n",
    "'''\n",
    "sorted 로 정렬하고 나서 리스트 인덱스 슬라이싱으로 가장 큰 수 2개를 곱함.\n",
    "'''"
   ]
  },
  {
   "attachments": {},
   "cell_type": "markdown",
   "metadata": {},
   "source": [
    "#### 특정 문자 제거하기 [fin:2022-12-16]\n",
    "link : https://school.programmers.co.kr/learn/courses/30/lessons/120826\n",
    "\n",
    "**문제 설명**\n",
    "\n",
    "문자열 my_string과 문자 letter이 매개변수로 주어집니다. my_string에서 letter를 제거한 문자열을 return하도록 solution 함수를 완성해주세요.\n",
    "\n",
    "**제한사항**\n",
    "\n",
    "- 1 ≤ my_string의 길이 ≤ 100\n",
    "- letter은 길이가 1인 영문자입니다.\n",
    "- my_string과 letter은 알파벳 대소문자로 이루어져 있습니다.\n",
    "- 대문자와 소문자를 구분합니다.\n",
    "\n",
    "**입출력 예**\n",
    "\n",
    "| my_string | letter | result |\n",
    "|----------|----------|----------|\n",
    "| \"abcdef\" | \"f\" | \"abcde\" |\n",
    "| \"BCBdbe\" | \"B\" | \"Cdbe\" |"
   ]
  },
  {
   "cell_type": "code",
   "execution_count": null,
   "metadata": {},
   "outputs": [],
   "source": [
    "# 제출\n",
    "def solution(my_string, letter):\n",
    "    return ''.join(list(filter(lambda s: ord(s) != ord(letter), my_string)))"
   ]
  },
  {
   "cell_type": "code",
   "execution_count": null,
   "metadata": {},
   "outputs": [],
   "source": [
    "# 해설\n",
    "'''\n",
    "ref : https://docs.python.org/3/library/functions.html#filter\n",
    "ref : https://docs.python.org/3/library/functions.html#ord\n",
    "이전에 쓴 filter 로 if 문을 예시로 함.\n",
    "\n",
    "풀이하자면 filter(function, iterable) 이고, 함수는 조건문으로서 lambda로 반환을 해서 들어가는 조건 if문을 넣음.\n",
    "\n",
    "my_string 에서 iteration 하는 요소들에서 대소문자 구분하니까 ord로 구분한 다음에 같지 않으면 list 안에 append 시키는 것으로 하고 만들어진 걸 문자열로 join함.\n",
    "\n",
    "설명 좋음 : https://blockdmask.tistory.com/532﻿\n",
    "'''"
   ]
  },
  {
   "attachments": {},
   "cell_type": "markdown",
   "metadata": {},
   "source": [
    "#### 편지 [fin:2022-12-16]\n",
    "link : https://school.programmers.co.kr/learn/courses/30/lessons/120898\n",
    "\n",
    "**문제 설명**\n",
    "\n",
    "머쓱이는 할머니께 생신 축하 편지를 쓰려고 합니다. 할머니가 보시기 편하도록 글자 한 자 한 자를 가로 2cm 크기로 적으려고 하며, 편지를 가로로만 적을 때, 축하 문구 message를 적기 위해 필요한 편지지의 최소 가로길이를 return 하도록 solution 함수를 완성해주세요.\n",
    "\n",
    "**제한사항**\n",
    "\n",
    "- 공백도 하나의 문자로 취급합니다.\n",
    "- 1 ≤ message의 길이 ≤ 50\n",
    "- 편지지의 여백은 생각하지 않습니다.\n",
    "- message는 영문 알파벳 대소문자, ‘!’, ‘~’ 또는 공백으로만 이루어져 있습니다.\n",
    "\n",
    "**입출력 예**\n",
    "\n",
    "| message | result |\n",
    "|----------|----------|\n",
    "| \"happy birthday!\" | 30 |\n",
    "| \"I love you~\" | 22 |"
   ]
  },
  {
   "cell_type": "code",
   "execution_count": null,
   "metadata": {},
   "outputs": [],
   "source": [
    "# 제출\n",
    "def solution(message):\n",
    "    return len([s for s in message])*2"
   ]
  },
  {
   "cell_type": "code",
   "execution_count": null,
   "metadata": {},
   "outputs": [],
   "source": [
    "# 해설\n",
    "'''\n",
    "문제 그대로. message를 list comprehension으로 하나하나 쪼갠 다음에 len을 구하고 *2 함.\n",
    "'''"
   ]
  },
  {
   "attachments": {},
   "cell_type": "markdown",
   "metadata": {},
   "source": [
    "#### 점의 위치 구하기 [fin:2022-12-16]\n",
    "link : https://school.programmers.co.kr/learn/courses/30/lessons/120841\n",
    "\n",
    "**문제 설명**\n",
    "\n",
    "사분면은 한 평면을 x축과 y축을 기준으로 나눈 네 부분입니다. 사분면은 아래와 같이 1부터 4까지 번호를매깁니다.\n",
    "\n",
    "<img src=\"https://grepp-programmers.s3.ap-northeast-2.amazonaws.com/files/production/b58d4788-42fa-44fa-af50-481907e65473/%E1%84%89%E1%85%B3%E1%84%8F%E1%85%B3%E1%84%85%E1%85%B5%E1%86%AB%E1%84%89%E1%85%A3%E1%86%BA%202022-07-07%20%E1%84%8B%E1%85%A9%E1%84%92%E1%85%AE%203.27.04%20%E1%84%87%E1%85%A9%E1%86%A8%E1%84%89%E1%85%A1%E1%84%87%E1%85%A9%E1%86%AB.png\">\n",
    "\n",
    "- x 좌표와 y 좌표가 모두 양수이면 제1사분면에 속합니다.\n",
    "- x 좌표가 음수, y 좌표가 양수이면 제2사분면에 속합니다.\n",
    "- x 좌표와 y 좌표가 모두 음수이면 제3사분면에 속합니다.\n",
    "- x 좌표가 양수, y 좌표가 음수이면 제4사분면에 속합니다.\n",
    "\n",
    "x 좌표 (x, y)를 차례대로 담은 정수 배열 dot이 매개변수로 주어집니다. 좌표 dot이 사분면 중 어디에 속하는지 1, 2, 3, 4 중 하나를 return 하도록 solution 함수를 완성해주세요.\n",
    "\n",
    "\n",
    "\n",
    "**제한사항**\n",
    "\n",
    "- dot의 길이 = 2\n",
    "- dot[0]은 x좌표를, dot[1]은 y좌표를 나타냅니다\n",
    "- 500 ≤ dot의 원소 ≤ 500\n",
    "- dot의 원소는 0이 아닙니다.\n",
    "\n",
    "\n",
    "**입출력 예**\n",
    "\n",
    "| dot  | result |\n",
    "|----------|----------|\n",
    "| [2, 4] | 1 |\n",
    "| [-7, 9] | 2 |\n"
   ]
  },
  {
   "cell_type": "code",
   "execution_count": null,
   "metadata": {},
   "outputs": [],
   "source": [
    "# 제출\n",
    "def solution(dot):\n",
    "    if dot[0] > 0 and dot[1] > 0:\n",
    "        return 1\n",
    "    if dot[0] < 0 and dot[1] > 0:\n",
    "        return 2\n",
    "    if dot[0] < 0 and dot[1] < 0:\n",
    "        return 3\n",
    "    if dot[0] > 0 and dot[1] < 0:\n",
    "        return 4"
   ]
  },
  {
   "cell_type": "code",
   "execution_count": null,
   "metadata": {},
   "outputs": [],
   "source": [
    "# 해설\n",
    "'''\n",
    "이런 건 단순한 게 최고라고 생각해서 그냥 if 조건문 여러개.\n",
    "'''"
   ]
  },
  {
   "attachments": {},
   "cell_type": "markdown",
   "metadata": {},
   "source": [
    "#### 문자 반복 출력하기 [fin:2022-12-16]\n",
    "link : https://school.programmers.co.kr/learn/courses/30/lessons/120825\n",
    "\n",
    "**문제 설명**\n",
    "\n",
    "문자열 my_string과 정수 n이 매개변수로 주어질 때, my_string에 들어있는 각 문자를 n만큼 반복한 문자열을 return 하도록 solution 함수를 완성해보세요.\n",
    "\n",
    "**제한사항**\n",
    "\n",
    "- 2 ≤ my_string 길이 ≤ 5\n",
    "- 2 ≤ n ≤ 10\n",
    "- \"my_string\"은 영어 대소문자로 이루어져 있습니다.\n",
    "\n",
    "\n",
    "**입출력 예**\n",
    "\n",
    "| my_string | n | result |\n",
    "|----------|----------|----------|\n",
    "| \"hello\" | 3 | \"hhheeellllllooo\" |\n"
   ]
  },
  {
   "cell_type": "code",
   "execution_count": null,
   "metadata": {},
   "outputs": [],
   "source": [
    "# 제출\n",
    "def solution(my_string, n):\n",
    "    answer = [s*n for s in my_string]\n",
    "    return ''.join(answer)"
   ]
  },
  {
   "cell_type": "code",
   "execution_count": null,
   "metadata": {},
   "outputs": [],
   "source": [
    "# 해설\n",
    "'''\n",
    "join으로 리스트를 문자열로 만들고 그 전에 반복하는 건 리스트 컴프리헨션 이용.\n",
    "'''"
   ]
  },
  {
   "attachments": {},
   "cell_type": "markdown",
   "metadata": {},
   "source": [
    "#### 순서쌍의 개수 [fin:2022-12-16]\n",
    "link : https://school.programmers.co.kr/learn/courses/30/lessons/120836\n",
    "\n",
    "**문제 설명**\n",
    "\n",
    "순서쌍이란 두 개의 숫자를 순서를 정하여 짝지어 나타낸 쌍으로 (a, b)로 표기합니다. 자연수 n이 매개변수로 주어질 때 두 숫자의 곱이 n인 자연수 순서쌍의 개수를 return하도록 solution 함수를 완성해주세요.\n",
    "\n",
    "**제한사항**\n",
    "\n",
    "- 1 ≤ n ≤ 1,000,000\n",
    "\n",
    "\n",
    "**입출력 예**\n",
    "| n | result |\n",
    "|----------|----------|\n",
    "| 20 | 6 |\n",
    "| 100 | 9 |\n"
   ]
  },
  {
   "cell_type": "code",
   "execution_count": 143,
   "metadata": {},
   "outputs": [],
   "source": [
    "# 제출\n",
    "def solution(n):\n",
    "    answer = 0\n",
    "    for i in range(1,n+1):\n",
    "        if n % i == 0:\n",
    "            answer += 1\n",
    "    return answer"
   ]
  },
  {
   "cell_type": "code",
   "execution_count": null,
   "metadata": {},
   "outputs": [],
   "source": [
    "# 해설\n",
    "'''\n",
    "곱이 되는 순서쌍이라 함은 나눴을 때 0이 되는 수들의 갯수인 셈이니 단순하게 카운팅 함.\n",
    "'''"
   ]
  },
  {
   "attachments": {},
   "cell_type": "markdown",
   "metadata": {},
   "source": [
    "#### 문자열안에 문자열 [fin:2022-12-16]\n",
    "link : https://school.programmers.co.kr/learn/courses/30/lessons/120908\n",
    "\n",
    "**문제 설명**\n",
    "\n",
    "문자열 str1, str2가 매개변수로 주어집니다. str1 안에 str2가 있다면 1을 없다면 2를 return하도록 solution 함수를 완성해주세요.\n",
    "\n",
    "**제한사항**\n",
    "\n",
    "- 1 ≤ str1의 길이 ≤ 100\n",
    "- 1 ≤ str2의 길이 ≤ 100\n",
    "\n",
    "**입출력 예**\n",
    "\n",
    "| str1 | str2 | result |\n",
    "|----------|----------|----|\n",
    "| \"ab6CDE443fgh22iJKlmn1o\" | \"6CD\" | 1 |\n",
    "| \"ppprrrogrammers\" | \"pppp\" | 2 |\n"
   ]
  },
  {
   "cell_type": "code",
   "execution_count": null,
   "metadata": {},
   "outputs": [],
   "source": [
    "# 제출\n",
    "def solution(str1, str2):\n",
    "    return 1 if str1.count(str2) > 0 else 2"
   ]
  },
  {
   "cell_type": "code",
   "execution_count": null,
   "metadata": {},
   "outputs": [],
   "source": [
    "# 해설\n",
    "'''\n",
    "문제 그대로, str1 안에 str2 통으로 count를 했을 때 1개 이상 있다면 있으므로 1 없으면 2\n",
    "'''"
   ]
  },
  {
   "attachments": {},
   "cell_type": "markdown",
   "metadata": {},
   "source": [
    "#### 제곱수 판별하기 [fin:2022-12-16]\n",
    "link : https://school.programmers.co.kr/learn/courses/30/lessons/120909\n",
    "\n",
    "**문제 설명**\n",
    "\n",
    "어떤 자연수를 제곱했을 때 나오는 정수를 제곱수라고 합니다. 정수 n이 매개변수로 주어질 때, n이 제곱수라면 1을 아니라면 2를 return하도록 solution 함수를 완성해주세요.\n",
    "\n",
    "**제한사항**\n",
    "\n",
    "- 1 ≤ n ≤ 1,000,000\n",
    "\n",
    "**입출력 예**\n",
    "\n",
    "| n | result |\n",
    "| -- | -- |\n",
    "| 144 | 1 |\n",
    "| 976 | 2 |\n"
   ]
  },
  {
   "cell_type": "code",
   "execution_count": 152,
   "metadata": {},
   "outputs": [],
   "source": [
    "# 제출\n",
    "def solution(n):\n",
    "    base = int(n**0.5)\n",
    "    return 1 if base**2 == n else 2"
   ]
  },
  {
   "cell_type": "code",
   "execution_count": 153,
   "metadata": {},
   "outputs": [
    {
     "name": "stdout",
     "output_type": "stream",
     "text": [
      "12\n",
      "144\n",
      "12.0\n"
     ]
    }
   ],
   "source": [
    "# math 라이브러리 이용.\n",
    "import math\n",
    "def solution(n):\n",
    "    base = int(math.sqrt(n))\n",
    "    return 1 if base**2 == n else 2"
   ]
  },
  {
   "cell_type": "code",
   "execution_count": null,
   "metadata": {},
   "outputs": [],
   "source": [
    "# 해설\n",
    "'''\n",
    "ref : https://docs.python.org/3/library/operator.html#mapping-operators-to-functions\n",
    "파이썬 연산자 제곱 **을 이용.\n",
    "\n",
    "a ** b 이면 a 를 b 제곱한 건데 여기선 2제곱이라서 제곱의 반인 0.5로 확인 후 그게 맞으면 1 아니면 2 처리\n",
    "'''"
   ]
  },
  {
   "attachments": {},
   "cell_type": "markdown",
   "metadata": {},
   "source": [
    "#### 직각삼각형 출력하기 [fin:2022-12-19]\n",
    "link : https://school.programmers.co.kr/learn/courses/30/lessons/120823\n",
    "\n",
    "**문제 설명**\n",
    "\n",
    "\"\\*\"의 높이와 너비를 1이라고 했을 때, \"\\*\"을 이용해 직각 이등변 삼각형을 그리려고합니다. 정수 n 이 주어지면 높이와 너비가 n 인 직각 이등변 삼각형을 출력하도록 코드를 작성해보세요.\n",
    "\n",
    "**제한사항**\n",
    "- 1 ≤ n ≤ 10\n",
    "\n",
    "**입출력 예**\n",
    "\n",
    "입력 #1\n",
    "\n",
    "```\n",
    "3\n",
    "```\n",
    "출력 #1\n",
    "\n",
    "```\n",
    "*\n",
    "**\n",
    "***\n",
    "```"
   ]
  },
  {
   "cell_type": "code",
   "execution_count": null,
   "metadata": {},
   "outputs": [],
   "source": [
    "# 제출\n",
    "n = int(input())\n",
    "for i in range(n):\n",
    "    print('*'*(i+1))"
   ]
  },
  {
   "cell_type": "code",
   "execution_count": null,
   "metadata": {},
   "outputs": [],
   "source": [
    "# 해설\n",
    "'''\n",
    "for 문으로 출력\n",
    "'''"
   ]
  },
  {
   "attachments": {},
   "cell_type": "markdown",
   "metadata": {},
   "source": [
    "#### 배열의 유사도 [fin:2022-12-19]\n",
    "link : https://school.programmers.co.kr/learn/courses/30/lessons/120903\n",
    "\n",
    "**문제 설명**\n",
    "\n",
    "두 배열이 얼마나 유사한지 확인해보려고 합니다. 문자열 배열 s1과 s2가 주어질 때 같은 원소의 개수를 return하도록 solution 함수를 완성해주세요.\n",
    "\n",
    "**제한사항**\n",
    "\n",
    "- 1 ≤ s1, s2의 길이 ≤ 100\n",
    "- 1 ≤ s1, s2의 원소의 길이 ≤ 10\n",
    "- s1과 s2의 원소는 알파벳 소문자로만 이루어져 있습니다\n",
    "- s1과 s2는 각각 중복된 원소를 갖지 않습니다.\n",
    "\n",
    "\n",
    "**입출력 예**\n",
    "\n",
    "| s1 | s2 | result |\n",
    "|----------|----------|----------|\n",
    "| [\"a\", \"b\", \"c\"] | [\"com\", \"b\", \"d\", \"p\", \"c\"] | 2 |\n",
    "| [\"n\", \"omg\"] | [\"m\", \"dot\"] | 0 |\n"
   ]
  },
  {
   "cell_type": "code",
   "execution_count": null,
   "metadata": {},
   "outputs": [],
   "source": [
    "# 제출\n",
    "def solution(s1, s2):\n",
    "    answer = 0\n",
    "    for s in s2:\n",
    "        if s in s1:\n",
    "            answer += 1\n",
    "    return answer"
   ]
  },
  {
   "cell_type": "code",
   "execution_count": null,
   "metadata": {},
   "outputs": [],
   "source": [
    "# 다른 사람 풀이 중에서 감탄\n",
    "# 문제 중에 \"s1과 s2는 각각 중복된 원소를 갖지 않습니다.\" 라는 게 있고 이걸 이용해서 set으로 한 번 잡은 후에 len으로 거른 느낌.\n",
    "def solution(s1, s2):\n",
    "    return len(set(s1) & set(s2))"
   ]
  },
  {
   "cell_type": "code",
   "execution_count": null,
   "metadata": {},
   "outputs": [],
   "source": [
    "# 해설\n",
    "'''\n",
    "문제 그대로.\n",
    "'''"
   ]
  },
  {
   "attachments": {},
   "cell_type": "markdown",
   "metadata": {},
   "source": [
    "#### 자릿수 더하기 [fin:2022-12-19]\n",
    "link : https://school.programmers.co.kr/learn/courses/30/lessons/120906\n",
    "\n",
    "**문제 설명**\n",
    "\n",
    "정수 n이 매개변수로 주어질 때 n의 각 자리 숫자의 합을 return하도록 solution 함수를 완성해주세요\n",
    "\n",
    "**제한사항**\n",
    "\n",
    "- 0 ≤ n ≤ 1,000,000\n",
    "\n",
    "**입출력 예**\n",
    "\n",
    "| n | result |\n",
    "|----------|----------|\n",
    "| 1234 | 10 |\n",
    "| 930211 | 16 |\n"
   ]
  },
  {
   "cell_type": "code",
   "execution_count": null,
   "metadata": {},
   "outputs": [],
   "source": [
    "# 제출\n",
    "def solution(n):\n",
    "    return sum([int(num) for num in str(n)])"
   ]
  },
  {
   "cell_type": "code",
   "execution_count": null,
   "metadata": {},
   "outputs": [],
   "source": [
    "# 다른사람 풀이\n",
    "def solution(n):\n",
    "    return sum(list(map(int,list(str(n)))))"
   ]
  },
  {
   "cell_type": "code",
   "execution_count": null,
   "metadata": {},
   "outputs": [],
   "source": [
    "# 해설\n",
    "'''\n",
    "정수로 들어온 걸 문자열로 만든 다음에 한 글자씩 list로 분리 후에 sum으로 총합 구함.\n",
    "'''"
   ]
  },
  {
   "attachments": {},
   "cell_type": "markdown",
   "metadata": {},
   "source": [
    "#### 숨어있는 숫자의 덧셈 (1) [fin:2022-12-19]\n",
    "link : https://school.programmers.co.kr/learn/courses/30/lessons/120851\n",
    "\n",
    "**문제 설명**\n",
    "\n",
    "문자열 my_string이 매개변수로 주어집니다. my_string안의 모든 자연수들의 합을 return하도록 solution 함수를 완성해주세요.\n",
    "\n",
    "**제한사항**\n",
    "\n",
    "1 ≤ my_string의 길이 ≤ 1,000\n",
    "my_string은 소문자, 대문자 그리고 한자리 자연수로만 구성되어있습니다.\n",
    "\n",
    "**입출력 예**\n",
    "\n",
    "| my_string | result |\n",
    "| ---| -- |\n",
    "| \"aAb1B2cC34oOp\" | 10 |\n",
    "| \"1a2b3c4d123\" | 16 |"
   ]
  },
  {
   "cell_type": "code",
   "execution_count": null,
   "metadata": {},
   "outputs": [],
   "source": [
    "# 제출\n",
    "def solution(my_string):\n",
    "    return sum(map(int,filter(lambda s: s.isdigit() == True, my_string)))"
   ]
  },
  {
   "cell_type": "code",
   "execution_count": null,
   "metadata": {},
   "outputs": [],
   "source": [
    "# 다른 사람 풀이 1\n",
    "def solution(my_string):\n",
    "    return sum(int(i) for i in my_string if i.isdigit())"
   ]
  },
  {
   "cell_type": "code",
   "execution_count": null,
   "metadata": {},
   "outputs": [],
   "source": [
    "# 다른 사람 풀이 2\n",
    "import re\n",
    "\n",
    "def solution(my_string):\n",
    "    return sum(int(n) for n in re.sub('[^1-9]', '', my_string))"
   ]
  },
  {
   "cell_type": "code",
   "execution_count": null,
   "metadata": {},
   "outputs": [],
   "source": [
    "# 해설\n",
    "'''\n",
    "ref : https://docs.python.org/ko/3/library/stdtypes.html?highlight=isdigit#str.isdigit\n",
    "filter로 my_string을 loop 시킬 때, isdigit() True면 추가되게 하고, map으로 int 로 casting한 다음에 int형의 list를 sum 함.\n",
    "'''"
   ]
  },
  {
   "attachments": {},
   "cell_type": "markdown",
   "metadata": {},
   "source": [
    "#### 모음 제거 [fin:2022-12-19]\n",
    "link : https://school.programmers.co.kr/learn/courses/30/lessons/120849\n",
    "\n",
    "**문제 설명**\n",
    "\n",
    "영어에선 a, e, i, o, u 다섯 가지 알파벳을 모음으로 분류합니다. 문자열 my_string이 매개변수로 주어질 때 모음을 제거한 문자열을 return하도록 solution 함수를 완성해주세요.\n",
    "\n",
    "**제한사항**\n",
    "\n",
    "- my_string은 소문자와 공백으로 이루어져 있습니다.\n",
    "- 1 ≤ my_string의 길이 ≤ 1,000\n",
    "\n",
    "**입출력 예**\n",
    "\n",
    "| my_string | result |\n",
    "|----------|----------|\n",
    "| \"bus\" | \"bs\" |\n",
    "| \"nice to meet you\" | \"nc t mt y\" |\n"
   ]
  },
  {
   "cell_type": "code",
   "execution_count": null,
   "metadata": {},
   "outputs": [],
   "source": [
    "# 제출\n",
    "def solution(my_string):\n",
    "    vowel = ['a','e','i','o','u']\n",
    "    return ''.join(list(filter(lambda s : s not in vowel, my_string)))"
   ]
  },
  {
   "cell_type": "code",
   "execution_count": null,
   "metadata": {},
   "outputs": [],
   "source": [
    "# 해설\n",
    "'''\n",
    "vowel이라는 모음 list 만든 다음에 동일하게 list안의 filter로서 모음 제외한 조건으로 만들고 문자열로서 join\n",
    "'''"
   ]
  },
  {
   "attachments": {},
   "cell_type": "markdown",
   "metadata": {},
   "source": [
    "#### 개미군단 [fin:2022-12-19]\n",
    "link : https://school.programmers.co.kr/learn/courses/30/lessons/120837\n",
    "\n",
    "**문제 설명**\n",
    "\n",
    "개미 군단이 사냥을 나가려고 합니다. 개미군단은 사냥감의 체력에 딱 맞는 병력을 데리고 나가려고 합니다. 장군개미는 5의 공격력을, 병정개미는 3의 공격력을 일개미는 1의 공격력을 가지고 있습니다. 예를 들어 체력 23의 여치를 사냥하려고 할 때, 일개미 23마리를 데리고 가도 되지만, 장군개미 네 마리와 병정개미 한 마리를 데리고 간다면 더 적은 병력으로 사냥할 수 있습니다. 사냥감의 체력 hp가 매개변수로 주어질 때, 사냥감의 체력에 딱 맞게 최소한의 병력을 구성하려면 몇 마리의 개미가 필요한지를 return하도록 solution 함수를 완성해주세요.\n",
    "\n",
    "**제한사항**\n",
    "\n",
    "- hp는 자연수입니다.\n",
    "- 0 ≤ hp ≤ 1000\n",
    "\n",
    "**입출력 예**\n",
    "| hp | result |\n",
    "|----------|----------|\n",
    "| 23 | 5 |\n",
    "| 24 | 6 |\n",
    "| 999 | 201 |"
   ]
  },
  {
   "cell_type": "code",
   "execution_count": 163,
   "metadata": {},
   "outputs": [
    {
     "name": "stdout",
     "output_type": "stream",
     "text": [
      "4\n",
      "199\n",
      "1\n",
      "201\n"
     ]
    }
   ],
   "source": [
    "# test\n",
    "hp = 999\n",
    "general = 5\n",
    "solider = 3\n",
    "worker = 1\n",
    "print(hp % general)\n",
    "print(hp // general)\n",
    "print((hp % general)//solider)\n",
    "print((hp // general)+((hp % general)//solider)+(((hp % general)%solider)//worker))"
   ]
  },
  {
   "cell_type": "code",
   "execution_count": null,
   "metadata": {},
   "outputs": [],
   "source": [
    "# 제출\n",
    "def solution(hp):\n",
    "    general = 5\n",
    "    solider = 3\n",
    "    worker = 1\n",
    "    return (hp // general)+((hp % general)//solider)+(((hp % general)%solider)//worker)"
   ]
  },
  {
   "cell_type": "code",
   "execution_count": null,
   "metadata": {},
   "outputs": [],
   "source": [
    "# 해설\n",
    "'''\n",
    "1103(+1)\n",
    "장군은 5, 병정은 3, 일개미는 1이라고 변수 처리 한 다음에 큰 수부터 //로 나눈 값에 나머지가 있으면 그걸 다시 나누고 남은 값으로 처리 해서 총합.\n",
    "'''"
   ]
  },
  {
   "attachments": {},
   "cell_type": "markdown",
   "metadata": {},
   "source": [
    "#### 세균 증식 [fin:2022-12-19]\n",
    "link : https://school.programmers.co.kr/learn/courses/30/lessons/120910\n",
    "\n",
    "**문제 설명**\n",
    "\n",
    "어떤 세균은 1시간에 두배만큼 증식한다고 합니다. 처음 세균의 마리수 n과 경과한 시간 t가 매개변수로 주어질 때 t시간 후 세균의 수를 return하도록 solution 함수를 완성해주세요.\n",
    "\n",
    "**제한사항**\n",
    "\n",
    "- 1 ≤ n ≤ 10\n",
    "- 1 ≤ t ≤ 15\n",
    "\n",
    "**입출력 예**\n",
    "\n",
    "| n | t | result |\n",
    "|----------|----------|-----|\n",
    "| 2 | 10 | 2048 |\n",
    "| 7 | 15 | 229,376 |\n"
   ]
  },
  {
   "cell_type": "code",
   "execution_count": null,
   "metadata": {},
   "outputs": [],
   "source": [
    "# 제출\n",
    "def solution(n, t):\n",
    "    return (pow(2,t)*n)"
   ]
  },
  {
   "cell_type": "code",
   "execution_count": null,
   "metadata": {},
   "outputs": [],
   "source": [
    "# 다른 사람 풀이 1\n",
    "def solution(n, t):\n",
    "    return 2**t * n"
   ]
  },
  {
   "cell_type": "code",
   "execution_count": null,
   "metadata": {},
   "outputs": [],
   "source": [
    "# 다른 사람 풀이 2\n",
    "def solution(n, t):\n",
    "    return n << t"
   ]
  },
  {
   "cell_type": "code",
   "execution_count": 192,
   "metadata": {},
   "outputs": [
    {
     "data": {
      "text/plain": [
       "28"
      ]
     },
     "execution_count": 192,
     "metadata": {},
     "output_type": "execute_result"
    }
   ],
   "source": [
    "def solution(n, t):\n",
    "    return n << t\n",
    "n = 7\n",
    "t = 2 # 1이면 1시간 후니까 7 * (1+1) 인 셈\n",
    "solution(n, t)"
   ]
  },
  {
   "cell_type": "code",
   "execution_count": 212,
   "metadata": {},
   "outputs": [
    {
     "name": "stdout",
     "output_type": "stream",
     "text": [
      "n : 7 / i : 0 / n << i : 14\n",
      "i : 0 - bin(7*(2**0))[2:] = 7 : 111\n",
      "n : 7 / i : 1 / n << i : 28\n",
      "i : 1 - bin(7*(2**1))[2:] = 14 : 1110\n",
      "n : 7 / i : 2 / n << i : 56\n",
      "i : 2 - bin(7*(2**2))[2:] = 28 : 11100\n",
      "n : 7 / i : 3 / n << i : 112\n",
      "i : 3 - bin(7*(2**3))[2:] = 56 : 111000\n",
      "n : 7 / i : 4 / n << i : 224\n",
      "i : 4 - bin(7*(2**4))[2:] = 112 : 1110000\n",
      "n : 7 / i : 5 / n << i : 448\n",
      "i : 5 - bin(7*(2**5))[2:] = 224 : 11100000\n",
      "n : 7 / i : 6 / n << i : 896\n",
      "i : 6 - bin(7*(2**6))[2:] = 448 : 111000000\n",
      "n : 7 / i : 7 / n << i : 1792\n",
      "i : 7 - bin(7*(2**7))[2:] = 896 : 1110000000\n",
      "n : 7 / i : 8 / n << i : 3584\n",
      "i : 8 - bin(7*(2**8))[2:] = 1792 : 11100000000\n",
      "n : 7 / i : 9 / n << i : 7168\n",
      "i : 9 - bin(7*(2**9))[2:] = 3584 : 111000000000\n",
      "n : 7 / i : 10 / n << i : 14336\n",
      "i : 10 - bin(7*(2**10))[2:] = 7168 : 1110000000000\n",
      "n : 7 / i : 11 / n << i : 28672\n",
      "i : 11 - bin(7*(2**11))[2:] = 14336 : 11100000000000\n",
      "n : 7 / i : 12 / n << i : 57344\n",
      "i : 12 - bin(7*(2**12))[2:] = 28672 : 111000000000000\n",
      "n : 7 / i : 13 / n << i : 114688\n",
      "i : 13 - bin(7*(2**13))[2:] = 57344 : 1110000000000000\n",
      "n : 7 / i : 14 / n << i : 229376\n",
      "i : 14 - bin(7*(2**14))[2:] = 114688 : 11100000000000000\n",
      "n : 7 / i : 15 / n << i : 458752\n",
      "i : 15 - bin(7*(2**15))[2:] = 229376 : 111000000000000000\n"
     ]
    }
   ],
   "source": [
    "n = 7\n",
    "t = 15\n",
    "for i in range(t+1):\n",
    "    print(f'n : {n} / i : {i} / n << i : {n << (i+1)}')\n",
    "    print(f'i : {i} - bin({n}*(2**{i}))[2:] = {7*(2**i)} : {bin(7*(2**i))[2:]}')"
   ]
  },
  {
   "cell_type": "code",
   "execution_count": null,
   "metadata": {},
   "outputs": [],
   "source": [
    "# 해설\n",
    "'''\n",
    "ref : https://docs.python.org/ko/3/library/functions.html?highlight=pow#pow\n",
    "\n",
    "pow(base: int, exp: int, mod: int) -> int\n",
    "pow(base, exp, mod=None)\n",
    "base 의 exp 거듭제곱을 반환함. 시간당 1시간에 두배만큼 증식한다고 했고 입출력의 예시로 7의 15시간동안 제곱이니 식으로 보자면\n",
    "7 * (2^15)인 셈이라서 그걸 pow 내부 메서드를 이용.\n",
    "'''"
   ]
  },
  {
   "cell_type": "code",
   "execution_count": null,
   "metadata": {},
   "outputs": [],
   "source": [
    "# 다른 사람 풀이 이야기\n",
    "'''\n",
    "return 2**t * n 이것도 간단하고 좋지만 두 번째인 return n << t 이걸 제일 감탄함.\n",
    "\n",
    "ref : https://www.w3schools.com/python/python_operators.asp\n",
    "ref : https://dojang.io/mod/page/view.php?id=2460\n",
    "\n",
    "<< : 비트 왼쪽 시프트 -> a의 비트를 b번 왼쪽으로 이동시킴\n",
    "=> 결국 수로 보자면 제곱근을 하는 셈.\n",
    "a << b\n",
    "\n",
    ">> : 비트 오른쪽 시프트 -> a의 비트를 b번 오른쪽으로 이동시킴\n",
    "a >> b\n",
    "'''"
   ]
  },
  {
   "attachments": {},
   "cell_type": "markdown",
   "metadata": {},
   "source": [
    "#### 대문자와 소문자 [fin:2022-12-19]\n",
    "link : https://school.programmers.co.kr/learn/courses/30/lessons/120893\n",
    "\n",
    "**문제 설명**\n",
    "\n",
    "문자열 my_string이 매개변수로 주어질 때, 대문자는 소문자로 소문자는 대문자로 변환한 문자열을 return하도록 solution 함수를 완성해주세요.\n",
    "\n",
    "\n",
    "**제한사항**\n",
    "\n",
    "- 1 ≤ my_string의 길이 ≤ 1,000\n",
    "- my_string은 영어 대문자와 소문자로만 구성되어 있습니다.\n",
    "\n",
    "\n",
    "**입출력 예**\n",
    "\n",
    "| my_string | result |\n",
    "|----------|----------|\n",
    "| \"cccCCC\" | \"CCCccc\" |\n",
    "| \"abCdEfghIJ\" | \"ABcDeFGHij\" |\n"
   ]
  },
  {
   "cell_type": "code",
   "execution_count": 214,
   "metadata": {},
   "outputs": [
    {
     "name": "stdout",
     "output_type": "stream",
     "text": [
      "Filtered List :  [12, 11, 19, 15]\n"
     ]
    }
   ],
   "source": [
    "# 제출\n",
    "def solution(my_string):\n",
    "    return ''.join(list(map(lambda l : l.upper() if l.islower() else l.lower(), my_string)))"
   ]
  },
  {
   "cell_type": "code",
   "execution_count": null,
   "metadata": {},
   "outputs": [],
   "source": [
    "# 해설\n",
    "'''\n",
    "ref : https://docs.python.org/3/library/stdtypes.html?#str.islower\n",
    "ref : https://docs.python.org/3/library/functions.html?highlight=map#map\n",
    "if else의 삼항 연산자의 경우 filter 사용이 불가하므로 map의 기능을 이용하고 조건에 대해서는 islower 와 upper(), lower() 메서드 이용.\n",
    "map(function, iterable, *iterables) 로서 str이나 int 같이 casting 이 아닌, function의 조건으로서 lambda 이용.\n",
    "'''"
   ]
  },
  {
   "attachments": {},
   "cell_type": "markdown",
   "metadata": {},
   "source": [
    "#### n의 배수 고르기 [fin:2022-12-19]\n",
    "link : https://school.programmers.co.kr/learn/courses/30/lessons/120905\n",
    "\n",
    "**문제 설명**\n",
    "정수 n과 정수 배열 numlist가 매개변수로 주어질 때, numlist에서 n의 배수가 아닌 수들을 제거한 배열을 return하도록 solution 함수를 완성해주세요.\n",
    "\n",
    "**제한사항**\n",
    "\n",
    "- 1 ≤ n ≤ 10,000\n",
    "- 1 ≤ numlist의 크기 ≤ 100\n",
    "- 1 ≤ numlist의 원소 ≤ 100,000\n",
    "\n",
    "**입출력 예**\n",
    "\n",
    "| n | numlist | result |\n",
    "| -- | -- | -- |\n",
    "| 3 | [4, 5, 6, 7, 8, 9, 10, 11, 12] | [6, 9, 12] |\n",
    "| 5 | [1, 9, 3, 10, 13, 5] | [10, 5] |\n",
    "| 12 | [2, 100, 120, 600, 12, 12] | [120, 600, 12, 12] |"
   ]
  },
  {
   "cell_type": "code",
   "execution_count": null,
   "metadata": {},
   "outputs": [],
   "source": [
    "# 제출\n",
    "def solution(n, numlist):\n",
    "    return list(filter(lambda num : num % n == 0, numlist))"
   ]
  },
  {
   "cell_type": "code",
   "execution_count": null,
   "metadata": {},
   "outputs": [],
   "source": [
    "# 해설\n",
    "'''\n",
    "lambda 로 if 조건문 걸어서 filter 처리 후 list 반환\n",
    "'''"
   ]
  },
  {
   "attachments": {},
   "cell_type": "markdown",
   "metadata": {},
   "source": [
    "#### 문자열 정렬하기 (1) [fin:2022-12-08]\n",
    "link : https://school.programmers.co.kr/learn/courses/30/lessons/120850\n",
    "\n",
    "**문제 설명**\n",
    "\n",
    "문자열 my_string이 매개변수로 주어질 때, my_string 안에 있는 숫자만 골라 오름차순 정렬한 리스트를 return 하도록 solution 함수를 작성해보세요.\n",
    "\n",
    "**제한사항**\n",
    "\n",
    "- 1 ≤ my_string의 길이 ≤ 100\n",
    "- my_string에는 숫자가 한 개 이상 포함되어 있습니다.\n",
    "- my_string은 영어 소문자 또는 0부터 9까지의 숫자로 이루어져 있습니다. - - -\n",
    "\n",
    "**입출력 예**\n",
    "\n",
    "| my_string | result |\n",
    "| -- | -- |\n",
    "| \"hi12392\" | [1, 2, 2, 3, 9] |\n",
    "| \"p2o4i8gj2\" | [2, 2, 4, 8] |\n",
    "| \"abcde0\" | [0] |"
   ]
  },
  {
   "cell_type": "code",
   "execution_count": null,
   "metadata": {},
   "outputs": [],
   "source": [
    "# 제출\n",
    "def solution(my_string):\n",
    "    return sorted(map(int,filter(lambda x : x.isdigit(), my_string)))"
   ]
  },
  {
   "cell_type": "code",
   "execution_count": null,
   "metadata": {},
   "outputs": [],
   "source": [
    "# 다른 사람 풀이\n",
    "def solution(my_string):\n",
    "    return sorted([int(c) for c in my_string if c.isdigit()])\n",
    "# 이것도 깔끔."
   ]
  },
  {
   "cell_type": "code",
   "execution_count": null,
   "metadata": {},
   "outputs": [],
   "source": [
    "# 해설\n",
    "'''\n",
    "문제 그대로. filter, lambda로 만든 함수를 int의 casting이 필요해서 map 처리 후 sorted 로 감쌈.\n",
    "'''"
   ]
  },
  {
   "attachments": {},
   "cell_type": "markdown",
   "metadata": {},
   "source": [
    "#### 주사위의 개수 [fin:2022-12-19]\n",
    "link : https://school.programmers.co.kr/learn/courses/30/lessons/120845\n",
    "\n",
    "**문제 설명**\n",
    "\n",
    "머쓱이는 직육면체 모양의 상자를 하나 가지고 있는데 이 상자에 정육면체 모양의 주사위를 최대한 많이 채우고 싶습니다. 상자의 가로, 세로, 높이가 저장되어있는 배열 `box`와 주사위 모서리의 길이 정수 `n`이 매개변수로 주어졌을 때, 상자에 들어갈 수 있는 주사위의 최대 개수를 return 하도록 solution 함수를 완성해주세요.\n",
    "\n",
    "**제한사항**\n",
    "\n",
    "- `box`의 길이는 3입니다.\n",
    "- `box[0]` = 상자의 가로 길이\n",
    "- `box[1]` = 상자의 세로 길이\n",
    "- `box[2]` = 상자의 높이 길이\n",
    "- 1 ≤ `box`의 원소 ≤ 100\n",
    "- 1 ≤ `n` ≤ 50\n",
    "- `n` ≤ `box`의 원소\n",
    "- 주사위는 상자와 평행하게 넣습니다.\n",
    "\n",
    "**입출력 예**\n",
    "\n",
    "| box | n | result |\n",
    "| --- | --- | --- |\n",
    "| [1, 1, 1] | 1 | 1 |\n",
    "| [10, 8, 6] | 3 | 12 |"
   ]
  },
  {
   "cell_type": "code",
   "execution_count": null,
   "metadata": {},
   "outputs": [],
   "source": [
    "# 제출\n",
    "def solution(box, n):\n",
    "    return (box[0]//n)*(box[1]//n)*(box[2]//n)"
   ]
  },
  {
   "cell_type": "code",
   "execution_count": 217,
   "metadata": {},
   "outputs": [
    {
     "name": "stdout",
     "output_type": "stream",
     "text": [
      "3\n",
      "2\n",
      "2\n"
     ]
    }
   ],
   "source": [
    "# test\n",
    "box = [10, 8, 6]\n",
    "n = 3\n",
    "print(box[0] // n)\n",
    "print(box[1] // n)\n",
    "print(box[2] // n)"
   ]
  },
  {
   "cell_type": "code",
   "execution_count": null,
   "metadata": {},
   "outputs": [],
   "source": [
    "# 해설\n",
    "'''\n",
    "위처럼 테스트로 확인해 본 후,\n",
    "\n",
    "각 가로 * 세로 * 높이를 하기 전에 //n 로 나눠서 나오는 값으로 곱함.\n",
    "'''"
   ]
  },
  {
   "attachments": {},
   "cell_type": "markdown",
   "metadata": {},
   "source": [
    "#### 암호 해독 [fin:2022-12-19]\n",
    "link : https://school.programmers.co.kr/learn/courses/30/lessons/120892\n",
    "\n",
    "**문제 설명**\n",
    "\n",
    "군 전략가 머쓱이는 전쟁 중 적군이 다음과 같은 암호 체계를 사용한다는 것을 알아냈습니다.\n",
    "\n",
    "- 암호화된 문자열 `cipher`를 주고받습니다.\n",
    "- 그 문자열에서 `code`의 배수 번째 글자만 진짜 암호입니다.\n",
    "\n",
    "문자열 `cipher`와 정수 `code`가 매개변수로 주어질 때 해독된 암호 문자열을 return하도록 solution 함수를 완성해주세요.\n",
    "\n",
    "**제한사항**\n",
    "\n",
    "- 1 ≤ `cipher`의 길이 ≤ 1,000\n",
    "- 1 ≤ `code` ≤ `cipher`의 길이\n",
    "- `cipher`는 소문자와 공백으로만 구성되어 있습니다.\n",
    "- 공백도 하나의 문자로 취급합니다.\n",
    "\n",
    "**입출력 예**\n",
    "\n",
    "| cipher | code | result |\n",
    "| --- | --- | --- |\n",
    "| \"dfjardstddetckdaccccdegk\" | 4 | \"attack\" |\n",
    "| \"pfqallllabwaoclk\" | 2 | \"fallback\" |\n"
   ]
  },
  {
   "cell_type": "code",
   "execution_count": 246,
   "metadata": {},
   "outputs": [
    {
     "data": {
      "text/plain": [
       "'attack'"
      ]
     },
     "execution_count": 246,
     "metadata": {},
     "output_type": "execute_result"
    }
   ],
   "source": [
    "# 제출\n",
    "def solution(cipher, code):\n",
    "    return cipher[code-1::code]"
   ]
  },
  {
   "cell_type": "code",
   "execution_count": null,
   "metadata": {},
   "outputs": [],
   "source": [
    "# 해설\n",
    "'''\n",
    "암호 해독\n",
    "'''"
   ]
  },
  {
   "attachments": {},
   "cell_type": "markdown",
   "metadata": {},
   "source": [
    "#### 가위 바위 보 [fin:2022-12-19]\n",
    "link : https://school.programmers.co.kr/learn/courses/30/lessons/120839\n",
    "\n",
    "**문제 설명**\n",
    "\n",
    "가위는 2 바위는 0 보는 5로 표현합니다. 가위 바위 보를 내는 순서대로 나타낸 문자열 `rsp`가 매개변수로 주어질 때, rsp에 저장된 가위 바위 보를 모두 이기는 경우를 순서대로 나타낸 문자열을 return하도록 solution 함수를 완성해보세요.\n",
    "\n",
    "**제한사항**\n",
    "\n",
    "- 0 < `rsp`의 길이 ≤ 100\n",
    "- `rsp`와 길이가 같은 문자열을 return 합니다.\n",
    "- `rsp`는 숫자 0, 2, 5로 이루어져 있습니다.\n",
    "\n",
    "**입출력 예**\n",
    "\n",
    "| rsp | result |\n",
    "| --- | --- |\n",
    "| \"2\" | \"0\" |\n",
    "| \"205\" | \"052\" |"
   ]
  },
  {
   "cell_type": "code",
   "execution_count": null,
   "metadata": {},
   "outputs": [],
   "source": [
    "# 제출\n",
    "def solution(rsp):\n",
    "    answer = []\n",
    "    for item in rsp:\n",
    "        if item == '2':\n",
    "            answer.append('0')\n",
    "        if item == '0':\n",
    "            answer.append('5')\n",
    "        if item == '5':\n",
    "            answer.append('2')\n",
    "    return ''.join(answer)"
   ]
  },
  {
   "cell_type": "code",
   "execution_count": null,
   "metadata": {},
   "outputs": [],
   "source": [
    "# 다른 사람 풀이\n",
    "def solution(rsp):\n",
    "    d = {'0':'5','2':'0','5':'2'}\n",
    "    return ''.join(d[i] for i in rsp)"
   ]
  },
  {
   "cell_type": "code",
   "execution_count": 248,
   "metadata": {},
   "outputs": [
    {
     "name": "stdout",
     "output_type": "stream",
     "text": [
      "rsp : 205\n",
      "after rsp.replace('2','s') : s05\n",
      "after rsp.replace('5','p') : s0p\n",
      "after rsp.replace('0','r') : srp\n",
      "after rsp.replace('r','5') : s5p\n",
      "after rsp.replace('s','0') : 05p\n",
      "after rsp.replace('p','2') : 052\n"
     ]
    },
    {
     "data": {
      "text/plain": [
       "'052'"
      ]
     },
     "execution_count": 248,
     "metadata": {},
     "output_type": "execute_result"
    }
   ],
   "source": [
    "# 다른 사람 풀이 2\n",
    "def solution(rsp):\n",
    "    print(f'rsp : {rsp}')\n",
    "    rsp = rsp.replace('2','s')\n",
    "    print(f\"after rsp.replace('2','s') : {rsp}\")\n",
    "    rsp = rsp.replace('5','p')\n",
    "    print(f\"after rsp.replace('5','p') : {rsp}\")\n",
    "    rsp = rsp.replace('0','r')\n",
    "    print(f\"after rsp.replace('0','r') : {rsp}\")\n",
    "    rsp = rsp.replace('r','5')\n",
    "    print(f\"after rsp.replace('r','5') : {rsp}\")\n",
    "    rsp = rsp.replace('s','0')\n",
    "    print(f\"after rsp.replace('s','0') : {rsp}\")\n",
    "    rsp = rsp.replace('p','2')\n",
    "    print(f\"after rsp.replace('p','2') : {rsp}\")\n",
    "    return rsp\n",
    "\n",
    "rsp = \"205\"\n",
    "solution(rsp)"
   ]
  },
  {
   "cell_type": "code",
   "execution_count": null,
   "metadata": {},
   "outputs": [],
   "source": [
    "# 해설\n",
    "'''\n",
    "ref : https://docs.python.org/3/library/stdtypes.html?highlight=replace#str.replace\n",
    "위의 테스트처럼 해보려다가 안됨. 다른 사람 풀이 보면 간단한데 강력하게 빠름. 내가 생각한 건 replace 를 복잡하게 이용해서 if 를 중복하는 방법이었는데 차라리 강력하고 빠른 듯. 암튼 안되서 간략하게 해버림.\n",
    "'''"
   ]
  },
  {
   "attachments": {},
   "cell_type": "markdown",
   "metadata": {},
   "source": [
    "#### 가장 큰 수 찾기 [fin:2022-12-19]\n",
    "link : https://school.programmers.co.kr/learn/courses/30/lessons/120899\n",
    "\n",
    "**문제 설명**\n",
    "\n",
    "정수 배열 `array`가 매개변수로 주어질 때, 가장 큰 수와 그 수의 인덱스를 담은 배열을 return 하도록 solution 함수를 완성해보세요.\n",
    "\n",
    "**제한사항**\n",
    "\n",
    "- 1 ≤ `array의` 길이 ≤ 100\n",
    "- 0 ≤ `array` 원소 ≤ 1,000\n",
    "- `array`에 중복된 숫자는 없습니다.\n",
    "\n",
    "**입출력 예**\n",
    "\n",
    "| array | result |\n",
    "| --- | --- |\n",
    "| [1, 8, 3] | [8, 1] |\n",
    "| [9, 10, 11, 8] | [11, 2] |"
   ]
  },
  {
   "cell_type": "code",
   "execution_count": null,
   "metadata": {},
   "outputs": [],
   "source": [
    "# 제출\n",
    "def solution(array):\n",
    "    return [max(array), array.index(max(array))]"
   ]
  },
  {
   "cell_type": "code",
   "execution_count": null,
   "metadata": {},
   "outputs": [],
   "source": [
    "# 다른 사람 풀이\n",
    "def solution(n):\n",
    "    return [i for i in range(1,n+1) if n%i == 0]"
   ]
  },
  {
   "cell_type": "code",
   "execution_count": null,
   "metadata": {},
   "outputs": [],
   "source": [
    "# 해설\n",
    "'''\n",
    "약수라 함은 나눠지는 수니까 오름차순 되는 거 까지 고려해서 range로 1부터 시작해서 n자체까지 포함되게 n+1 하고 약수면 조건 만족하므로 filter로 list 안에 들어가도록 처리.\n",
    "다른 사람 풀이도 깔끔하다고 생각함.\n",
    "'''"
   ]
  },
  {
   "attachments": {},
   "cell_type": "markdown",
   "metadata": {},
   "source": [
    "#### 배열 회전시키기 [fin:2022-12-19]\n",
    "link : \n",
    "\n",
    "**문제 설명**\n",
    "각에서 0도 초과 90도 미만은 예각, 90도는 직각, 90도 초과 180도 미만은 둔각 180도는 평각으로 분류합니다. 각 angle이 매개변수로 주어질 때 예각일 때 1, 직각일 때 2, 둔각일 때 3, 평각일 때 4를 return하도록 solution 함수를 완성해주세요.\n",
    "- 예각 : 0 < angle < 90\n",
    "- 직각 : angle = 90\n",
    "- 둔각 : 90 < angle < 180\n",
    "- 평각 : angle = 180\n",
    "\n",
    "**제한사항**\n",
    "\n",
    "- 0 < angle ≤ 180\n",
    "- angle은 정수입니다.\n",
    "\n",
    "\n",
    "**입출력 예**\n",
    "\n",
    "| angle    | result   |\n",
    "|----------|----------|\n",
    "| 70       | 1        |\n",
    "| 91       | 3        |\n",
    "| 180      | 4        |"
   ]
  },
  {
   "cell_type": "code",
   "execution_count": null,
   "metadata": {},
   "outputs": [],
   "source": [
    "# 제출\n",
    "def solution(numbers, direction):\n",
    "    return numbers[-1:-2:-1]+numbers[0:len(numbers)-1:] if direction == 'right' else numbers[1::]+numbers[0:1:1]"
   ]
  },
  {
   "cell_type": "code",
   "execution_count": null,
   "metadata": {},
   "outputs": [],
   "source": [
    "# 해설\n",
    "'''\n",
    "조건이 딱 2개니까 if 로서 right 기준점 잡고.. list 끼리 연산 시킴 예를 들어서 [1,2,3]+[6,7,8] 하면 [1, 2, 3, 6, 7, 8] 되듯이 해서. slicing이라도 범위를 제대로 지정하면 요소가 1개인 list가 가능하므로.\n",
    "right 일 때, numbers[-1:-2:-1] 은 가장 마지막 요소 1개짜리 list를 앞으로 하고 나머지 요소를 통으로 옮긴 셈이므로 0번째부터 마지막 제외하고 덧붙이고, left일 때는 numbers[1::] 로서 1번째 요소부터 시작하고 0번째 요소는 numbers[0:1:1]로 slicing 한 다음에 붙임.\n",
    "\n",
    "'''"
   ]
  },
  {
   "attachments": {},
   "cell_type": "markdown",
   "metadata": {},
   "source": [
    "#### 외계행성의 나이 [fin:2022-12-19]\n",
    "link : https://school.programmers.co.kr/learn/courses/30/lessons/120839\n",
    "\n",
    "**문제 설명**\n",
    "\n",
    "우주여행을 하던 머쓱이는 엔진 고장으로 PROGRAMMERS-962 행성에 불시착하게 됐습니다. 입국심사에서 나이를 말해야 하는데, PROGRAMMERS-962 행성에서는 나이를 알파벳으로 말하고 있습니다. a는 0, b는 1, c는 2, ..., j는 9입니다. 예를 들어 23살은 cd, 51살은 fb로 표현합니다. 나이 `age`가 매개변수로 주어질 때 PROGRAMMER-962식 나이를 return하도록 solution 함수를 완성해주세요.\n",
    "\n",
    "**제한사항**\n",
    "\n",
    "- `age`는 자연수입니다.\n",
    "- `age` ≤ 1,000\n",
    "- PROGRAMMERS-962 행성은 알파벳 소문자만 사용합니다.\n",
    "\n",
    "**입출력 예**\n",
    "\n",
    "| age | result |\n",
    "| --- | --- |\n",
    "| 23 | \"cd\" |\n",
    "| 51 | \"fb\" |\n",
    "| 100 | \"baa\" |"
   ]
  },
  {
   "cell_type": "code",
   "execution_count": null,
   "metadata": {},
   "outputs": [],
   "source": [
    "# 제출\n",
    "def solution(age):\n",
    "    answer = {0:'a',1:'b',2:'c',3:'d',4:'e',5:'f',6:'g',7:'h',8:'i',9:'j'}\n",
    "    return ''.join(list(answer[int(num)] for num in str(age)))"
   ]
  },
  {
   "cell_type": "code",
   "execution_count": null,
   "metadata": {},
   "outputs": [],
   "source": [
    "# 줄여서 제출\n",
    "def solution(age):\n",
    "    answer = {'0':'a','1':'b','2':'c','3':'d','4':'e','5':'f','6':'g','7':'h','8':'i','9':'j'}\n",
    "    return ''.join(list(answer[num] for num in str(age)))"
   ]
  },
  {
   "cell_type": "code",
   "execution_count": 256,
   "metadata": {},
   "outputs": [],
   "source": [
    "# 다른 사람 풀이\n",
    "def solution(age):\n",
    "    return ''.join([chr(int(i)+97) for i in str(age)])"
   ]
  },
  {
   "cell_type": "code",
   "execution_count": null,
   "metadata": {},
   "outputs": [],
   "source": [
    "# 해설\n",
    "'''\n",
    "dict 이용한 풀이 저번에 봐서 그거 그대로 이용.\n",
    "문자열로 처리 후 for 문 돌려서 그걸 다시 int하고 그 안에 dict의 key에 대한 value 처리.\n",
    "그러다가 굳이 int 안 해도 되고 그냥 dict에서 문자열 처리하면 되는 거 생각남... 고쳐서도 성공 확인.\n",
    "\n",
    "다른 사람 풀이 이해:\n",
    "ord('a') 가 97이라는 숫자가 나오는 규칙을 이용. 규칙도 0이 a 인 걸 기준으로 잡으면 동일. 어차피 십진법 안에서 동일하게 동일하므로.\n",
    "'''"
   ]
  },
  {
   "attachments": {},
   "cell_type": "markdown",
   "metadata": {},
   "source": [
    "#### Template\n",
    " [fin:2022-12-08]\n",
    "link : \n",
    "\n",
    "**문제 설명**\n",
    "\n",
    "각에서 0도 초과 90도 미만은 예각, 90도는 직각, 90도 초과 180도 미만은 둔각 180도는 평각으로 분류합니다. 각 angle이 매개변수로 주어질 때 예각일 때 1, 직각일 때 2, 둔각일 때 3, 평각일 때 4를 return하도록 solution 함수를 완성해주세요.\n",
    "- 예각 : 0 < angle < 90\n",
    "- 직각 : angle = 90\n",
    "- 둔각 : 90 < angle < 180\n",
    "- 평각 : angle = 180\n",
    "\n",
    "**제한사항**\n",
    "\n",
    "- 0 < angle ≤ 180\n",
    "- angle은 정수입니다.\n",
    "\n",
    "\n",
    "**입출력 예**\n",
    "\n",
    "| angle    | result   |\n",
    "|----------|----------|\n",
    "| 70       | 1        |\n",
    "| 91       | 3        |\n",
    "| 180      | 4        |"
   ]
  },
  {
   "cell_type": "code",
   "execution_count": null,
   "metadata": {},
   "outputs": [],
   "source": [
    "# 제출\n"
   ]
  },
  {
   "cell_type": "code",
   "execution_count": null,
   "metadata": {},
   "outputs": [],
   "source": [
    "# 해설\n",
    "'''\n",
    "'''"
   ]
  },
  {
   "attachments": {},
   "cell_type": "markdown",
   "metadata": {},
   "source": [
    "#### Template\n",
    " [fin:2022-12-08]\n",
    "link : \n",
    "\n",
    "**문제 설명**\n",
    "각에서 0도 초과 90도 미만은 예각, 90도는 직각, 90도 초과 180도 미만은 둔각 180도는 평각으로 분류합니다. 각 angle이 매개변수로 주어질 때 예각일 때 1, 직각일 때 2, 둔각일 때 3, 평각일 때 4를 return하도록 solution 함수를 완성해주세요.\n",
    "- 예각 : 0 < angle < 90\n",
    "- 직각 : angle = 90\n",
    "- 둔각 : 90 < angle < 180\n",
    "- 평각 : angle = 180\n",
    "\n",
    "**제한사항**\n",
    "\n",
    "- 0 < angle ≤ 180\n",
    "- angle은 정수입니다.\n",
    "\n",
    "\n",
    "**입출력 예**\n",
    "\n",
    "| angle    | result   |\n",
    "|----------|----------|\n",
    "| 70       | 1        |\n",
    "| 91       | 3        |\n",
    "| 180      | 4        |"
   ]
  },
  {
   "cell_type": "code",
   "execution_count": null,
   "metadata": {},
   "outputs": [],
   "source": [
    "# 제출\n"
   ]
  },
  {
   "cell_type": "code",
   "execution_count": null,
   "metadata": {},
   "outputs": [],
   "source": [
    "# 해설\n",
    "'''\n",
    "'''"
   ]
  },
  {
   "attachments": {},
   "cell_type": "markdown",
   "metadata": {},
   "source": [
    "#### Template\n",
    " [fin:2022-12-08]\n",
    "link : \n",
    "\n",
    "**문제 설명**\n",
    "\n",
    "각에서 0도 초과 90도 미만은 예각, 90도는 직각, 90도 초과 180도 미만은 둔각 180도는 평각으로 분류합니다. 각 angle이 매개변수로 주어질 때 예각일 때 1, 직각일 때 2, 둔각일 때 3, 평각일 때 4를 return하도록 solution 함수를 완성해주세요.\n",
    "- 예각 : 0 < angle < 90\n",
    "- 직각 : angle = 90\n",
    "- 둔각 : 90 < angle < 180\n",
    "- 평각 : angle = 180\n",
    "\n",
    "**제한사항**\n",
    "\n",
    "- 0 < angle ≤ 180\n",
    "- angle은 정수입니다.\n",
    "\n",
    "\n",
    "**입출력 예**\n",
    "\n",
    "| angle    | result   |\n",
    "|----------|----------|\n",
    "| 70       | 1        |\n",
    "| 91       | 3        |\n",
    "| 180      | 4        |"
   ]
  },
  {
   "cell_type": "code",
   "execution_count": null,
   "metadata": {},
   "outputs": [],
   "source": [
    "# 제출\n"
   ]
  },
  {
   "cell_type": "code",
   "execution_count": null,
   "metadata": {},
   "outputs": [],
   "source": [
    "# 해설\n",
    "'''\n",
    "'''"
   ]
  },
  {
   "attachments": {},
   "cell_type": "markdown",
   "metadata": {},
   "source": [
    "#### Template\n",
    " [fin:2022-12-08]\n",
    "link : \n",
    "\n",
    "**문제 설명**\n",
    "\n",
    "각에서 0도 초과 90도 미만은 예각, 90도는 직각, 90도 초과 180도 미만은 둔각 180도는 평각으로 분류합니다. 각 angle이 매개변수로 주어질 때 예각일 때 1, 직각일 때 2, 둔각일 때 3, 평각일 때 4를 return하도록 solution 함수를 완성해주세요.\n",
    "- 예각 : 0 < angle < 90\n",
    "- 직각 : angle = 90\n",
    "- 둔각 : 90 < angle < 180\n",
    "- 평각 : angle = 180\n",
    "\n",
    "**제한사항**\n",
    "\n",
    "- 0 < angle ≤ 180\n",
    "- angle은 정수입니다.\n",
    "\n",
    "\n",
    "**입출력 예**\n",
    "\n",
    "| angle    | result   |\n",
    "|----------|----------|\n",
    "| 70       | 1        |\n",
    "| 91       | 3        |\n",
    "| 180      | 4        |"
   ]
  },
  {
   "cell_type": "code",
   "execution_count": null,
   "metadata": {},
   "outputs": [],
   "source": [
    "# 제출\n"
   ]
  },
  {
   "cell_type": "code",
   "execution_count": null,
   "metadata": {},
   "outputs": [],
   "source": [
    "# 해설\n",
    "'''\n",
    "'''"
   ]
  },
  {
   "attachments": {},
   "cell_type": "markdown",
   "metadata": {},
   "source": [
    "#### Template\n",
    " [fin:2022-12-08]\n",
    "link : \n",
    "\n",
    "**문제 설명**\n",
    "각에서 0도 초과 90도 미만은 예각, 90도는 직각, 90도 초과 180도 미만은 둔각 180도는 평각으로 분류합니다. 각 angle이 매개변수로 주어질 때 예각일 때 1, 직각일 때 2, 둔각일 때 3, 평각일 때 4를 return하도록 solution 함수를 완성해주세요.\n",
    "- 예각 : 0 < angle < 90\n",
    "- 직각 : angle = 90\n",
    "- 둔각 : 90 < angle < 180\n",
    "- 평각 : angle = 180\n",
    "\n",
    "**제한사항**\n",
    "\n",
    "- 0 < angle ≤ 180\n",
    "- angle은 정수입니다.\n",
    "\n",
    "\n",
    "**입출력 예**\n",
    "\n",
    "| angle    | result   |\n",
    "|----------|----------|\n",
    "| 70       | 1        |\n",
    "| 91       | 3        |\n",
    "| 180      | 4        |"
   ]
  },
  {
   "cell_type": "code",
   "execution_count": null,
   "metadata": {},
   "outputs": [],
   "source": [
    "# 제출\n"
   ]
  },
  {
   "cell_type": "code",
   "execution_count": null,
   "metadata": {},
   "outputs": [],
   "source": [
    "# 해설\n",
    "'''\n",
    "'''"
   ]
  },
  {
   "attachments": {},
   "cell_type": "markdown",
   "metadata": {},
   "source": [
    "#### Template\n",
    " [fin:2022-12-08]\n",
    "link : \n",
    "\n",
    "**문제 설명**\n",
    "\n",
    "각에서 0도 초과 90도 미만은 예각, 90도는 직각, 90도 초과 180도 미만은 둔각 180도는 평각으로 분류합니다. 각 angle이 매개변수로 주어질 때 예각일 때 1, 직각일 때 2, 둔각일 때 3, 평각일 때 4를 return하도록 solution 함수를 완성해주세요.\n",
    "- 예각 : 0 < angle < 90\n",
    "- 직각 : angle = 90\n",
    "- 둔각 : 90 < angle < 180\n",
    "- 평각 : angle = 180\n",
    "\n",
    "**제한사항**\n",
    "\n",
    "- 0 < angle ≤ 180\n",
    "- angle은 정수입니다.\n",
    "\n",
    "\n",
    "**입출력 예**\n",
    "\n",
    "| angle    | result   |\n",
    "|----------|----------|\n",
    "| 70       | 1        |\n",
    "| 91       | 3        |\n",
    "| 180      | 4        |"
   ]
  },
  {
   "cell_type": "code",
   "execution_count": null,
   "metadata": {},
   "outputs": [],
   "source": [
    "# 제출\n"
   ]
  },
  {
   "cell_type": "code",
   "execution_count": null,
   "metadata": {},
   "outputs": [],
   "source": [
    "# 해설\n",
    "'''\n",
    "'''"
   ]
  },
  {
   "attachments": {},
   "cell_type": "markdown",
   "metadata": {},
   "source": [
    "#### Template\n",
    " [fin:2022-12-08]\n",
    "link : \n",
    "\n",
    "**문제 설명**\n",
    "\n",
    "각에서 0도 초과 90도 미만은 예각, 90도는 직각, 90도 초과 180도 미만은 둔각 180도는 평각으로 분류합니다. 각 angle이 매개변수로 주어질 때 예각일 때 1, 직각일 때 2, 둔각일 때 3, 평각일 때 4를 return하도록 solution 함수를 완성해주세요.\n",
    "- 예각 : 0 < angle < 90\n",
    "- 직각 : angle = 90\n",
    "- 둔각 : 90 < angle < 180\n",
    "- 평각 : angle = 180\n",
    "\n",
    "**제한사항**\n",
    "\n",
    "- 0 < angle ≤ 180\n",
    "- angle은 정수입니다.\n",
    "\n",
    "\n",
    "**입출력 예**\n",
    "\n",
    "| angle    | result   |\n",
    "|----------|----------|\n",
    "| 70       | 1        |\n",
    "| 91       | 3        |\n",
    "| 180      | 4        |"
   ]
  },
  {
   "cell_type": "code",
   "execution_count": null,
   "metadata": {},
   "outputs": [],
   "source": [
    "# 제출\n"
   ]
  },
  {
   "cell_type": "code",
   "execution_count": null,
   "metadata": {},
   "outputs": [],
   "source": [
    "# 해설\n",
    "'''\n",
    "'''"
   ]
  },
  {
   "attachments": {},
   "cell_type": "markdown",
   "metadata": {},
   "source": [
    "#### Template\n",
    " [fin:2022-12-08]\n",
    "link : \n",
    "\n",
    "**문제 설명**\n",
    "각에서 0도 초과 90도 미만은 예각, 90도는 직각, 90도 초과 180도 미만은 둔각 180도는 평각으로 분류합니다. 각 angle이 매개변수로 주어질 때 예각일 때 1, 직각일 때 2, 둔각일 때 3, 평각일 때 4를 return하도록 solution 함수를 완성해주세요.\n",
    "- 예각 : 0 < angle < 90\n",
    "- 직각 : angle = 90\n",
    "- 둔각 : 90 < angle < 180\n",
    "- 평각 : angle = 180\n",
    "\n",
    "**제한사항**\n",
    "\n",
    "- 0 < angle ≤ 180\n",
    "- angle은 정수입니다.\n",
    "\n",
    "\n",
    "**입출력 예**\n",
    "\n",
    "| angle    | result   |\n",
    "|----------|----------|\n",
    "| 70       | 1        |\n",
    "| 91       | 3        |\n",
    "| 180      | 4        |"
   ]
  },
  {
   "cell_type": "code",
   "execution_count": null,
   "metadata": {},
   "outputs": [],
   "source": [
    "# 제출\n"
   ]
  },
  {
   "cell_type": "code",
   "execution_count": null,
   "metadata": {},
   "outputs": [],
   "source": [
    "# 해설\n",
    "'''\n",
    "'''"
   ]
  },
  {
   "attachments": {},
   "cell_type": "markdown",
   "metadata": {},
   "source": [
    "#### Template\n",
    " [fin:2022-12-08]\n",
    "link : \n",
    "\n",
    "**문제 설명**\n",
    "\n",
    "각에서 0도 초과 90도 미만은 예각, 90도는 직각, 90도 초과 180도 미만은 둔각 180도는 평각으로 분류합니다. 각 angle이 매개변수로 주어질 때 예각일 때 1, 직각일 때 2, 둔각일 때 3, 평각일 때 4를 return하도록 solution 함수를 완성해주세요.\n",
    "- 예각 : 0 < angle < 90\n",
    "- 직각 : angle = 90\n",
    "- 둔각 : 90 < angle < 180\n",
    "- 평각 : angle = 180\n",
    "\n",
    "**제한사항**\n",
    "\n",
    "- 0 < angle ≤ 180\n",
    "- angle은 정수입니다.\n",
    "\n",
    "\n",
    "**입출력 예**\n",
    "\n",
    "| angle    | result   |\n",
    "|----------|----------|\n",
    "| 70       | 1        |\n",
    "| 91       | 3        |\n",
    "| 180      | 4        |"
   ]
  },
  {
   "cell_type": "code",
   "execution_count": null,
   "metadata": {},
   "outputs": [],
   "source": [
    "# 제출\n"
   ]
  },
  {
   "cell_type": "code",
   "execution_count": null,
   "metadata": {},
   "outputs": [],
   "source": [
    "# 해설\n",
    "'''\n",
    "'''"
   ]
  },
  {
   "attachments": {},
   "cell_type": "markdown",
   "metadata": {},
   "source": [
    "#### Template\n",
    " [fin:2022-12-08]\n",
    "link : \n",
    "\n",
    "**문제 설명**\n",
    "\n",
    "각에서 0도 초과 90도 미만은 예각, 90도는 직각, 90도 초과 180도 미만은 둔각 180도는 평각으로 분류합니다. 각 angle이 매개변수로 주어질 때 예각일 때 1, 직각일 때 2, 둔각일 때 3, 평각일 때 4를 return하도록 solution 함수를 완성해주세요.\n",
    "- 예각 : 0 < angle < 90\n",
    "- 직각 : angle = 90\n",
    "- 둔각 : 90 < angle < 180\n",
    "- 평각 : angle = 180\n",
    "\n",
    "**제한사항**\n",
    "\n",
    "- 0 < angle ≤ 180\n",
    "- angle은 정수입니다.\n",
    "\n",
    "\n",
    "**입출력 예**\n",
    "\n",
    "| angle    | result   |\n",
    "|----------|----------|\n",
    "| 70       | 1        |\n",
    "| 91       | 3        |\n",
    "| 180      | 4        |"
   ]
  },
  {
   "cell_type": "code",
   "execution_count": null,
   "metadata": {},
   "outputs": [],
   "source": [
    "# 제출\n"
   ]
  },
  {
   "cell_type": "code",
   "execution_count": null,
   "metadata": {},
   "outputs": [],
   "source": [
    "# 해설\n",
    "'''\n",
    "'''"
   ]
  },
  {
   "attachments": {},
   "cell_type": "markdown",
   "metadata": {},
   "source": [
    "#### Template\n",
    " [fin:2022-12-08]\n",
    "link : \n",
    "\n",
    "**문제 설명**\n",
    "각에서 0도 초과 90도 미만은 예각, 90도는 직각, 90도 초과 180도 미만은 둔각 180도는 평각으로 분류합니다. 각 angle이 매개변수로 주어질 때 예각일 때 1, 직각일 때 2, 둔각일 때 3, 평각일 때 4를 return하도록 solution 함수를 완성해주세요.\n",
    "- 예각 : 0 < angle < 90\n",
    "- 직각 : angle = 90\n",
    "- 둔각 : 90 < angle < 180\n",
    "- 평각 : angle = 180\n",
    "\n",
    "**제한사항**\n",
    "\n",
    "- 0 < angle ≤ 180\n",
    "- angle은 정수입니다.\n",
    "\n",
    "\n",
    "**입출력 예**\n",
    "\n",
    "| angle    | result   |\n",
    "|----------|----------|\n",
    "| 70       | 1        |\n",
    "| 91       | 3        |\n",
    "| 180      | 4        |"
   ]
  },
  {
   "cell_type": "code",
   "execution_count": null,
   "metadata": {},
   "outputs": [],
   "source": [
    "# 제출\n"
   ]
  },
  {
   "cell_type": "code",
   "execution_count": null,
   "metadata": {},
   "outputs": [],
   "source": [
    "# 해설\n",
    "'''\n",
    "'''"
   ]
  },
  {
   "attachments": {},
   "cell_type": "markdown",
   "metadata": {},
   "source": [
    "#### Template\n",
    " [fin:2022-12-08]\n",
    "link : \n",
    "\n",
    "**문제 설명**\n",
    "\n",
    "각에서 0도 초과 90도 미만은 예각, 90도는 직각, 90도 초과 180도 미만은 둔각 180도는 평각으로 분류합니다. 각 angle이 매개변수로 주어질 때 예각일 때 1, 직각일 때 2, 둔각일 때 3, 평각일 때 4를 return하도록 solution 함수를 완성해주세요.\n",
    "- 예각 : 0 < angle < 90\n",
    "- 직각 : angle = 90\n",
    "- 둔각 : 90 < angle < 180\n",
    "- 평각 : angle = 180\n",
    "\n",
    "**제한사항**\n",
    "\n",
    "- 0 < angle ≤ 180\n",
    "- angle은 정수입니다.\n",
    "\n",
    "\n",
    "**입출력 예**\n",
    "\n",
    "| angle    | result   |\n",
    "|----------|----------|\n",
    "| 70       | 1        |\n",
    "| 91       | 3        |\n",
    "| 180      | 4        |"
   ]
  },
  {
   "cell_type": "code",
   "execution_count": null,
   "metadata": {},
   "outputs": [],
   "source": [
    "# 제출\n"
   ]
  },
  {
   "cell_type": "code",
   "execution_count": null,
   "metadata": {},
   "outputs": [],
   "source": [
    "# 해설\n",
    "'''\n",
    "'''"
   ]
  },
  {
   "attachments": {},
   "cell_type": "markdown",
   "metadata": {},
   "source": [
    "#### Template\n",
    " [fin:2022-12-08]\n",
    "link : \n",
    "\n",
    "**문제 설명**\n",
    "\n",
    "각에서 0도 초과 90도 미만은 예각, 90도는 직각, 90도 초과 180도 미만은 둔각 180도는 평각으로 분류합니다. 각 angle이 매개변수로 주어질 때 예각일 때 1, 직각일 때 2, 둔각일 때 3, 평각일 때 4를 return하도록 solution 함수를 완성해주세요.\n",
    "- 예각 : 0 < angle < 90\n",
    "- 직각 : angle = 90\n",
    "- 둔각 : 90 < angle < 180\n",
    "- 평각 : angle = 180\n",
    "\n",
    "**제한사항**\n",
    "\n",
    "- 0 < angle ≤ 180\n",
    "- angle은 정수입니다.\n",
    "\n",
    "\n",
    "**입출력 예**\n",
    "\n",
    "| angle    | result   |\n",
    "|----------|----------|\n",
    "| 70       | 1        |\n",
    "| 91       | 3        |\n",
    "| 180      | 4        |"
   ]
  },
  {
   "cell_type": "code",
   "execution_count": null,
   "metadata": {},
   "outputs": [],
   "source": [
    "# 제출\n"
   ]
  },
  {
   "cell_type": "code",
   "execution_count": null,
   "metadata": {},
   "outputs": [],
   "source": [
    "# 해설\n",
    "'''\n",
    "'''"
   ]
  },
  {
   "attachments": {},
   "cell_type": "markdown",
   "metadata": {},
   "source": [
    "#### Template\n",
    " [fin:2022-12-08]\n",
    "link : \n",
    "\n",
    "**문제 설명**\n",
    "각에서 0도 초과 90도 미만은 예각, 90도는 직각, 90도 초과 180도 미만은 둔각 180도는 평각으로 분류합니다. 각 angle이 매개변수로 주어질 때 예각일 때 1, 직각일 때 2, 둔각일 때 3, 평각일 때 4를 return하도록 solution 함수를 완성해주세요.\n",
    "- 예각 : 0 < angle < 90\n",
    "- 직각 : angle = 90\n",
    "- 둔각 : 90 < angle < 180\n",
    "- 평각 : angle = 180\n",
    "\n",
    "**제한사항**\n",
    "\n",
    "- 0 < angle ≤ 180\n",
    "- angle은 정수입니다.\n",
    "\n",
    "\n",
    "**입출력 예**\n",
    "\n",
    "| angle    | result   |\n",
    "|----------|----------|\n",
    "| 70       | 1        |\n",
    "| 91       | 3        |\n",
    "| 180      | 4        |"
   ]
  },
  {
   "cell_type": "code",
   "execution_count": null,
   "metadata": {},
   "outputs": [],
   "source": [
    "# 제출\n"
   ]
  },
  {
   "cell_type": "code",
   "execution_count": null,
   "metadata": {},
   "outputs": [],
   "source": [
    "# 해설\n",
    "'''\n",
    "'''"
   ]
  },
  {
   "attachments": {},
   "cell_type": "markdown",
   "metadata": {},
   "source": [
    "#### Template\n",
    " [fin:2022-12-08]\n",
    "link : \n",
    "\n",
    "**문제 설명**\n",
    "\n",
    "각에서 0도 초과 90도 미만은 예각, 90도는 직각, 90도 초과 180도 미만은 둔각 180도는 평각으로 분류합니다. 각 angle이 매개변수로 주어질 때 예각일 때 1, 직각일 때 2, 둔각일 때 3, 평각일 때 4를 return하도록 solution 함수를 완성해주세요.\n",
    "- 예각 : 0 < angle < 90\n",
    "- 직각 : angle = 90\n",
    "- 둔각 : 90 < angle < 180\n",
    "- 평각 : angle = 180\n",
    "\n",
    "**제한사항**\n",
    "\n",
    "- 0 < angle ≤ 180\n",
    "- angle은 정수입니다.\n",
    "\n",
    "\n",
    "**입출력 예**\n",
    "\n",
    "| angle    | result   |\n",
    "|----------|----------|\n",
    "| 70       | 1        |\n",
    "| 91       | 3        |\n",
    "| 180      | 4        |"
   ]
  },
  {
   "cell_type": "code",
   "execution_count": null,
   "metadata": {},
   "outputs": [],
   "source": [
    "# 제출\n"
   ]
  },
  {
   "cell_type": "code",
   "execution_count": null,
   "metadata": {},
   "outputs": [],
   "source": [
    "# 해설\n",
    "'''\n",
    "'''"
   ]
  },
  {
   "attachments": {},
   "cell_type": "markdown",
   "metadata": {},
   "source": [
    "#### Template\n",
    " [fin:2022-12-08]\n",
    "link : \n",
    "\n",
    "**문제 설명**\n",
    "\n",
    "각에서 0도 초과 90도 미만은 예각, 90도는 직각, 90도 초과 180도 미만은 둔각 180도는 평각으로 분류합니다. 각 angle이 매개변수로 주어질 때 예각일 때 1, 직각일 때 2, 둔각일 때 3, 평각일 때 4를 return하도록 solution 함수를 완성해주세요.\n",
    "- 예각 : 0 < angle < 90\n",
    "- 직각 : angle = 90\n",
    "- 둔각 : 90 < angle < 180\n",
    "- 평각 : angle = 180\n",
    "\n",
    "**제한사항**\n",
    "\n",
    "- 0 < angle ≤ 180\n",
    "- angle은 정수입니다.\n",
    "\n",
    "\n",
    "**입출력 예**\n",
    "\n",
    "| angle    | result   |\n",
    "|----------|----------|\n",
    "| 70       | 1        |\n",
    "| 91       | 3        |\n",
    "| 180      | 4        |"
   ]
  },
  {
   "cell_type": "code",
   "execution_count": null,
   "metadata": {},
   "outputs": [],
   "source": [
    "# 제출\n"
   ]
  },
  {
   "cell_type": "code",
   "execution_count": null,
   "metadata": {},
   "outputs": [],
   "source": [
    "# 해설\n",
    "'''\n",
    "'''"
   ]
  },
  {
   "attachments": {},
   "cell_type": "markdown",
   "metadata": {},
   "source": [
    "#### Template\n",
    " [fin:2022-12-08]\n",
    "link : \n",
    "\n",
    "**문제 설명**\n",
    "각에서 0도 초과 90도 미만은 예각, 90도는 직각, 90도 초과 180도 미만은 둔각 180도는 평각으로 분류합니다. 각 angle이 매개변수로 주어질 때 예각일 때 1, 직각일 때 2, 둔각일 때 3, 평각일 때 4를 return하도록 solution 함수를 완성해주세요.\n",
    "- 예각 : 0 < angle < 90\n",
    "- 직각 : angle = 90\n",
    "- 둔각 : 90 < angle < 180\n",
    "- 평각 : angle = 180\n",
    "\n",
    "**제한사항**\n",
    "\n",
    "- 0 < angle ≤ 180\n",
    "- angle은 정수입니다.\n",
    "\n",
    "\n",
    "**입출력 예**\n",
    "\n",
    "| angle    | result   |\n",
    "|----------|----------|\n",
    "| 70       | 1        |\n",
    "| 91       | 3        |\n",
    "| 180      | 4        |"
   ]
  },
  {
   "cell_type": "code",
   "execution_count": null,
   "metadata": {},
   "outputs": [],
   "source": [
    "# 제출\n"
   ]
  },
  {
   "cell_type": "code",
   "execution_count": null,
   "metadata": {},
   "outputs": [],
   "source": [
    "# 해설\n",
    "'''\n",
    "'''"
   ]
  },
  {
   "attachments": {},
   "cell_type": "markdown",
   "metadata": {},
   "source": [
    "#### Template\n",
    " [fin:2022-12-08]\n",
    "link : \n",
    "\n",
    "**문제 설명**\n",
    "\n",
    "각에서 0도 초과 90도 미만은 예각, 90도는 직각, 90도 초과 180도 미만은 둔각 180도는 평각으로 분류합니다. 각 angle이 매개변수로 주어질 때 예각일 때 1, 직각일 때 2, 둔각일 때 3, 평각일 때 4를 return하도록 solution 함수를 완성해주세요.\n",
    "- 예각 : 0 < angle < 90\n",
    "- 직각 : angle = 90\n",
    "- 둔각 : 90 < angle < 180\n",
    "- 평각 : angle = 180\n",
    "\n",
    "**제한사항**\n",
    "\n",
    "- 0 < angle ≤ 180\n",
    "- angle은 정수입니다.\n",
    "\n",
    "\n",
    "**입출력 예**\n",
    "\n",
    "| angle    | result   |\n",
    "|----------|----------|\n",
    "| 70       | 1        |\n",
    "| 91       | 3        |\n",
    "| 180      | 4        |"
   ]
  },
  {
   "cell_type": "code",
   "execution_count": null,
   "metadata": {},
   "outputs": [],
   "source": [
    "# 제출\n"
   ]
  },
  {
   "cell_type": "code",
   "execution_count": null,
   "metadata": {},
   "outputs": [],
   "source": [
    "# 해설\n",
    "'''\n",
    "'''"
   ]
  },
  {
   "attachments": {},
   "cell_type": "markdown",
   "metadata": {},
   "source": [
    "#### Template\n",
    " [fin:2022-12-08]\n",
    "link : \n",
    "\n",
    "**문제 설명**\n",
    "\n",
    "각에서 0도 초과 90도 미만은 예각, 90도는 직각, 90도 초과 180도 미만은 둔각 180도는 평각으로 분류합니다. 각 angle이 매개변수로 주어질 때 예각일 때 1, 직각일 때 2, 둔각일 때 3, 평각일 때 4를 return하도록 solution 함수를 완성해주세요.\n",
    "- 예각 : 0 < angle < 90\n",
    "- 직각 : angle = 90\n",
    "- 둔각 : 90 < angle < 180\n",
    "- 평각 : angle = 180\n",
    "\n",
    "**제한사항**\n",
    "\n",
    "- 0 < angle ≤ 180\n",
    "- angle은 정수입니다.\n",
    "\n",
    "\n",
    "**입출력 예**\n",
    "\n",
    "| angle    | result   |\n",
    "|----------|----------|\n",
    "| 70       | 1        |\n",
    "| 91       | 3        |\n",
    "| 180      | 4        |"
   ]
  },
  {
   "cell_type": "code",
   "execution_count": null,
   "metadata": {},
   "outputs": [],
   "source": [
    "# 제출\n"
   ]
  },
  {
   "cell_type": "code",
   "execution_count": null,
   "metadata": {},
   "outputs": [],
   "source": [
    "# 해설\n",
    "'''\n",
    "'''"
   ]
  },
  {
   "attachments": {},
   "cell_type": "markdown",
   "metadata": {},
   "source": [
    "#### Template\n",
    " [fin:2022-12-08]\n",
    "link : \n",
    "\n",
    "**문제 설명**\n",
    "각에서 0도 초과 90도 미만은 예각, 90도는 직각, 90도 초과 180도 미만은 둔각 180도는 평각으로 분류합니다. 각 angle이 매개변수로 주어질 때 예각일 때 1, 직각일 때 2, 둔각일 때 3, 평각일 때 4를 return하도록 solution 함수를 완성해주세요.\n",
    "- 예각 : 0 < angle < 90\n",
    "- 직각 : angle = 90\n",
    "- 둔각 : 90 < angle < 180\n",
    "- 평각 : angle = 180\n",
    "\n",
    "**제한사항**\n",
    "\n",
    "- 0 < angle ≤ 180\n",
    "- angle은 정수입니다.\n",
    "\n",
    "\n",
    "**입출력 예**\n",
    "\n",
    "| angle    | result   |\n",
    "|----------|----------|\n",
    "| 70       | 1        |\n",
    "| 91       | 3        |\n",
    "| 180      | 4        |"
   ]
  },
  {
   "cell_type": "code",
   "execution_count": null,
   "metadata": {},
   "outputs": [],
   "source": [
    "# 제출\n"
   ]
  },
  {
   "cell_type": "code",
   "execution_count": null,
   "metadata": {},
   "outputs": [],
   "source": [
    "# 해설\n",
    "'''\n",
    "'''"
   ]
  },
  {
   "attachments": {},
   "cell_type": "markdown",
   "metadata": {},
   "source": [
    "#### Template\n",
    " [fin:2022-12-08]\n",
    "link : \n",
    "\n",
    "**문제 설명**\n",
    "\n",
    "각에서 0도 초과 90도 미만은 예각, 90도는 직각, 90도 초과 180도 미만은 둔각 180도는 평각으로 분류합니다. 각 angle이 매개변수로 주어질 때 예각일 때 1, 직각일 때 2, 둔각일 때 3, 평각일 때 4를 return하도록 solution 함수를 완성해주세요.\n",
    "- 예각 : 0 < angle < 90\n",
    "- 직각 : angle = 90\n",
    "- 둔각 : 90 < angle < 180\n",
    "- 평각 : angle = 180\n",
    "\n",
    "**제한사항**\n",
    "\n",
    "- 0 < angle ≤ 180\n",
    "- angle은 정수입니다.\n",
    "\n",
    "\n",
    "**입출력 예**\n",
    "\n",
    "| angle    | result   |\n",
    "|----------|----------|\n",
    "| 70       | 1        |\n",
    "| 91       | 3        |\n",
    "| 180      | 4        |"
   ]
  },
  {
   "cell_type": "code",
   "execution_count": null,
   "metadata": {},
   "outputs": [],
   "source": [
    "# 제출\n"
   ]
  },
  {
   "cell_type": "code",
   "execution_count": null,
   "metadata": {},
   "outputs": [],
   "source": [
    "# 해설\n",
    "'''\n",
    "'''"
   ]
  },
  {
   "attachments": {},
   "cell_type": "markdown",
   "metadata": {},
   "source": [
    "#### Template\n",
    " [fin:2022-12-08]\n",
    "link : \n",
    "\n",
    "**문제 설명**\n",
    "\n",
    "각에서 0도 초과 90도 미만은 예각, 90도는 직각, 90도 초과 180도 미만은 둔각 180도는 평각으로 분류합니다. 각 angle이 매개변수로 주어질 때 예각일 때 1, 직각일 때 2, 둔각일 때 3, 평각일 때 4를 return하도록 solution 함수를 완성해주세요.\n",
    "- 예각 : 0 < angle < 90\n",
    "- 직각 : angle = 90\n",
    "- 둔각 : 90 < angle < 180\n",
    "- 평각 : angle = 180\n",
    "\n",
    "**제한사항**\n",
    "\n",
    "- 0 < angle ≤ 180\n",
    "- angle은 정수입니다.\n",
    "\n",
    "\n",
    "**입출력 예**\n",
    "\n",
    "| angle    | result   |\n",
    "|----------|----------|\n",
    "| 70       | 1        |\n",
    "| 91       | 3        |\n",
    "| 180      | 4        |"
   ]
  },
  {
   "cell_type": "code",
   "execution_count": null,
   "metadata": {},
   "outputs": [],
   "source": [
    "# 제출\n"
   ]
  },
  {
   "cell_type": "code",
   "execution_count": null,
   "metadata": {},
   "outputs": [],
   "source": [
    "# 해설\n",
    "'''\n",
    "'''"
   ]
  },
  {
   "attachments": {},
   "cell_type": "markdown",
   "metadata": {},
   "source": [
    "#### Template\n",
    " [fin:2022-12-08]\n",
    "link : \n",
    "\n",
    "**문제 설명**\n",
    "각에서 0도 초과 90도 미만은 예각, 90도는 직각, 90도 초과 180도 미만은 둔각 180도는 평각으로 분류합니다. 각 angle이 매개변수로 주어질 때 예각일 때 1, 직각일 때 2, 둔각일 때 3, 평각일 때 4를 return하도록 solution 함수를 완성해주세요.\n",
    "- 예각 : 0 < angle < 90\n",
    "- 직각 : angle = 90\n",
    "- 둔각 : 90 < angle < 180\n",
    "- 평각 : angle = 180\n",
    "\n",
    "**제한사항**\n",
    "\n",
    "- 0 < angle ≤ 180\n",
    "- angle은 정수입니다.\n",
    "\n",
    "\n",
    "**입출력 예**\n",
    "\n",
    "| angle    | result   |\n",
    "|----------|----------|\n",
    "| 70       | 1        |\n",
    "| 91       | 3        |\n",
    "| 180      | 4        |"
   ]
  },
  {
   "cell_type": "code",
   "execution_count": null,
   "metadata": {},
   "outputs": [],
   "source": [
    "# 제출\n"
   ]
  },
  {
   "cell_type": "code",
   "execution_count": null,
   "metadata": {},
   "outputs": [],
   "source": [
    "# 해설\n",
    "'''\n",
    "'''"
   ]
  },
  {
   "attachments": {},
   "cell_type": "markdown",
   "metadata": {},
   "source": [
    "#### Template\n",
    " [fin:2022-12-08]\n",
    "link : \n",
    "\n",
    "**문제 설명**\n",
    "\n",
    "각에서 0도 초과 90도 미만은 예각, 90도는 직각, 90도 초과 180도 미만은 둔각 180도는 평각으로 분류합니다. 각 angle이 매개변수로 주어질 때 예각일 때 1, 직각일 때 2, 둔각일 때 3, 평각일 때 4를 return하도록 solution 함수를 완성해주세요.\n",
    "- 예각 : 0 < angle < 90\n",
    "- 직각 : angle = 90\n",
    "- 둔각 : 90 < angle < 180\n",
    "- 평각 : angle = 180\n",
    "\n",
    "**제한사항**\n",
    "\n",
    "- 0 < angle ≤ 180\n",
    "- angle은 정수입니다.\n",
    "\n",
    "\n",
    "**입출력 예**\n",
    "\n",
    "| angle    | result   |\n",
    "|----------|----------|\n",
    "| 70       | 1        |\n",
    "| 91       | 3        |\n",
    "| 180      | 4        |"
   ]
  },
  {
   "cell_type": "code",
   "execution_count": null,
   "metadata": {},
   "outputs": [],
   "source": [
    "# 제출\n"
   ]
  },
  {
   "cell_type": "code",
   "execution_count": null,
   "metadata": {},
   "outputs": [],
   "source": [
    "# 해설\n",
    "'''\n",
    "'''"
   ]
  },
  {
   "attachments": {},
   "cell_type": "markdown",
   "metadata": {},
   "source": [
    "#### Template\n",
    " [fin:2022-12-08]\n",
    "link : \n",
    "\n",
    "**문제 설명**\n",
    "\n",
    "각에서 0도 초과 90도 미만은 예각, 90도는 직각, 90도 초과 180도 미만은 둔각 180도는 평각으로 분류합니다. 각 angle이 매개변수로 주어질 때 예각일 때 1, 직각일 때 2, 둔각일 때 3, 평각일 때 4를 return하도록 solution 함수를 완성해주세요.\n",
    "- 예각 : 0 < angle < 90\n",
    "- 직각 : angle = 90\n",
    "- 둔각 : 90 < angle < 180\n",
    "- 평각 : angle = 180\n",
    "\n",
    "**제한사항**\n",
    "\n",
    "- 0 < angle ≤ 180\n",
    "- angle은 정수입니다.\n",
    "\n",
    "\n",
    "**입출력 예**\n",
    "\n",
    "| angle    | result   |\n",
    "|----------|----------|\n",
    "| 70       | 1        |\n",
    "| 91       | 3        |\n",
    "| 180      | 4        |"
   ]
  },
  {
   "cell_type": "code",
   "execution_count": null,
   "metadata": {},
   "outputs": [],
   "source": [
    "# 제출\n"
   ]
  },
  {
   "cell_type": "code",
   "execution_count": null,
   "metadata": {},
   "outputs": [],
   "source": [
    "# 해설\n",
    "'''\n",
    "'''"
   ]
  },
  {
   "attachments": {},
   "cell_type": "markdown",
   "metadata": {},
   "source": [
    "#### Template\n",
    " [fin:2022-12-08]\n",
    "link : \n",
    "\n",
    "**문제 설명**\n",
    "각에서 0도 초과 90도 미만은 예각, 90도는 직각, 90도 초과 180도 미만은 둔각 180도는 평각으로 분류합니다. 각 angle이 매개변수로 주어질 때 예각일 때 1, 직각일 때 2, 둔각일 때 3, 평각일 때 4를 return하도록 solution 함수를 완성해주세요.\n",
    "- 예각 : 0 < angle < 90\n",
    "- 직각 : angle = 90\n",
    "- 둔각 : 90 < angle < 180\n",
    "- 평각 : angle = 180\n",
    "\n",
    "**제한사항**\n",
    "\n",
    "- 0 < angle ≤ 180\n",
    "- angle은 정수입니다.\n",
    "\n",
    "\n",
    "**입출력 예**\n",
    "\n",
    "| angle    | result   |\n",
    "|----------|----------|\n",
    "| 70       | 1        |\n",
    "| 91       | 3        |\n",
    "| 180      | 4        |"
   ]
  },
  {
   "cell_type": "code",
   "execution_count": null,
   "metadata": {},
   "outputs": [],
   "source": [
    "# 제출\n"
   ]
  },
  {
   "cell_type": "code",
   "execution_count": null,
   "metadata": {},
   "outputs": [],
   "source": [
    "# 해설\n",
    "'''\n",
    "'''"
   ]
  },
  {
   "attachments": {},
   "cell_type": "markdown",
   "metadata": {},
   "source": [
    "#### Template\n",
    " [fin:2022-12-08]\n",
    "link : \n",
    "\n",
    "**문제 설명**\n",
    "\n",
    "각에서 0도 초과 90도 미만은 예각, 90도는 직각, 90도 초과 180도 미만은 둔각 180도는 평각으로 분류합니다. 각 angle이 매개변수로 주어질 때 예각일 때 1, 직각일 때 2, 둔각일 때 3, 평각일 때 4를 return하도록 solution 함수를 완성해주세요.\n",
    "- 예각 : 0 < angle < 90\n",
    "- 직각 : angle = 90\n",
    "- 둔각 : 90 < angle < 180\n",
    "- 평각 : angle = 180\n",
    "\n",
    "**제한사항**\n",
    "\n",
    "- 0 < angle ≤ 180\n",
    "- angle은 정수입니다.\n",
    "\n",
    "\n",
    "**입출력 예**\n",
    "\n",
    "| angle    | result   |\n",
    "|----------|----------|\n",
    "| 70       | 1        |\n",
    "| 91       | 3        |\n",
    "| 180      | 4        |"
   ]
  },
  {
   "cell_type": "code",
   "execution_count": null,
   "metadata": {},
   "outputs": [],
   "source": [
    "# 제출\n"
   ]
  },
  {
   "cell_type": "code",
   "execution_count": null,
   "metadata": {},
   "outputs": [],
   "source": [
    "# 해설\n",
    "'''\n",
    "'''"
   ]
  },
  {
   "attachments": {},
   "cell_type": "markdown",
   "metadata": {},
   "source": [
    "---"
   ]
  },
  {
   "attachments": {},
   "cell_type": "markdown",
   "metadata": {},
   "source": [
    "### 스킬 체크 테스트 Level.1"
   ]
  },
  {
   "attachments": {},
   "cell_type": "markdown",
   "metadata": {},
   "source": [
    "#### 스킬 체크 테스트 Level.1 / 문제 1\n",
    "https://programmers.co.kr/skill_checks/443156?challenge_id=978\n"
   ]
  },
  {
   "cell_type": "code",
   "execution_count": null,
   "metadata": {},
   "outputs": [],
   "source": [
    "from datetime import date\n",
    "\n",
    "def solution(a, b):\n",
    "    answer = ''\n",
    "    days = ['MON','TUE','WED','THU','FRI','SAT','SUN']\n",
    "    years = 2016\n",
    "    mydate = date(years, a, b).weekday()\n",
    "    answer = days[mydate]\n",
    "    # Return the day of the week as an integer, where Monday is 0 and Sunday is 6. For example, date(2002, 12, 4).weekday() == 2, a Wednesday.\n",
    "    return answer"
   ]
  },
  {
   "cell_type": "code",
   "execution_count": null,
   "metadata": {},
   "outputs": [],
   "source": [
    "# 해설\n",
    "'''\n",
    "import datetime 과 date를 기억하고 있어서 가능.\n",
    "참조 : https://docs.python.org/3/library/datetime.html#datetime.date.weekday\n",
    "date.weekday()\n",
    "Return the day of the week as an integer, where Monday is 0 and Sunday is 6. For example, date(2002, 12, 4).weekday() == 2, a Wednesday.\n",
    "요일의 수를 정수로 반환하며 기준은 월요일은 0, 일요일은 6이다. 이를 이용하서 숫자에 따른 list를 만들고 거기에 반환 처리 함.\n",
    "'''"
   ]
  },
  {
   "attachments": {},
   "cell_type": "markdown",
   "metadata": {},
   "source": [
    "#### 스킬 체크 테스트 Level.1 / 문제 1\n",
    "https://programmers.co.kr/skill_checks/443161?challenge_id=813\n"
   ]
  },
  {
   "cell_type": "code",
   "execution_count": null,
   "metadata": {},
   "outputs": [],
   "source": [
    "def solution(num):\n",
    "    answer = 0\n",
    "    if num == 1:\n",
    "        return 0 \n",
    "    while True:\n",
    "        if num % 2 == 0:\n",
    "            num //= 2\n",
    "            answer += 1\n",
    "        else:\n",
    "            num *= 3\n",
    "            num += 1\n",
    "            answer += 1\n",
    "        if num == 1:\n",
    "            return answer\n",
    "        if answer >= 500:\n",
    "            return -1\n",
    "    return answer"
   ]
  },
  {
   "attachments": {},
   "cell_type": "markdown",
   "metadata": {},
   "source": [
    "https://programmers.co.kr/skill_checks/443161?challenge_id=907"
   ]
  },
  {
   "cell_type": "code",
   "execution_count": null,
   "metadata": {},
   "outputs": [],
   "source": [
    "def solution(s):\n",
    "    answer = True\n",
    "    if len(s) == 4 or len(s) == 6:\n",
    "        if s.isdigit():\n",
    "            answer = True\n",
    "        else:\n",
    "            answer = False\n",
    "    else:\n",
    "        answer = False\n",
    "    return answer"
   ]
  }
 ],
 "metadata": {
  "kernelspec": {
   "display_name": "Python 3.9.6 64-bit",
   "language": "python",
   "name": "python3"
  },
  "language_info": {
   "codemirror_mode": {
    "name": "ipython",
    "version": 3
   },
   "file_extension": ".py",
   "mimetype": "text/x-python",
   "name": "python",
   "nbconvert_exporter": "python",
   "pygments_lexer": "ipython3",
   "version": "3.9.6"
  },
  "orig_nbformat": 4,
  "vscode": {
   "interpreter": {
    "hash": "31f2aee4e71d21fbe5cf8b01ff0e069b9275f58929596ceb00d14d90e3e16cd6"
   }
  }
 },
 "nbformat": 4,
 "nbformat_minor": 2
}
